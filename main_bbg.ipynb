{
 "cells": [
  {
   "cell_type": "code",
   "execution_count": 65,
   "id": "4a3e82db",
   "metadata": {},
   "outputs": [],
   "source": [
    "from xbbg import blp\n",
    "from blp import blp as bp\n",
    "import pandas as pd\n",
    "import matplotlib.pyplot as plt\n",
    "import numpy as np\n",
    "import matplotlib.dates as mdates\n",
    "from datetime import datetime, timedelta, time\n",
    "from zoneinfo import ZoneInfo\n",
    "from matplotlib.patches import Patch\n"
   ]
  },
  {
   "cell_type": "code",
   "execution_count": 66,
   "id": "fcebe035",
   "metadata": {},
   "outputs": [],
   "source": [
    "from datetime import datetime, time\n",
    "from zoneinfo import ZoneInfo\n",
    "\n",
    "# Geneva timezone (handles CEST/CET automatically)\n",
    "geneva_tz = ZoneInfo(\"Europe/Zurich\")\n",
    "\n",
    "# Get current time in Geneva\n",
    "now_geneva = datetime.now(geneva_tz)\n",
    "\n",
    "# Set 2:00 AM today in Geneva\n",
    "start_geneva = (now_geneva - timedelta(days=3)).replace(hour=2, minute=0, second=0, microsecond=0)\n",
    "\n",
    "#start_geneva = now_geneva - timedelta(hours=72) # use this for showing the last 3 days\n",
    "\n",
    "# Convert both to UTC\n",
    "start_datetime = start_geneva.astimezone(ZoneInfo(\"UTC\")).strftime('%Y-%m-%dT%H:%M:%S')\n",
    "end_datetime = now_geneva.astimezone(ZoneInfo(\"UTC\")).strftime('%Y-%m-%dT%H:%M:%S')\n",
    "\n",
    "#Get intraday data for both instruments\n",
    "def get_intraday_data(ticker, start_dt, end_dt):\n",
    "    bquery = bp.BlpQuery().start()\n",
    "    return bquery.bdib(\n",
    "        ticker,\n",
    "        event_type=\"ASK\",\n",
    "        interval=5,\n",
    "        start_datetime=start_dt,\n",
    "        end_datetime=end_dt,\n",
    "    )\n",
    "    "
   ]
  },
  {
   "cell_type": "code",
   "execution_count": 67,
   "id": "bb28199e",
   "metadata": {},
   "outputs": [],
   "source": [
    "def classify_regime(df, lookback=6):\n",
    "    df = df.copy()\n",
    "    df['chg_2y'] = df['close_2y'].diff(lookback)\n",
    "    df['chg_10y'] = df['close_10y'].diff(lookback)\n",
    "\n",
    "    conditions = [\n",
    "        (df['chg_2y'] < 0) & (df['chg_10y'] <= 0) & (df['chg_10y'] > df['chg_2y']),\n",
    "        (df['chg_2y'] >= 0) & (df['chg_10y'] > 0) & (df['chg_10y'] > df['chg_2y']),\n",
    "        (df['chg_2y'] <= 0) & (df['chg_10y'] < 0) & (df['chg_10y'] < df['chg_2y']),\n",
    "        (df['chg_2y'] > 0) & (df['chg_10y'] >= 0) & (df['chg_10y'] < df['chg_2y']),\n",
    "        (df['chg_2y'] > 0) & (df['chg_10y'] < 0),\n",
    "        (df['chg_2y'] < 0) & (df['chg_10y'] > 0)\n",
    "    ]\n",
    "\n",
    "    labels = ['BullSteepener', 'BearSteepener', 'BullFlattener',\n",
    "              'BearFlattener', 'TwistFlattener', 'TwistSteepener']\n",
    "\n",
    "    df['regime'] = np.select(conditions, labels, default='Other')\n",
    "    return df\n"
   ]
  },
  {
   "cell_type": "code",
   "execution_count": 68,
   "id": "5f1074cc",
   "metadata": {},
   "outputs": [],
   "source": [
    "\n",
    "def plot_yield_curve_regimes(df, curve_name = \"\"):\n",
    "    import matplotlib.pyplot as plt\n",
    "    import pandas as pd\n",
    "    import numpy as np\n",
    "    from matplotlib.patches import Patch\n",
    "\n",
    "    df = df.copy()\n",
    "    df['2s10s'] = df['close_10y'] - df['close_2y']\n",
    "    df = df.dropna(subset=['2s10s'])  # Ensure no NaNs in spread\n",
    "\n",
    "    fig, ax = plt.subplots(figsize=(18, 6))\n",
    "\n",
    "    # Plot the 2s10s curve\n",
    "    ax.plot(df.index, df['2s10s'], color='white', linewidth=2, label='2s10s')\n",
    "\n",
    "    # Color map for regimes\n",
    "    regime_colors = {\n",
    "        'BullSteepener': 'green',\n",
    "        'BearSteepener': 'red',\n",
    "        'BullFlattener': 'deepskyblue',\n",
    "        'BearFlattener': 'orange',\n",
    "        'TwistFlattener': 'violet',\n",
    "        'TwistSteepener': 'gold',\n",
    "        'Other': 'grey'\n",
    "    }\n",
    "\n",
    "    # Get y-axis limits\n",
    "    ymin = df['2s10s'].min() - 0.01\n",
    "    ymax = df['2s10s'].max() + 0.01\n",
    "\n",
    "    # Fill regime colors\n",
    "    for i in range(1, len(df)):\n",
    "        t_curr = df.index[i]\n",
    "        t_prev = df.index[i - 1]\n",
    "        regime = df['regime'].iloc[i]\n",
    "        color = regime_colors.get(regime, 'grey')\n",
    "\n",
    "        ax.fill_between([t_prev, t_curr],\n",
    "                        [ymin, ymin],\n",
    "                        [df['2s10s'].iloc[i], df['2s10s'].iloc[i]],\n",
    "                        color=color,\n",
    "                        alpha=0.5)\n",
    "\n",
    "    #  Add vertical day separators\n",
    "    dates = pd.to_datetime(df.index.date).unique()\n",
    "    for day in dates:\n",
    "        intraday_start = pd.Timestamp(day) + pd.Timedelta(hours=6)\n",
    "        ax.axvline(intraday_start, color='white', linestyle='--', linewidth=0.7, alpha=0.5)\n",
    "\n",
    "    # 🎨 Add custom legend for regime colors\n",
    "    regime_patches = [Patch(facecolor=color, edgecolor='none', label=label)\n",
    "                      for label, color in regime_colors.items()]\n",
    "    line_legend = ax.plot([], [], color='white', linewidth=2, label='2s10s')[0]  # dummy line\n",
    "\n",
    "    # Add both the line and regime legend\n",
    "    ax.legend(handles=[line_legend] + regime_patches, loc='upper left', fontsize=8)\n",
    "\n",
    "    # Plot styling\n",
    "    ax.set_ylim(ymin, ymax)\n",
    "    ax.set_title(curve_name + ' 2s10s Yield Curve (30-min lookback)', color='white', fontsize=14)\n",
    "    ax.set_facecolor('black')\n",
    "    fig.patch.set_facecolor('black')\n",
    "    ax.tick_params(colors='white')\n",
    "    ax.grid(False)\n",
    "\n",
    "    plt.show()"
   ]
  },
  {
   "cell_type": "code",
   "execution_count": 69,
   "id": "136125df",
   "metadata": {},
   "outputs": [],
   "source": [
    "import plotly.graph_objects as go\n",
    "import pandas as pd\n",
    "\n",
    "def plot_yield_curve_regimes_plotly(df, curve_name: str = \"\") -> go.Figure:\n",
    "    \"\"\"\n",
    "    Plot 2s10s curve with colored underfills for each regime.\n",
    "    \"\"\"\n",
    "    df = df.copy()\n",
    "    if not isinstance(df.index, pd.DatetimeIndex):\n",
    "        df.index = pd.to_datetime(df.index)\n",
    "\n",
    "    # Compute spread\n",
    "    df['2s10s'] = df['close_10y'] - df['close_2y']\n",
    "    df = df.dropna(subset=['2s10s'])\n",
    "\n",
    "    # Regime colors\n",
    "    regime_colors = {\n",
    "        'BullSteepener': 'green',\n",
    "        'BearSteepener': 'red',\n",
    "        'BullFlattener': 'deepskyblue',\n",
    "        'BearFlattener': 'orange',\n",
    "        'TwistFlattener': 'violet',\n",
    "        'TwistSteepener': 'gold',\n",
    "        'Other': 'grey'\n",
    "    }\n",
    "\n",
    "    ymin = float(df['2s10s'].min()) - 0.01\n",
    "    ymax = float(df['2s10s'].max()) + 0.01\n",
    "\n",
    "    fig = go.Figure()\n",
    "\n",
    "    # Add filled regions by regime\n",
    "    for i in range(1, len(df)):\n",
    "        t_prev = df.index[i - 1]\n",
    "        t_curr = df.index[i]\n",
    "        y_prev = df['2s10s'].iloc[i - 1]\n",
    "        y_curr = df['2s10s'].iloc[i]\n",
    "        regime = df['regime'].iloc[i]\n",
    "        color = regime_colors.get(regime, 'grey')\n",
    "\n",
    "        fig.add_trace(\n",
    "            go.Scatter(\n",
    "                x=[t_prev, t_curr],\n",
    "                y=[y_prev, y_curr],\n",
    "                mode=\"lines\",\n",
    "                line=dict(color=color, width=0.5),\n",
    "                fill=\"tozeroy\",       # 🎨 fill under the line\n",
    "                fillcolor=color,\n",
    "                opacity=0.4,\n",
    "                name=regime,\n",
    "                showlegend=False      # avoid duplicate legend spam\n",
    "            )\n",
    "        )\n",
    "\n",
    "    # Overlay the white 2s10s line on top\n",
    "    fig.add_trace(\n",
    "        go.Scatter(\n",
    "            x=df.index, y=df['2s10s'],\n",
    "            mode='lines',\n",
    "            name='2s10s',\n",
    "            line=dict(width=2, color='white')\n",
    "        )\n",
    "    )\n",
    "\n",
    "    # Dummy legend entries for regimes\n",
    "    for label, color in regime_colors.items():\n",
    "        fig.add_trace(\n",
    "            go.Scatter(\n",
    "                x=[None], y=[None],\n",
    "                mode=\"lines\",\n",
    "                line=dict(color=color, width=10),\n",
    "                name=label,\n",
    "                showlegend=True\n",
    "            )\n",
    "        )\n",
    "\n",
    "    # Style\n",
    "    fig.update_layout(\n",
    "        title=dict(\n",
    "            text=f\"{curve_name} 2s10s Yield Curve (30-min lookback)\",\n",
    "            font=dict(color=\"white\", size=16),\n",
    "            x=0.5, xanchor=\"center\"\n",
    "        ),\n",
    "        paper_bgcolor=\"black\",\n",
    "        plot_bgcolor=\"black\",\n",
    "        legend=dict(\n",
    "            orientation=\"v\",\n",
    "            yanchor=\"top\",\n",
    "            y=1.0,\n",
    "            xanchor=\"left\",\n",
    "            x=0.01,\n",
    "            font=dict(color=\"white\", size=10),\n",
    "            bgcolor=\"rgba(0,0,0,0)\"\n",
    "        ),\n",
    "        margin=dict(l=60, r=20, t=60, b=40),\n",
    "        hovermode=\"x unified\"\n",
    "    )\n",
    "\n",
    "    fig.update_xaxes(showgrid=False, zeroline=False, color=\"white\")\n",
    "    fig.update_yaxes(range=[ymin, ymax], showgrid=False, zeroline=False, color=\"white\")\n",
    "\n",
    "    return fig\n"
   ]
  },
  {
   "cell_type": "code",
   "execution_count": 70,
   "id": "1ad93f54",
   "metadata": {},
   "outputs": [
    {
     "name": "stdout",
     "output_type": "stream",
     "text": [
      "Fetching 2Y ESTR data...\n",
      "Fetching 10Y ESTR data...\n"
     ]
    }
   ],
   "source": [
    "#Pull intraday data\n",
    "print(\"Fetching 2Y ESTR data...\")\n",
    "ESTR_2y = get_intraday_data(\"EESWE2 Curncy\", start_datetime, end_datetime)\n",
    "print(\"Fetching 10Y ESTR data...\")\n",
    "ESTR_10y = get_intraday_data(\"EESWE10 Curncy\", start_datetime, end_datetime)\n",
    "\n",
    "#Merge dataframes on time\n",
    "ESTR_combined = pd.merge(ESTR_2y[['time', 'close']], ESTR_10y[['time', 'close']], \n",
    "                      on='time', suffixes=('_2y', '_10y'))\n",
    "\n",
    "#Set time as index\n",
    "ESTR_combined['time'] = pd.to_datetime(ESTR_combined['time'], utc=True)\n",
    "ESTR_combined.set_index('time', inplace=True)\n",
    "ESTR_combined.index = ESTR_combined.index.tz_convert('Europe/Zurich')\n"
   ]
  },
  {
   "cell_type": "code",
   "execution_count": 71,
   "id": "80d74b1b",
   "metadata": {},
   "outputs": [
    {
     "data": {
      "application/vnd.plotly.v1+json": {
       "config": {
        "plotlyServerURL": "https://plot.ly"
       },
       "data": [
        {
         "fill": "tozeroy",
         "fillcolor": "grey",
         "line": {
          "color": "grey",
          "width": 0.5
         },
         "mode": "lines",
         "name": "Other",
         "opacity": 0.4,
         "showlegend": false,
         "type": "scatter",
         "x": [
          "2025-08-18T08:00:00+02:00",
          "2025-08-18T08:05:00+02:00"
         ],
         "y": [
          0.6723399999999999,
          0.6741900000000001
         ]
        },
        {
         "fill": "tozeroy",
         "fillcolor": "grey",
         "line": {
          "color": "grey",
          "width": 0.5
         },
         "mode": "lines",
         "name": "Other",
         "opacity": 0.4,
         "showlegend": false,
         "type": "scatter",
         "x": [
          "2025-08-18T08:05:00+02:00",
          "2025-08-18T08:10:00+02:00"
         ],
         "y": [
          0.6741900000000001,
          0.6784699999999999
         ]
        },
        {
         "fill": "tozeroy",
         "fillcolor": "grey",
         "line": {
          "color": "grey",
          "width": 0.5
         },
         "mode": "lines",
         "name": "Other",
         "opacity": 0.4,
         "showlegend": false,
         "type": "scatter",
         "x": [
          "2025-08-18T08:10:00+02:00",
          "2025-08-18T08:15:00+02:00"
         ],
         "y": [
          0.6784699999999999,
          0.67486
         ]
        },
        {
         "fill": "tozeroy",
         "fillcolor": "grey",
         "line": {
          "color": "grey",
          "width": 0.5
         },
         "mode": "lines",
         "name": "Other",
         "opacity": 0.4,
         "showlegend": false,
         "type": "scatter",
         "x": [
          "2025-08-18T08:15:00+02:00",
          "2025-08-18T08:20:00+02:00"
         ],
         "y": [
          0.67486,
          0.6744000000000001
         ]
        },
        {
         "fill": "tozeroy",
         "fillcolor": "grey",
         "line": {
          "color": "grey",
          "width": 0.5
         },
         "mode": "lines",
         "name": "Other",
         "opacity": 0.4,
         "showlegend": false,
         "type": "scatter",
         "x": [
          "2025-08-18T08:20:00+02:00",
          "2025-08-18T08:25:00+02:00"
         ],
         "y": [
          0.6744000000000001,
          0.67672
         ]
        },
        {
         "fill": "tozeroy",
         "fillcolor": "gold",
         "line": {
          "color": "gold",
          "width": 0.5
         },
         "mode": "lines",
         "name": "TwistSteepener",
         "opacity": 0.4,
         "showlegend": false,
         "type": "scatter",
         "x": [
          "2025-08-18T08:25:00+02:00",
          "2025-08-18T08:30:00+02:00"
         ],
         "y": [
          0.67672,
          0.6756099999999998
         ]
        },
        {
         "fill": "tozeroy",
         "fillcolor": "violet",
         "line": {
          "color": "violet",
          "width": 0.5
         },
         "mode": "lines",
         "name": "TwistFlattener",
         "opacity": 0.4,
         "showlegend": false,
         "type": "scatter",
         "x": [
          "2025-08-18T08:30:00+02:00",
          "2025-08-18T08:35:00+02:00"
         ],
         "y": [
          0.6756099999999998,
          0.6710499999999999
         ]
        },
        {
         "fill": "tozeroy",
         "fillcolor": "deepskyblue",
         "line": {
          "color": "deepskyblue",
          "width": 0.5
         },
         "mode": "lines",
         "name": "BullFlattener",
         "opacity": 0.4,
         "showlegend": false,
         "type": "scatter",
         "x": [
          "2025-08-18T08:35:00+02:00",
          "2025-08-18T08:40:00+02:00"
         ],
         "y": [
          0.6710499999999999,
          0.6748000000000001
         ]
        },
        {
         "fill": "tozeroy",
         "fillcolor": "deepskyblue",
         "line": {
          "color": "deepskyblue",
          "width": 0.5
         },
         "mode": "lines",
         "name": "BullFlattener",
         "opacity": 0.4,
         "showlegend": false,
         "type": "scatter",
         "x": [
          "2025-08-18T08:40:00+02:00",
          "2025-08-18T08:45:00+02:00"
         ],
         "y": [
          0.6748000000000001,
          0.6690799999999999
         ]
        },
        {
         "fill": "tozeroy",
         "fillcolor": "deepskyblue",
         "line": {
          "color": "deepskyblue",
          "width": 0.5
         },
         "mode": "lines",
         "name": "BullFlattener",
         "opacity": 0.4,
         "showlegend": false,
         "type": "scatter",
         "x": [
          "2025-08-18T08:45:00+02:00",
          "2025-08-18T08:50:00+02:00"
         ],
         "y": [
          0.6690799999999999,
          0.66804
         ]
        },
        {
         "fill": "tozeroy",
         "fillcolor": "deepskyblue",
         "line": {
          "color": "deepskyblue",
          "width": 0.5
         },
         "mode": "lines",
         "name": "BullFlattener",
         "opacity": 0.4,
         "showlegend": false,
         "type": "scatter",
         "x": [
          "2025-08-18T08:50:00+02:00",
          "2025-08-18T08:55:00+02:00"
         ],
         "y": [
          0.66804,
          0.6661899999999998
         ]
        },
        {
         "fill": "tozeroy",
         "fillcolor": "deepskyblue",
         "line": {
          "color": "deepskyblue",
          "width": 0.5
         },
         "mode": "lines",
         "name": "BullFlattener",
         "opacity": 0.4,
         "showlegend": false,
         "type": "scatter",
         "x": [
          "2025-08-18T08:55:00+02:00",
          "2025-08-18T09:00:00+02:00"
         ],
         "y": [
          0.6661899999999998,
          0.6663399999999999
         ]
        },
        {
         "fill": "tozeroy",
         "fillcolor": "deepskyblue",
         "line": {
          "color": "deepskyblue",
          "width": 0.5
         },
         "mode": "lines",
         "name": "BullFlattener",
         "opacity": 0.4,
         "showlegend": false,
         "type": "scatter",
         "x": [
          "2025-08-18T09:00:00+02:00",
          "2025-08-18T09:05:00+02:00"
         ],
         "y": [
          0.6663399999999999,
          0.6642300000000001
         ]
        },
        {
         "fill": "tozeroy",
         "fillcolor": "deepskyblue",
         "line": {
          "color": "deepskyblue",
          "width": 0.5
         },
         "mode": "lines",
         "name": "BullFlattener",
         "opacity": 0.4,
         "showlegend": false,
         "type": "scatter",
         "x": [
          "2025-08-18T09:05:00+02:00",
          "2025-08-18T09:10:00+02:00"
         ],
         "y": [
          0.6642300000000001,
          0.6613499999999999
         ]
        },
        {
         "fill": "tozeroy",
         "fillcolor": "deepskyblue",
         "line": {
          "color": "deepskyblue",
          "width": 0.5
         },
         "mode": "lines",
         "name": "BullFlattener",
         "opacity": 0.4,
         "showlegend": false,
         "type": "scatter",
         "x": [
          "2025-08-18T09:10:00+02:00",
          "2025-08-18T09:15:00+02:00"
         ],
         "y": [
          0.6613499999999999,
          0.65994
         ]
        },
        {
         "fill": "tozeroy",
         "fillcolor": "deepskyblue",
         "line": {
          "color": "deepskyblue",
          "width": 0.5
         },
         "mode": "lines",
         "name": "BullFlattener",
         "opacity": 0.4,
         "showlegend": false,
         "type": "scatter",
         "x": [
          "2025-08-18T09:15:00+02:00",
          "2025-08-18T09:20:00+02:00"
         ],
         "y": [
          0.65994,
          0.6613799999999999
         ]
        },
        {
         "fill": "tozeroy",
         "fillcolor": "deepskyblue",
         "line": {
          "color": "deepskyblue",
          "width": 0.5
         },
         "mode": "lines",
         "name": "BullFlattener",
         "opacity": 0.4,
         "showlegend": false,
         "type": "scatter",
         "x": [
          "2025-08-18T09:20:00+02:00",
          "2025-08-18T09:25:00+02:00"
         ],
         "y": [
          0.6613799999999999,
          0.6622399999999999
         ]
        },
        {
         "fill": "tozeroy",
         "fillcolor": "deepskyblue",
         "line": {
          "color": "deepskyblue",
          "width": 0.5
         },
         "mode": "lines",
         "name": "BullFlattener",
         "opacity": 0.4,
         "showlegend": false,
         "type": "scatter",
         "x": [
          "2025-08-18T09:25:00+02:00",
          "2025-08-18T09:30:00+02:00"
         ],
         "y": [
          0.6622399999999999,
          0.6638499999999998
         ]
        },
        {
         "fill": "tozeroy",
         "fillcolor": "green",
         "line": {
          "color": "green",
          "width": 0.5
         },
         "mode": "lines",
         "name": "BullSteepener",
         "opacity": 0.4,
         "showlegend": false,
         "type": "scatter",
         "x": [
          "2025-08-18T09:30:00+02:00",
          "2025-08-18T09:35:00+02:00"
         ],
         "y": [
          0.6638499999999998,
          0.6647800000000001
         ]
        },
        {
         "fill": "tozeroy",
         "fillcolor": "red",
         "line": {
          "color": "red",
          "width": 0.5
         },
         "mode": "lines",
         "name": "BearSteepener",
         "opacity": 0.4,
         "showlegend": false,
         "type": "scatter",
         "x": [
          "2025-08-18T09:35:00+02:00",
          "2025-08-18T09:40:00+02:00"
         ],
         "y": [
          0.6647800000000001,
          0.6639300000000001
         ]
        },
        {
         "fill": "tozeroy",
         "fillcolor": "deepskyblue",
         "line": {
          "color": "deepskyblue",
          "width": 0.5
         },
         "mode": "lines",
         "name": "BullFlattener",
         "opacity": 0.4,
         "showlegend": false,
         "type": "scatter",
         "x": [
          "2025-08-18T09:40:00+02:00",
          "2025-08-18T09:45:00+02:00"
         ],
         "y": [
          0.6639300000000001,
          0.6583399999999999
         ]
        },
        {
         "fill": "tozeroy",
         "fillcolor": "deepskyblue",
         "line": {
          "color": "deepskyblue",
          "width": 0.5
         },
         "mode": "lines",
         "name": "BullFlattener",
         "opacity": 0.4,
         "showlegend": false,
         "type": "scatter",
         "x": [
          "2025-08-18T09:45:00+02:00",
          "2025-08-18T09:50:00+02:00"
         ],
         "y": [
          0.6583399999999999,
          0.6552499999999999
         ]
        },
        {
         "fill": "tozeroy",
         "fillcolor": "deepskyblue",
         "line": {
          "color": "deepskyblue",
          "width": 0.5
         },
         "mode": "lines",
         "name": "BullFlattener",
         "opacity": 0.4,
         "showlegend": false,
         "type": "scatter",
         "x": [
          "2025-08-18T09:50:00+02:00",
          "2025-08-18T09:55:00+02:00"
         ],
         "y": [
          0.6552499999999999,
          0.65289
         ]
        },
        {
         "fill": "tozeroy",
         "fillcolor": "deepskyblue",
         "line": {
          "color": "deepskyblue",
          "width": 0.5
         },
         "mode": "lines",
         "name": "BullFlattener",
         "opacity": 0.4,
         "showlegend": false,
         "type": "scatter",
         "x": [
          "2025-08-18T09:55:00+02:00",
          "2025-08-18T10:00:00+02:00"
         ],
         "y": [
          0.65289,
          0.6531699999999998
         ]
        },
        {
         "fill": "tozeroy",
         "fillcolor": "deepskyblue",
         "line": {
          "color": "deepskyblue",
          "width": 0.5
         },
         "mode": "lines",
         "name": "BullFlattener",
         "opacity": 0.4,
         "showlegend": false,
         "type": "scatter",
         "x": [
          "2025-08-18T10:00:00+02:00",
          "2025-08-18T10:05:00+02:00"
         ],
         "y": [
          0.6531699999999998,
          0.65194
         ]
        },
        {
         "fill": "tozeroy",
         "fillcolor": "deepskyblue",
         "line": {
          "color": "deepskyblue",
          "width": 0.5
         },
         "mode": "lines",
         "name": "BullFlattener",
         "opacity": 0.4,
         "showlegend": false,
         "type": "scatter",
         "x": [
          "2025-08-18T10:05:00+02:00",
          "2025-08-18T10:10:00+02:00"
         ],
         "y": [
          0.65194,
          0.6520600000000001
         ]
        },
        {
         "fill": "tozeroy",
         "fillcolor": "deepskyblue",
         "line": {
          "color": "deepskyblue",
          "width": 0.5
         },
         "mode": "lines",
         "name": "BullFlattener",
         "opacity": 0.4,
         "showlegend": false,
         "type": "scatter",
         "x": [
          "2025-08-18T10:10:00+02:00",
          "2025-08-18T10:15:00+02:00"
         ],
         "y": [
          0.6520600000000001,
          0.6525799999999997
         ]
        },
        {
         "fill": "tozeroy",
         "fillcolor": "violet",
         "line": {
          "color": "violet",
          "width": 0.5
         },
         "mode": "lines",
         "name": "TwistFlattener",
         "opacity": 0.4,
         "showlegend": false,
         "type": "scatter",
         "x": [
          "2025-08-18T10:15:00+02:00",
          "2025-08-18T10:20:00+02:00"
         ],
         "y": [
          0.6525799999999997,
          0.6534500000000001
         ]
        },
        {
         "fill": "tozeroy",
         "fillcolor": "red",
         "line": {
          "color": "red",
          "width": 0.5
         },
         "mode": "lines",
         "name": "BearSteepener",
         "opacity": 0.4,
         "showlegend": false,
         "type": "scatter",
         "x": [
          "2025-08-18T10:20:00+02:00",
          "2025-08-18T10:25:00+02:00"
         ],
         "y": [
          0.6534500000000001,
          0.6536099999999998
         ]
        },
        {
         "fill": "tozeroy",
         "fillcolor": "red",
         "line": {
          "color": "red",
          "width": 0.5
         },
         "mode": "lines",
         "name": "BearSteepener",
         "opacity": 0.4,
         "showlegend": false,
         "type": "scatter",
         "x": [
          "2025-08-18T10:25:00+02:00",
          "2025-08-18T10:30:00+02:00"
         ],
         "y": [
          0.6536099999999998,
          0.6542199999999998
         ]
        },
        {
         "fill": "tozeroy",
         "fillcolor": "red",
         "line": {
          "color": "red",
          "width": 0.5
         },
         "mode": "lines",
         "name": "BearSteepener",
         "opacity": 0.4,
         "showlegend": false,
         "type": "scatter",
         "x": [
          "2025-08-18T10:30:00+02:00",
          "2025-08-18T10:35:00+02:00"
         ],
         "y": [
          0.6542199999999998,
          0.65588
         ]
        },
        {
         "fill": "tozeroy",
         "fillcolor": "red",
         "line": {
          "color": "red",
          "width": 0.5
         },
         "mode": "lines",
         "name": "BearSteepener",
         "opacity": 0.4,
         "showlegend": false,
         "type": "scatter",
         "x": [
          "2025-08-18T10:35:00+02:00",
          "2025-08-18T10:40:00+02:00"
         ],
         "y": [
          0.65588,
          0.6552500000000001
         ]
        },
        {
         "fill": "tozeroy",
         "fillcolor": "gold",
         "line": {
          "color": "gold",
          "width": 0.5
         },
         "mode": "lines",
         "name": "TwistSteepener",
         "opacity": 0.4,
         "showlegend": false,
         "type": "scatter",
         "x": [
          "2025-08-18T10:40:00+02:00",
          "2025-08-18T10:45:00+02:00"
         ],
         "y": [
          0.6552500000000001,
          0.6559999999999999
         ]
        },
        {
         "fill": "tozeroy",
         "fillcolor": "gold",
         "line": {
          "color": "gold",
          "width": 0.5
         },
         "mode": "lines",
         "name": "TwistSteepener",
         "opacity": 0.4,
         "showlegend": false,
         "type": "scatter",
         "x": [
          "2025-08-18T10:45:00+02:00",
          "2025-08-18T10:50:00+02:00"
         ],
         "y": [
          0.6559999999999999,
          0.6569799999999999
         ]
        },
        {
         "fill": "tozeroy",
         "fillcolor": "red",
         "line": {
          "color": "red",
          "width": 0.5
         },
         "mode": "lines",
         "name": "BearSteepener",
         "opacity": 0.4,
         "showlegend": false,
         "type": "scatter",
         "x": [
          "2025-08-18T10:50:00+02:00",
          "2025-08-18T10:55:00+02:00"
         ],
         "y": [
          0.6569799999999999,
          0.6562800000000002
         ]
        },
        {
         "fill": "tozeroy",
         "fillcolor": "red",
         "line": {
          "color": "red",
          "width": 0.5
         },
         "mode": "lines",
         "name": "BearSteepener",
         "opacity": 0.4,
         "showlegend": false,
         "type": "scatter",
         "x": [
          "2025-08-18T10:55:00+02:00",
          "2025-08-18T11:00:00+02:00"
         ],
         "y": [
          0.6562800000000002,
          0.6559999999999999
         ]
        },
        {
         "fill": "tozeroy",
         "fillcolor": "red",
         "line": {
          "color": "red",
          "width": 0.5
         },
         "mode": "lines",
         "name": "BearSteepener",
         "opacity": 0.4,
         "showlegend": false,
         "type": "scatter",
         "x": [
          "2025-08-18T11:00:00+02:00",
          "2025-08-18T11:05:00+02:00"
         ],
         "y": [
          0.6559999999999999,
          0.65821
         ]
        },
        {
         "fill": "tozeroy",
         "fillcolor": "red",
         "line": {
          "color": "red",
          "width": 0.5
         },
         "mode": "lines",
         "name": "BearSteepener",
         "opacity": 0.4,
         "showlegend": false,
         "type": "scatter",
         "x": [
          "2025-08-18T11:05:00+02:00",
          "2025-08-18T11:10:00+02:00"
         ],
         "y": [
          0.65821,
          0.6579399999999997
         ]
        },
        {
         "fill": "tozeroy",
         "fillcolor": "orange",
         "line": {
          "color": "orange",
          "width": 0.5
         },
         "mode": "lines",
         "name": "BearFlattener",
         "opacity": 0.4,
         "showlegend": false,
         "type": "scatter",
         "x": [
          "2025-08-18T11:10:00+02:00",
          "2025-08-18T11:15:00+02:00"
         ],
         "y": [
          0.6579399999999997,
          0.6554800000000001
         ]
        },
        {
         "fill": "tozeroy",
         "fillcolor": "orange",
         "line": {
          "color": "orange",
          "width": 0.5
         },
         "mode": "lines",
         "name": "BearFlattener",
         "opacity": 0.4,
         "showlegend": false,
         "type": "scatter",
         "x": [
          "2025-08-18T11:15:00+02:00",
          "2025-08-18T11:20:00+02:00"
         ],
         "y": [
          0.6554800000000001,
          0.6559899999999999
         ]
        },
        {
         "fill": "tozeroy",
         "fillcolor": "red",
         "line": {
          "color": "red",
          "width": 0.5
         },
         "mode": "lines",
         "name": "BearSteepener",
         "opacity": 0.4,
         "showlegend": false,
         "type": "scatter",
         "x": [
          "2025-08-18T11:20:00+02:00",
          "2025-08-18T11:25:00+02:00"
         ],
         "y": [
          0.6559899999999999,
          0.65717
         ]
        },
        {
         "fill": "tozeroy",
         "fillcolor": "red",
         "line": {
          "color": "red",
          "width": 0.5
         },
         "mode": "lines",
         "name": "BearSteepener",
         "opacity": 0.4,
         "showlegend": false,
         "type": "scatter",
         "x": [
          "2025-08-18T11:25:00+02:00",
          "2025-08-18T11:30:00+02:00"
         ],
         "y": [
          0.65717,
          0.65872
         ]
        },
        {
         "fill": "tozeroy",
         "fillcolor": "violet",
         "line": {
          "color": "violet",
          "width": 0.5
         },
         "mode": "lines",
         "name": "TwistFlattener",
         "opacity": 0.4,
         "showlegend": false,
         "type": "scatter",
         "x": [
          "2025-08-18T11:30:00+02:00",
          "2025-08-18T11:35:00+02:00"
         ],
         "y": [
          0.65872,
          0.6569099999999999
         ]
        },
        {
         "fill": "tozeroy",
         "fillcolor": "orange",
         "line": {
          "color": "orange",
          "width": 0.5
         },
         "mode": "lines",
         "name": "BearFlattener",
         "opacity": 0.4,
         "showlegend": false,
         "type": "scatter",
         "x": [
          "2025-08-18T11:35:00+02:00",
          "2025-08-18T11:40:00+02:00"
         ],
         "y": [
          0.6569099999999999,
          0.6559999999999999
         ]
        },
        {
         "fill": "tozeroy",
         "fillcolor": "violet",
         "line": {
          "color": "violet",
          "width": 0.5
         },
         "mode": "lines",
         "name": "TwistFlattener",
         "opacity": 0.4,
         "showlegend": false,
         "type": "scatter",
         "x": [
          "2025-08-18T11:40:00+02:00",
          "2025-08-18T11:45:00+02:00"
         ],
         "y": [
          0.6559999999999999,
          0.6539600000000001
         ]
        },
        {
         "fill": "tozeroy",
         "fillcolor": "red",
         "line": {
          "color": "red",
          "width": 0.5
         },
         "mode": "lines",
         "name": "BearSteepener",
         "opacity": 0.4,
         "showlegend": false,
         "type": "scatter",
         "x": [
          "2025-08-18T11:45:00+02:00",
          "2025-08-18T11:50:00+02:00"
         ],
         "y": [
          0.6539600000000001,
          0.6566100000000001
         ]
        },
        {
         "fill": "tozeroy",
         "fillcolor": "violet",
         "line": {
          "color": "violet",
          "width": 0.5
         },
         "mode": "lines",
         "name": "TwistFlattener",
         "opacity": 0.4,
         "showlegend": false,
         "type": "scatter",
         "x": [
          "2025-08-18T11:50:00+02:00",
          "2025-08-18T11:55:00+02:00"
         ],
         "y": [
          0.6566100000000001,
          0.6553400000000003
         ]
        },
        {
         "fill": "tozeroy",
         "fillcolor": "violet",
         "line": {
          "color": "violet",
          "width": 0.5
         },
         "mode": "lines",
         "name": "TwistFlattener",
         "opacity": 0.4,
         "showlegend": false,
         "type": "scatter",
         "x": [
          "2025-08-18T11:55:00+02:00",
          "2025-08-18T12:00:00+02:00"
         ],
         "y": [
          0.6553400000000003,
          0.6558100000000002
         ]
        },
        {
         "fill": "tozeroy",
         "fillcolor": "violet",
         "line": {
          "color": "violet",
          "width": 0.5
         },
         "mode": "lines",
         "name": "TwistFlattener",
         "opacity": 0.4,
         "showlegend": false,
         "type": "scatter",
         "x": [
          "2025-08-18T12:00:00+02:00",
          "2025-08-18T12:05:00+02:00"
         ],
         "y": [
          0.6558100000000002,
          0.6566000000000001
         ]
        },
        {
         "fill": "tozeroy",
         "fillcolor": "deepskyblue",
         "line": {
          "color": "deepskyblue",
          "width": 0.5
         },
         "mode": "lines",
         "name": "BullFlattener",
         "opacity": 0.4,
         "showlegend": false,
         "type": "scatter",
         "x": [
          "2025-08-18T12:05:00+02:00",
          "2025-08-18T12:10:00+02:00"
         ],
         "y": [
          0.6566000000000001,
          0.6530499999999999
         ]
        },
        {
         "fill": "tozeroy",
         "fillcolor": "violet",
         "line": {
          "color": "violet",
          "width": 0.5
         },
         "mode": "lines",
         "name": "TwistFlattener",
         "opacity": 0.4,
         "showlegend": false,
         "type": "scatter",
         "x": [
          "2025-08-18T12:10:00+02:00",
          "2025-08-18T12:15:00+02:00"
         ],
         "y": [
          0.6530499999999999,
          0.6521699999999997
         ]
        },
        {
         "fill": "tozeroy",
         "fillcolor": "deepskyblue",
         "line": {
          "color": "deepskyblue",
          "width": 0.5
         },
         "mode": "lines",
         "name": "BullFlattener",
         "opacity": 0.4,
         "showlegend": false,
         "type": "scatter",
         "x": [
          "2025-08-18T12:15:00+02:00",
          "2025-08-18T12:20:00+02:00"
         ],
         "y": [
          0.6521699999999997,
          0.6503299999999999
         ]
        },
        {
         "fill": "tozeroy",
         "fillcolor": "violet",
         "line": {
          "color": "violet",
          "width": 0.5
         },
         "mode": "lines",
         "name": "TwistFlattener",
         "opacity": 0.4,
         "showlegend": false,
         "type": "scatter",
         "x": [
          "2025-08-18T12:20:00+02:00",
          "2025-08-18T12:25:00+02:00"
         ],
         "y": [
          0.6503299999999999,
          0.6504699999999999
         ]
        },
        {
         "fill": "tozeroy",
         "fillcolor": "violet",
         "line": {
          "color": "violet",
          "width": 0.5
         },
         "mode": "lines",
         "name": "TwistFlattener",
         "opacity": 0.4,
         "showlegend": false,
         "type": "scatter",
         "x": [
          "2025-08-18T12:25:00+02:00",
          "2025-08-18T12:30:00+02:00"
         ],
         "y": [
          0.6504699999999999,
          0.6521600000000001
         ]
        },
        {
         "fill": "tozeroy",
         "fillcolor": "violet",
         "line": {
          "color": "violet",
          "width": 0.5
         },
         "mode": "lines",
         "name": "TwistFlattener",
         "opacity": 0.4,
         "showlegend": false,
         "type": "scatter",
         "x": [
          "2025-08-18T12:30:00+02:00",
          "2025-08-18T12:35:00+02:00"
         ],
         "y": [
          0.6521600000000001,
          0.65045
         ]
        },
        {
         "fill": "tozeroy",
         "fillcolor": "violet",
         "line": {
          "color": "violet",
          "width": 0.5
         },
         "mode": "lines",
         "name": "TwistFlattener",
         "opacity": 0.4,
         "showlegend": false,
         "type": "scatter",
         "x": [
          "2025-08-18T12:35:00+02:00",
          "2025-08-18T12:40:00+02:00"
         ],
         "y": [
          0.65045,
          0.65192
         ]
        },
        {
         "fill": "tozeroy",
         "fillcolor": "violet",
         "line": {
          "color": "violet",
          "width": 0.5
         },
         "mode": "lines",
         "name": "TwistFlattener",
         "opacity": 0.4,
         "showlegend": false,
         "type": "scatter",
         "x": [
          "2025-08-18T12:40:00+02:00",
          "2025-08-18T12:45:00+02:00"
         ],
         "y": [
          0.65192,
          0.65046
         ]
        },
        {
         "fill": "tozeroy",
         "fillcolor": "red",
         "line": {
          "color": "red",
          "width": 0.5
         },
         "mode": "lines",
         "name": "BearSteepener",
         "opacity": 0.4,
         "showlegend": false,
         "type": "scatter",
         "x": [
          "2025-08-18T12:45:00+02:00",
          "2025-08-18T12:50:00+02:00"
         ],
         "y": [
          0.65046,
          0.6507600000000002
         ]
        },
        {
         "fill": "tozeroy",
         "fillcolor": "red",
         "line": {
          "color": "red",
          "width": 0.5
         },
         "mode": "lines",
         "name": "BearSteepener",
         "opacity": 0.4,
         "showlegend": false,
         "type": "scatter",
         "x": [
          "2025-08-18T12:50:00+02:00",
          "2025-08-18T12:55:00+02:00"
         ],
         "y": [
          0.6507600000000002,
          0.65391
         ]
        },
        {
         "fill": "tozeroy",
         "fillcolor": "red",
         "line": {
          "color": "red",
          "width": 0.5
         },
         "mode": "lines",
         "name": "BearSteepener",
         "opacity": 0.4,
         "showlegend": false,
         "type": "scatter",
         "x": [
          "2025-08-18T12:55:00+02:00",
          "2025-08-18T13:00:00+02:00"
         ],
         "y": [
          0.65391,
          0.65307
         ]
        },
        {
         "fill": "tozeroy",
         "fillcolor": "red",
         "line": {
          "color": "red",
          "width": 0.5
         },
         "mode": "lines",
         "name": "BearSteepener",
         "opacity": 0.4,
         "showlegend": false,
         "type": "scatter",
         "x": [
          "2025-08-18T13:00:00+02:00",
          "2025-08-18T13:05:00+02:00"
         ],
         "y": [
          0.65307,
          0.6538600000000001
         ]
        },
        {
         "fill": "tozeroy",
         "fillcolor": "red",
         "line": {
          "color": "red",
          "width": 0.5
         },
         "mode": "lines",
         "name": "BearSteepener",
         "opacity": 0.4,
         "showlegend": false,
         "type": "scatter",
         "x": [
          "2025-08-18T13:05:00+02:00",
          "2025-08-18T13:10:00+02:00"
         ],
         "y": [
          0.6538600000000001,
          0.65292
         ]
        },
        {
         "fill": "tozeroy",
         "fillcolor": "red",
         "line": {
          "color": "red",
          "width": 0.5
         },
         "mode": "lines",
         "name": "BearSteepener",
         "opacity": 0.4,
         "showlegend": false,
         "type": "scatter",
         "x": [
          "2025-08-18T13:10:00+02:00",
          "2025-08-18T13:15:00+02:00"
         ],
         "y": [
          0.65292,
          0.6529599999999998
         ]
        },
        {
         "fill": "tozeroy",
         "fillcolor": "red",
         "line": {
          "color": "red",
          "width": 0.5
         },
         "mode": "lines",
         "name": "BearSteepener",
         "opacity": 0.4,
         "showlegend": false,
         "type": "scatter",
         "x": [
          "2025-08-18T13:15:00+02:00",
          "2025-08-18T13:20:00+02:00"
         ],
         "y": [
          0.6529599999999998,
          0.6508099999999999
         ]
        },
        {
         "fill": "tozeroy",
         "fillcolor": "violet",
         "line": {
          "color": "violet",
          "width": 0.5
         },
         "mode": "lines",
         "name": "TwistFlattener",
         "opacity": 0.4,
         "showlegend": false,
         "type": "scatter",
         "x": [
          "2025-08-18T13:20:00+02:00",
          "2025-08-18T13:25:00+02:00"
         ],
         "y": [
          0.6508099999999999,
          0.6518800000000002
         ]
        },
        {
         "fill": "tozeroy",
         "fillcolor": "gold",
         "line": {
          "color": "gold",
          "width": 0.5
         },
         "mode": "lines",
         "name": "TwistSteepener",
         "opacity": 0.4,
         "showlegend": false,
         "type": "scatter",
         "x": [
          "2025-08-18T13:25:00+02:00",
          "2025-08-18T13:30:00+02:00"
         ],
         "y": [
          0.6518800000000002,
          0.6561299999999999
         ]
        },
        {
         "fill": "tozeroy",
         "fillcolor": "red",
         "line": {
          "color": "red",
          "width": 0.5
         },
         "mode": "lines",
         "name": "BearSteepener",
         "opacity": 0.4,
         "showlegend": false,
         "type": "scatter",
         "x": [
          "2025-08-18T13:30:00+02:00",
          "2025-08-18T13:35:00+02:00"
         ],
         "y": [
          0.6561299999999999,
          0.6551899999999999
         ]
        },
        {
         "fill": "tozeroy",
         "fillcolor": "gold",
         "line": {
          "color": "gold",
          "width": 0.5
         },
         "mode": "lines",
         "name": "TwistSteepener",
         "opacity": 0.4,
         "showlegend": false,
         "type": "scatter",
         "x": [
          "2025-08-18T13:35:00+02:00",
          "2025-08-18T13:40:00+02:00"
         ],
         "y": [
          0.6551899999999999,
          0.65652
         ]
        },
        {
         "fill": "tozeroy",
         "fillcolor": "gold",
         "line": {
          "color": "gold",
          "width": 0.5
         },
         "mode": "lines",
         "name": "TwistSteepener",
         "opacity": 0.4,
         "showlegend": false,
         "type": "scatter",
         "x": [
          "2025-08-18T13:40:00+02:00",
          "2025-08-18T13:45:00+02:00"
         ],
         "y": [
          0.65652,
          0.6561000000000001
         ]
        },
        {
         "fill": "tozeroy",
         "fillcolor": "gold",
         "line": {
          "color": "gold",
          "width": 0.5
         },
         "mode": "lines",
         "name": "TwistSteepener",
         "opacity": 0.4,
         "showlegend": false,
         "type": "scatter",
         "x": [
          "2025-08-18T13:45:00+02:00",
          "2025-08-18T13:50:00+02:00"
         ],
         "y": [
          0.6561000000000001,
          0.6562899999999998
         ]
        },
        {
         "fill": "tozeroy",
         "fillcolor": "green",
         "line": {
          "color": "green",
          "width": 0.5
         },
         "mode": "lines",
         "name": "BullSteepener",
         "opacity": 0.4,
         "showlegend": false,
         "type": "scatter",
         "x": [
          "2025-08-18T13:50:00+02:00",
          "2025-08-18T13:55:00+02:00"
         ],
         "y": [
          0.6562899999999998,
          0.65361
         ]
        },
        {
         "fill": "tozeroy",
         "fillcolor": "deepskyblue",
         "line": {
          "color": "deepskyblue",
          "width": 0.5
         },
         "mode": "lines",
         "name": "BullFlattener",
         "opacity": 0.4,
         "showlegend": false,
         "type": "scatter",
         "x": [
          "2025-08-18T13:55:00+02:00",
          "2025-08-18T14:00:00+02:00"
         ],
         "y": [
          0.65361,
          0.6527100000000001
         ]
        },
        {
         "fill": "tozeroy",
         "fillcolor": "deepskyblue",
         "line": {
          "color": "deepskyblue",
          "width": 0.5
         },
         "mode": "lines",
         "name": "BullFlattener",
         "opacity": 0.4,
         "showlegend": false,
         "type": "scatter",
         "x": [
          "2025-08-18T14:00:00+02:00",
          "2025-08-18T14:05:00+02:00"
         ],
         "y": [
          0.6527100000000001,
          0.6502299999999999
         ]
        },
        {
         "fill": "tozeroy",
         "fillcolor": "deepskyblue",
         "line": {
          "color": "deepskyblue",
          "width": 0.5
         },
         "mode": "lines",
         "name": "BullFlattener",
         "opacity": 0.4,
         "showlegend": false,
         "type": "scatter",
         "x": [
          "2025-08-18T14:05:00+02:00",
          "2025-08-18T14:10:00+02:00"
         ],
         "y": [
          0.6502299999999999,
          0.6529800000000001
         ]
        },
        {
         "fill": "tozeroy",
         "fillcolor": "deepskyblue",
         "line": {
          "color": "deepskyblue",
          "width": 0.5
         },
         "mode": "lines",
         "name": "BullFlattener",
         "opacity": 0.4,
         "showlegend": false,
         "type": "scatter",
         "x": [
          "2025-08-18T14:10:00+02:00",
          "2025-08-18T14:15:00+02:00"
         ],
         "y": [
          0.6529800000000001,
          0.6522699999999999
         ]
        },
        {
         "fill": "tozeroy",
         "fillcolor": "green",
         "line": {
          "color": "green",
          "width": 0.5
         },
         "mode": "lines",
         "name": "BullSteepener",
         "opacity": 0.4,
         "showlegend": false,
         "type": "scatter",
         "x": [
          "2025-08-18T14:15:00+02:00",
          "2025-08-18T14:20:00+02:00"
         ],
         "y": [
          0.6522699999999999,
          0.6582400000000002
         ]
        },
        {
         "fill": "tozeroy",
         "fillcolor": "gold",
         "line": {
          "color": "gold",
          "width": 0.5
         },
         "mode": "lines",
         "name": "TwistSteepener",
         "opacity": 0.4,
         "showlegend": false,
         "type": "scatter",
         "x": [
          "2025-08-18T14:20:00+02:00",
          "2025-08-18T14:25:00+02:00"
         ],
         "y": [
          0.6582400000000002,
          0.6642800000000002
         ]
        },
        {
         "fill": "tozeroy",
         "fillcolor": "red",
         "line": {
          "color": "red",
          "width": 0.5
         },
         "mode": "lines",
         "name": "BearSteepener",
         "opacity": 0.4,
         "showlegend": false,
         "type": "scatter",
         "x": [
          "2025-08-18T14:25:00+02:00",
          "2025-08-18T14:30:00+02:00"
         ],
         "y": [
          0.6642800000000002,
          0.6671900000000002
         ]
        },
        {
         "fill": "tozeroy",
         "fillcolor": "red",
         "line": {
          "color": "red",
          "width": 0.5
         },
         "mode": "lines",
         "name": "BearSteepener",
         "opacity": 0.4,
         "showlegend": false,
         "type": "scatter",
         "x": [
          "2025-08-18T14:30:00+02:00",
          "2025-08-18T14:35:00+02:00"
         ],
         "y": [
          0.6671900000000002,
          0.6655800000000001
         ]
        },
        {
         "fill": "tozeroy",
         "fillcolor": "red",
         "line": {
          "color": "red",
          "width": 0.5
         },
         "mode": "lines",
         "name": "BearSteepener",
         "opacity": 0.4,
         "showlegend": false,
         "type": "scatter",
         "x": [
          "2025-08-18T14:35:00+02:00",
          "2025-08-18T14:40:00+02:00"
         ],
         "y": [
          0.6655800000000001,
          0.6627400000000001
         ]
        },
        {
         "fill": "tozeroy",
         "fillcolor": "red",
         "line": {
          "color": "red",
          "width": 0.5
         },
         "mode": "lines",
         "name": "BearSteepener",
         "opacity": 0.4,
         "showlegend": false,
         "type": "scatter",
         "x": [
          "2025-08-18T14:40:00+02:00",
          "2025-08-18T14:45:00+02:00"
         ],
         "y": [
          0.6627400000000001,
          0.6602900000000003
         ]
        },
        {
         "fill": "tozeroy",
         "fillcolor": "red",
         "line": {
          "color": "red",
          "width": 0.5
         },
         "mode": "lines",
         "name": "BearSteepener",
         "opacity": 0.4,
         "showlegend": false,
         "type": "scatter",
         "x": [
          "2025-08-18T14:45:00+02:00",
          "2025-08-18T14:50:00+02:00"
         ],
         "y": [
          0.6602900000000003,
          0.6598700000000002
         ]
        },
        {
         "fill": "tozeroy",
         "fillcolor": "deepskyblue",
         "line": {
          "color": "deepskyblue",
          "width": 0.5
         },
         "mode": "lines",
         "name": "BullFlattener",
         "opacity": 0.4,
         "showlegend": false,
         "type": "scatter",
         "x": [
          "2025-08-18T14:50:00+02:00",
          "2025-08-18T14:55:00+02:00"
         ],
         "y": [
          0.6598700000000002,
          0.6579600000000001
         ]
        },
        {
         "fill": "tozeroy",
         "fillcolor": "deepskyblue",
         "line": {
          "color": "deepskyblue",
          "width": 0.5
         },
         "mode": "lines",
         "name": "BullFlattener",
         "opacity": 0.4,
         "showlegend": false,
         "type": "scatter",
         "x": [
          "2025-08-18T14:55:00+02:00",
          "2025-08-18T15:00:00+02:00"
         ],
         "y": [
          0.6579600000000001,
          0.6591900000000002
         ]
        },
        {
         "fill": "tozeroy",
         "fillcolor": "violet",
         "line": {
          "color": "violet",
          "width": 0.5
         },
         "mode": "lines",
         "name": "TwistFlattener",
         "opacity": 0.4,
         "showlegend": false,
         "type": "scatter",
         "x": [
          "2025-08-18T15:00:00+02:00",
          "2025-08-18T15:05:00+02:00"
         ],
         "y": [
          0.6591900000000002,
          0.6619899999999999
         ]
        },
        {
         "fill": "tozeroy",
         "fillcolor": "red",
         "line": {
          "color": "red",
          "width": 0.5
         },
         "mode": "lines",
         "name": "BearSteepener",
         "opacity": 0.4,
         "showlegend": false,
         "type": "scatter",
         "x": [
          "2025-08-18T15:05:00+02:00",
          "2025-08-18T15:10:00+02:00"
         ],
         "y": [
          0.6619899999999999,
          0.6661600000000001
         ]
        },
        {
         "fill": "tozeroy",
         "fillcolor": "red",
         "line": {
          "color": "red",
          "width": 0.5
         },
         "mode": "lines",
         "name": "BearSteepener",
         "opacity": 0.4,
         "showlegend": false,
         "type": "scatter",
         "x": [
          "2025-08-18T15:10:00+02:00",
          "2025-08-18T15:15:00+02:00"
         ],
         "y": [
          0.6661600000000001,
          0.6648499999999999
         ]
        },
        {
         "fill": "tozeroy",
         "fillcolor": "red",
         "line": {
          "color": "red",
          "width": 0.5
         },
         "mode": "lines",
         "name": "BearSteepener",
         "opacity": 0.4,
         "showlegend": false,
         "type": "scatter",
         "x": [
          "2025-08-18T15:15:00+02:00",
          "2025-08-18T15:20:00+02:00"
         ],
         "y": [
          0.6648499999999999,
          0.66737
         ]
        },
        {
         "fill": "tozeroy",
         "fillcolor": "red",
         "line": {
          "color": "red",
          "width": 0.5
         },
         "mode": "lines",
         "name": "BearSteepener",
         "opacity": 0.4,
         "showlegend": false,
         "type": "scatter",
         "x": [
          "2025-08-18T15:20:00+02:00",
          "2025-08-18T15:25:00+02:00"
         ],
         "y": [
          0.66737,
          0.6671899999999997
         ]
        },
        {
         "fill": "tozeroy",
         "fillcolor": "red",
         "line": {
          "color": "red",
          "width": 0.5
         },
         "mode": "lines",
         "name": "BearSteepener",
         "opacity": 0.4,
         "showlegend": false,
         "type": "scatter",
         "x": [
          "2025-08-18T15:25:00+02:00",
          "2025-08-18T15:30:00+02:00"
         ],
         "y": [
          0.6671899999999997,
          0.6669700000000003
         ]
        },
        {
         "fill": "tozeroy",
         "fillcolor": "red",
         "line": {
          "color": "red",
          "width": 0.5
         },
         "mode": "lines",
         "name": "BearSteepener",
         "opacity": 0.4,
         "showlegend": false,
         "type": "scatter",
         "x": [
          "2025-08-18T15:30:00+02:00",
          "2025-08-18T15:35:00+02:00"
         ],
         "y": [
          0.6669700000000003,
          0.66551
         ]
        },
        {
         "fill": "tozeroy",
         "fillcolor": "violet",
         "line": {
          "color": "violet",
          "width": 0.5
         },
         "mode": "lines",
         "name": "TwistFlattener",
         "opacity": 0.4,
         "showlegend": false,
         "type": "scatter",
         "x": [
          "2025-08-18T15:35:00+02:00",
          "2025-08-18T15:40:00+02:00"
         ],
         "y": [
          0.66551,
          0.6629000000000003
         ]
        },
        {
         "fill": "tozeroy",
         "fillcolor": "deepskyblue",
         "line": {
          "color": "deepskyblue",
          "width": 0.5
         },
         "mode": "lines",
         "name": "BullFlattener",
         "opacity": 0.4,
         "showlegend": false,
         "type": "scatter",
         "x": [
          "2025-08-18T15:40:00+02:00",
          "2025-08-18T15:45:00+02:00"
         ],
         "y": [
          0.6629000000000003,
          0.6637000000000002
         ]
        },
        {
         "fill": "tozeroy",
         "fillcolor": "deepskyblue",
         "line": {
          "color": "deepskyblue",
          "width": 0.5
         },
         "mode": "lines",
         "name": "BullFlattener",
         "opacity": 0.4,
         "showlegend": false,
         "type": "scatter",
         "x": [
          "2025-08-18T15:45:00+02:00",
          "2025-08-18T15:50:00+02:00"
         ],
         "y": [
          0.6637000000000002,
          0.6652099999999999
         ]
        },
        {
         "fill": "tozeroy",
         "fillcolor": "deepskyblue",
         "line": {
          "color": "deepskyblue",
          "width": 0.5
         },
         "mode": "lines",
         "name": "BullFlattener",
         "opacity": 0.4,
         "showlegend": false,
         "type": "scatter",
         "x": [
          "2025-08-18T15:50:00+02:00",
          "2025-08-18T15:55:00+02:00"
         ],
         "y": [
          0.6652099999999999,
          0.6655900000000001
         ]
        },
        {
         "fill": "tozeroy",
         "fillcolor": "green",
         "line": {
          "color": "green",
          "width": 0.5
         },
         "mode": "lines",
         "name": "BullSteepener",
         "opacity": 0.4,
         "showlegend": false,
         "type": "scatter",
         "x": [
          "2025-08-18T15:55:00+02:00",
          "2025-08-18T16:00:00+02:00"
         ],
         "y": [
          0.6655900000000001,
          0.6671399999999998
         ]
        },
        {
         "fill": "tozeroy",
         "fillcolor": "green",
         "line": {
          "color": "green",
          "width": 0.5
         },
         "mode": "lines",
         "name": "BullSteepener",
         "opacity": 0.4,
         "showlegend": false,
         "type": "scatter",
         "x": [
          "2025-08-18T16:00:00+02:00",
          "2025-08-18T16:05:00+02:00"
         ],
         "y": [
          0.6671399999999998,
          0.6669
         ]
        },
        {
         "fill": "tozeroy",
         "fillcolor": "gold",
         "line": {
          "color": "gold",
          "width": 0.5
         },
         "mode": "lines",
         "name": "TwistSteepener",
         "opacity": 0.4,
         "showlegend": false,
         "type": "scatter",
         "x": [
          "2025-08-18T16:05:00+02:00",
          "2025-08-18T16:10:00+02:00"
         ],
         "y": [
          0.6669,
          0.6683999999999999
         ]
        },
        {
         "fill": "tozeroy",
         "fillcolor": "red",
         "line": {
          "color": "red",
          "width": 0.5
         },
         "mode": "lines",
         "name": "BearSteepener",
         "opacity": 0.4,
         "showlegend": false,
         "type": "scatter",
         "x": [
          "2025-08-18T16:10:00+02:00",
          "2025-08-18T16:15:00+02:00"
         ],
         "y": [
          0.6683999999999999,
          0.6708799999999999
         ]
        },
        {
         "fill": "tozeroy",
         "fillcolor": "red",
         "line": {
          "color": "red",
          "width": 0.5
         },
         "mode": "lines",
         "name": "BearSteepener",
         "opacity": 0.4,
         "showlegend": false,
         "type": "scatter",
         "x": [
          "2025-08-18T16:15:00+02:00",
          "2025-08-18T16:20:00+02:00"
         ],
         "y": [
          0.6708799999999999,
          0.6715500000000001
         ]
        },
        {
         "fill": "tozeroy",
         "fillcolor": "red",
         "line": {
          "color": "red",
          "width": 0.5
         },
         "mode": "lines",
         "name": "BearSteepener",
         "opacity": 0.4,
         "showlegend": false,
         "type": "scatter",
         "x": [
          "2025-08-18T16:20:00+02:00",
          "2025-08-18T16:25:00+02:00"
         ],
         "y": [
          0.6715500000000001,
          0.6679599999999999
         ]
        },
        {
         "fill": "tozeroy",
         "fillcolor": "red",
         "line": {
          "color": "red",
          "width": 0.5
         },
         "mode": "lines",
         "name": "BearSteepener",
         "opacity": 0.4,
         "showlegend": false,
         "type": "scatter",
         "x": [
          "2025-08-18T16:25:00+02:00",
          "2025-08-18T16:30:00+02:00"
         ],
         "y": [
          0.6679599999999999,
          0.6683200000000002
         ]
        },
        {
         "fill": "tozeroy",
         "fillcolor": "red",
         "line": {
          "color": "red",
          "width": 0.5
         },
         "mode": "lines",
         "name": "BearSteepener",
         "opacity": 0.4,
         "showlegend": false,
         "type": "scatter",
         "x": [
          "2025-08-18T16:30:00+02:00",
          "2025-08-18T16:35:00+02:00"
         ],
         "y": [
          0.6683200000000002,
          0.66784
         ]
        },
        {
         "fill": "tozeroy",
         "fillcolor": "red",
         "line": {
          "color": "red",
          "width": 0.5
         },
         "mode": "lines",
         "name": "BearSteepener",
         "opacity": 0.4,
         "showlegend": false,
         "type": "scatter",
         "x": [
          "2025-08-18T16:35:00+02:00",
          "2025-08-18T16:40:00+02:00"
         ],
         "y": [
          0.66784,
          0.6708200000000002
         ]
        },
        {
         "fill": "tozeroy",
         "fillcolor": "red",
         "line": {
          "color": "red",
          "width": 0.5
         },
         "mode": "lines",
         "name": "BearSteepener",
         "opacity": 0.4,
         "showlegend": false,
         "type": "scatter",
         "x": [
          "2025-08-18T16:40:00+02:00",
          "2025-08-18T16:45:00+02:00"
         ],
         "y": [
          0.6708200000000002,
          0.6710200000000002
         ]
        },
        {
         "fill": "tozeroy",
         "fillcolor": "orange",
         "line": {
          "color": "orange",
          "width": 0.5
         },
         "mode": "lines",
         "name": "BearFlattener",
         "opacity": 0.4,
         "showlegend": false,
         "type": "scatter",
         "x": [
          "2025-08-18T16:45:00+02:00",
          "2025-08-18T16:50:00+02:00"
         ],
         "y": [
          0.6710200000000002,
          0.66841
         ]
        },
        {
         "fill": "tozeroy",
         "fillcolor": "green",
         "line": {
          "color": "green",
          "width": 0.5
         },
         "mode": "lines",
         "name": "BullSteepener",
         "opacity": 0.4,
         "showlegend": false,
         "type": "scatter",
         "x": [
          "2025-08-18T16:50:00+02:00",
          "2025-08-18T16:55:00+02:00"
         ],
         "y": [
          0.66841,
          0.6699399999999998
         ]
        },
        {
         "fill": "tozeroy",
         "fillcolor": "gold",
         "line": {
          "color": "gold",
          "width": 0.5
         },
         "mode": "lines",
         "name": "TwistSteepener",
         "opacity": 0.4,
         "showlegend": false,
         "type": "scatter",
         "x": [
          "2025-08-18T16:55:00+02:00",
          "2025-08-18T17:00:00+02:00"
         ],
         "y": [
          0.6699399999999998,
          0.6705600000000003
         ]
        },
        {
         "fill": "tozeroy",
         "fillcolor": "green",
         "line": {
          "color": "green",
          "width": 0.5
         },
         "mode": "lines",
         "name": "BullSteepener",
         "opacity": 0.4,
         "showlegend": false,
         "type": "scatter",
         "x": [
          "2025-08-18T17:00:00+02:00",
          "2025-08-18T17:05:00+02:00"
         ],
         "y": [
          0.6705600000000003,
          0.66841
         ]
        },
        {
         "fill": "tozeroy",
         "fillcolor": "deepskyblue",
         "line": {
          "color": "deepskyblue",
          "width": 0.5
         },
         "mode": "lines",
         "name": "BullFlattener",
         "opacity": 0.4,
         "showlegend": false,
         "type": "scatter",
         "x": [
          "2025-08-18T17:05:00+02:00",
          "2025-08-18T17:10:00+02:00"
         ],
         "y": [
          0.66841,
          0.6702800000000002
         ]
        },
        {
         "fill": "tozeroy",
         "fillcolor": "green",
         "line": {
          "color": "green",
          "width": 0.5
         },
         "mode": "lines",
         "name": "BullSteepener",
         "opacity": 0.4,
         "showlegend": false,
         "type": "scatter",
         "x": [
          "2025-08-18T17:10:00+02:00",
          "2025-08-18T17:15:00+02:00"
         ],
         "y": [
          0.6702800000000002,
          0.6710399999999999
         ]
        },
        {
         "fill": "tozeroy",
         "fillcolor": "green",
         "line": {
          "color": "green",
          "width": 0.5
         },
         "mode": "lines",
         "name": "BullSteepener",
         "opacity": 0.4,
         "showlegend": false,
         "type": "scatter",
         "x": [
          "2025-08-18T17:15:00+02:00",
          "2025-08-18T17:20:00+02:00"
         ],
         "y": [
          0.6710399999999999,
          0.6700800000000002
         ]
        },
        {
         "fill": "tozeroy",
         "fillcolor": "red",
         "line": {
          "color": "red",
          "width": 0.5
         },
         "mode": "lines",
         "name": "BearSteepener",
         "opacity": 0.4,
         "showlegend": false,
         "type": "scatter",
         "x": [
          "2025-08-18T17:20:00+02:00",
          "2025-08-18T17:25:00+02:00"
         ],
         "y": [
          0.6700800000000002,
          0.6713000000000002
         ]
        },
        {
         "fill": "tozeroy",
         "fillcolor": "red",
         "line": {
          "color": "red",
          "width": 0.5
         },
         "mode": "lines",
         "name": "BearSteepener",
         "opacity": 0.4,
         "showlegend": false,
         "type": "scatter",
         "x": [
          "2025-08-18T17:25:00+02:00",
          "2025-08-18T17:30:00+02:00"
         ],
         "y": [
          0.6713000000000002,
          0.6710400000000001
         ]
        },
        {
         "fill": "tozeroy",
         "fillcolor": "green",
         "line": {
          "color": "green",
          "width": 0.5
         },
         "mode": "lines",
         "name": "BullSteepener",
         "opacity": 0.4,
         "showlegend": false,
         "type": "scatter",
         "x": [
          "2025-08-18T17:30:00+02:00",
          "2025-08-18T17:35:00+02:00"
         ],
         "y": [
          0.6710400000000001,
          0.6690699999999998
         ]
        },
        {
         "fill": "tozeroy",
         "fillcolor": "violet",
         "line": {
          "color": "violet",
          "width": 0.5
         },
         "mode": "lines",
         "name": "TwistFlattener",
         "opacity": 0.4,
         "showlegend": false,
         "type": "scatter",
         "x": [
          "2025-08-18T17:35:00+02:00",
          "2025-08-18T17:40:00+02:00"
         ],
         "y": [
          0.6690699999999998,
          0.66405
         ]
        },
        {
         "fill": "tozeroy",
         "fillcolor": "deepskyblue",
         "line": {
          "color": "deepskyblue",
          "width": 0.5
         },
         "mode": "lines",
         "name": "BullFlattener",
         "opacity": 0.4,
         "showlegend": false,
         "type": "scatter",
         "x": [
          "2025-08-18T17:40:00+02:00",
          "2025-08-18T17:45:00+02:00"
         ],
         "y": [
          0.66405,
          0.66058
         ]
        },
        {
         "fill": "tozeroy",
         "fillcolor": "deepskyblue",
         "line": {
          "color": "deepskyblue",
          "width": 0.5
         },
         "mode": "lines",
         "name": "BullFlattener",
         "opacity": 0.4,
         "showlegend": false,
         "type": "scatter",
         "x": [
          "2025-08-18T17:45:00+02:00",
          "2025-08-18T17:50:00+02:00"
         ],
         "y": [
          0.66058,
          0.6650800000000001
         ]
        },
        {
         "fill": "tozeroy",
         "fillcolor": "deepskyblue",
         "line": {
          "color": "deepskyblue",
          "width": 0.5
         },
         "mode": "lines",
         "name": "BullFlattener",
         "opacity": 0.4,
         "showlegend": false,
         "type": "scatter",
         "x": [
          "2025-08-18T17:50:00+02:00",
          "2025-08-18T17:55:00+02:00"
         ],
         "y": [
          0.6650800000000001,
          0.6644800000000002
         ]
        },
        {
         "fill": "tozeroy",
         "fillcolor": "deepskyblue",
         "line": {
          "color": "deepskyblue",
          "width": 0.5
         },
         "mode": "lines",
         "name": "BullFlattener",
         "opacity": 0.4,
         "showlegend": false,
         "type": "scatter",
         "x": [
          "2025-08-18T17:55:00+02:00",
          "2025-08-18T18:00:00+02:00"
         ],
         "y": [
          0.6644800000000002,
          0.66655
         ]
        },
        {
         "fill": "tozeroy",
         "fillcolor": "deepskyblue",
         "line": {
          "color": "deepskyblue",
          "width": 0.5
         },
         "mode": "lines",
         "name": "BullFlattener",
         "opacity": 0.4,
         "showlegend": false,
         "type": "scatter",
         "x": [
          "2025-08-18T18:00:00+02:00",
          "2025-08-18T18:05:00+02:00"
         ],
         "y": [
          0.66655,
          0.6653900000000001
         ]
        },
        {
         "fill": "tozeroy",
         "fillcolor": "green",
         "line": {
          "color": "green",
          "width": 0.5
         },
         "mode": "lines",
         "name": "BullSteepener",
         "opacity": 0.4,
         "showlegend": false,
         "type": "scatter",
         "x": [
          "2025-08-18T18:05:00+02:00",
          "2025-08-18T18:10:00+02:00"
         ],
         "y": [
          0.6653900000000001,
          0.6648900000000002
         ]
        },
        {
         "fill": "tozeroy",
         "fillcolor": "gold",
         "line": {
          "color": "gold",
          "width": 0.5
         },
         "mode": "lines",
         "name": "TwistSteepener",
         "opacity": 0.4,
         "showlegend": false,
         "type": "scatter",
         "x": [
          "2025-08-18T18:10:00+02:00",
          "2025-08-18T18:15:00+02:00"
         ],
         "y": [
          0.6648900000000002,
          0.6644899999999998
         ]
        },
        {
         "fill": "tozeroy",
         "fillcolor": "deepskyblue",
         "line": {
          "color": "deepskyblue",
          "width": 0.5
         },
         "mode": "lines",
         "name": "BullFlattener",
         "opacity": 0.4,
         "showlegend": false,
         "type": "scatter",
         "x": [
          "2025-08-18T18:15:00+02:00",
          "2025-08-18T18:20:00+02:00"
         ],
         "y": [
          0.6644899999999998,
          0.6646899999999998
         ]
        },
        {
         "fill": "tozeroy",
         "fillcolor": "green",
         "line": {
          "color": "green",
          "width": 0.5
         },
         "mode": "lines",
         "name": "BullSteepener",
         "opacity": 0.4,
         "showlegend": false,
         "type": "scatter",
         "x": [
          "2025-08-18T18:20:00+02:00",
          "2025-08-18T18:25:00+02:00"
         ],
         "y": [
          0.6646899999999998,
          0.6650800000000001
         ]
        },
        {
         "fill": "tozeroy",
         "fillcolor": "deepskyblue",
         "line": {
          "color": "deepskyblue",
          "width": 0.5
         },
         "mode": "lines",
         "name": "BullFlattener",
         "opacity": 0.4,
         "showlegend": false,
         "type": "scatter",
         "x": [
          "2025-08-18T18:25:00+02:00",
          "2025-08-18T18:30:00+02:00"
         ],
         "y": [
          0.6650800000000001,
          0.6637200000000001
         ]
        },
        {
         "fill": "tozeroy",
         "fillcolor": "deepskyblue",
         "line": {
          "color": "deepskyblue",
          "width": 0.5
         },
         "mode": "lines",
         "name": "BullFlattener",
         "opacity": 0.4,
         "showlegend": false,
         "type": "scatter",
         "x": [
          "2025-08-18T18:30:00+02:00",
          "2025-08-18T18:35:00+02:00"
         ],
         "y": [
          0.6637200000000001,
          0.6638399999999998
         ]
        },
        {
         "fill": "tozeroy",
         "fillcolor": "red",
         "line": {
          "color": "red",
          "width": 0.5
         },
         "mode": "lines",
         "name": "BearSteepener",
         "opacity": 0.4,
         "showlegend": false,
         "type": "scatter",
         "x": [
          "2025-08-18T18:35:00+02:00",
          "2025-08-19T08:00:00+02:00"
         ],
         "y": [
          0.6638399999999998,
          0.66954
         ]
        },
        {
         "fill": "tozeroy",
         "fillcolor": "red",
         "line": {
          "color": "red",
          "width": 0.5
         },
         "mode": "lines",
         "name": "BearSteepener",
         "opacity": 0.4,
         "showlegend": false,
         "type": "scatter",
         "x": [
          "2025-08-19T08:00:00+02:00",
          "2025-08-19T08:05:00+02:00"
         ],
         "y": [
          0.66954,
          0.6732100000000001
         ]
        },
        {
         "fill": "tozeroy",
         "fillcolor": "red",
         "line": {
          "color": "red",
          "width": 0.5
         },
         "mode": "lines",
         "name": "BearSteepener",
         "opacity": 0.4,
         "showlegend": false,
         "type": "scatter",
         "x": [
          "2025-08-19T08:05:00+02:00",
          "2025-08-19T08:10:00+02:00"
         ],
         "y": [
          0.6732100000000001,
          0.6708700000000001
         ]
        },
        {
         "fill": "tozeroy",
         "fillcolor": "red",
         "line": {
          "color": "red",
          "width": 0.5
         },
         "mode": "lines",
         "name": "BearSteepener",
         "opacity": 0.4,
         "showlegend": false,
         "type": "scatter",
         "x": [
          "2025-08-19T08:10:00+02:00",
          "2025-08-19T08:15:00+02:00"
         ],
         "y": [
          0.6708700000000001,
          0.6693499999999999
         ]
        },
        {
         "fill": "tozeroy",
         "fillcolor": "red",
         "line": {
          "color": "red",
          "width": 0.5
         },
         "mode": "lines",
         "name": "BearSteepener",
         "opacity": 0.4,
         "showlegend": false,
         "type": "scatter",
         "x": [
          "2025-08-19T08:15:00+02:00",
          "2025-08-19T08:20:00+02:00"
         ],
         "y": [
          0.6693499999999999,
          0.6719299999999999
         ]
        },
        {
         "fill": "tozeroy",
         "fillcolor": "red",
         "line": {
          "color": "red",
          "width": 0.5
         },
         "mode": "lines",
         "name": "BearSteepener",
         "opacity": 0.4,
         "showlegend": false,
         "type": "scatter",
         "x": [
          "2025-08-19T08:20:00+02:00",
          "2025-08-19T08:25:00+02:00"
         ],
         "y": [
          0.6719299999999999,
          0.6734
         ]
        },
        {
         "fill": "tozeroy",
         "fillcolor": "gold",
         "line": {
          "color": "gold",
          "width": 0.5
         },
         "mode": "lines",
         "name": "TwistSteepener",
         "opacity": 0.4,
         "showlegend": false,
         "type": "scatter",
         "x": [
          "2025-08-19T08:25:00+02:00",
          "2025-08-19T08:30:00+02:00"
         ],
         "y": [
          0.6734,
          0.6726800000000002
         ]
        },
        {
         "fill": "tozeroy",
         "fillcolor": "deepskyblue",
         "line": {
          "color": "deepskyblue",
          "width": 0.5
         },
         "mode": "lines",
         "name": "BullFlattener",
         "opacity": 0.4,
         "showlegend": false,
         "type": "scatter",
         "x": [
          "2025-08-19T08:30:00+02:00",
          "2025-08-19T08:35:00+02:00"
         ],
         "y": [
          0.6726800000000002,
          0.6729399999999999
         ]
        },
        {
         "fill": "tozeroy",
         "fillcolor": "gold",
         "line": {
          "color": "gold",
          "width": 0.5
         },
         "mode": "lines",
         "name": "TwistSteepener",
         "opacity": 0.4,
         "showlegend": false,
         "type": "scatter",
         "x": [
          "2025-08-19T08:35:00+02:00",
          "2025-08-19T08:40:00+02:00"
         ],
         "y": [
          0.6729399999999999,
          0.6726299999999998
         ]
        },
        {
         "fill": "tozeroy",
         "fillcolor": "gold",
         "line": {
          "color": "gold",
          "width": 0.5
         },
         "mode": "lines",
         "name": "TwistSteepener",
         "opacity": 0.4,
         "showlegend": false,
         "type": "scatter",
         "x": [
          "2025-08-19T08:40:00+02:00",
          "2025-08-19T08:45:00+02:00"
         ],
         "y": [
          0.6726299999999998,
          0.6733500000000001
         ]
        },
        {
         "fill": "tozeroy",
         "fillcolor": "gold",
         "line": {
          "color": "gold",
          "width": 0.5
         },
         "mode": "lines",
         "name": "TwistSteepener",
         "opacity": 0.4,
         "showlegend": false,
         "type": "scatter",
         "x": [
          "2025-08-19T08:45:00+02:00",
          "2025-08-19T08:50:00+02:00"
         ],
         "y": [
          0.6733500000000001,
          0.6752800000000001
         ]
        },
        {
         "fill": "tozeroy",
         "fillcolor": "violet",
         "line": {
          "color": "violet",
          "width": 0.5
         },
         "mode": "lines",
         "name": "TwistFlattener",
         "opacity": 0.4,
         "showlegend": false,
         "type": "scatter",
         "x": [
          "2025-08-19T08:50:00+02:00",
          "2025-08-19T08:55:00+02:00"
         ],
         "y": [
          0.6752800000000001,
          0.6721700000000002
         ]
        },
        {
         "fill": "tozeroy",
         "fillcolor": "gold",
         "line": {
          "color": "gold",
          "width": 0.5
         },
         "mode": "lines",
         "name": "TwistSteepener",
         "opacity": 0.4,
         "showlegend": false,
         "type": "scatter",
         "x": [
          "2025-08-19T08:55:00+02:00",
          "2025-08-19T09:00:00+02:00"
         ],
         "y": [
          0.6721700000000002,
          0.6742699999999999
         ]
        },
        {
         "fill": "tozeroy",
         "fillcolor": "gold",
         "line": {
          "color": "gold",
          "width": 0.5
         },
         "mode": "lines",
         "name": "TwistSteepener",
         "opacity": 0.4,
         "showlegend": false,
         "type": "scatter",
         "x": [
          "2025-08-19T09:00:00+02:00",
          "2025-08-19T09:05:00+02:00"
         ],
         "y": [
          0.6742699999999999,
          0.67526
         ]
        },
        {
         "fill": "tozeroy",
         "fillcolor": "deepskyblue",
         "line": {
          "color": "deepskyblue",
          "width": 0.5
         },
         "mode": "lines",
         "name": "BullFlattener",
         "opacity": 0.4,
         "showlegend": false,
         "type": "scatter",
         "x": [
          "2025-08-19T09:05:00+02:00",
          "2025-08-19T09:10:00+02:00"
         ],
         "y": [
          0.67526,
          0.67259
         ]
        },
        {
         "fill": "tozeroy",
         "fillcolor": "deepskyblue",
         "line": {
          "color": "deepskyblue",
          "width": 0.5
         },
         "mode": "lines",
         "name": "BullFlattener",
         "opacity": 0.4,
         "showlegend": false,
         "type": "scatter",
         "x": [
          "2025-08-19T09:10:00+02:00",
          "2025-08-19T09:15:00+02:00"
         ],
         "y": [
          0.67259,
          0.6673699999999998
         ]
        },
        {
         "fill": "tozeroy",
         "fillcolor": "deepskyblue",
         "line": {
          "color": "deepskyblue",
          "width": 0.5
         },
         "mode": "lines",
         "name": "BullFlattener",
         "opacity": 0.4,
         "showlegend": false,
         "type": "scatter",
         "x": [
          "2025-08-19T09:15:00+02:00",
          "2025-08-19T09:20:00+02:00"
         ],
         "y": [
          0.6673699999999998,
          0.66784
         ]
        },
        {
         "fill": "tozeroy",
         "fillcolor": "deepskyblue",
         "line": {
          "color": "deepskyblue",
          "width": 0.5
         },
         "mode": "lines",
         "name": "BullFlattener",
         "opacity": 0.4,
         "showlegend": false,
         "type": "scatter",
         "x": [
          "2025-08-19T09:20:00+02:00",
          "2025-08-19T09:25:00+02:00"
         ],
         "y": [
          0.66784,
          0.67072
         ]
        },
        {
         "fill": "tozeroy",
         "fillcolor": "deepskyblue",
         "line": {
          "color": "deepskyblue",
          "width": 0.5
         },
         "mode": "lines",
         "name": "BullFlattener",
         "opacity": 0.4,
         "showlegend": false,
         "type": "scatter",
         "x": [
          "2025-08-19T09:25:00+02:00",
          "2025-08-19T09:30:00+02:00"
         ],
         "y": [
          0.67072,
          0.67252
         ]
        },
        {
         "fill": "tozeroy",
         "fillcolor": "deepskyblue",
         "line": {
          "color": "deepskyblue",
          "width": 0.5
         },
         "mode": "lines",
         "name": "BullFlattener",
         "opacity": 0.4,
         "showlegend": false,
         "type": "scatter",
         "x": [
          "2025-08-19T09:30:00+02:00",
          "2025-08-19T09:35:00+02:00"
         ],
         "y": [
          0.67252,
          0.6697599999999999
         ]
        },
        {
         "fill": "tozeroy",
         "fillcolor": "orange",
         "line": {
          "color": "orange",
          "width": 0.5
         },
         "mode": "lines",
         "name": "BearFlattener",
         "opacity": 0.4,
         "showlegend": false,
         "type": "scatter",
         "x": [
          "2025-08-19T09:35:00+02:00",
          "2025-08-19T09:40:00+02:00"
         ],
         "y": [
          0.6697599999999999,
          0.67058
         ]
        },
        {
         "fill": "tozeroy",
         "fillcolor": "red",
         "line": {
          "color": "red",
          "width": 0.5
         },
         "mode": "lines",
         "name": "BearSteepener",
         "opacity": 0.4,
         "showlegend": false,
         "type": "scatter",
         "x": [
          "2025-08-19T09:40:00+02:00",
          "2025-08-19T09:45:00+02:00"
         ],
         "y": [
          0.67058,
          0.6738799999999998
         ]
        },
        {
         "fill": "tozeroy",
         "fillcolor": "red",
         "line": {
          "color": "red",
          "width": 0.5
         },
         "mode": "lines",
         "name": "BearSteepener",
         "opacity": 0.4,
         "showlegend": false,
         "type": "scatter",
         "x": [
          "2025-08-19T09:45:00+02:00",
          "2025-08-19T09:50:00+02:00"
         ],
         "y": [
          0.6738799999999998,
          0.6754399999999998
         ]
        },
        {
         "fill": "tozeroy",
         "fillcolor": "red",
         "line": {
          "color": "red",
          "width": 0.5
         },
         "mode": "lines",
         "name": "BearSteepener",
         "opacity": 0.4,
         "showlegend": false,
         "type": "scatter",
         "x": [
          "2025-08-19T09:50:00+02:00",
          "2025-08-19T09:55:00+02:00"
         ],
         "y": [
          0.6754399999999998,
          0.6730599999999998
         ]
        },
        {
         "fill": "tozeroy",
         "fillcolor": "orange",
         "line": {
          "color": "orange",
          "width": 0.5
         },
         "mode": "lines",
         "name": "BearFlattener",
         "opacity": 0.4,
         "showlegend": false,
         "type": "scatter",
         "x": [
          "2025-08-19T09:55:00+02:00",
          "2025-08-19T10:00:00+02:00"
         ],
         "y": [
          0.6730599999999998,
          0.6704899999999998
         ]
        },
        {
         "fill": "tozeroy",
         "fillcolor": "red",
         "line": {
          "color": "red",
          "width": 0.5
         },
         "mode": "lines",
         "name": "BearSteepener",
         "opacity": 0.4,
         "showlegend": false,
         "type": "scatter",
         "x": [
          "2025-08-19T10:00:00+02:00",
          "2025-08-19T10:05:00+02:00"
         ],
         "y": [
          0.6704899999999998,
          0.6713500000000001
         ]
        },
        {
         "fill": "tozeroy",
         "fillcolor": "red",
         "line": {
          "color": "red",
          "width": 0.5
         },
         "mode": "lines",
         "name": "BearSteepener",
         "opacity": 0.4,
         "showlegend": false,
         "type": "scatter",
         "x": [
          "2025-08-19T10:05:00+02:00",
          "2025-08-19T10:10:00+02:00"
         ],
         "y": [
          0.6713500000000001,
          0.6706799999999999
         ]
        },
        {
         "fill": "tozeroy",
         "fillcolor": "violet",
         "line": {
          "color": "violet",
          "width": 0.5
         },
         "mode": "lines",
         "name": "TwistFlattener",
         "opacity": 0.4,
         "showlegend": false,
         "type": "scatter",
         "x": [
          "2025-08-19T10:10:00+02:00",
          "2025-08-19T10:15:00+02:00"
         ],
         "y": [
          0.6706799999999999,
          0.67116
         ]
        },
        {
         "fill": "tozeroy",
         "fillcolor": "violet",
         "line": {
          "color": "violet",
          "width": 0.5
         },
         "mode": "lines",
         "name": "TwistFlattener",
         "opacity": 0.4,
         "showlegend": false,
         "type": "scatter",
         "x": [
          "2025-08-19T10:15:00+02:00",
          "2025-08-19T10:20:00+02:00"
         ],
         "y": [
          0.67116,
          0.6679999999999999
         ]
        },
        {
         "fill": "tozeroy",
         "fillcolor": "deepskyblue",
         "line": {
          "color": "deepskyblue",
          "width": 0.5
         },
         "mode": "lines",
         "name": "BullFlattener",
         "opacity": 0.4,
         "showlegend": false,
         "type": "scatter",
         "x": [
          "2025-08-19T10:20:00+02:00",
          "2025-08-19T10:25:00+02:00"
         ],
         "y": [
          0.6679999999999999,
          0.6665899999999998
         ]
        },
        {
         "fill": "tozeroy",
         "fillcolor": "deepskyblue",
         "line": {
          "color": "deepskyblue",
          "width": 0.5
         },
         "mode": "lines",
         "name": "BullFlattener",
         "opacity": 0.4,
         "showlegend": false,
         "type": "scatter",
         "x": [
          "2025-08-19T10:25:00+02:00",
          "2025-08-19T10:30:00+02:00"
         ],
         "y": [
          0.6665899999999998,
          0.6698200000000001
         ]
        },
        {
         "fill": "tozeroy",
         "fillcolor": "deepskyblue",
         "line": {
          "color": "deepskyblue",
          "width": 0.5
         },
         "mode": "lines",
         "name": "BullFlattener",
         "opacity": 0.4,
         "showlegend": false,
         "type": "scatter",
         "x": [
          "2025-08-19T10:30:00+02:00",
          "2025-08-19T10:35:00+02:00"
         ],
         "y": [
          0.6698200000000001,
          0.6698999999999999
         ]
        },
        {
         "fill": "tozeroy",
         "fillcolor": "deepskyblue",
         "line": {
          "color": "deepskyblue",
          "width": 0.5
         },
         "mode": "lines",
         "name": "BullFlattener",
         "opacity": 0.4,
         "showlegend": false,
         "type": "scatter",
         "x": [
          "2025-08-19T10:35:00+02:00",
          "2025-08-19T10:40:00+02:00"
         ],
         "y": [
          0.6698999999999999,
          0.6688099999999999
         ]
        },
        {
         "fill": "tozeroy",
         "fillcolor": "deepskyblue",
         "line": {
          "color": "deepskyblue",
          "width": 0.5
         },
         "mode": "lines",
         "name": "BullFlattener",
         "opacity": 0.4,
         "showlegend": false,
         "type": "scatter",
         "x": [
          "2025-08-19T10:40:00+02:00",
          "2025-08-19T10:45:00+02:00"
         ],
         "y": [
          0.6688099999999999,
          0.6664500000000002
         ]
        },
        {
         "fill": "tozeroy",
         "fillcolor": "gold",
         "line": {
          "color": "gold",
          "width": 0.5
         },
         "mode": "lines",
         "name": "TwistSteepener",
         "opacity": 0.4,
         "showlegend": false,
         "type": "scatter",
         "x": [
          "2025-08-19T10:45:00+02:00",
          "2025-08-19T10:50:00+02:00"
         ],
         "y": [
          0.6664500000000002,
          0.6703399999999999
         ]
        },
        {
         "fill": "tozeroy",
         "fillcolor": "red",
         "line": {
          "color": "red",
          "width": 0.5
         },
         "mode": "lines",
         "name": "BearSteepener",
         "opacity": 0.4,
         "showlegend": false,
         "type": "scatter",
         "x": [
          "2025-08-19T10:50:00+02:00",
          "2025-08-19T10:55:00+02:00"
         ],
         "y": [
          0.6703399999999999,
          0.6697099999999998
         ]
        },
        {
         "fill": "tozeroy",
         "fillcolor": "violet",
         "line": {
          "color": "violet",
          "width": 0.5
         },
         "mode": "lines",
         "name": "TwistFlattener",
         "opacity": 0.4,
         "showlegend": false,
         "type": "scatter",
         "x": [
          "2025-08-19T10:55:00+02:00",
          "2025-08-19T11:00:00+02:00"
         ],
         "y": [
          0.6697099999999998,
          0.6674700000000002
         ]
        },
        {
         "fill": "tozeroy",
         "fillcolor": "deepskyblue",
         "line": {
          "color": "deepskyblue",
          "width": 0.5
         },
         "mode": "lines",
         "name": "BullFlattener",
         "opacity": 0.4,
         "showlegend": false,
         "type": "scatter",
         "x": [
          "2025-08-19T11:00:00+02:00",
          "2025-08-19T11:05:00+02:00"
         ],
         "y": [
          0.6674700000000002,
          0.6665700000000001
         ]
        },
        {
         "fill": "tozeroy",
         "fillcolor": "violet",
         "line": {
          "color": "violet",
          "width": 0.5
         },
         "mode": "lines",
         "name": "TwistFlattener",
         "opacity": 0.4,
         "showlegend": false,
         "type": "scatter",
         "x": [
          "2025-08-19T11:05:00+02:00",
          "2025-08-19T11:10:00+02:00"
         ],
         "y": [
          0.6665700000000001,
          0.6660299999999999
         ]
        },
        {
         "fill": "tozeroy",
         "fillcolor": "violet",
         "line": {
          "color": "violet",
          "width": 0.5
         },
         "mode": "lines",
         "name": "TwistFlattener",
         "opacity": 0.4,
         "showlegend": false,
         "type": "scatter",
         "x": [
          "2025-08-19T11:10:00+02:00",
          "2025-08-19T11:15:00+02:00"
         ],
         "y": [
          0.6660299999999999,
          0.6637400000000002
         ]
        },
        {
         "fill": "tozeroy",
         "fillcolor": "deepskyblue",
         "line": {
          "color": "deepskyblue",
          "width": 0.5
         },
         "mode": "lines",
         "name": "BullFlattener",
         "opacity": 0.4,
         "showlegend": false,
         "type": "scatter",
         "x": [
          "2025-08-19T11:15:00+02:00",
          "2025-08-19T11:20:00+02:00"
         ],
         "y": [
          0.6637400000000002,
          0.6648399999999999
         ]
        },
        {
         "fill": "tozeroy",
         "fillcolor": "deepskyblue",
         "line": {
          "color": "deepskyblue",
          "width": 0.5
         },
         "mode": "lines",
         "name": "BullFlattener",
         "opacity": 0.4,
         "showlegend": false,
         "type": "scatter",
         "x": [
          "2025-08-19T11:20:00+02:00",
          "2025-08-19T11:25:00+02:00"
         ],
         "y": [
          0.6648399999999999,
          0.665
         ]
        },
        {
         "fill": "tozeroy",
         "fillcolor": "deepskyblue",
         "line": {
          "color": "deepskyblue",
          "width": 0.5
         },
         "mode": "lines",
         "name": "BullFlattener",
         "opacity": 0.4,
         "showlegend": false,
         "type": "scatter",
         "x": [
          "2025-08-19T11:25:00+02:00",
          "2025-08-19T11:30:00+02:00"
         ],
         "y": [
          0.665,
          0.6615599999999999
         ]
        },
        {
         "fill": "tozeroy",
         "fillcolor": "deepskyblue",
         "line": {
          "color": "deepskyblue",
          "width": 0.5
         },
         "mode": "lines",
         "name": "BullFlattener",
         "opacity": 0.4,
         "showlegend": false,
         "type": "scatter",
         "x": [
          "2025-08-19T11:30:00+02:00",
          "2025-08-19T11:35:00+02:00"
         ],
         "y": [
          0.6615599999999999,
          0.66218
         ]
        },
        {
         "fill": "tozeroy",
         "fillcolor": "deepskyblue",
         "line": {
          "color": "deepskyblue",
          "width": 0.5
         },
         "mode": "lines",
         "name": "BullFlattener",
         "opacity": 0.4,
         "showlegend": false,
         "type": "scatter",
         "x": [
          "2025-08-19T11:35:00+02:00",
          "2025-08-19T11:40:00+02:00"
         ],
         "y": [
          0.66218,
          0.66099
         ]
        },
        {
         "fill": "tozeroy",
         "fillcolor": "deepskyblue",
         "line": {
          "color": "deepskyblue",
          "width": 0.5
         },
         "mode": "lines",
         "name": "BullFlattener",
         "opacity": 0.4,
         "showlegend": false,
         "type": "scatter",
         "x": [
          "2025-08-19T11:40:00+02:00",
          "2025-08-19T11:45:00+02:00"
         ],
         "y": [
          0.66099,
          0.6595399999999998
         ]
        },
        {
         "fill": "tozeroy",
         "fillcolor": "deepskyblue",
         "line": {
          "color": "deepskyblue",
          "width": 0.5
         },
         "mode": "lines",
         "name": "BullFlattener",
         "opacity": 0.4,
         "showlegend": false,
         "type": "scatter",
         "x": [
          "2025-08-19T11:45:00+02:00",
          "2025-08-19T11:50:00+02:00"
         ],
         "y": [
          0.6595399999999998,
          0.6593399999999998
         ]
        },
        {
         "fill": "tozeroy",
         "fillcolor": "deepskyblue",
         "line": {
          "color": "deepskyblue",
          "width": 0.5
         },
         "mode": "lines",
         "name": "BullFlattener",
         "opacity": 0.4,
         "showlegend": false,
         "type": "scatter",
         "x": [
          "2025-08-19T11:50:00+02:00",
          "2025-08-19T11:55:00+02:00"
         ],
         "y": [
          0.6593399999999998,
          0.65811
         ]
        },
        {
         "fill": "tozeroy",
         "fillcolor": "deepskyblue",
         "line": {
          "color": "deepskyblue",
          "width": 0.5
         },
         "mode": "lines",
         "name": "BullFlattener",
         "opacity": 0.4,
         "showlegend": false,
         "type": "scatter",
         "x": [
          "2025-08-19T11:55:00+02:00",
          "2025-08-19T12:00:00+02:00"
         ],
         "y": [
          0.65811,
          0.6603100000000002
         ]
        },
        {
         "fill": "tozeroy",
         "fillcolor": "deepskyblue",
         "line": {
          "color": "deepskyblue",
          "width": 0.5
         },
         "mode": "lines",
         "name": "BullFlattener",
         "opacity": 0.4,
         "showlegend": false,
         "type": "scatter",
         "x": [
          "2025-08-19T12:00:00+02:00",
          "2025-08-19T12:05:00+02:00"
         ],
         "y": [
          0.6603100000000002,
          0.6594200000000001
         ]
        },
        {
         "fill": "tozeroy",
         "fillcolor": "deepskyblue",
         "line": {
          "color": "deepskyblue",
          "width": 0.5
         },
         "mode": "lines",
         "name": "BullFlattener",
         "opacity": 0.4,
         "showlegend": false,
         "type": "scatter",
         "x": [
          "2025-08-19T12:05:00+02:00",
          "2025-08-19T12:10:00+02:00"
         ],
         "y": [
          0.6594200000000001,
          0.6588799999999999
         ]
        },
        {
         "fill": "tozeroy",
         "fillcolor": "deepskyblue",
         "line": {
          "color": "deepskyblue",
          "width": 0.5
         },
         "mode": "lines",
         "name": "BullFlattener",
         "opacity": 0.4,
         "showlegend": false,
         "type": "scatter",
         "x": [
          "2025-08-19T12:10:00+02:00",
          "2025-08-19T12:15:00+02:00"
         ],
         "y": [
          0.6588799999999999,
          0.6594199999999999
         ]
        },
        {
         "fill": "tozeroy",
         "fillcolor": "green",
         "line": {
          "color": "green",
          "width": 0.5
         },
         "mode": "lines",
         "name": "BullSteepener",
         "opacity": 0.4,
         "showlegend": false,
         "type": "scatter",
         "x": [
          "2025-08-19T12:15:00+02:00",
          "2025-08-19T12:20:00+02:00"
         ],
         "y": [
          0.6594199999999999,
          0.66035
         ]
        },
        {
         "fill": "tozeroy",
         "fillcolor": "deepskyblue",
         "line": {
          "color": "deepskyblue",
          "width": 0.5
         },
         "mode": "lines",
         "name": "BullFlattener",
         "opacity": 0.4,
         "showlegend": false,
         "type": "scatter",
         "x": [
          "2025-08-19T12:20:00+02:00",
          "2025-08-19T12:25:00+02:00"
         ],
         "y": [
          0.66035,
          0.6579300000000001
         ]
        },
        {
         "fill": "tozeroy",
         "fillcolor": "orange",
         "line": {
          "color": "orange",
          "width": 0.5
         },
         "mode": "lines",
         "name": "BearFlattener",
         "opacity": 0.4,
         "showlegend": false,
         "type": "scatter",
         "x": [
          "2025-08-19T12:25:00+02:00",
          "2025-08-19T12:30:00+02:00"
         ],
         "y": [
          0.6579300000000001,
          0.6590099999999999
         ]
        },
        {
         "fill": "tozeroy",
         "fillcolor": "orange",
         "line": {
          "color": "orange",
          "width": 0.5
         },
         "mode": "lines",
         "name": "BearFlattener",
         "opacity": 0.4,
         "showlegend": false,
         "type": "scatter",
         "x": [
          "2025-08-19T12:30:00+02:00",
          "2025-08-19T12:35:00+02:00"
         ],
         "y": [
          0.6590099999999999,
          0.65846
         ]
        },
        {
         "fill": "tozeroy",
         "fillcolor": "red",
         "line": {
          "color": "red",
          "width": 0.5
         },
         "mode": "lines",
         "name": "BearSteepener",
         "opacity": 0.4,
         "showlegend": false,
         "type": "scatter",
         "x": [
          "2025-08-19T12:35:00+02:00",
          "2025-08-19T12:40:00+02:00"
         ],
         "y": [
          0.65846,
          0.6602000000000001
         ]
        },
        {
         "fill": "tozeroy",
         "fillcolor": "red",
         "line": {
          "color": "red",
          "width": 0.5
         },
         "mode": "lines",
         "name": "BearSteepener",
         "opacity": 0.4,
         "showlegend": false,
         "type": "scatter",
         "x": [
          "2025-08-19T12:40:00+02:00",
          "2025-08-19T12:45:00+02:00"
         ],
         "y": [
          0.6602000000000001,
          0.6614100000000003
         ]
        },
        {
         "fill": "tozeroy",
         "fillcolor": "red",
         "line": {
          "color": "red",
          "width": 0.5
         },
         "mode": "lines",
         "name": "BearSteepener",
         "opacity": 0.4,
         "showlegend": false,
         "type": "scatter",
         "x": [
          "2025-08-19T12:45:00+02:00",
          "2025-08-19T12:50:00+02:00"
         ],
         "y": [
          0.6614100000000003,
          0.6608100000000001
         ]
        },
        {
         "fill": "tozeroy",
         "fillcolor": "red",
         "line": {
          "color": "red",
          "width": 0.5
         },
         "mode": "lines",
         "name": "BearSteepener",
         "opacity": 0.4,
         "showlegend": false,
         "type": "scatter",
         "x": [
          "2025-08-19T12:50:00+02:00",
          "2025-08-19T12:55:00+02:00"
         ],
         "y": [
          0.6608100000000001,
          0.6613099999999998
         ]
        },
        {
         "fill": "tozeroy",
         "fillcolor": "red",
         "line": {
          "color": "red",
          "width": 0.5
         },
         "mode": "lines",
         "name": "BearSteepener",
         "opacity": 0.4,
         "showlegend": false,
         "type": "scatter",
         "x": [
          "2025-08-19T12:55:00+02:00",
          "2025-08-19T13:00:00+02:00"
         ],
         "y": [
          0.6613099999999998,
          0.66048
         ]
        },
        {
         "fill": "tozeroy",
         "fillcolor": "gold",
         "line": {
          "color": "gold",
          "width": 0.5
         },
         "mode": "lines",
         "name": "TwistSteepener",
         "opacity": 0.4,
         "showlegend": false,
         "type": "scatter",
         "x": [
          "2025-08-19T13:00:00+02:00",
          "2025-08-19T13:05:00+02:00"
         ],
         "y": [
          0.66048,
          0.6602800000000002
         ]
        },
        {
         "fill": "tozeroy",
         "fillcolor": "green",
         "line": {
          "color": "green",
          "width": 0.5
         },
         "mode": "lines",
         "name": "BullSteepener",
         "opacity": 0.4,
         "showlegend": false,
         "type": "scatter",
         "x": [
          "2025-08-19T13:05:00+02:00",
          "2025-08-19T13:10:00+02:00"
         ],
         "y": [
          0.6602800000000002,
          0.66038
         ]
        },
        {
         "fill": "tozeroy",
         "fillcolor": "green",
         "line": {
          "color": "green",
          "width": 0.5
         },
         "mode": "lines",
         "name": "BullSteepener",
         "opacity": 0.4,
         "showlegend": false,
         "type": "scatter",
         "x": [
          "2025-08-19T13:10:00+02:00",
          "2025-08-19T13:15:00+02:00"
         ],
         "y": [
          0.66038,
          0.6621800000000002
         ]
        },
        {
         "fill": "tozeroy",
         "fillcolor": "green",
         "line": {
          "color": "green",
          "width": 0.5
         },
         "mode": "lines",
         "name": "BullSteepener",
         "opacity": 0.4,
         "showlegend": false,
         "type": "scatter",
         "x": [
          "2025-08-19T13:15:00+02:00",
          "2025-08-19T13:20:00+02:00"
         ],
         "y": [
          0.6621800000000002,
          0.66324
         ]
        },
        {
         "fill": "tozeroy",
         "fillcolor": "green",
         "line": {
          "color": "green",
          "width": 0.5
         },
         "mode": "lines",
         "name": "BullSteepener",
         "opacity": 0.4,
         "showlegend": false,
         "type": "scatter",
         "x": [
          "2025-08-19T13:20:00+02:00",
          "2025-08-19T13:25:00+02:00"
         ],
         "y": [
          0.66324,
          0.66187
         ]
        },
        {
         "fill": "tozeroy",
         "fillcolor": "green",
         "line": {
          "color": "green",
          "width": 0.5
         },
         "mode": "lines",
         "name": "BullSteepener",
         "opacity": 0.4,
         "showlegend": false,
         "type": "scatter",
         "x": [
          "2025-08-19T13:25:00+02:00",
          "2025-08-19T13:30:00+02:00"
         ],
         "y": [
          0.66187,
          0.6607800000000001
         ]
        },
        {
         "fill": "tozeroy",
         "fillcolor": "gold",
         "line": {
          "color": "gold",
          "width": 0.5
         },
         "mode": "lines",
         "name": "TwistSteepener",
         "opacity": 0.4,
         "showlegend": false,
         "type": "scatter",
         "x": [
          "2025-08-19T13:30:00+02:00",
          "2025-08-19T13:35:00+02:00"
         ],
         "y": [
          0.6607800000000001,
          0.6617099999999998
         ]
        },
        {
         "fill": "tozeroy",
         "fillcolor": "green",
         "line": {
          "color": "green",
          "width": 0.5
         },
         "mode": "lines",
         "name": "BullSteepener",
         "opacity": 0.4,
         "showlegend": false,
         "type": "scatter",
         "x": [
          "2025-08-19T13:35:00+02:00",
          "2025-08-19T13:40:00+02:00"
         ],
         "y": [
          0.6617099999999998,
          0.66248
         ]
        },
        {
         "fill": "tozeroy",
         "fillcolor": "green",
         "line": {
          "color": "green",
          "width": 0.5
         },
         "mode": "lines",
         "name": "BullSteepener",
         "opacity": 0.4,
         "showlegend": false,
         "type": "scatter",
         "x": [
          "2025-08-19T13:40:00+02:00",
          "2025-08-19T13:45:00+02:00"
         ],
         "y": [
          0.66248,
          0.6637199999999999
         ]
        },
        {
         "fill": "tozeroy",
         "fillcolor": "gold",
         "line": {
          "color": "gold",
          "width": 0.5
         },
         "mode": "lines",
         "name": "TwistSteepener",
         "opacity": 0.4,
         "showlegend": false,
         "type": "scatter",
         "x": [
          "2025-08-19T13:45:00+02:00",
          "2025-08-19T13:50:00+02:00"
         ],
         "y": [
          0.6637199999999999,
          0.6647700000000001
         ]
        },
        {
         "fill": "tozeroy",
         "fillcolor": "gold",
         "line": {
          "color": "gold",
          "width": 0.5
         },
         "mode": "lines",
         "name": "TwistSteepener",
         "opacity": 0.4,
         "showlegend": false,
         "type": "scatter",
         "x": [
          "2025-08-19T13:50:00+02:00",
          "2025-08-19T13:55:00+02:00"
         ],
         "y": [
          0.6647700000000001,
          0.6645699999999999
         ]
        },
        {
         "fill": "tozeroy",
         "fillcolor": "gold",
         "line": {
          "color": "gold",
          "width": 0.5
         },
         "mode": "lines",
         "name": "TwistSteepener",
         "opacity": 0.4,
         "showlegend": false,
         "type": "scatter",
         "x": [
          "2025-08-19T13:55:00+02:00",
          "2025-08-19T14:00:00+02:00"
         ],
         "y": [
          0.6645699999999999,
          0.6661699999999999
         ]
        },
        {
         "fill": "tozeroy",
         "fillcolor": "red",
         "line": {
          "color": "red",
          "width": 0.5
         },
         "mode": "lines",
         "name": "BearSteepener",
         "opacity": 0.4,
         "showlegend": false,
         "type": "scatter",
         "x": [
          "2025-08-19T14:00:00+02:00",
          "2025-08-19T14:05:00+02:00"
         ],
         "y": [
          0.6661699999999999,
          0.6697000000000002
         ]
        },
        {
         "fill": "tozeroy",
         "fillcolor": "red",
         "line": {
          "color": "red",
          "width": 0.5
         },
         "mode": "lines",
         "name": "BearSteepener",
         "opacity": 0.4,
         "showlegend": false,
         "type": "scatter",
         "x": [
          "2025-08-19T14:05:00+02:00",
          "2025-08-19T14:10:00+02:00"
         ],
         "y": [
          0.6697000000000002,
          0.6661699999999999
         ]
        },
        {
         "fill": "tozeroy",
         "fillcolor": "orange",
         "line": {
          "color": "orange",
          "width": 0.5
         },
         "mode": "lines",
         "name": "BearFlattener",
         "opacity": 0.4,
         "showlegend": false,
         "type": "scatter",
         "x": [
          "2025-08-19T14:10:00+02:00",
          "2025-08-19T14:15:00+02:00"
         ],
         "y": [
          0.6661699999999999,
          0.6631799999999999
         ]
        },
        {
         "fill": "tozeroy",
         "fillcolor": "red",
         "line": {
          "color": "red",
          "width": 0.5
         },
         "mode": "lines",
         "name": "BearSteepener",
         "opacity": 0.4,
         "showlegend": false,
         "type": "scatter",
         "x": [
          "2025-08-19T14:15:00+02:00",
          "2025-08-19T14:20:00+02:00"
         ],
         "y": [
          0.6631799999999999,
          0.6651499999999999
         ]
        },
        {
         "fill": "tozeroy",
         "fillcolor": "orange",
         "line": {
          "color": "orange",
          "width": 0.5
         },
         "mode": "lines",
         "name": "BearFlattener",
         "opacity": 0.4,
         "showlegend": false,
         "type": "scatter",
         "x": [
          "2025-08-19T14:20:00+02:00",
          "2025-08-19T14:25:00+02:00"
         ],
         "y": [
          0.6651499999999999,
          0.66422
         ]
        },
        {
         "fill": "tozeroy",
         "fillcolor": "violet",
         "line": {
          "color": "violet",
          "width": 0.5
         },
         "mode": "lines",
         "name": "TwistFlattener",
         "opacity": 0.4,
         "showlegend": false,
         "type": "scatter",
         "x": [
          "2025-08-19T14:25:00+02:00",
          "2025-08-19T14:30:00+02:00"
         ],
         "y": [
          0.66422,
          0.66319
         ]
        },
        {
         "fill": "tozeroy",
         "fillcolor": "deepskyblue",
         "line": {
          "color": "deepskyblue",
          "width": 0.5
         },
         "mode": "lines",
         "name": "BullFlattener",
         "opacity": 0.4,
         "showlegend": false,
         "type": "scatter",
         "x": [
          "2025-08-19T14:30:00+02:00",
          "2025-08-19T14:35:00+02:00"
         ],
         "y": [
          0.66319,
          0.6629099999999999
         ]
        },
        {
         "fill": "tozeroy",
         "fillcolor": "deepskyblue",
         "line": {
          "color": "deepskyblue",
          "width": 0.5
         },
         "mode": "lines",
         "name": "BullFlattener",
         "opacity": 0.4,
         "showlegend": false,
         "type": "scatter",
         "x": [
          "2025-08-19T14:35:00+02:00",
          "2025-08-19T14:40:00+02:00"
         ],
         "y": [
          0.6629099999999999,
          0.6626699999999999
         ]
        },
        {
         "fill": "tozeroy",
         "fillcolor": "violet",
         "line": {
          "color": "violet",
          "width": 0.5
         },
         "mode": "lines",
         "name": "TwistFlattener",
         "opacity": 0.4,
         "showlegend": false,
         "type": "scatter",
         "x": [
          "2025-08-19T14:40:00+02:00",
          "2025-08-19T14:45:00+02:00"
         ],
         "y": [
          0.6626699999999999,
          0.6625100000000002
         ]
        },
        {
         "fill": "tozeroy",
         "fillcolor": "orange",
         "line": {
          "color": "orange",
          "width": 0.5
         },
         "mode": "lines",
         "name": "BearFlattener",
         "opacity": 0.4,
         "showlegend": false,
         "type": "scatter",
         "x": [
          "2025-08-19T14:45:00+02:00",
          "2025-08-19T14:50:00+02:00"
         ],
         "y": [
          0.6625100000000002,
          0.6639599999999999
         ]
        },
        {
         "fill": "tozeroy",
         "fillcolor": "red",
         "line": {
          "color": "red",
          "width": 0.5
         },
         "mode": "lines",
         "name": "BearSteepener",
         "opacity": 0.4,
         "showlegend": false,
         "type": "scatter",
         "x": [
          "2025-08-19T14:50:00+02:00",
          "2025-08-19T14:55:00+02:00"
         ],
         "y": [
          0.6639599999999999,
          0.6656
         ]
        },
        {
         "fill": "tozeroy",
         "fillcolor": "red",
         "line": {
          "color": "red",
          "width": 0.5
         },
         "mode": "lines",
         "name": "BearSteepener",
         "opacity": 0.4,
         "showlegend": false,
         "type": "scatter",
         "x": [
          "2025-08-19T14:55:00+02:00",
          "2025-08-19T15:00:00+02:00"
         ],
         "y": [
          0.6656,
          0.6651599999999998
         ]
        },
        {
         "fill": "tozeroy",
         "fillcolor": "orange",
         "line": {
          "color": "orange",
          "width": 0.5
         },
         "mode": "lines",
         "name": "BearFlattener",
         "opacity": 0.4,
         "showlegend": false,
         "type": "scatter",
         "x": [
          "2025-08-19T15:00:00+02:00",
          "2025-08-19T15:05:00+02:00"
         ],
         "y": [
          0.6651599999999998,
          0.6611899999999999
         ]
        },
        {
         "fill": "tozeroy",
         "fillcolor": "orange",
         "line": {
          "color": "orange",
          "width": 0.5
         },
         "mode": "lines",
         "name": "BearFlattener",
         "opacity": 0.4,
         "showlegend": false,
         "type": "scatter",
         "x": [
          "2025-08-19T15:05:00+02:00",
          "2025-08-19T15:10:00+02:00"
         ],
         "y": [
          0.6611899999999999,
          0.6620400000000002
         ]
        },
        {
         "fill": "tozeroy",
         "fillcolor": "orange",
         "line": {
          "color": "orange",
          "width": 0.5
         },
         "mode": "lines",
         "name": "BearFlattener",
         "opacity": 0.4,
         "showlegend": false,
         "type": "scatter",
         "x": [
          "2025-08-19T15:10:00+02:00",
          "2025-08-19T15:15:00+02:00"
         ],
         "y": [
          0.6620400000000002,
          0.6614500000000001
         ]
        },
        {
         "fill": "tozeroy",
         "fillcolor": "violet",
         "line": {
          "color": "violet",
          "width": 0.5
         },
         "mode": "lines",
         "name": "TwistFlattener",
         "opacity": 0.4,
         "showlegend": false,
         "type": "scatter",
         "x": [
          "2025-08-19T15:15:00+02:00",
          "2025-08-19T15:20:00+02:00"
         ],
         "y": [
          0.6614500000000001,
          0.6608399999999999
         ]
        },
        {
         "fill": "tozeroy",
         "fillcolor": "deepskyblue",
         "line": {
          "color": "deepskyblue",
          "width": 0.5
         },
         "mode": "lines",
         "name": "BullFlattener",
         "opacity": 0.4,
         "showlegend": false,
         "type": "scatter",
         "x": [
          "2025-08-19T15:20:00+02:00",
          "2025-08-19T15:25:00+02:00"
         ],
         "y": [
          0.6608399999999999,
          0.6593900000000001
         ]
        },
        {
         "fill": "tozeroy",
         "fillcolor": "deepskyblue",
         "line": {
          "color": "deepskyblue",
          "width": 0.5
         },
         "mode": "lines",
         "name": "BullFlattener",
         "opacity": 0.4,
         "showlegend": false,
         "type": "scatter",
         "x": [
          "2025-08-19T15:25:00+02:00",
          "2025-08-19T15:30:00+02:00"
         ],
         "y": [
          0.6593900000000001,
          0.6577700000000002
         ]
        },
        {
         "fill": "tozeroy",
         "fillcolor": "deepskyblue",
         "line": {
          "color": "deepskyblue",
          "width": 0.5
         },
         "mode": "lines",
         "name": "BullFlattener",
         "opacity": 0.4,
         "showlegend": false,
         "type": "scatter",
         "x": [
          "2025-08-19T15:30:00+02:00",
          "2025-08-19T15:35:00+02:00"
         ],
         "y": [
          0.6577700000000002,
          0.65879
         ]
        },
        {
         "fill": "tozeroy",
         "fillcolor": "deepskyblue",
         "line": {
          "color": "deepskyblue",
          "width": 0.5
         },
         "mode": "lines",
         "name": "BullFlattener",
         "opacity": 0.4,
         "showlegend": false,
         "type": "scatter",
         "x": [
          "2025-08-19T15:35:00+02:00",
          "2025-08-19T15:40:00+02:00"
         ],
         "y": [
          0.65879,
          0.6540300000000001
         ]
        },
        {
         "fill": "tozeroy",
         "fillcolor": "deepskyblue",
         "line": {
          "color": "deepskyblue",
          "width": 0.5
         },
         "mode": "lines",
         "name": "BullFlattener",
         "opacity": 0.4,
         "showlegend": false,
         "type": "scatter",
         "x": [
          "2025-08-19T15:40:00+02:00",
          "2025-08-19T15:45:00+02:00"
         ],
         "y": [
          0.6540300000000001,
          0.6560899999999998
         ]
        },
        {
         "fill": "tozeroy",
         "fillcolor": "deepskyblue",
         "line": {
          "color": "deepskyblue",
          "width": 0.5
         },
         "mode": "lines",
         "name": "BullFlattener",
         "opacity": 0.4,
         "showlegend": false,
         "type": "scatter",
         "x": [
          "2025-08-19T15:45:00+02:00",
          "2025-08-19T15:50:00+02:00"
         ],
         "y": [
          0.6560899999999998,
          0.6559500000000003
         ]
        },
        {
         "fill": "tozeroy",
         "fillcolor": "deepskyblue",
         "line": {
          "color": "deepskyblue",
          "width": 0.5
         },
         "mode": "lines",
         "name": "BullFlattener",
         "opacity": 0.4,
         "showlegend": false,
         "type": "scatter",
         "x": [
          "2025-08-19T15:50:00+02:00",
          "2025-08-19T15:55:00+02:00"
         ],
         "y": [
          0.6559500000000003,
          0.6558700000000002
         ]
        },
        {
         "fill": "tozeroy",
         "fillcolor": "deepskyblue",
         "line": {
          "color": "deepskyblue",
          "width": 0.5
         },
         "mode": "lines",
         "name": "BullFlattener",
         "opacity": 0.4,
         "showlegend": false,
         "type": "scatter",
         "x": [
          "2025-08-19T15:55:00+02:00",
          "2025-08-19T16:00:00+02:00"
         ],
         "y": [
          0.6558700000000002,
          0.6544899999999998
         ]
        },
        {
         "fill": "tozeroy",
         "fillcolor": "deepskyblue",
         "line": {
          "color": "deepskyblue",
          "width": 0.5
         },
         "mode": "lines",
         "name": "BullFlattener",
         "opacity": 0.4,
         "showlegend": false,
         "type": "scatter",
         "x": [
          "2025-08-19T16:00:00+02:00",
          "2025-08-19T16:05:00+02:00"
         ],
         "y": [
          0.6544899999999998,
          0.6548699999999998
         ]
        },
        {
         "fill": "tozeroy",
         "fillcolor": "gold",
         "line": {
          "color": "gold",
          "width": 0.5
         },
         "mode": "lines",
         "name": "TwistSteepener",
         "opacity": 0.4,
         "showlegend": false,
         "type": "scatter",
         "x": [
          "2025-08-19T16:05:00+02:00",
          "2025-08-19T16:10:00+02:00"
         ],
         "y": [
          0.6548699999999998,
          0.6563899999999998
         ]
        },
        {
         "fill": "tozeroy",
         "fillcolor": "orange",
         "line": {
          "color": "orange",
          "width": 0.5
         },
         "mode": "lines",
         "name": "BearFlattener",
         "opacity": 0.4,
         "showlegend": false,
         "type": "scatter",
         "x": [
          "2025-08-19T16:10:00+02:00",
          "2025-08-19T16:15:00+02:00"
         ],
         "y": [
          0.6563899999999998,
          0.6556300000000002
         ]
        },
        {
         "fill": "tozeroy",
         "fillcolor": "red",
         "line": {
          "color": "red",
          "width": 0.5
         },
         "mode": "lines",
         "name": "BearSteepener",
         "opacity": 0.4,
         "showlegend": false,
         "type": "scatter",
         "x": [
          "2025-08-19T16:15:00+02:00",
          "2025-08-19T16:20:00+02:00"
         ],
         "y": [
          0.6556300000000002,
          0.6567000000000001
         ]
        },
        {
         "fill": "tozeroy",
         "fillcolor": "red",
         "line": {
          "color": "red",
          "width": 0.5
         },
         "mode": "lines",
         "name": "BearSteepener",
         "opacity": 0.4,
         "showlegend": false,
         "type": "scatter",
         "x": [
          "2025-08-19T16:20:00+02:00",
          "2025-08-19T16:25:00+02:00"
         ],
         "y": [
          0.6567000000000001,
          0.6578600000000001
         ]
        },
        {
         "fill": "tozeroy",
         "fillcolor": "red",
         "line": {
          "color": "red",
          "width": 0.5
         },
         "mode": "lines",
         "name": "BearSteepener",
         "opacity": 0.4,
         "showlegend": false,
         "type": "scatter",
         "x": [
          "2025-08-19T16:25:00+02:00",
          "2025-08-19T16:30:00+02:00"
         ],
         "y": [
          0.6578600000000001,
          0.6570500000000001
         ]
        },
        {
         "fill": "tozeroy",
         "fillcolor": "red",
         "line": {
          "color": "red",
          "width": 0.5
         },
         "mode": "lines",
         "name": "BearSteepener",
         "opacity": 0.4,
         "showlegend": false,
         "type": "scatter",
         "x": [
          "2025-08-19T16:30:00+02:00",
          "2025-08-19T16:35:00+02:00"
         ],
         "y": [
          0.6570500000000001,
          0.6565699999999999
         ]
        },
        {
         "fill": "tozeroy",
         "fillcolor": "violet",
         "line": {
          "color": "violet",
          "width": 0.5
         },
         "mode": "lines",
         "name": "TwistFlattener",
         "opacity": 0.4,
         "showlegend": false,
         "type": "scatter",
         "x": [
          "2025-08-19T16:35:00+02:00",
          "2025-08-19T16:40:00+02:00"
         ],
         "y": [
          0.6565699999999999,
          0.6520299999999999
         ]
        },
        {
         "fill": "tozeroy",
         "fillcolor": "deepskyblue",
         "line": {
          "color": "deepskyblue",
          "width": 0.5
         },
         "mode": "lines",
         "name": "BullFlattener",
         "opacity": 0.4,
         "showlegend": false,
         "type": "scatter",
         "x": [
          "2025-08-19T16:40:00+02:00",
          "2025-08-19T16:45:00+02:00"
         ],
         "y": [
          0.6520299999999999,
          0.6551
         ]
        },
        {
         "fill": "tozeroy",
         "fillcolor": "deepskyblue",
         "line": {
          "color": "deepskyblue",
          "width": 0.5
         },
         "mode": "lines",
         "name": "BullFlattener",
         "opacity": 0.4,
         "showlegend": false,
         "type": "scatter",
         "x": [
          "2025-08-19T16:45:00+02:00",
          "2025-08-19T16:50:00+02:00"
         ],
         "y": [
          0.6551,
          0.6563100000000002
         ]
        },
        {
         "fill": "tozeroy",
         "fillcolor": "deepskyblue",
         "line": {
          "color": "deepskyblue",
          "width": 0.5
         },
         "mode": "lines",
         "name": "BullFlattener",
         "opacity": 0.4,
         "showlegend": false,
         "type": "scatter",
         "x": [
          "2025-08-19T16:50:00+02:00",
          "2025-08-19T16:55:00+02:00"
         ],
         "y": [
          0.6563100000000002,
          0.65307
         ]
        },
        {
         "fill": "tozeroy",
         "fillcolor": "deepskyblue",
         "line": {
          "color": "deepskyblue",
          "width": 0.5
         },
         "mode": "lines",
         "name": "BullFlattener",
         "opacity": 0.4,
         "showlegend": false,
         "type": "scatter",
         "x": [
          "2025-08-19T16:55:00+02:00",
          "2025-08-19T17:00:00+02:00"
         ],
         "y": [
          0.65307,
          0.6568699999999998
         ]
        },
        {
         "fill": "tozeroy",
         "fillcolor": "deepskyblue",
         "line": {
          "color": "deepskyblue",
          "width": 0.5
         },
         "mode": "lines",
         "name": "BullFlattener",
         "opacity": 0.4,
         "showlegend": false,
         "type": "scatter",
         "x": [
          "2025-08-19T17:00:00+02:00",
          "2025-08-19T17:05:00+02:00"
         ],
         "y": [
          0.6568699999999998,
          0.6565400000000001
         ]
        },
        {
         "fill": "tozeroy",
         "fillcolor": "gold",
         "line": {
          "color": "gold",
          "width": 0.5
         },
         "mode": "lines",
         "name": "TwistSteepener",
         "opacity": 0.4,
         "showlegend": false,
         "type": "scatter",
         "x": [
          "2025-08-19T17:05:00+02:00",
          "2025-08-19T17:10:00+02:00"
         ],
         "y": [
          0.6565400000000001,
          0.6573100000000001
         ]
        },
        {
         "fill": "tozeroy",
         "fillcolor": "red",
         "line": {
          "color": "red",
          "width": 0.5
         },
         "mode": "lines",
         "name": "BearSteepener",
         "opacity": 0.4,
         "showlegend": false,
         "type": "scatter",
         "x": [
          "2025-08-19T17:10:00+02:00",
          "2025-08-19T17:15:00+02:00"
         ],
         "y": [
          0.6573100000000001,
          0.65875
         ]
        },
        {
         "fill": "tozeroy",
         "fillcolor": "red",
         "line": {
          "color": "red",
          "width": 0.5
         },
         "mode": "lines",
         "name": "BearSteepener",
         "opacity": 0.4,
         "showlegend": false,
         "type": "scatter",
         "x": [
          "2025-08-19T17:15:00+02:00",
          "2025-08-19T17:20:00+02:00"
         ],
         "y": [
          0.65875,
          0.6589700000000003
         ]
        },
        {
         "fill": "tozeroy",
         "fillcolor": "red",
         "line": {
          "color": "red",
          "width": 0.5
         },
         "mode": "lines",
         "name": "BearSteepener",
         "opacity": 0.4,
         "showlegend": false,
         "type": "scatter",
         "x": [
          "2025-08-19T17:20:00+02:00",
          "2025-08-19T17:25:00+02:00"
         ],
         "y": [
          0.6589700000000003,
          0.6581600000000001
         ]
        },
        {
         "fill": "tozeroy",
         "fillcolor": "gold",
         "line": {
          "color": "gold",
          "width": 0.5
         },
         "mode": "lines",
         "name": "TwistSteepener",
         "opacity": 0.4,
         "showlegend": false,
         "type": "scatter",
         "x": [
          "2025-08-19T17:25:00+02:00",
          "2025-08-19T17:30:00+02:00"
         ],
         "y": [
          0.6581600000000001,
          0.6583100000000002
         ]
        },
        {
         "fill": "tozeroy",
         "fillcolor": "red",
         "line": {
          "color": "red",
          "width": 0.5
         },
         "mode": "lines",
         "name": "BearSteepener",
         "opacity": 0.4,
         "showlegend": false,
         "type": "scatter",
         "x": [
          "2025-08-19T17:30:00+02:00",
          "2025-08-19T17:35:00+02:00"
         ],
         "y": [
          0.6583100000000002,
          0.65778
         ]
        },
        {
         "fill": "tozeroy",
         "fillcolor": "red",
         "line": {
          "color": "red",
          "width": 0.5
         },
         "mode": "lines",
         "name": "BearSteepener",
         "opacity": 0.4,
         "showlegend": false,
         "type": "scatter",
         "x": [
          "2025-08-19T17:35:00+02:00",
          "2025-08-19T17:40:00+02:00"
         ],
         "y": [
          0.65778,
          0.6582099999999997
         ]
        },
        {
         "fill": "tozeroy",
         "fillcolor": "deepskyblue",
         "line": {
          "color": "deepskyblue",
          "width": 0.5
         },
         "mode": "lines",
         "name": "BullFlattener",
         "opacity": 0.4,
         "showlegend": false,
         "type": "scatter",
         "x": [
          "2025-08-19T17:40:00+02:00",
          "2025-08-19T17:45:00+02:00"
         ],
         "y": [
          0.6582099999999997,
          0.65636
         ]
        },
        {
         "fill": "tozeroy",
         "fillcolor": "deepskyblue",
         "line": {
          "color": "deepskyblue",
          "width": 0.5
         },
         "mode": "lines",
         "name": "BullFlattener",
         "opacity": 0.4,
         "showlegend": false,
         "type": "scatter",
         "x": [
          "2025-08-19T17:45:00+02:00",
          "2025-08-19T17:50:00+02:00"
         ],
         "y": [
          0.65636,
          0.6548499999999999
         ]
        },
        {
         "fill": "tozeroy",
         "fillcolor": "violet",
         "line": {
          "color": "violet",
          "width": 0.5
         },
         "mode": "lines",
         "name": "TwistFlattener",
         "opacity": 0.4,
         "showlegend": false,
         "type": "scatter",
         "x": [
          "2025-08-19T17:50:00+02:00",
          "2025-08-19T17:55:00+02:00"
         ],
         "y": [
          0.6548499999999999,
          0.6505699999999999
         ]
        },
        {
         "fill": "tozeroy",
         "fillcolor": "violet",
         "line": {
          "color": "violet",
          "width": 0.5
         },
         "mode": "lines",
         "name": "TwistFlattener",
         "opacity": 0.4,
         "showlegend": false,
         "type": "scatter",
         "x": [
          "2025-08-19T17:55:00+02:00",
          "2025-08-19T18:00:00+02:00"
         ],
         "y": [
          0.6505699999999999,
          0.65192
         ]
        },
        {
         "fill": "tozeroy",
         "fillcolor": "violet",
         "line": {
          "color": "violet",
          "width": 0.5
         },
         "mode": "lines",
         "name": "TwistFlattener",
         "opacity": 0.4,
         "showlegend": false,
         "type": "scatter",
         "x": [
          "2025-08-19T18:00:00+02:00",
          "2025-08-19T18:05:00+02:00"
         ],
         "y": [
          0.65192,
          0.6525099999999999
         ]
        },
        {
         "fill": "tozeroy",
         "fillcolor": "violet",
         "line": {
          "color": "violet",
          "width": 0.5
         },
         "mode": "lines",
         "name": "TwistFlattener",
         "opacity": 0.4,
         "showlegend": false,
         "type": "scatter",
         "x": [
          "2025-08-19T18:05:00+02:00",
          "2025-08-19T18:10:00+02:00"
         ],
         "y": [
          0.6525099999999999,
          0.6528699999999998
         ]
        },
        {
         "fill": "tozeroy",
         "fillcolor": "orange",
         "line": {
          "color": "orange",
          "width": 0.5
         },
         "mode": "lines",
         "name": "BearFlattener",
         "opacity": 0.4,
         "showlegend": false,
         "type": "scatter",
         "x": [
          "2025-08-19T18:10:00+02:00",
          "2025-08-19T18:15:00+02:00"
         ],
         "y": [
          0.6528699999999998,
          0.6550499999999999
         ]
        },
        {
         "fill": "tozeroy",
         "fillcolor": "orange",
         "line": {
          "color": "orange",
          "width": 0.5
         },
         "mode": "lines",
         "name": "BearFlattener",
         "opacity": 0.4,
         "showlegend": false,
         "type": "scatter",
         "x": [
          "2025-08-19T18:15:00+02:00",
          "2025-08-19T18:20:00+02:00"
         ],
         "y": [
          0.6550499999999999,
          0.6543299999999999
         ]
        },
        {
         "fill": "tozeroy",
         "fillcolor": "gold",
         "line": {
          "color": "gold",
          "width": 0.5
         },
         "mode": "lines",
         "name": "TwistSteepener",
         "opacity": 0.4,
         "showlegend": false,
         "type": "scatter",
         "x": [
          "2025-08-19T18:20:00+02:00",
          "2025-08-19T18:25:00+02:00"
         ],
         "y": [
          0.6543299999999999,
          0.6543999999999999
         ]
        },
        {
         "fill": "tozeroy",
         "fillcolor": "gold",
         "line": {
          "color": "gold",
          "width": 0.5
         },
         "mode": "lines",
         "name": "TwistSteepener",
         "opacity": 0.4,
         "showlegend": false,
         "type": "scatter",
         "x": [
          "2025-08-19T18:25:00+02:00",
          "2025-08-19T18:30:00+02:00"
         ],
         "y": [
          0.6543999999999999,
          0.6550499999999999
         ]
        },
        {
         "fill": "tozeroy",
         "fillcolor": "gold",
         "line": {
          "color": "gold",
          "width": 0.5
         },
         "mode": "lines",
         "name": "TwistSteepener",
         "opacity": 0.4,
         "showlegend": false,
         "type": "scatter",
         "x": [
          "2025-08-19T18:30:00+02:00",
          "2025-08-19T18:35:00+02:00"
         ],
         "y": [
          0.6550499999999999,
          0.6556500000000001
         ]
        },
        {
         "fill": "tozeroy",
         "fillcolor": "gold",
         "line": {
          "color": "gold",
          "width": 0.5
         },
         "mode": "lines",
         "name": "TwistSteepener",
         "opacity": 0.4,
         "showlegend": false,
         "type": "scatter",
         "x": [
          "2025-08-19T18:35:00+02:00",
          "2025-08-19T18:40:00+02:00"
         ],
         "y": [
          0.6556500000000001,
          0.6542700000000001
         ]
        },
        {
         "fill": "tozeroy",
         "fillcolor": "violet",
         "line": {
          "color": "violet",
          "width": 0.5
         },
         "mode": "lines",
         "name": "TwistFlattener",
         "opacity": 0.4,
         "showlegend": false,
         "type": "scatter",
         "x": [
          "2025-08-19T18:40:00+02:00",
          "2025-08-19T18:45:00+02:00"
         ],
         "y": [
          0.6542700000000001,
          0.6503400000000001
         ]
        },
        {
         "fill": "tozeroy",
         "fillcolor": "violet",
         "line": {
          "color": "violet",
          "width": 0.5
         },
         "mode": "lines",
         "name": "TwistFlattener",
         "opacity": 0.4,
         "showlegend": false,
         "type": "scatter",
         "x": [
          "2025-08-19T18:45:00+02:00",
          "2025-08-19T18:50:00+02:00"
         ],
         "y": [
          0.6503400000000001,
          0.65046
         ]
        },
        {
         "fill": "tozeroy",
         "fillcolor": "violet",
         "line": {
          "color": "violet",
          "width": 0.5
         },
         "mode": "lines",
         "name": "TwistFlattener",
         "opacity": 0.4,
         "showlegend": false,
         "type": "scatter",
         "x": [
          "2025-08-19T18:50:00+02:00",
          "2025-08-19T19:00:00+02:00"
         ],
         "y": [
          0.65046,
          0.6489800000000001
         ]
        },
        {
         "fill": "tozeroy",
         "fillcolor": "gold",
         "line": {
          "color": "gold",
          "width": 0.5
         },
         "mode": "lines",
         "name": "TwistSteepener",
         "opacity": 0.4,
         "showlegend": false,
         "type": "scatter",
         "x": [
          "2025-08-19T19:00:00+02:00",
          "2025-08-20T08:00:00+02:00"
         ],
         "y": [
          0.6489800000000001,
          0.6646699999999999
         ]
        },
        {
         "fill": "tozeroy",
         "fillcolor": "green",
         "line": {
          "color": "green",
          "width": 0.5
         },
         "mode": "lines",
         "name": "BullSteepener",
         "opacity": 0.4,
         "showlegend": false,
         "type": "scatter",
         "x": [
          "2025-08-20T08:00:00+02:00",
          "2025-08-20T08:05:00+02:00"
         ],
         "y": [
          0.6646699999999999,
          0.6574199999999999
         ]
        },
        {
         "fill": "tozeroy",
         "fillcolor": "green",
         "line": {
          "color": "green",
          "width": 0.5
         },
         "mode": "lines",
         "name": "BullSteepener",
         "opacity": 0.4,
         "showlegend": false,
         "type": "scatter",
         "x": [
          "2025-08-20T08:05:00+02:00",
          "2025-08-20T08:10:00+02:00"
         ],
         "y": [
          0.6574199999999999,
          0.6602999999999999
         ]
        },
        {
         "fill": "tozeroy",
         "fillcolor": "green",
         "line": {
          "color": "green",
          "width": 0.5
         },
         "mode": "lines",
         "name": "BullSteepener",
         "opacity": 0.4,
         "showlegend": false,
         "type": "scatter",
         "x": [
          "2025-08-20T08:10:00+02:00",
          "2025-08-20T08:15:00+02:00"
         ],
         "y": [
          0.6602999999999999,
          0.65838
         ]
        },
        {
         "fill": "tozeroy",
         "fillcolor": "green",
         "line": {
          "color": "green",
          "width": 0.5
         },
         "mode": "lines",
         "name": "BullSteepener",
         "opacity": 0.4,
         "showlegend": false,
         "type": "scatter",
         "x": [
          "2025-08-20T08:15:00+02:00",
          "2025-08-20T08:20:00+02:00"
         ],
         "y": [
          0.65838,
          0.65899
         ]
        },
        {
         "fill": "tozeroy",
         "fillcolor": "green",
         "line": {
          "color": "green",
          "width": 0.5
         },
         "mode": "lines",
         "name": "BullSteepener",
         "opacity": 0.4,
         "showlegend": false,
         "type": "scatter",
         "x": [
          "2025-08-20T08:20:00+02:00",
          "2025-08-20T08:25:00+02:00"
         ],
         "y": [
          0.65899,
          0.65567
         ]
        },
        {
         "fill": "tozeroy",
         "fillcolor": "deepskyblue",
         "line": {
          "color": "deepskyblue",
          "width": 0.5
         },
         "mode": "lines",
         "name": "BullFlattener",
         "opacity": 0.4,
         "showlegend": false,
         "type": "scatter",
         "x": [
          "2025-08-20T08:25:00+02:00",
          "2025-08-20T08:30:00+02:00"
         ],
         "y": [
          0.65567,
          0.65554
         ]
        },
        {
         "fill": "tozeroy",
         "fillcolor": "deepskyblue",
         "line": {
          "color": "deepskyblue",
          "width": 0.5
         },
         "mode": "lines",
         "name": "BullFlattener",
         "opacity": 0.4,
         "showlegend": false,
         "type": "scatter",
         "x": [
          "2025-08-20T08:30:00+02:00",
          "2025-08-20T08:35:00+02:00"
         ],
         "y": [
          0.65554,
          0.6508099999999999
         ]
        },
        {
         "fill": "tozeroy",
         "fillcolor": "deepskyblue",
         "line": {
          "color": "deepskyblue",
          "width": 0.5
         },
         "mode": "lines",
         "name": "BullFlattener",
         "opacity": 0.4,
         "showlegend": false,
         "type": "scatter",
         "x": [
          "2025-08-20T08:35:00+02:00",
          "2025-08-20T08:40:00+02:00"
         ],
         "y": [
          0.6508099999999999,
          0.6503000000000001
         ]
        },
        {
         "fill": "tozeroy",
         "fillcolor": "violet",
         "line": {
          "color": "violet",
          "width": 0.5
         },
         "mode": "lines",
         "name": "TwistFlattener",
         "opacity": 0.4,
         "showlegend": false,
         "type": "scatter",
         "x": [
          "2025-08-20T08:40:00+02:00",
          "2025-08-20T08:45:00+02:00"
         ],
         "y": [
          0.6503000000000001,
          0.6518200000000003
         ]
        },
        {
         "fill": "tozeroy",
         "fillcolor": "violet",
         "line": {
          "color": "violet",
          "width": 0.5
         },
         "mode": "lines",
         "name": "TwistFlattener",
         "opacity": 0.4,
         "showlegend": false,
         "type": "scatter",
         "x": [
          "2025-08-20T08:45:00+02:00",
          "2025-08-20T08:50:00+02:00"
         ],
         "y": [
          0.6518200000000003,
          0.6536400000000002
         ]
        },
        {
         "fill": "tozeroy",
         "fillcolor": "orange",
         "line": {
          "color": "orange",
          "width": 0.5
         },
         "mode": "lines",
         "name": "BearFlattener",
         "opacity": 0.4,
         "showlegend": false,
         "type": "scatter",
         "x": [
          "2025-08-20T08:50:00+02:00",
          "2025-08-20T08:55:00+02:00"
         ],
         "y": [
          0.6536400000000002,
          0.6550399999999998
         ]
        },
        {
         "fill": "tozeroy",
         "fillcolor": "red",
         "line": {
          "color": "red",
          "width": 0.5
         },
         "mode": "lines",
         "name": "BearSteepener",
         "opacity": 0.4,
         "showlegend": false,
         "type": "scatter",
         "x": [
          "2025-08-20T08:55:00+02:00",
          "2025-08-20T09:00:00+02:00"
         ],
         "y": [
          0.6550399999999998,
          0.6560200000000003
         ]
        },
        {
         "fill": "tozeroy",
         "fillcolor": "red",
         "line": {
          "color": "red",
          "width": 0.5
         },
         "mode": "lines",
         "name": "BearSteepener",
         "opacity": 0.4,
         "showlegend": false,
         "type": "scatter",
         "x": [
          "2025-08-20T09:00:00+02:00",
          "2025-08-20T09:05:00+02:00"
         ],
         "y": [
          0.6560200000000003,
          0.6515800000000003
         ]
        },
        {
         "fill": "tozeroy",
         "fillcolor": "green",
         "line": {
          "color": "green",
          "width": 0.5
         },
         "mode": "lines",
         "name": "BullSteepener",
         "opacity": 0.4,
         "showlegend": false,
         "type": "scatter",
         "x": [
          "2025-08-20T09:05:00+02:00",
          "2025-08-20T09:10:00+02:00"
         ],
         "y": [
          0.6515800000000003,
          0.6518000000000002
         ]
        },
        {
         "fill": "tozeroy",
         "fillcolor": "deepskyblue",
         "line": {
          "color": "deepskyblue",
          "width": 0.5
         },
         "mode": "lines",
         "name": "BullFlattener",
         "opacity": 0.4,
         "showlegend": false,
         "type": "scatter",
         "x": [
          "2025-08-20T09:10:00+02:00",
          "2025-08-20T09:15:00+02:00"
         ],
         "y": [
          0.6518000000000002,
          0.6513100000000003
         ]
        },
        {
         "fill": "tozeroy",
         "fillcolor": "orange",
         "line": {
          "color": "orange",
          "width": 0.5
         },
         "mode": "lines",
         "name": "BearFlattener",
         "opacity": 0.4,
         "showlegend": false,
         "type": "scatter",
         "x": [
          "2025-08-20T09:15:00+02:00",
          "2025-08-20T09:20:00+02:00"
         ],
         "y": [
          0.6513100000000003,
          0.6527799999999999
         ]
        },
        {
         "fill": "tozeroy",
         "fillcolor": "deepskyblue",
         "line": {
          "color": "deepskyblue",
          "width": 0.5
         },
         "mode": "lines",
         "name": "BullFlattener",
         "opacity": 0.4,
         "showlegend": false,
         "type": "scatter",
         "x": [
          "2025-08-20T09:20:00+02:00",
          "2025-08-20T09:25:00+02:00"
         ],
         "y": [
          0.6527799999999999,
          0.6523100000000002
         ]
        },
        {
         "fill": "tozeroy",
         "fillcolor": "violet",
         "line": {
          "color": "violet",
          "width": 0.5
         },
         "mode": "lines",
         "name": "TwistFlattener",
         "opacity": 0.4,
         "showlegend": false,
         "type": "scatter",
         "x": [
          "2025-08-20T09:25:00+02:00",
          "2025-08-20T09:30:00+02:00"
         ],
         "y": [
          0.6523100000000002,
          0.6537199999999999
         ]
        },
        {
         "fill": "tozeroy",
         "fillcolor": "red",
         "line": {
          "color": "red",
          "width": 0.5
         },
         "mode": "lines",
         "name": "BearSteepener",
         "opacity": 0.4,
         "showlegend": false,
         "type": "scatter",
         "x": [
          "2025-08-20T09:30:00+02:00",
          "2025-08-20T09:35:00+02:00"
         ],
         "y": [
          0.6537199999999999,
          0.6546699999999999
         ]
        },
        {
         "fill": "tozeroy",
         "fillcolor": "red",
         "line": {
          "color": "red",
          "width": 0.5
         },
         "mode": "lines",
         "name": "BearSteepener",
         "opacity": 0.4,
         "showlegend": false,
         "type": "scatter",
         "x": [
          "2025-08-20T09:35:00+02:00",
          "2025-08-20T09:40:00+02:00"
         ],
         "y": [
          0.6546699999999999,
          0.6549799999999999
         ]
        },
        {
         "fill": "tozeroy",
         "fillcolor": "red",
         "line": {
          "color": "red",
          "width": 0.5
         },
         "mode": "lines",
         "name": "BearSteepener",
         "opacity": 0.4,
         "showlegend": false,
         "type": "scatter",
         "x": [
          "2025-08-20T09:40:00+02:00",
          "2025-08-20T09:45:00+02:00"
         ],
         "y": [
          0.6549799999999999,
          0.6574900000000001
         ]
        },
        {
         "fill": "tozeroy",
         "fillcolor": "gold",
         "line": {
          "color": "gold",
          "width": 0.5
         },
         "mode": "lines",
         "name": "TwistSteepener",
         "opacity": 0.4,
         "showlegend": false,
         "type": "scatter",
         "x": [
          "2025-08-20T09:45:00+02:00",
          "2025-08-20T09:50:00+02:00"
         ],
         "y": [
          0.6574900000000001,
          0.6583299999999999
         ]
        },
        {
         "fill": "tozeroy",
         "fillcolor": "gold",
         "line": {
          "color": "gold",
          "width": 0.5
         },
         "mode": "lines",
         "name": "TwistSteepener",
         "opacity": 0.4,
         "showlegend": false,
         "type": "scatter",
         "x": [
          "2025-08-20T09:50:00+02:00",
          "2025-08-20T09:55:00+02:00"
         ],
         "y": [
          0.6583299999999999,
          0.65863
         ]
        },
        {
         "fill": "tozeroy",
         "fillcolor": "gold",
         "line": {
          "color": "gold",
          "width": 0.5
         },
         "mode": "lines",
         "name": "TwistSteepener",
         "opacity": 0.4,
         "showlegend": false,
         "type": "scatter",
         "x": [
          "2025-08-20T09:55:00+02:00",
          "2025-08-20T10:00:00+02:00"
         ],
         "y": [
          0.65863,
          0.65777
         ]
        },
        {
         "fill": "tozeroy",
         "fillcolor": "red",
         "line": {
          "color": "red",
          "width": 0.5
         },
         "mode": "lines",
         "name": "BearSteepener",
         "opacity": 0.4,
         "showlegend": false,
         "type": "scatter",
         "x": [
          "2025-08-20T10:00:00+02:00",
          "2025-08-20T10:05:00+02:00"
         ],
         "y": [
          0.65777,
          0.65934
         ]
        },
        {
         "fill": "tozeroy",
         "fillcolor": "deepskyblue",
         "line": {
          "color": "deepskyblue",
          "width": 0.5
         },
         "mode": "lines",
         "name": "BullFlattener",
         "opacity": 0.4,
         "showlegend": false,
         "type": "scatter",
         "x": [
          "2025-08-20T10:05:00+02:00",
          "2025-08-20T10:10:00+02:00"
         ],
         "y": [
          0.65934,
          0.65391
         ]
        },
        {
         "fill": "tozeroy",
         "fillcolor": "deepskyblue",
         "line": {
          "color": "deepskyblue",
          "width": 0.5
         },
         "mode": "lines",
         "name": "BullFlattener",
         "opacity": 0.4,
         "showlegend": false,
         "type": "scatter",
         "x": [
          "2025-08-20T10:10:00+02:00",
          "2025-08-20T10:15:00+02:00"
         ],
         "y": [
          0.65391,
          0.6543399999999999
         ]
        },
        {
         "fill": "tozeroy",
         "fillcolor": "deepskyblue",
         "line": {
          "color": "deepskyblue",
          "width": 0.5
         },
         "mode": "lines",
         "name": "BullFlattener",
         "opacity": 0.4,
         "showlegend": false,
         "type": "scatter",
         "x": [
          "2025-08-20T10:15:00+02:00",
          "2025-08-20T10:20:00+02:00"
         ],
         "y": [
          0.6543399999999999,
          0.6540699999999999
         ]
        },
        {
         "fill": "tozeroy",
         "fillcolor": "deepskyblue",
         "line": {
          "color": "deepskyblue",
          "width": 0.5
         },
         "mode": "lines",
         "name": "BullFlattener",
         "opacity": 0.4,
         "showlegend": false,
         "type": "scatter",
         "x": [
          "2025-08-20T10:20:00+02:00",
          "2025-08-20T10:25:00+02:00"
         ],
         "y": [
          0.6540699999999999,
          0.6539799999999998
         ]
        },
        {
         "fill": "tozeroy",
         "fillcolor": "deepskyblue",
         "line": {
          "color": "deepskyblue",
          "width": 0.5
         },
         "mode": "lines",
         "name": "BullFlattener",
         "opacity": 0.4,
         "showlegend": false,
         "type": "scatter",
         "x": [
          "2025-08-20T10:25:00+02:00",
          "2025-08-20T10:30:00+02:00"
         ],
         "y": [
          0.6539799999999998,
          0.6527200000000002
         ]
        },
        {
         "fill": "tozeroy",
         "fillcolor": "deepskyblue",
         "line": {
          "color": "deepskyblue",
          "width": 0.5
         },
         "mode": "lines",
         "name": "BullFlattener",
         "opacity": 0.4,
         "showlegend": false,
         "type": "scatter",
         "x": [
          "2025-08-20T10:30:00+02:00",
          "2025-08-20T10:35:00+02:00"
         ],
         "y": [
          0.6527200000000002,
          0.6518699999999997
         ]
        },
        {
         "fill": "tozeroy",
         "fillcolor": "deepskyblue",
         "line": {
          "color": "deepskyblue",
          "width": 0.5
         },
         "mode": "lines",
         "name": "BullFlattener",
         "opacity": 0.4,
         "showlegend": false,
         "type": "scatter",
         "x": [
          "2025-08-20T10:35:00+02:00",
          "2025-08-20T10:40:00+02:00"
         ],
         "y": [
          0.6518699999999997,
          0.6531100000000001
         ]
        },
        {
         "fill": "tozeroy",
         "fillcolor": "deepskyblue",
         "line": {
          "color": "deepskyblue",
          "width": 0.5
         },
         "mode": "lines",
         "name": "BullFlattener",
         "opacity": 0.4,
         "showlegend": false,
         "type": "scatter",
         "x": [
          "2025-08-20T10:40:00+02:00",
          "2025-08-20T10:45:00+02:00"
         ],
         "y": [
          0.6531100000000001,
          0.65073
         ]
        },
        {
         "fill": "tozeroy",
         "fillcolor": "deepskyblue",
         "line": {
          "color": "deepskyblue",
          "width": 0.5
         },
         "mode": "lines",
         "name": "BullFlattener",
         "opacity": 0.4,
         "showlegend": false,
         "type": "scatter",
         "x": [
          "2025-08-20T10:45:00+02:00",
          "2025-08-20T10:50:00+02:00"
         ],
         "y": [
          0.65073,
          0.6534899999999999
         ]
        },
        {
         "fill": "tozeroy",
         "fillcolor": "deepskyblue",
         "line": {
          "color": "deepskyblue",
          "width": 0.5
         },
         "mode": "lines",
         "name": "BullFlattener",
         "opacity": 0.4,
         "showlegend": false,
         "type": "scatter",
         "x": [
          "2025-08-20T10:50:00+02:00",
          "2025-08-20T10:55:00+02:00"
         ],
         "y": [
          0.6534899999999999,
          0.6502700000000001
         ]
        },
        {
         "fill": "tozeroy",
         "fillcolor": "deepskyblue",
         "line": {
          "color": "deepskyblue",
          "width": 0.5
         },
         "mode": "lines",
         "name": "BullFlattener",
         "opacity": 0.4,
         "showlegend": false,
         "type": "scatter",
         "x": [
          "2025-08-20T10:55:00+02:00",
          "2025-08-20T11:00:00+02:00"
         ],
         "y": [
          0.6502700000000001,
          0.64923
         ]
        },
        {
         "fill": "tozeroy",
         "fillcolor": "deepskyblue",
         "line": {
          "color": "deepskyblue",
          "width": 0.5
         },
         "mode": "lines",
         "name": "BullFlattener",
         "opacity": 0.4,
         "showlegend": false,
         "type": "scatter",
         "x": [
          "2025-08-20T11:00:00+02:00",
          "2025-08-20T11:05:00+02:00"
         ],
         "y": [
          0.64923,
          0.6502899999999998
         ]
        },
        {
         "fill": "tozeroy",
         "fillcolor": "deepskyblue",
         "line": {
          "color": "deepskyblue",
          "width": 0.5
         },
         "mode": "lines",
         "name": "BullFlattener",
         "opacity": 0.4,
         "showlegend": false,
         "type": "scatter",
         "x": [
          "2025-08-20T11:05:00+02:00",
          "2025-08-20T11:10:00+02:00"
         ],
         "y": [
          0.6502899999999998,
          0.6512399999999998
         ]
        },
        {
         "fill": "tozeroy",
         "fillcolor": "deepskyblue",
         "line": {
          "color": "deepskyblue",
          "width": 0.5
         },
         "mode": "lines",
         "name": "BullFlattener",
         "opacity": 0.4,
         "showlegend": false,
         "type": "scatter",
         "x": [
          "2025-08-20T11:10:00+02:00",
          "2025-08-20T11:15:00+02:00"
         ],
         "y": [
          0.6512399999999998,
          0.6488200000000002
         ]
        },
        {
         "fill": "tozeroy",
         "fillcolor": "deepskyblue",
         "line": {
          "color": "deepskyblue",
          "width": 0.5
         },
         "mode": "lines",
         "name": "BullFlattener",
         "opacity": 0.4,
         "showlegend": false,
         "type": "scatter",
         "x": [
          "2025-08-20T11:15:00+02:00",
          "2025-08-20T11:20:00+02:00"
         ],
         "y": [
          0.6488200000000002,
          0.64926
         ]
        },
        {
         "fill": "tozeroy",
         "fillcolor": "red",
         "line": {
          "color": "red",
          "width": 0.5
         },
         "mode": "lines",
         "name": "BearSteepener",
         "opacity": 0.4,
         "showlegend": false,
         "type": "scatter",
         "x": [
          "2025-08-20T11:20:00+02:00",
          "2025-08-20T11:25:00+02:00"
         ],
         "y": [
          0.64926,
          0.6519700000000002
         ]
        },
        {
         "fill": "tozeroy",
         "fillcolor": "red",
         "line": {
          "color": "red",
          "width": 0.5
         },
         "mode": "lines",
         "name": "BearSteepener",
         "opacity": 0.4,
         "showlegend": false,
         "type": "scatter",
         "x": [
          "2025-08-20T11:25:00+02:00",
          "2025-08-20T11:30:00+02:00"
         ],
         "y": [
          0.6519700000000002,
          0.6518899999999999
         ]
        },
        {
         "fill": "tozeroy",
         "fillcolor": "red",
         "line": {
          "color": "red",
          "width": 0.5
         },
         "mode": "lines",
         "name": "BearSteepener",
         "opacity": 0.4,
         "showlegend": false,
         "type": "scatter",
         "x": [
          "2025-08-20T11:30:00+02:00",
          "2025-08-20T11:35:00+02:00"
         ],
         "y": [
          0.6518899999999999,
          0.6520700000000001
         ]
        },
        {
         "fill": "tozeroy",
         "fillcolor": "orange",
         "line": {
          "color": "orange",
          "width": 0.5
         },
         "mode": "lines",
         "name": "BearFlattener",
         "opacity": 0.4,
         "showlegend": false,
         "type": "scatter",
         "x": [
          "2025-08-20T11:35:00+02:00",
          "2025-08-20T11:40:00+02:00"
         ],
         "y": [
          0.6520700000000001,
          0.6508099999999999
         ]
        },
        {
         "fill": "tozeroy",
         "fillcolor": "red",
         "line": {
          "color": "red",
          "width": 0.5
         },
         "mode": "lines",
         "name": "BearSteepener",
         "opacity": 0.4,
         "showlegend": false,
         "type": "scatter",
         "x": [
          "2025-08-20T11:40:00+02:00",
          "2025-08-20T11:45:00+02:00"
         ],
         "y": [
          0.6508099999999999,
          0.6500899999999998
         ]
        },
        {
         "fill": "tozeroy",
         "fillcolor": "violet",
         "line": {
          "color": "violet",
          "width": 0.5
         },
         "mode": "lines",
         "name": "TwistFlattener",
         "opacity": 0.4,
         "showlegend": false,
         "type": "scatter",
         "x": [
          "2025-08-20T11:45:00+02:00",
          "2025-08-20T11:50:00+02:00"
         ],
         "y": [
          0.6500899999999998,
          0.6485399999999999
         ]
        },
        {
         "fill": "tozeroy",
         "fillcolor": "deepskyblue",
         "line": {
          "color": "deepskyblue",
          "width": 0.5
         },
         "mode": "lines",
         "name": "BullFlattener",
         "opacity": 0.4,
         "showlegend": false,
         "type": "scatter",
         "x": [
          "2025-08-20T11:50:00+02:00",
          "2025-08-20T11:55:00+02:00"
         ],
         "y": [
          0.6485399999999999,
          0.6473300000000002
         ]
        },
        {
         "fill": "tozeroy",
         "fillcolor": "deepskyblue",
         "line": {
          "color": "deepskyblue",
          "width": 0.5
         },
         "mode": "lines",
         "name": "BullFlattener",
         "opacity": 0.4,
         "showlegend": false,
         "type": "scatter",
         "x": [
          "2025-08-20T11:55:00+02:00",
          "2025-08-20T12:00:00+02:00"
         ],
         "y": [
          0.6473300000000002,
          0.6489499999999999
         ]
        },
        {
         "fill": "tozeroy",
         "fillcolor": "deepskyblue",
         "line": {
          "color": "deepskyblue",
          "width": 0.5
         },
         "mode": "lines",
         "name": "BullFlattener",
         "opacity": 0.4,
         "showlegend": false,
         "type": "scatter",
         "x": [
          "2025-08-20T12:00:00+02:00",
          "2025-08-20T12:05:00+02:00"
         ],
         "y": [
          0.6489499999999999,
          0.6485599999999998
         ]
        },
        {
         "fill": "tozeroy",
         "fillcolor": "deepskyblue",
         "line": {
          "color": "deepskyblue",
          "width": 0.5
         },
         "mode": "lines",
         "name": "BullFlattener",
         "opacity": 0.4,
         "showlegend": false,
         "type": "scatter",
         "x": [
          "2025-08-20T12:05:00+02:00",
          "2025-08-20T12:10:00+02:00"
         ],
         "y": [
          0.6485599999999998,
          0.6483199999999998
         ]
        },
        {
         "fill": "tozeroy",
         "fillcolor": "violet",
         "line": {
          "color": "violet",
          "width": 0.5
         },
         "mode": "lines",
         "name": "TwistFlattener",
         "opacity": 0.4,
         "showlegend": false,
         "type": "scatter",
         "x": [
          "2025-08-20T12:10:00+02:00",
          "2025-08-20T12:15:00+02:00"
         ],
         "y": [
          0.6483199999999998,
          0.6452099999999998
         ]
        },
        {
         "fill": "tozeroy",
         "fillcolor": "orange",
         "line": {
          "color": "orange",
          "width": 0.5
         },
         "mode": "lines",
         "name": "BearFlattener",
         "opacity": 0.4,
         "showlegend": false,
         "type": "scatter",
         "x": [
          "2025-08-20T12:15:00+02:00",
          "2025-08-20T12:20:00+02:00"
         ],
         "y": [
          0.6452099999999998,
          0.6480999999999999
         ]
        },
        {
         "fill": "tozeroy",
         "fillcolor": "red",
         "line": {
          "color": "red",
          "width": 0.5
         },
         "mode": "lines",
         "name": "BearSteepener",
         "opacity": 0.4,
         "showlegend": false,
         "type": "scatter",
         "x": [
          "2025-08-20T12:20:00+02:00",
          "2025-08-20T12:25:00+02:00"
         ],
         "y": [
          0.6480999999999999,
          0.64791
         ]
        },
        {
         "fill": "tozeroy",
         "fillcolor": "gold",
         "line": {
          "color": "gold",
          "width": 0.5
         },
         "mode": "lines",
         "name": "TwistSteepener",
         "opacity": 0.4,
         "showlegend": false,
         "type": "scatter",
         "x": [
          "2025-08-20T12:25:00+02:00",
          "2025-08-20T12:30:00+02:00"
         ],
         "y": [
          0.64791,
          0.6503300000000001
         ]
        },
        {
         "fill": "tozeroy",
         "fillcolor": "red",
         "line": {
          "color": "red",
          "width": 0.5
         },
         "mode": "lines",
         "name": "BearSteepener",
         "opacity": 0.4,
         "showlegend": false,
         "type": "scatter",
         "x": [
          "2025-08-20T12:30:00+02:00",
          "2025-08-20T12:35:00+02:00"
         ],
         "y": [
          0.6503300000000001,
          0.6504700000000001
         ]
        },
        {
         "fill": "tozeroy",
         "fillcolor": "red",
         "line": {
          "color": "red",
          "width": 0.5
         },
         "mode": "lines",
         "name": "BearSteepener",
         "opacity": 0.4,
         "showlegend": false,
         "type": "scatter",
         "x": [
          "2025-08-20T12:35:00+02:00",
          "2025-08-20T12:40:00+02:00"
         ],
         "y": [
          0.6504700000000001,
          0.64872
         ]
        },
        {
         "fill": "tozeroy",
         "fillcolor": "gold",
         "line": {
          "color": "gold",
          "width": 0.5
         },
         "mode": "lines",
         "name": "TwistSteepener",
         "opacity": 0.4,
         "showlegend": false,
         "type": "scatter",
         "x": [
          "2025-08-20T12:40:00+02:00",
          "2025-08-20T12:45:00+02:00"
         ],
         "y": [
          0.64872,
          0.64978
         ]
        },
        {
         "fill": "tozeroy",
         "fillcolor": "gold",
         "line": {
          "color": "gold",
          "width": 0.5
         },
         "mode": "lines",
         "name": "TwistSteepener",
         "opacity": 0.4,
         "showlegend": false,
         "type": "scatter",
         "x": [
          "2025-08-20T12:45:00+02:00",
          "2025-08-20T12:50:00+02:00"
         ],
         "y": [
          0.64978,
          0.6504300000000001
         ]
        },
        {
         "fill": "tozeroy",
         "fillcolor": "deepskyblue",
         "line": {
          "color": "deepskyblue",
          "width": 0.5
         },
         "mode": "lines",
         "name": "BullFlattener",
         "opacity": 0.4,
         "showlegend": false,
         "type": "scatter",
         "x": [
          "2025-08-20T12:50:00+02:00",
          "2025-08-20T12:55:00+02:00"
         ],
         "y": [
          0.6504300000000001,
          0.6459699999999999
         ]
        },
        {
         "fill": "tozeroy",
         "fillcolor": "deepskyblue",
         "line": {
          "color": "deepskyblue",
          "width": 0.5
         },
         "mode": "lines",
         "name": "BullFlattener",
         "opacity": 0.4,
         "showlegend": false,
         "type": "scatter",
         "x": [
          "2025-08-20T12:55:00+02:00",
          "2025-08-20T13:00:00+02:00"
         ],
         "y": [
          0.6459699999999999,
          0.6473500000000001
         ]
        },
        {
         "fill": "tozeroy",
         "fillcolor": "deepskyblue",
         "line": {
          "color": "deepskyblue",
          "width": 0.5
         },
         "mode": "lines",
         "name": "BullFlattener",
         "opacity": 0.4,
         "showlegend": false,
         "type": "scatter",
         "x": [
          "2025-08-20T13:00:00+02:00",
          "2025-08-20T13:05:00+02:00"
         ],
         "y": [
          0.6473500000000001,
          0.64991
         ]
        },
        {
         "line": {
          "color": "white",
          "width": 2
         },
         "mode": "lines",
         "name": "2s10s",
         "type": "scatter",
         "x": [
          "2025-08-18T08:00:00+02:00",
          "2025-08-18T08:05:00+02:00",
          "2025-08-18T08:10:00+02:00",
          "2025-08-18T08:15:00+02:00",
          "2025-08-18T08:20:00+02:00",
          "2025-08-18T08:25:00+02:00",
          "2025-08-18T08:30:00+02:00",
          "2025-08-18T08:35:00+02:00",
          "2025-08-18T08:40:00+02:00",
          "2025-08-18T08:45:00+02:00",
          "2025-08-18T08:50:00+02:00",
          "2025-08-18T08:55:00+02:00",
          "2025-08-18T09:00:00+02:00",
          "2025-08-18T09:05:00+02:00",
          "2025-08-18T09:10:00+02:00",
          "2025-08-18T09:15:00+02:00",
          "2025-08-18T09:20:00+02:00",
          "2025-08-18T09:25:00+02:00",
          "2025-08-18T09:30:00+02:00",
          "2025-08-18T09:35:00+02:00",
          "2025-08-18T09:40:00+02:00",
          "2025-08-18T09:45:00+02:00",
          "2025-08-18T09:50:00+02:00",
          "2025-08-18T09:55:00+02:00",
          "2025-08-18T10:00:00+02:00",
          "2025-08-18T10:05:00+02:00",
          "2025-08-18T10:10:00+02:00",
          "2025-08-18T10:15:00+02:00",
          "2025-08-18T10:20:00+02:00",
          "2025-08-18T10:25:00+02:00",
          "2025-08-18T10:30:00+02:00",
          "2025-08-18T10:35:00+02:00",
          "2025-08-18T10:40:00+02:00",
          "2025-08-18T10:45:00+02:00",
          "2025-08-18T10:50:00+02:00",
          "2025-08-18T10:55:00+02:00",
          "2025-08-18T11:00:00+02:00",
          "2025-08-18T11:05:00+02:00",
          "2025-08-18T11:10:00+02:00",
          "2025-08-18T11:15:00+02:00",
          "2025-08-18T11:20:00+02:00",
          "2025-08-18T11:25:00+02:00",
          "2025-08-18T11:30:00+02:00",
          "2025-08-18T11:35:00+02:00",
          "2025-08-18T11:40:00+02:00",
          "2025-08-18T11:45:00+02:00",
          "2025-08-18T11:50:00+02:00",
          "2025-08-18T11:55:00+02:00",
          "2025-08-18T12:00:00+02:00",
          "2025-08-18T12:05:00+02:00",
          "2025-08-18T12:10:00+02:00",
          "2025-08-18T12:15:00+02:00",
          "2025-08-18T12:20:00+02:00",
          "2025-08-18T12:25:00+02:00",
          "2025-08-18T12:30:00+02:00",
          "2025-08-18T12:35:00+02:00",
          "2025-08-18T12:40:00+02:00",
          "2025-08-18T12:45:00+02:00",
          "2025-08-18T12:50:00+02:00",
          "2025-08-18T12:55:00+02:00",
          "2025-08-18T13:00:00+02:00",
          "2025-08-18T13:05:00+02:00",
          "2025-08-18T13:10:00+02:00",
          "2025-08-18T13:15:00+02:00",
          "2025-08-18T13:20:00+02:00",
          "2025-08-18T13:25:00+02:00",
          "2025-08-18T13:30:00+02:00",
          "2025-08-18T13:35:00+02:00",
          "2025-08-18T13:40:00+02:00",
          "2025-08-18T13:45:00+02:00",
          "2025-08-18T13:50:00+02:00",
          "2025-08-18T13:55:00+02:00",
          "2025-08-18T14:00:00+02:00",
          "2025-08-18T14:05:00+02:00",
          "2025-08-18T14:10:00+02:00",
          "2025-08-18T14:15:00+02:00",
          "2025-08-18T14:20:00+02:00",
          "2025-08-18T14:25:00+02:00",
          "2025-08-18T14:30:00+02:00",
          "2025-08-18T14:35:00+02:00",
          "2025-08-18T14:40:00+02:00",
          "2025-08-18T14:45:00+02:00",
          "2025-08-18T14:50:00+02:00",
          "2025-08-18T14:55:00+02:00",
          "2025-08-18T15:00:00+02:00",
          "2025-08-18T15:05:00+02:00",
          "2025-08-18T15:10:00+02:00",
          "2025-08-18T15:15:00+02:00",
          "2025-08-18T15:20:00+02:00",
          "2025-08-18T15:25:00+02:00",
          "2025-08-18T15:30:00+02:00",
          "2025-08-18T15:35:00+02:00",
          "2025-08-18T15:40:00+02:00",
          "2025-08-18T15:45:00+02:00",
          "2025-08-18T15:50:00+02:00",
          "2025-08-18T15:55:00+02:00",
          "2025-08-18T16:00:00+02:00",
          "2025-08-18T16:05:00+02:00",
          "2025-08-18T16:10:00+02:00",
          "2025-08-18T16:15:00+02:00",
          "2025-08-18T16:20:00+02:00",
          "2025-08-18T16:25:00+02:00",
          "2025-08-18T16:30:00+02:00",
          "2025-08-18T16:35:00+02:00",
          "2025-08-18T16:40:00+02:00",
          "2025-08-18T16:45:00+02:00",
          "2025-08-18T16:50:00+02:00",
          "2025-08-18T16:55:00+02:00",
          "2025-08-18T17:00:00+02:00",
          "2025-08-18T17:05:00+02:00",
          "2025-08-18T17:10:00+02:00",
          "2025-08-18T17:15:00+02:00",
          "2025-08-18T17:20:00+02:00",
          "2025-08-18T17:25:00+02:00",
          "2025-08-18T17:30:00+02:00",
          "2025-08-18T17:35:00+02:00",
          "2025-08-18T17:40:00+02:00",
          "2025-08-18T17:45:00+02:00",
          "2025-08-18T17:50:00+02:00",
          "2025-08-18T17:55:00+02:00",
          "2025-08-18T18:00:00+02:00",
          "2025-08-18T18:05:00+02:00",
          "2025-08-18T18:10:00+02:00",
          "2025-08-18T18:15:00+02:00",
          "2025-08-18T18:20:00+02:00",
          "2025-08-18T18:25:00+02:00",
          "2025-08-18T18:30:00+02:00",
          "2025-08-18T18:35:00+02:00",
          "2025-08-19T08:00:00+02:00",
          "2025-08-19T08:05:00+02:00",
          "2025-08-19T08:10:00+02:00",
          "2025-08-19T08:15:00+02:00",
          "2025-08-19T08:20:00+02:00",
          "2025-08-19T08:25:00+02:00",
          "2025-08-19T08:30:00+02:00",
          "2025-08-19T08:35:00+02:00",
          "2025-08-19T08:40:00+02:00",
          "2025-08-19T08:45:00+02:00",
          "2025-08-19T08:50:00+02:00",
          "2025-08-19T08:55:00+02:00",
          "2025-08-19T09:00:00+02:00",
          "2025-08-19T09:05:00+02:00",
          "2025-08-19T09:10:00+02:00",
          "2025-08-19T09:15:00+02:00",
          "2025-08-19T09:20:00+02:00",
          "2025-08-19T09:25:00+02:00",
          "2025-08-19T09:30:00+02:00",
          "2025-08-19T09:35:00+02:00",
          "2025-08-19T09:40:00+02:00",
          "2025-08-19T09:45:00+02:00",
          "2025-08-19T09:50:00+02:00",
          "2025-08-19T09:55:00+02:00",
          "2025-08-19T10:00:00+02:00",
          "2025-08-19T10:05:00+02:00",
          "2025-08-19T10:10:00+02:00",
          "2025-08-19T10:15:00+02:00",
          "2025-08-19T10:20:00+02:00",
          "2025-08-19T10:25:00+02:00",
          "2025-08-19T10:30:00+02:00",
          "2025-08-19T10:35:00+02:00",
          "2025-08-19T10:40:00+02:00",
          "2025-08-19T10:45:00+02:00",
          "2025-08-19T10:50:00+02:00",
          "2025-08-19T10:55:00+02:00",
          "2025-08-19T11:00:00+02:00",
          "2025-08-19T11:05:00+02:00",
          "2025-08-19T11:10:00+02:00",
          "2025-08-19T11:15:00+02:00",
          "2025-08-19T11:20:00+02:00",
          "2025-08-19T11:25:00+02:00",
          "2025-08-19T11:30:00+02:00",
          "2025-08-19T11:35:00+02:00",
          "2025-08-19T11:40:00+02:00",
          "2025-08-19T11:45:00+02:00",
          "2025-08-19T11:50:00+02:00",
          "2025-08-19T11:55:00+02:00",
          "2025-08-19T12:00:00+02:00",
          "2025-08-19T12:05:00+02:00",
          "2025-08-19T12:10:00+02:00",
          "2025-08-19T12:15:00+02:00",
          "2025-08-19T12:20:00+02:00",
          "2025-08-19T12:25:00+02:00",
          "2025-08-19T12:30:00+02:00",
          "2025-08-19T12:35:00+02:00",
          "2025-08-19T12:40:00+02:00",
          "2025-08-19T12:45:00+02:00",
          "2025-08-19T12:50:00+02:00",
          "2025-08-19T12:55:00+02:00",
          "2025-08-19T13:00:00+02:00",
          "2025-08-19T13:05:00+02:00",
          "2025-08-19T13:10:00+02:00",
          "2025-08-19T13:15:00+02:00",
          "2025-08-19T13:20:00+02:00",
          "2025-08-19T13:25:00+02:00",
          "2025-08-19T13:30:00+02:00",
          "2025-08-19T13:35:00+02:00",
          "2025-08-19T13:40:00+02:00",
          "2025-08-19T13:45:00+02:00",
          "2025-08-19T13:50:00+02:00",
          "2025-08-19T13:55:00+02:00",
          "2025-08-19T14:00:00+02:00",
          "2025-08-19T14:05:00+02:00",
          "2025-08-19T14:10:00+02:00",
          "2025-08-19T14:15:00+02:00",
          "2025-08-19T14:20:00+02:00",
          "2025-08-19T14:25:00+02:00",
          "2025-08-19T14:30:00+02:00",
          "2025-08-19T14:35:00+02:00",
          "2025-08-19T14:40:00+02:00",
          "2025-08-19T14:45:00+02:00",
          "2025-08-19T14:50:00+02:00",
          "2025-08-19T14:55:00+02:00",
          "2025-08-19T15:00:00+02:00",
          "2025-08-19T15:05:00+02:00",
          "2025-08-19T15:10:00+02:00",
          "2025-08-19T15:15:00+02:00",
          "2025-08-19T15:20:00+02:00",
          "2025-08-19T15:25:00+02:00",
          "2025-08-19T15:30:00+02:00",
          "2025-08-19T15:35:00+02:00",
          "2025-08-19T15:40:00+02:00",
          "2025-08-19T15:45:00+02:00",
          "2025-08-19T15:50:00+02:00",
          "2025-08-19T15:55:00+02:00",
          "2025-08-19T16:00:00+02:00",
          "2025-08-19T16:05:00+02:00",
          "2025-08-19T16:10:00+02:00",
          "2025-08-19T16:15:00+02:00",
          "2025-08-19T16:20:00+02:00",
          "2025-08-19T16:25:00+02:00",
          "2025-08-19T16:30:00+02:00",
          "2025-08-19T16:35:00+02:00",
          "2025-08-19T16:40:00+02:00",
          "2025-08-19T16:45:00+02:00",
          "2025-08-19T16:50:00+02:00",
          "2025-08-19T16:55:00+02:00",
          "2025-08-19T17:00:00+02:00",
          "2025-08-19T17:05:00+02:00",
          "2025-08-19T17:10:00+02:00",
          "2025-08-19T17:15:00+02:00",
          "2025-08-19T17:20:00+02:00",
          "2025-08-19T17:25:00+02:00",
          "2025-08-19T17:30:00+02:00",
          "2025-08-19T17:35:00+02:00",
          "2025-08-19T17:40:00+02:00",
          "2025-08-19T17:45:00+02:00",
          "2025-08-19T17:50:00+02:00",
          "2025-08-19T17:55:00+02:00",
          "2025-08-19T18:00:00+02:00",
          "2025-08-19T18:05:00+02:00",
          "2025-08-19T18:10:00+02:00",
          "2025-08-19T18:15:00+02:00",
          "2025-08-19T18:20:00+02:00",
          "2025-08-19T18:25:00+02:00",
          "2025-08-19T18:30:00+02:00",
          "2025-08-19T18:35:00+02:00",
          "2025-08-19T18:40:00+02:00",
          "2025-08-19T18:45:00+02:00",
          "2025-08-19T18:50:00+02:00",
          "2025-08-19T19:00:00+02:00",
          "2025-08-20T08:00:00+02:00",
          "2025-08-20T08:05:00+02:00",
          "2025-08-20T08:10:00+02:00",
          "2025-08-20T08:15:00+02:00",
          "2025-08-20T08:20:00+02:00",
          "2025-08-20T08:25:00+02:00",
          "2025-08-20T08:30:00+02:00",
          "2025-08-20T08:35:00+02:00",
          "2025-08-20T08:40:00+02:00",
          "2025-08-20T08:45:00+02:00",
          "2025-08-20T08:50:00+02:00",
          "2025-08-20T08:55:00+02:00",
          "2025-08-20T09:00:00+02:00",
          "2025-08-20T09:05:00+02:00",
          "2025-08-20T09:10:00+02:00",
          "2025-08-20T09:15:00+02:00",
          "2025-08-20T09:20:00+02:00",
          "2025-08-20T09:25:00+02:00",
          "2025-08-20T09:30:00+02:00",
          "2025-08-20T09:35:00+02:00",
          "2025-08-20T09:40:00+02:00",
          "2025-08-20T09:45:00+02:00",
          "2025-08-20T09:50:00+02:00",
          "2025-08-20T09:55:00+02:00",
          "2025-08-20T10:00:00+02:00",
          "2025-08-20T10:05:00+02:00",
          "2025-08-20T10:10:00+02:00",
          "2025-08-20T10:15:00+02:00",
          "2025-08-20T10:20:00+02:00",
          "2025-08-20T10:25:00+02:00",
          "2025-08-20T10:30:00+02:00",
          "2025-08-20T10:35:00+02:00",
          "2025-08-20T10:40:00+02:00",
          "2025-08-20T10:45:00+02:00",
          "2025-08-20T10:50:00+02:00",
          "2025-08-20T10:55:00+02:00",
          "2025-08-20T11:00:00+02:00",
          "2025-08-20T11:05:00+02:00",
          "2025-08-20T11:10:00+02:00",
          "2025-08-20T11:15:00+02:00",
          "2025-08-20T11:20:00+02:00",
          "2025-08-20T11:25:00+02:00",
          "2025-08-20T11:30:00+02:00",
          "2025-08-20T11:35:00+02:00",
          "2025-08-20T11:40:00+02:00",
          "2025-08-20T11:45:00+02:00",
          "2025-08-20T11:50:00+02:00",
          "2025-08-20T11:55:00+02:00",
          "2025-08-20T12:00:00+02:00",
          "2025-08-20T12:05:00+02:00",
          "2025-08-20T12:10:00+02:00",
          "2025-08-20T12:15:00+02:00",
          "2025-08-20T12:20:00+02:00",
          "2025-08-20T12:25:00+02:00",
          "2025-08-20T12:30:00+02:00",
          "2025-08-20T12:35:00+02:00",
          "2025-08-20T12:40:00+02:00",
          "2025-08-20T12:45:00+02:00",
          "2025-08-20T12:50:00+02:00",
          "2025-08-20T12:55:00+02:00",
          "2025-08-20T13:00:00+02:00",
          "2025-08-20T13:05:00+02:00"
         ],
         "y": {
          "bdata": "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",
          "dtype": "f8"
         }
        },
        {
         "line": {
          "color": "green",
          "width": 10
         },
         "mode": "lines",
         "name": "BullSteepener",
         "showlegend": true,
         "type": "scatter",
         "x": [
          null
         ],
         "y": [
          null
         ]
        },
        {
         "line": {
          "color": "red",
          "width": 10
         },
         "mode": "lines",
         "name": "BearSteepener",
         "showlegend": true,
         "type": "scatter",
         "x": [
          null
         ],
         "y": [
          null
         ]
        },
        {
         "line": {
          "color": "deepskyblue",
          "width": 10
         },
         "mode": "lines",
         "name": "BullFlattener",
         "showlegend": true,
         "type": "scatter",
         "x": [
          null
         ],
         "y": [
          null
         ]
        },
        {
         "line": {
          "color": "orange",
          "width": 10
         },
         "mode": "lines",
         "name": "BearFlattener",
         "showlegend": true,
         "type": "scatter",
         "x": [
          null
         ],
         "y": [
          null
         ]
        },
        {
         "line": {
          "color": "violet",
          "width": 10
         },
         "mode": "lines",
         "name": "TwistFlattener",
         "showlegend": true,
         "type": "scatter",
         "x": [
          null
         ],
         "y": [
          null
         ]
        },
        {
         "line": {
          "color": "gold",
          "width": 10
         },
         "mode": "lines",
         "name": "TwistSteepener",
         "showlegend": true,
         "type": "scatter",
         "x": [
          null
         ],
         "y": [
          null
         ]
        },
        {
         "line": {
          "color": "grey",
          "width": 10
         },
         "mode": "lines",
         "name": "Other",
         "showlegend": true,
         "type": "scatter",
         "x": [
          null
         ],
         "y": [
          null
         ]
        }
       ],
       "layout": {
        "hovermode": "x unified",
        "legend": {
         "bgcolor": "rgba(0,0,0,0)",
         "font": {
          "color": "white",
          "size": 10
         },
         "orientation": "v",
         "x": 0.01,
         "xanchor": "left",
         "y": 1,
         "yanchor": "top"
        },
        "margin": {
         "b": 40,
         "l": 60,
         "r": 20,
         "t": 60
        },
        "paper_bgcolor": "black",
        "plot_bgcolor": "black",
        "template": {
         "data": {
          "bar": [
           {
            "error_x": {
             "color": "#2a3f5f"
            },
            "error_y": {
             "color": "#2a3f5f"
            },
            "marker": {
             "line": {
              "color": "#E5ECF6",
              "width": 0.5
             },
             "pattern": {
              "fillmode": "overlay",
              "size": 10,
              "solidity": 0.2
             }
            },
            "type": "bar"
           }
          ],
          "barpolar": [
           {
            "marker": {
             "line": {
              "color": "#E5ECF6",
              "width": 0.5
             },
             "pattern": {
              "fillmode": "overlay",
              "size": 10,
              "solidity": 0.2
             }
            },
            "type": "barpolar"
           }
          ],
          "carpet": [
           {
            "aaxis": {
             "endlinecolor": "#2a3f5f",
             "gridcolor": "white",
             "linecolor": "white",
             "minorgridcolor": "white",
             "startlinecolor": "#2a3f5f"
            },
            "baxis": {
             "endlinecolor": "#2a3f5f",
             "gridcolor": "white",
             "linecolor": "white",
             "minorgridcolor": "white",
             "startlinecolor": "#2a3f5f"
            },
            "type": "carpet"
           }
          ],
          "choropleth": [
           {
            "colorbar": {
             "outlinewidth": 0,
             "ticks": ""
            },
            "type": "choropleth"
           }
          ],
          "contour": [
           {
            "colorbar": {
             "outlinewidth": 0,
             "ticks": ""
            },
            "colorscale": [
             [
              0,
              "#0d0887"
             ],
             [
              0.1111111111111111,
              "#46039f"
             ],
             [
              0.2222222222222222,
              "#7201a8"
             ],
             [
              0.3333333333333333,
              "#9c179e"
             ],
             [
              0.4444444444444444,
              "#bd3786"
             ],
             [
              0.5555555555555556,
              "#d8576b"
             ],
             [
              0.6666666666666666,
              "#ed7953"
             ],
             [
              0.7777777777777778,
              "#fb9f3a"
             ],
             [
              0.8888888888888888,
              "#fdca26"
             ],
             [
              1,
              "#f0f921"
             ]
            ],
            "type": "contour"
           }
          ],
          "contourcarpet": [
           {
            "colorbar": {
             "outlinewidth": 0,
             "ticks": ""
            },
            "type": "contourcarpet"
           }
          ],
          "heatmap": [
           {
            "colorbar": {
             "outlinewidth": 0,
             "ticks": ""
            },
            "colorscale": [
             [
              0,
              "#0d0887"
             ],
             [
              0.1111111111111111,
              "#46039f"
             ],
             [
              0.2222222222222222,
              "#7201a8"
             ],
             [
              0.3333333333333333,
              "#9c179e"
             ],
             [
              0.4444444444444444,
              "#bd3786"
             ],
             [
              0.5555555555555556,
              "#d8576b"
             ],
             [
              0.6666666666666666,
              "#ed7953"
             ],
             [
              0.7777777777777778,
              "#fb9f3a"
             ],
             [
              0.8888888888888888,
              "#fdca26"
             ],
             [
              1,
              "#f0f921"
             ]
            ],
            "type": "heatmap"
           }
          ],
          "histogram": [
           {
            "marker": {
             "pattern": {
              "fillmode": "overlay",
              "size": 10,
              "solidity": 0.2
             }
            },
            "type": "histogram"
           }
          ],
          "histogram2d": [
           {
            "colorbar": {
             "outlinewidth": 0,
             "ticks": ""
            },
            "colorscale": [
             [
              0,
              "#0d0887"
             ],
             [
              0.1111111111111111,
              "#46039f"
             ],
             [
              0.2222222222222222,
              "#7201a8"
             ],
             [
              0.3333333333333333,
              "#9c179e"
             ],
             [
              0.4444444444444444,
              "#bd3786"
             ],
             [
              0.5555555555555556,
              "#d8576b"
             ],
             [
              0.6666666666666666,
              "#ed7953"
             ],
             [
              0.7777777777777778,
              "#fb9f3a"
             ],
             [
              0.8888888888888888,
              "#fdca26"
             ],
             [
              1,
              "#f0f921"
             ]
            ],
            "type": "histogram2d"
           }
          ],
          "histogram2dcontour": [
           {
            "colorbar": {
             "outlinewidth": 0,
             "ticks": ""
            },
            "colorscale": [
             [
              0,
              "#0d0887"
             ],
             [
              0.1111111111111111,
              "#46039f"
             ],
             [
              0.2222222222222222,
              "#7201a8"
             ],
             [
              0.3333333333333333,
              "#9c179e"
             ],
             [
              0.4444444444444444,
              "#bd3786"
             ],
             [
              0.5555555555555556,
              "#d8576b"
             ],
             [
              0.6666666666666666,
              "#ed7953"
             ],
             [
              0.7777777777777778,
              "#fb9f3a"
             ],
             [
              0.8888888888888888,
              "#fdca26"
             ],
             [
              1,
              "#f0f921"
             ]
            ],
            "type": "histogram2dcontour"
           }
          ],
          "mesh3d": [
           {
            "colorbar": {
             "outlinewidth": 0,
             "ticks": ""
            },
            "type": "mesh3d"
           }
          ],
          "parcoords": [
           {
            "line": {
             "colorbar": {
              "outlinewidth": 0,
              "ticks": ""
             }
            },
            "type": "parcoords"
           }
          ],
          "pie": [
           {
            "automargin": true,
            "type": "pie"
           }
          ],
          "scatter": [
           {
            "fillpattern": {
             "fillmode": "overlay",
             "size": 10,
             "solidity": 0.2
            },
            "type": "scatter"
           }
          ],
          "scatter3d": [
           {
            "line": {
             "colorbar": {
              "outlinewidth": 0,
              "ticks": ""
             }
            },
            "marker": {
             "colorbar": {
              "outlinewidth": 0,
              "ticks": ""
             }
            },
            "type": "scatter3d"
           }
          ],
          "scattercarpet": [
           {
            "marker": {
             "colorbar": {
              "outlinewidth": 0,
              "ticks": ""
             }
            },
            "type": "scattercarpet"
           }
          ],
          "scattergeo": [
           {
            "marker": {
             "colorbar": {
              "outlinewidth": 0,
              "ticks": ""
             }
            },
            "type": "scattergeo"
           }
          ],
          "scattergl": [
           {
            "marker": {
             "colorbar": {
              "outlinewidth": 0,
              "ticks": ""
             }
            },
            "type": "scattergl"
           }
          ],
          "scattermap": [
           {
            "marker": {
             "colorbar": {
              "outlinewidth": 0,
              "ticks": ""
             }
            },
            "type": "scattermap"
           }
          ],
          "scattermapbox": [
           {
            "marker": {
             "colorbar": {
              "outlinewidth": 0,
              "ticks": ""
             }
            },
            "type": "scattermapbox"
           }
          ],
          "scatterpolar": [
           {
            "marker": {
             "colorbar": {
              "outlinewidth": 0,
              "ticks": ""
             }
            },
            "type": "scatterpolar"
           }
          ],
          "scatterpolargl": [
           {
            "marker": {
             "colorbar": {
              "outlinewidth": 0,
              "ticks": ""
             }
            },
            "type": "scatterpolargl"
           }
          ],
          "scatterternary": [
           {
            "marker": {
             "colorbar": {
              "outlinewidth": 0,
              "ticks": ""
             }
            },
            "type": "scatterternary"
           }
          ],
          "surface": [
           {
            "colorbar": {
             "outlinewidth": 0,
             "ticks": ""
            },
            "colorscale": [
             [
              0,
              "#0d0887"
             ],
             [
              0.1111111111111111,
              "#46039f"
             ],
             [
              0.2222222222222222,
              "#7201a8"
             ],
             [
              0.3333333333333333,
              "#9c179e"
             ],
             [
              0.4444444444444444,
              "#bd3786"
             ],
             [
              0.5555555555555556,
              "#d8576b"
             ],
             [
              0.6666666666666666,
              "#ed7953"
             ],
             [
              0.7777777777777778,
              "#fb9f3a"
             ],
             [
              0.8888888888888888,
              "#fdca26"
             ],
             [
              1,
              "#f0f921"
             ]
            ],
            "type": "surface"
           }
          ],
          "table": [
           {
            "cells": {
             "fill": {
              "color": "#EBF0F8"
             },
             "line": {
              "color": "white"
             }
            },
            "header": {
             "fill": {
              "color": "#C8D4E3"
             },
             "line": {
              "color": "white"
             }
            },
            "type": "table"
           }
          ]
         },
         "layout": {
          "annotationdefaults": {
           "arrowcolor": "#2a3f5f",
           "arrowhead": 0,
           "arrowwidth": 1
          },
          "autotypenumbers": "strict",
          "coloraxis": {
           "colorbar": {
            "outlinewidth": 0,
            "ticks": ""
           }
          },
          "colorscale": {
           "diverging": [
            [
             0,
             "#8e0152"
            ],
            [
             0.1,
             "#c51b7d"
            ],
            [
             0.2,
             "#de77ae"
            ],
            [
             0.3,
             "#f1b6da"
            ],
            [
             0.4,
             "#fde0ef"
            ],
            [
             0.5,
             "#f7f7f7"
            ],
            [
             0.6,
             "#e6f5d0"
            ],
            [
             0.7,
             "#b8e186"
            ],
            [
             0.8,
             "#7fbc41"
            ],
            [
             0.9,
             "#4d9221"
            ],
            [
             1,
             "#276419"
            ]
           ],
           "sequential": [
            [
             0,
             "#0d0887"
            ],
            [
             0.1111111111111111,
             "#46039f"
            ],
            [
             0.2222222222222222,
             "#7201a8"
            ],
            [
             0.3333333333333333,
             "#9c179e"
            ],
            [
             0.4444444444444444,
             "#bd3786"
            ],
            [
             0.5555555555555556,
             "#d8576b"
            ],
            [
             0.6666666666666666,
             "#ed7953"
            ],
            [
             0.7777777777777778,
             "#fb9f3a"
            ],
            [
             0.8888888888888888,
             "#fdca26"
            ],
            [
             1,
             "#f0f921"
            ]
           ],
           "sequentialminus": [
            [
             0,
             "#0d0887"
            ],
            [
             0.1111111111111111,
             "#46039f"
            ],
            [
             0.2222222222222222,
             "#7201a8"
            ],
            [
             0.3333333333333333,
             "#9c179e"
            ],
            [
             0.4444444444444444,
             "#bd3786"
            ],
            [
             0.5555555555555556,
             "#d8576b"
            ],
            [
             0.6666666666666666,
             "#ed7953"
            ],
            [
             0.7777777777777778,
             "#fb9f3a"
            ],
            [
             0.8888888888888888,
             "#fdca26"
            ],
            [
             1,
             "#f0f921"
            ]
           ]
          },
          "colorway": [
           "#636efa",
           "#EF553B",
           "#00cc96",
           "#ab63fa",
           "#FFA15A",
           "#19d3f3",
           "#FF6692",
           "#B6E880",
           "#FF97FF",
           "#FECB52"
          ],
          "font": {
           "color": "#2a3f5f"
          },
          "geo": {
           "bgcolor": "white",
           "lakecolor": "white",
           "landcolor": "#E5ECF6",
           "showlakes": true,
           "showland": true,
           "subunitcolor": "white"
          },
          "hoverlabel": {
           "align": "left"
          },
          "hovermode": "closest",
          "mapbox": {
           "style": "light"
          },
          "paper_bgcolor": "white",
          "plot_bgcolor": "#E5ECF6",
          "polar": {
           "angularaxis": {
            "gridcolor": "white",
            "linecolor": "white",
            "ticks": ""
           },
           "bgcolor": "#E5ECF6",
           "radialaxis": {
            "gridcolor": "white",
            "linecolor": "white",
            "ticks": ""
           }
          },
          "scene": {
           "xaxis": {
            "backgroundcolor": "#E5ECF6",
            "gridcolor": "white",
            "gridwidth": 2,
            "linecolor": "white",
            "showbackground": true,
            "ticks": "",
            "zerolinecolor": "white"
           },
           "yaxis": {
            "backgroundcolor": "#E5ECF6",
            "gridcolor": "white",
            "gridwidth": 2,
            "linecolor": "white",
            "showbackground": true,
            "ticks": "",
            "zerolinecolor": "white"
           },
           "zaxis": {
            "backgroundcolor": "#E5ECF6",
            "gridcolor": "white",
            "gridwidth": 2,
            "linecolor": "white",
            "showbackground": true,
            "ticks": "",
            "zerolinecolor": "white"
           }
          },
          "shapedefaults": {
           "line": {
            "color": "#2a3f5f"
           }
          },
          "ternary": {
           "aaxis": {
            "gridcolor": "white",
            "linecolor": "white",
            "ticks": ""
           },
           "baxis": {
            "gridcolor": "white",
            "linecolor": "white",
            "ticks": ""
           },
           "bgcolor": "#E5ECF6",
           "caxis": {
            "gridcolor": "white",
            "linecolor": "white",
            "ticks": ""
           }
          },
          "title": {
           "x": 0.05
          },
          "xaxis": {
           "automargin": true,
           "gridcolor": "white",
           "linecolor": "white",
           "ticks": "",
           "title": {
            "standoff": 15
           },
           "zerolinecolor": "white",
           "zerolinewidth": 2
          },
          "yaxis": {
           "automargin": true,
           "gridcolor": "white",
           "linecolor": "white",
           "ticks": "",
           "title": {
            "standoff": 15
           },
           "zerolinecolor": "white",
           "zerolinewidth": 2
          }
         }
        },
        "title": {
         "font": {
          "color": "white",
          "size": 16
         },
         "text": "ESTR 2s10s Yield Curve (30-min lookback)",
         "x": 0.5,
         "xanchor": "center"
        },
        "xaxis": {
         "color": "white",
         "showgrid": false,
         "zeroline": false
        },
        "yaxis": {
         "color": "white",
         "range": [
          0.6352099999999998,
          0.6884699999999999
         ],
         "showgrid": false,
         "zeroline": false
        }
       }
      }
     },
     "metadata": {},
     "output_type": "display_data"
    }
   ],
   "source": [
    "plot_yield_curve_regimes_plotly(classify_regime(ESTR_combined), curve_name = \"ESTR\")"
   ]
  },
  {
   "cell_type": "code",
   "execution_count": 72,
   "id": "98f3a13e",
   "metadata": {},
   "outputs": [
    {
     "name": "stdout",
     "output_type": "stream",
     "text": [
      "Fetching 2Y UST data...\n",
      "Fetching 10Y UST data...\n"
     ]
    }
   ],
   "source": [
    "#Pull intraday data\n",
    "print(\"Fetching 2Y UST data...\")\n",
    "UST_2y = get_intraday_data(\"USGG2YR Index\", start_datetime, end_datetime)\n",
    "print(\"Fetching 10Y UST data...\")\n",
    "UST_10y = get_intraday_data(\"USGG10YR Index\", start_datetime, end_datetime)\n",
    "\n",
    "#Merge dataframes on time\n",
    "UST_combined = pd.merge(UST_2y[['time', 'close']], UST_10y[['time', 'close']], \n",
    "                      on='time', suffixes=('_2y', '_10y'))\n",
    "\n",
    "#Set time as index\n",
    "UST_combined['time'] = pd.to_datetime(UST_combined['time'], utc=True)\n",
    "UST_combined.set_index('time', inplace=True)\n",
    "UST_combined.index = UST_combined.index.tz_convert('Europe/Zurich')"
   ]
  },
  {
   "cell_type": "code",
   "execution_count": 73,
   "id": "d2276aaf",
   "metadata": {},
   "outputs": [
    {
     "data": {
      "application/vnd.plotly.v1+json": {
       "config": {
        "plotlyServerURL": "https://plot.ly"
       },
       "data": [
        {
         "fill": "tozeroy",
         "fillcolor": "grey",
         "line": {
          "color": "grey",
          "width": 0.5
         },
         "mode": "lines",
         "name": "Other",
         "opacity": 0.4,
         "showlegend": false,
         "type": "scatter",
         "x": [
          "2025-08-18T02:00:00+02:00",
          "2025-08-18T02:05:00+02:00"
         ],
         "y": [
          0.5633999999999997,
          0.5633999999999997
         ]
        },
        {
         "fill": "tozeroy",
         "fillcolor": "grey",
         "line": {
          "color": "grey",
          "width": 0.5
         },
         "mode": "lines",
         "name": "Other",
         "opacity": 0.4,
         "showlegend": false,
         "type": "scatter",
         "x": [
          "2025-08-18T02:05:00+02:00",
          "2025-08-18T02:10:00+02:00"
         ],
         "y": [
          0.5633999999999997,
          0.5612999999999997
         ]
        },
        {
         "fill": "tozeroy",
         "fillcolor": "grey",
         "line": {
          "color": "grey",
          "width": 0.5
         },
         "mode": "lines",
         "name": "Other",
         "opacity": 0.4,
         "showlegend": false,
         "type": "scatter",
         "x": [
          "2025-08-18T02:10:00+02:00",
          "2025-08-18T02:15:00+02:00"
         ],
         "y": [
          0.5612999999999997,
          0.5634999999999999
         ]
        },
        {
         "fill": "tozeroy",
         "fillcolor": "grey",
         "line": {
          "color": "grey",
          "width": 0.5
         },
         "mode": "lines",
         "name": "Other",
         "opacity": 0.4,
         "showlegend": false,
         "type": "scatter",
         "x": [
          "2025-08-18T02:15:00+02:00",
          "2025-08-18T02:20:00+02:00"
         ],
         "y": [
          0.5634999999999999,
          0.5655000000000001
         ]
        },
        {
         "fill": "tozeroy",
         "fillcolor": "grey",
         "line": {
          "color": "grey",
          "width": 0.5
         },
         "mode": "lines",
         "name": "Other",
         "opacity": 0.4,
         "showlegend": false,
         "type": "scatter",
         "x": [
          "2025-08-18T02:20:00+02:00",
          "2025-08-18T02:25:00+02:00"
         ],
         "y": [
          0.5655000000000001,
          0.5636000000000001
         ]
        },
        {
         "fill": "tozeroy",
         "fillcolor": "green",
         "line": {
          "color": "green",
          "width": 0.5
         },
         "mode": "lines",
         "name": "BullSteepener",
         "opacity": 0.4,
         "showlegend": false,
         "type": "scatter",
         "x": [
          "2025-08-18T02:25:00+02:00",
          "2025-08-18T02:30:00+02:00"
         ],
         "y": [
          0.5636000000000001,
          0.5636000000000001
         ]
        },
        {
         "fill": "tozeroy",
         "fillcolor": "deepskyblue",
         "line": {
          "color": "deepskyblue",
          "width": 0.5
         },
         "mode": "lines",
         "name": "BullFlattener",
         "opacity": 0.4,
         "showlegend": false,
         "type": "scatter",
         "x": [
          "2025-08-18T02:30:00+02:00",
          "2025-08-18T02:35:00+02:00"
         ],
         "y": [
          0.5636000000000001,
          0.5616000000000003
         ]
        },
        {
         "fill": "tozeroy",
         "fillcolor": "green",
         "line": {
          "color": "green",
          "width": 0.5
         },
         "mode": "lines",
         "name": "BullSteepener",
         "opacity": 0.4,
         "showlegend": false,
         "type": "scatter",
         "x": [
          "2025-08-18T02:35:00+02:00",
          "2025-08-18T02:40:00+02:00"
         ],
         "y": [
          0.5616000000000003,
          0.5637000000000003
         ]
        },
        {
         "fill": "tozeroy",
         "fillcolor": "deepskyblue",
         "line": {
          "color": "deepskyblue",
          "width": 0.5
         },
         "mode": "lines",
         "name": "BullFlattener",
         "opacity": 0.4,
         "showlegend": false,
         "type": "scatter",
         "x": [
          "2025-08-18T02:40:00+02:00",
          "2025-08-18T02:45:00+02:00"
         ],
         "y": [
          0.5637000000000003,
          0.5618000000000003
         ]
        },
        {
         "fill": "tozeroy",
         "fillcolor": "deepskyblue",
         "line": {
          "color": "deepskyblue",
          "width": 0.5
         },
         "mode": "lines",
         "name": "BullFlattener",
         "opacity": 0.4,
         "showlegend": false,
         "type": "scatter",
         "x": [
          "2025-08-18T02:45:00+02:00",
          "2025-08-18T02:50:00+02:00"
         ],
         "y": [
          0.5618000000000003,
          0.5637000000000003
         ]
        },
        {
         "fill": "tozeroy",
         "fillcolor": "deepskyblue",
         "line": {
          "color": "deepskyblue",
          "width": 0.5
         },
         "mode": "lines",
         "name": "BullFlattener",
         "opacity": 0.4,
         "showlegend": false,
         "type": "scatter",
         "x": [
          "2025-08-18T02:50:00+02:00",
          "2025-08-18T02:55:00+02:00"
         ],
         "y": [
          0.5637000000000003,
          0.5618000000000003
         ]
        },
        {
         "fill": "tozeroy",
         "fillcolor": "deepskyblue",
         "line": {
          "color": "deepskyblue",
          "width": 0.5
         },
         "mode": "lines",
         "name": "BullFlattener",
         "opacity": 0.4,
         "showlegend": false,
         "type": "scatter",
         "x": [
          "2025-08-18T02:55:00+02:00",
          "2025-08-18T03:00:00+02:00"
         ],
         "y": [
          0.5618000000000003,
          0.5597000000000003
         ]
        },
        {
         "fill": "tozeroy",
         "fillcolor": "deepskyblue",
         "line": {
          "color": "deepskyblue",
          "width": 0.5
         },
         "mode": "lines",
         "name": "BullFlattener",
         "opacity": 0.4,
         "showlegend": false,
         "type": "scatter",
         "x": [
          "2025-08-18T03:00:00+02:00",
          "2025-08-18T03:05:00+02:00"
         ],
         "y": [
          0.5597000000000003,
          0.5597000000000003
         ]
        },
        {
         "fill": "tozeroy",
         "fillcolor": "violet",
         "line": {
          "color": "violet",
          "width": 0.5
         },
         "mode": "lines",
         "name": "TwistFlattener",
         "opacity": 0.4,
         "showlegend": false,
         "type": "scatter",
         "x": [
          "2025-08-18T03:05:00+02:00",
          "2025-08-18T03:10:00+02:00"
         ],
         "y": [
          0.5597000000000003,
          0.5597000000000003
         ]
        },
        {
         "fill": "tozeroy",
         "fillcolor": "orange",
         "line": {
          "color": "orange",
          "width": 0.5
         },
         "mode": "lines",
         "name": "BearFlattener",
         "opacity": 0.4,
         "showlegend": false,
         "type": "scatter",
         "x": [
          "2025-08-18T03:10:00+02:00",
          "2025-08-18T03:15:00+02:00"
         ],
         "y": [
          0.5597000000000003,
          0.5597000000000003
         ]
        },
        {
         "fill": "tozeroy",
         "fillcolor": "orange",
         "line": {
          "color": "orange",
          "width": 0.5
         },
         "mode": "lines",
         "name": "BearFlattener",
         "opacity": 0.4,
         "showlegend": false,
         "type": "scatter",
         "x": [
          "2025-08-18T03:15:00+02:00",
          "2025-08-18T03:20:00+02:00"
         ],
         "y": [
          0.5597000000000003,
          0.5596000000000001
         ]
        },
        {
         "fill": "tozeroy",
         "fillcolor": "orange",
         "line": {
          "color": "orange",
          "width": 0.5
         },
         "mode": "lines",
         "name": "BearFlattener",
         "opacity": 0.4,
         "showlegend": false,
         "type": "scatter",
         "x": [
          "2025-08-18T03:20:00+02:00",
          "2025-08-18T03:25:00+02:00"
         ],
         "y": [
          0.5596000000000001,
          0.5596000000000001
         ]
        },
        {
         "fill": "tozeroy",
         "fillcolor": "orange",
         "line": {
          "color": "orange",
          "width": 0.5
         },
         "mode": "lines",
         "name": "BearFlattener",
         "opacity": 0.4,
         "showlegend": false,
         "type": "scatter",
         "x": [
          "2025-08-18T03:25:00+02:00",
          "2025-08-18T03:30:00+02:00"
         ],
         "y": [
          0.5596000000000001,
          0.5596000000000001
         ]
        },
        {
         "fill": "tozeroy",
         "fillcolor": "deepskyblue",
         "line": {
          "color": "deepskyblue",
          "width": 0.5
         },
         "mode": "lines",
         "name": "BullFlattener",
         "opacity": 0.4,
         "showlegend": false,
         "type": "scatter",
         "x": [
          "2025-08-18T03:30:00+02:00",
          "2025-08-18T03:35:00+02:00"
         ],
         "y": [
          0.5596000000000001,
          0.5576999999999996
         ]
        },
        {
         "fill": "tozeroy",
         "fillcolor": "deepskyblue",
         "line": {
          "color": "deepskyblue",
          "width": 0.5
         },
         "mode": "lines",
         "name": "BullFlattener",
         "opacity": 0.4,
         "showlegend": false,
         "type": "scatter",
         "x": [
          "2025-08-18T03:35:00+02:00",
          "2025-08-18T03:40:00+02:00"
         ],
         "y": [
          0.5576999999999996,
          0.5576999999999996
         ]
        },
        {
         "fill": "tozeroy",
         "fillcolor": "deepskyblue",
         "line": {
          "color": "deepskyblue",
          "width": 0.5
         },
         "mode": "lines",
         "name": "BullFlattener",
         "opacity": 0.4,
         "showlegend": false,
         "type": "scatter",
         "x": [
          "2025-08-18T03:40:00+02:00",
          "2025-08-18T03:45:00+02:00"
         ],
         "y": [
          0.5576999999999996,
          0.5576999999999996
         ]
        },
        {
         "fill": "tozeroy",
         "fillcolor": "deepskyblue",
         "line": {
          "color": "deepskyblue",
          "width": 0.5
         },
         "mode": "lines",
         "name": "BullFlattener",
         "opacity": 0.4,
         "showlegend": false,
         "type": "scatter",
         "x": [
          "2025-08-18T03:45:00+02:00",
          "2025-08-18T03:50:00+02:00"
         ],
         "y": [
          0.5576999999999996,
          0.5576999999999996
         ]
        },
        {
         "fill": "tozeroy",
         "fillcolor": "deepskyblue",
         "line": {
          "color": "deepskyblue",
          "width": 0.5
         },
         "mode": "lines",
         "name": "BullFlattener",
         "opacity": 0.4,
         "showlegend": false,
         "type": "scatter",
         "x": [
          "2025-08-18T03:50:00+02:00",
          "2025-08-18T03:55:00+02:00"
         ],
         "y": [
          0.5576999999999996,
          0.5576999999999996
         ]
        },
        {
         "fill": "tozeroy",
         "fillcolor": "deepskyblue",
         "line": {
          "color": "deepskyblue",
          "width": 0.5
         },
         "mode": "lines",
         "name": "BullFlattener",
         "opacity": 0.4,
         "showlegend": false,
         "type": "scatter",
         "x": [
          "2025-08-18T03:55:00+02:00",
          "2025-08-18T04:00:00+02:00"
         ],
         "y": [
          0.5576999999999996,
          0.5578999999999996
         ]
        },
        {
         "fill": "tozeroy",
         "fillcolor": "green",
         "line": {
          "color": "green",
          "width": 0.5
         },
         "mode": "lines",
         "name": "BullSteepener",
         "opacity": 0.4,
         "showlegend": false,
         "type": "scatter",
         "x": [
          "2025-08-18T04:00:00+02:00",
          "2025-08-18T04:05:00+02:00"
         ],
         "y": [
          0.5578999999999996,
          0.5597999999999996
         ]
        },
        {
         "fill": "tozeroy",
         "fillcolor": "green",
         "line": {
          "color": "green",
          "width": 0.5
         },
         "mode": "lines",
         "name": "BullSteepener",
         "opacity": 0.4,
         "showlegend": false,
         "type": "scatter",
         "x": [
          "2025-08-18T04:05:00+02:00",
          "2025-08-18T04:10:00+02:00"
         ],
         "y": [
          0.5597999999999996,
          0.5597999999999996
         ]
        },
        {
         "fill": "tozeroy",
         "fillcolor": "green",
         "line": {
          "color": "green",
          "width": 0.5
         },
         "mode": "lines",
         "name": "BullSteepener",
         "opacity": 0.4,
         "showlegend": false,
         "type": "scatter",
         "x": [
          "2025-08-18T04:10:00+02:00",
          "2025-08-18T04:15:00+02:00"
         ],
         "y": [
          0.5597999999999996,
          0.5597999999999996
         ]
        },
        {
         "fill": "tozeroy",
         "fillcolor": "gold",
         "line": {
          "color": "gold",
          "width": 0.5
         },
         "mode": "lines",
         "name": "TwistSteepener",
         "opacity": 0.4,
         "showlegend": false,
         "type": "scatter",
         "x": [
          "2025-08-18T04:15:00+02:00",
          "2025-08-18T04:20:00+02:00"
         ],
         "y": [
          0.5597999999999996,
          0.5618000000000003
         ]
        },
        {
         "fill": "tozeroy",
         "fillcolor": "gold",
         "line": {
          "color": "gold",
          "width": 0.5
         },
         "mode": "lines",
         "name": "TwistSteepener",
         "opacity": 0.4,
         "showlegend": false,
         "type": "scatter",
         "x": [
          "2025-08-18T04:20:00+02:00",
          "2025-08-18T04:25:00+02:00"
         ],
         "y": [
          0.5618000000000003,
          0.5618000000000003
         ]
        },
        {
         "fill": "tozeroy",
         "fillcolor": "red",
         "line": {
          "color": "red",
          "width": 0.5
         },
         "mode": "lines",
         "name": "BearSteepener",
         "opacity": 0.4,
         "showlegend": false,
         "type": "scatter",
         "x": [
          "2025-08-18T04:25:00+02:00",
          "2025-08-18T04:30:00+02:00"
         ],
         "y": [
          0.5618000000000003,
          0.5618000000000003
         ]
        },
        {
         "fill": "tozeroy",
         "fillcolor": "orange",
         "line": {
          "color": "orange",
          "width": 0.5
         },
         "mode": "lines",
         "name": "BearFlattener",
         "opacity": 0.4,
         "showlegend": false,
         "type": "scatter",
         "x": [
          "2025-08-18T04:30:00+02:00",
          "2025-08-18T04:35:00+02:00"
         ],
         "y": [
          0.5618000000000003,
          0.5597000000000003
         ]
        },
        {
         "fill": "tozeroy",
         "fillcolor": "red",
         "line": {
          "color": "red",
          "width": 0.5
         },
         "mode": "lines",
         "name": "BearSteepener",
         "opacity": 0.4,
         "showlegend": false,
         "type": "scatter",
         "x": [
          "2025-08-18T04:35:00+02:00",
          "2025-08-18T04:40:00+02:00"
         ],
         "y": [
          0.5597000000000003,
          0.5618000000000003
         ]
        },
        {
         "fill": "tozeroy",
         "fillcolor": "red",
         "line": {
          "color": "red",
          "width": 0.5
         },
         "mode": "lines",
         "name": "BearSteepener",
         "opacity": 0.4,
         "showlegend": false,
         "type": "scatter",
         "x": [
          "2025-08-18T04:40:00+02:00",
          "2025-08-18T04:45:00+02:00"
         ],
         "y": [
          0.5618000000000003,
          0.5618000000000003
         ]
        },
        {
         "fill": "tozeroy",
         "fillcolor": "grey",
         "line": {
          "color": "grey",
          "width": 0.5
         },
         "mode": "lines",
         "name": "Other",
         "opacity": 0.4,
         "showlegend": false,
         "type": "scatter",
         "x": [
          "2025-08-18T04:45:00+02:00",
          "2025-08-18T04:50:00+02:00"
         ],
         "y": [
          0.5618000000000003,
          0.5618000000000003
         ]
        },
        {
         "fill": "tozeroy",
         "fillcolor": "deepskyblue",
         "line": {
          "color": "deepskyblue",
          "width": 0.5
         },
         "mode": "lines",
         "name": "BullFlattener",
         "opacity": 0.4,
         "showlegend": false,
         "type": "scatter",
         "x": [
          "2025-08-18T04:50:00+02:00",
          "2025-08-18T04:55:00+02:00"
         ],
         "y": [
          0.5618000000000003,
          0.5597999999999996
         ]
        },
        {
         "fill": "tozeroy",
         "fillcolor": "green",
         "line": {
          "color": "green",
          "width": 0.5
         },
         "mode": "lines",
         "name": "BullSteepener",
         "opacity": 0.4,
         "showlegend": false,
         "type": "scatter",
         "x": [
          "2025-08-18T04:55:00+02:00",
          "2025-08-18T05:00:00+02:00"
         ],
         "y": [
          0.5597999999999996,
          0.5618999999999996
         ]
        },
        {
         "fill": "tozeroy",
         "fillcolor": "green",
         "line": {
          "color": "green",
          "width": 0.5
         },
         "mode": "lines",
         "name": "BullSteepener",
         "opacity": 0.4,
         "showlegend": false,
         "type": "scatter",
         "x": [
          "2025-08-18T05:00:00+02:00",
          "2025-08-18T05:05:00+02:00"
         ],
         "y": [
          0.5618999999999996,
          0.5618999999999996
         ]
        },
        {
         "fill": "tozeroy",
         "fillcolor": "deepskyblue",
         "line": {
          "color": "deepskyblue",
          "width": 0.5
         },
         "mode": "lines",
         "name": "BullFlattener",
         "opacity": 0.4,
         "showlegend": false,
         "type": "scatter",
         "x": [
          "2025-08-18T05:05:00+02:00",
          "2025-08-18T05:10:00+02:00"
         ],
         "y": [
          0.5618999999999996,
          0.5599999999999996
         ]
        },
        {
         "fill": "tozeroy",
         "fillcolor": "deepskyblue",
         "line": {
          "color": "deepskyblue",
          "width": 0.5
         },
         "mode": "lines",
         "name": "BullFlattener",
         "opacity": 0.4,
         "showlegend": false,
         "type": "scatter",
         "x": [
          "2025-08-18T05:10:00+02:00",
          "2025-08-18T05:15:00+02:00"
         ],
         "y": [
          0.5599999999999996,
          0.5599999999999996
         ]
        },
        {
         "fill": "tozeroy",
         "fillcolor": "deepskyblue",
         "line": {
          "color": "deepskyblue",
          "width": 0.5
         },
         "mode": "lines",
         "name": "BullFlattener",
         "opacity": 0.4,
         "showlegend": false,
         "type": "scatter",
         "x": [
          "2025-08-18T05:15:00+02:00",
          "2025-08-18T05:20:00+02:00"
         ],
         "y": [
          0.5599999999999996,
          0.5599999999999996
         ]
        },
        {
         "fill": "tozeroy",
         "fillcolor": "green",
         "line": {
          "color": "green",
          "width": 0.5
         },
         "mode": "lines",
         "name": "BullSteepener",
         "opacity": 0.4,
         "showlegend": false,
         "type": "scatter",
         "x": [
          "2025-08-18T05:20:00+02:00",
          "2025-08-18T05:25:00+02:00"
         ],
         "y": [
          0.5599999999999996,
          0.5599999999999996
         ]
        },
        {
         "fill": "tozeroy",
         "fillcolor": "deepskyblue",
         "line": {
          "color": "deepskyblue",
          "width": 0.5
         },
         "mode": "lines",
         "name": "BullFlattener",
         "opacity": 0.4,
         "showlegend": false,
         "type": "scatter",
         "x": [
          "2025-08-18T05:25:00+02:00",
          "2025-08-18T05:30:00+02:00"
         ],
         "y": [
          0.5599999999999996,
          0.5599999999999996
         ]
        },
        {
         "fill": "tozeroy",
         "fillcolor": "deepskyblue",
         "line": {
          "color": "deepskyblue",
          "width": 0.5
         },
         "mode": "lines",
         "name": "BullFlattener",
         "opacity": 0.4,
         "showlegend": false,
         "type": "scatter",
         "x": [
          "2025-08-18T05:30:00+02:00",
          "2025-08-18T05:35:00+02:00"
         ],
         "y": [
          0.5599999999999996,
          0.5599999999999996
         ]
        },
        {
         "fill": "tozeroy",
         "fillcolor": "green",
         "line": {
          "color": "green",
          "width": 0.5
         },
         "mode": "lines",
         "name": "BullSteepener",
         "opacity": 0.4,
         "showlegend": false,
         "type": "scatter",
         "x": [
          "2025-08-18T05:35:00+02:00",
          "2025-08-18T05:40:00+02:00"
         ],
         "y": [
          0.5599999999999996,
          0.5620999999999996
         ]
        },
        {
         "fill": "tozeroy",
         "fillcolor": "green",
         "line": {
          "color": "green",
          "width": 0.5
         },
         "mode": "lines",
         "name": "BullSteepener",
         "opacity": 0.4,
         "showlegend": false,
         "type": "scatter",
         "x": [
          "2025-08-18T05:40:00+02:00",
          "2025-08-18T05:45:00+02:00"
         ],
         "y": [
          0.5620999999999996,
          0.5620999999999996
         ]
        },
        {
         "fill": "tozeroy",
         "fillcolor": "gold",
         "line": {
          "color": "gold",
          "width": 0.5
         },
         "mode": "lines",
         "name": "TwistSteepener",
         "opacity": 0.4,
         "showlegend": false,
         "type": "scatter",
         "x": [
          "2025-08-18T05:45:00+02:00",
          "2025-08-18T05:50:00+02:00"
         ],
         "y": [
          0.5620999999999996,
          0.5639999999999996
         ]
        },
        {
         "fill": "tozeroy",
         "fillcolor": "green",
         "line": {
          "color": "green",
          "width": 0.5
         },
         "mode": "lines",
         "name": "BullSteepener",
         "opacity": 0.4,
         "showlegend": false,
         "type": "scatter",
         "x": [
          "2025-08-18T05:50:00+02:00",
          "2025-08-18T05:55:00+02:00"
         ],
         "y": [
          0.5639999999999996,
          0.5620999999999996
         ]
        },
        {
         "fill": "tozeroy",
         "fillcolor": "green",
         "line": {
          "color": "green",
          "width": 0.5
         },
         "mode": "lines",
         "name": "BullSteepener",
         "opacity": 0.4,
         "showlegend": false,
         "type": "scatter",
         "x": [
          "2025-08-18T05:55:00+02:00",
          "2025-08-18T06:00:00+02:00"
         ],
         "y": [
          0.5620999999999996,
          0.5620999999999996
         ]
        },
        {
         "fill": "tozeroy",
         "fillcolor": "green",
         "line": {
          "color": "green",
          "width": 0.5
         },
         "mode": "lines",
         "name": "BullSteepener",
         "opacity": 0.4,
         "showlegend": false,
         "type": "scatter",
         "x": [
          "2025-08-18T06:00:00+02:00",
          "2025-08-18T06:05:00+02:00"
         ],
         "y": [
          0.5620999999999996,
          0.5620999999999996
         ]
        },
        {
         "fill": "tozeroy",
         "fillcolor": "orange",
         "line": {
          "color": "orange",
          "width": 0.5
         },
         "mode": "lines",
         "name": "BearFlattener",
         "opacity": 0.4,
         "showlegend": false,
         "type": "scatter",
         "x": [
          "2025-08-18T06:05:00+02:00",
          "2025-08-18T06:10:00+02:00"
         ],
         "y": [
          0.5620999999999996,
          0.5599999999999996
         ]
        },
        {
         "fill": "tozeroy",
         "fillcolor": "grey",
         "line": {
          "color": "grey",
          "width": 0.5
         },
         "mode": "lines",
         "name": "Other",
         "opacity": 0.4,
         "showlegend": false,
         "type": "scatter",
         "x": [
          "2025-08-18T06:10:00+02:00",
          "2025-08-18T06:15:00+02:00"
         ],
         "y": [
          0.5599999999999996,
          0.5620999999999996
         ]
        },
        {
         "fill": "tozeroy",
         "fillcolor": "deepskyblue",
         "line": {
          "color": "deepskyblue",
          "width": 0.5
         },
         "mode": "lines",
         "name": "BullFlattener",
         "opacity": 0.4,
         "showlegend": false,
         "type": "scatter",
         "x": [
          "2025-08-18T06:15:00+02:00",
          "2025-08-18T06:20:00+02:00"
         ],
         "y": [
          0.5620999999999996,
          0.5620999999999996
         ]
        },
        {
         "fill": "tozeroy",
         "fillcolor": "grey",
         "line": {
          "color": "grey",
          "width": 0.5
         },
         "mode": "lines",
         "name": "Other",
         "opacity": 0.4,
         "showlegend": false,
         "type": "scatter",
         "x": [
          "2025-08-18T06:20:00+02:00",
          "2025-08-18T06:25:00+02:00"
         ],
         "y": [
          0.5620999999999996,
          0.5620999999999996
         ]
        },
        {
         "fill": "tozeroy",
         "fillcolor": "grey",
         "line": {
          "color": "grey",
          "width": 0.5
         },
         "mode": "lines",
         "name": "Other",
         "opacity": 0.4,
         "showlegend": false,
         "type": "scatter",
         "x": [
          "2025-08-18T06:25:00+02:00",
          "2025-08-18T06:30:00+02:00"
         ],
         "y": [
          0.5620999999999996,
          0.5620999999999996
         ]
        },
        {
         "fill": "tozeroy",
         "fillcolor": "grey",
         "line": {
          "color": "grey",
          "width": 0.5
         },
         "mode": "lines",
         "name": "Other",
         "opacity": 0.4,
         "showlegend": false,
         "type": "scatter",
         "x": [
          "2025-08-18T06:30:00+02:00",
          "2025-08-18T06:35:00+02:00"
         ],
         "y": [
          0.5620999999999996,
          0.5620999999999996
         ]
        },
        {
         "fill": "tozeroy",
         "fillcolor": "gold",
         "line": {
          "color": "gold",
          "width": 0.5
         },
         "mode": "lines",
         "name": "TwistSteepener",
         "opacity": 0.4,
         "showlegend": false,
         "type": "scatter",
         "x": [
          "2025-08-18T06:35:00+02:00",
          "2025-08-18T06:40:00+02:00"
         ],
         "y": [
          0.5620999999999996,
          0.5639999999999996
         ]
        },
        {
         "fill": "tozeroy",
         "fillcolor": "grey",
         "line": {
          "color": "grey",
          "width": 0.5
         },
         "mode": "lines",
         "name": "Other",
         "opacity": 0.4,
         "showlegend": false,
         "type": "scatter",
         "x": [
          "2025-08-18T06:40:00+02:00",
          "2025-08-18T06:45:00+02:00"
         ],
         "y": [
          0.5639999999999996,
          0.5620999999999996
         ]
        },
        {
         "fill": "tozeroy",
         "fillcolor": "green",
         "line": {
          "color": "green",
          "width": 0.5
         },
         "mode": "lines",
         "name": "BullSteepener",
         "opacity": 0.4,
         "showlegend": false,
         "type": "scatter",
         "x": [
          "2025-08-18T06:45:00+02:00",
          "2025-08-18T06:50:00+02:00"
         ],
         "y": [
          0.5620999999999996,
          0.5641999999999996
         ]
        },
        {
         "fill": "tozeroy",
         "fillcolor": "deepskyblue",
         "line": {
          "color": "deepskyblue",
          "width": 0.5
         },
         "mode": "lines",
         "name": "BullFlattener",
         "opacity": 0.4,
         "showlegend": false,
         "type": "scatter",
         "x": [
          "2025-08-18T06:50:00+02:00",
          "2025-08-18T06:55:00+02:00"
         ],
         "y": [
          0.5641999999999996,
          0.5600999999999998
         ]
        },
        {
         "fill": "tozeroy",
         "fillcolor": "green",
         "line": {
          "color": "green",
          "width": 0.5
         },
         "mode": "lines",
         "name": "BullSteepener",
         "opacity": 0.4,
         "showlegend": false,
         "type": "scatter",
         "x": [
          "2025-08-18T06:55:00+02:00",
          "2025-08-18T07:00:00+02:00"
         ],
         "y": [
          0.5600999999999998,
          0.5622999999999996
         ]
        },
        {
         "fill": "tozeroy",
         "fillcolor": "orange",
         "line": {
          "color": "orange",
          "width": 0.5
         },
         "mode": "lines",
         "name": "BearFlattener",
         "opacity": 0.4,
         "showlegend": false,
         "type": "scatter",
         "x": [
          "2025-08-18T07:00:00+02:00",
          "2025-08-18T07:05:00+02:00"
         ],
         "y": [
          0.5622999999999996,
          0.5601999999999996
         ]
        },
        {
         "fill": "tozeroy",
         "fillcolor": "violet",
         "line": {
          "color": "violet",
          "width": 0.5
         },
         "mode": "lines",
         "name": "TwistFlattener",
         "opacity": 0.4,
         "showlegend": false,
         "type": "scatter",
         "x": [
          "2025-08-18T07:05:00+02:00",
          "2025-08-18T07:10:00+02:00"
         ],
         "y": [
          0.5601999999999996,
          0.5601999999999996
         ]
        },
        {
         "fill": "tozeroy",
         "fillcolor": "orange",
         "line": {
          "color": "orange",
          "width": 0.5
         },
         "mode": "lines",
         "name": "BearFlattener",
         "opacity": 0.4,
         "showlegend": false,
         "type": "scatter",
         "x": [
          "2025-08-18T07:10:00+02:00",
          "2025-08-18T07:15:00+02:00"
         ],
         "y": [
          0.5601999999999996,
          0.5601999999999996
         ]
        },
        {
         "fill": "tozeroy",
         "fillcolor": "orange",
         "line": {
          "color": "orange",
          "width": 0.5
         },
         "mode": "lines",
         "name": "BearFlattener",
         "opacity": 0.4,
         "showlegend": false,
         "type": "scatter",
         "x": [
          "2025-08-18T07:15:00+02:00",
          "2025-08-18T07:20:00+02:00"
         ],
         "y": [
          0.5601999999999996,
          0.5601999999999996
         ]
        },
        {
         "fill": "tozeroy",
         "fillcolor": "red",
         "line": {
          "color": "red",
          "width": 0.5
         },
         "mode": "lines",
         "name": "BearSteepener",
         "opacity": 0.4,
         "showlegend": false,
         "type": "scatter",
         "x": [
          "2025-08-18T07:20:00+02:00",
          "2025-08-18T07:25:00+02:00"
         ],
         "y": [
          0.5601999999999996,
          0.5601999999999996
         ]
        },
        {
         "fill": "tozeroy",
         "fillcolor": "orange",
         "line": {
          "color": "orange",
          "width": 0.5
         },
         "mode": "lines",
         "name": "BearFlattener",
         "opacity": 0.4,
         "showlegend": false,
         "type": "scatter",
         "x": [
          "2025-08-18T07:25:00+02:00",
          "2025-08-18T07:30:00+02:00"
         ],
         "y": [
          0.5601999999999996,
          0.5601999999999996
         ]
        },
        {
         "fill": "tozeroy",
         "fillcolor": "grey",
         "line": {
          "color": "grey",
          "width": 0.5
         },
         "mode": "lines",
         "name": "Other",
         "opacity": 0.4,
         "showlegend": false,
         "type": "scatter",
         "x": [
          "2025-08-18T07:30:00+02:00",
          "2025-08-18T07:35:00+02:00"
         ],
         "y": [
          0.5601999999999996,
          0.5601999999999996
         ]
        },
        {
         "fill": "tozeroy",
         "fillcolor": "deepskyblue",
         "line": {
          "color": "deepskyblue",
          "width": 0.5
         },
         "mode": "lines",
         "name": "BullFlattener",
         "opacity": 0.4,
         "showlegend": false,
         "type": "scatter",
         "x": [
          "2025-08-18T07:35:00+02:00",
          "2025-08-18T07:40:00+02:00"
         ],
         "y": [
          0.5601999999999996,
          0.5581999999999998
         ]
        },
        {
         "fill": "tozeroy",
         "fillcolor": "deepskyblue",
         "line": {
          "color": "deepskyblue",
          "width": 0.5
         },
         "mode": "lines",
         "name": "BullFlattener",
         "opacity": 0.4,
         "showlegend": false,
         "type": "scatter",
         "x": [
          "2025-08-18T07:40:00+02:00",
          "2025-08-18T07:45:00+02:00"
         ],
         "y": [
          0.5581999999999998,
          0.5581999999999998
         ]
        },
        {
         "fill": "tozeroy",
         "fillcolor": "deepskyblue",
         "line": {
          "color": "deepskyblue",
          "width": 0.5
         },
         "mode": "lines",
         "name": "BullFlattener",
         "opacity": 0.4,
         "showlegend": false,
         "type": "scatter",
         "x": [
          "2025-08-18T07:45:00+02:00",
          "2025-08-18T07:50:00+02:00"
         ],
         "y": [
          0.5581999999999998,
          0.5581999999999998
         ]
        },
        {
         "fill": "tozeroy",
         "fillcolor": "deepskyblue",
         "line": {
          "color": "deepskyblue",
          "width": 0.5
         },
         "mode": "lines",
         "name": "BullFlattener",
         "opacity": 0.4,
         "showlegend": false,
         "type": "scatter",
         "x": [
          "2025-08-18T07:50:00+02:00",
          "2025-08-18T07:55:00+02:00"
         ],
         "y": [
          0.5581999999999998,
          0.5581999999999998
         ]
        },
        {
         "fill": "tozeroy",
         "fillcolor": "grey",
         "line": {
          "color": "grey",
          "width": 0.5
         },
         "mode": "lines",
         "name": "Other",
         "opacity": 0.4,
         "showlegend": false,
         "type": "scatter",
         "x": [
          "2025-08-18T07:55:00+02:00",
          "2025-08-18T08:00:00+02:00"
         ],
         "y": [
          0.5581999999999998,
          0.5601999999999996
         ]
        },
        {
         "fill": "tozeroy",
         "fillcolor": "grey",
         "line": {
          "color": "grey",
          "width": 0.5
         },
         "mode": "lines",
         "name": "Other",
         "opacity": 0.4,
         "showlegend": false,
         "type": "scatter",
         "x": [
          "2025-08-18T08:00:00+02:00",
          "2025-08-18T08:05:00+02:00"
         ],
         "y": [
          0.5601999999999996,
          0.5601999999999996
         ]
        },
        {
         "fill": "tozeroy",
         "fillcolor": "red",
         "line": {
          "color": "red",
          "width": 0.5
         },
         "mode": "lines",
         "name": "BearSteepener",
         "opacity": 0.4,
         "showlegend": false,
         "type": "scatter",
         "x": [
          "2025-08-18T08:05:00+02:00",
          "2025-08-18T08:10:00+02:00"
         ],
         "y": [
          0.5601999999999996,
          0.5620000000000003
         ]
        },
        {
         "fill": "tozeroy",
         "fillcolor": "red",
         "line": {
          "color": "red",
          "width": 0.5
         },
         "mode": "lines",
         "name": "BearSteepener",
         "opacity": 0.4,
         "showlegend": false,
         "type": "scatter",
         "x": [
          "2025-08-18T08:10:00+02:00",
          "2025-08-18T08:15:00+02:00"
         ],
         "y": [
          0.5620000000000003,
          0.5620999999999996
         ]
        },
        {
         "fill": "tozeroy",
         "fillcolor": "red",
         "line": {
          "color": "red",
          "width": 0.5
         },
         "mode": "lines",
         "name": "BearSteepener",
         "opacity": 0.4,
         "showlegend": false,
         "type": "scatter",
         "x": [
          "2025-08-18T08:15:00+02:00",
          "2025-08-18T08:20:00+02:00"
         ],
         "y": [
          0.5620999999999996,
          0.5620999999999996
         ]
        },
        {
         "fill": "tozeroy",
         "fillcolor": "red",
         "line": {
          "color": "red",
          "width": 0.5
         },
         "mode": "lines",
         "name": "BearSteepener",
         "opacity": 0.4,
         "showlegend": false,
         "type": "scatter",
         "x": [
          "2025-08-18T08:20:00+02:00",
          "2025-08-18T08:25:00+02:00"
         ],
         "y": [
          0.5620999999999996,
          0.5639000000000003
         ]
        },
        {
         "fill": "tozeroy",
         "fillcolor": "red",
         "line": {
          "color": "red",
          "width": 0.5
         },
         "mode": "lines",
         "name": "BearSteepener",
         "opacity": 0.4,
         "showlegend": false,
         "type": "scatter",
         "x": [
          "2025-08-18T08:25:00+02:00",
          "2025-08-18T08:30:00+02:00"
         ],
         "y": [
          0.5639000000000003,
          0.5620000000000003
         ]
        },
        {
         "fill": "tozeroy",
         "fillcolor": "orange",
         "line": {
          "color": "orange",
          "width": 0.5
         },
         "mode": "lines",
         "name": "BearFlattener",
         "opacity": 0.4,
         "showlegend": false,
         "type": "scatter",
         "x": [
          "2025-08-18T08:30:00+02:00",
          "2025-08-18T08:35:00+02:00"
         ],
         "y": [
          0.5620000000000003,
          0.56
         ]
        },
        {
         "fill": "tozeroy",
         "fillcolor": "red",
         "line": {
          "color": "red",
          "width": 0.5
         },
         "mode": "lines",
         "name": "BearSteepener",
         "opacity": 0.4,
         "showlegend": false,
         "type": "scatter",
         "x": [
          "2025-08-18T08:35:00+02:00",
          "2025-08-18T08:40:00+02:00"
         ],
         "y": [
          0.56,
          0.5638999999999998
         ]
        },
        {
         "fill": "tozeroy",
         "fillcolor": "red",
         "line": {
          "color": "red",
          "width": 0.5
         },
         "mode": "lines",
         "name": "BearSteepener",
         "opacity": 0.4,
         "showlegend": false,
         "type": "scatter",
         "x": [
          "2025-08-18T08:40:00+02:00",
          "2025-08-18T08:45:00+02:00"
         ],
         "y": [
          0.5638999999999998,
          0.5638999999999998
         ]
        },
        {
         "fill": "tozeroy",
         "fillcolor": "orange",
         "line": {
          "color": "orange",
          "width": 0.5
         },
         "mode": "lines",
         "name": "BearFlattener",
         "opacity": 0.4,
         "showlegend": false,
         "type": "scatter",
         "x": [
          "2025-08-18T08:45:00+02:00",
          "2025-08-18T08:50:00+02:00"
         ],
         "y": [
          0.5638999999999998,
          0.5598000000000001
         ]
        },
        {
         "fill": "tozeroy",
         "fillcolor": "grey",
         "line": {
          "color": "grey",
          "width": 0.5
         },
         "mode": "lines",
         "name": "Other",
         "opacity": 0.4,
         "showlegend": false,
         "type": "scatter",
         "x": [
          "2025-08-18T08:50:00+02:00",
          "2025-08-18T08:55:00+02:00"
         ],
         "y": [
          0.5598000000000001,
          0.5639000000000003
         ]
        },
        {
         "fill": "tozeroy",
         "fillcolor": "violet",
         "line": {
          "color": "violet",
          "width": 0.5
         },
         "mode": "lines",
         "name": "TwistFlattener",
         "opacity": 0.4,
         "showlegend": false,
         "type": "scatter",
         "x": [
          "2025-08-18T08:55:00+02:00",
          "2025-08-18T09:00:00+02:00"
         ],
         "y": [
          0.5639000000000003,
          0.5579999999999994
         ]
        },
        {
         "fill": "tozeroy",
         "fillcolor": "deepskyblue",
         "line": {
          "color": "deepskyblue",
          "width": 0.5
         },
         "mode": "lines",
         "name": "BullFlattener",
         "opacity": 0.4,
         "showlegend": false,
         "type": "scatter",
         "x": [
          "2025-08-18T09:00:00+02:00",
          "2025-08-18T09:05:00+02:00"
         ],
         "y": [
          0.5579999999999994,
          0.5562999999999998
         ]
        },
        {
         "fill": "tozeroy",
         "fillcolor": "deepskyblue",
         "line": {
          "color": "deepskyblue",
          "width": 0.5
         },
         "mode": "lines",
         "name": "BullFlattener",
         "opacity": 0.4,
         "showlegend": false,
         "type": "scatter",
         "x": [
          "2025-08-18T09:05:00+02:00",
          "2025-08-18T09:10:00+02:00"
         ],
         "y": [
          0.5562999999999998,
          0.5545
         ]
        },
        {
         "fill": "tozeroy",
         "fillcolor": "deepskyblue",
         "line": {
          "color": "deepskyblue",
          "width": 0.5
         },
         "mode": "lines",
         "name": "BullFlattener",
         "opacity": 0.4,
         "showlegend": false,
         "type": "scatter",
         "x": [
          "2025-08-18T09:10:00+02:00",
          "2025-08-18T09:15:00+02:00"
         ],
         "y": [
          0.5545,
          0.5545
         ]
        },
        {
         "fill": "tozeroy",
         "fillcolor": "deepskyblue",
         "line": {
          "color": "deepskyblue",
          "width": 0.5
         },
         "mode": "lines",
         "name": "BullFlattener",
         "opacity": 0.4,
         "showlegend": false,
         "type": "scatter",
         "x": [
          "2025-08-18T09:15:00+02:00",
          "2025-08-18T09:20:00+02:00"
         ],
         "y": [
          0.5545,
          0.5547
         ]
        },
        {
         "fill": "tozeroy",
         "fillcolor": "deepskyblue",
         "line": {
          "color": "deepskyblue",
          "width": 0.5
         },
         "mode": "lines",
         "name": "BullFlattener",
         "opacity": 0.4,
         "showlegend": false,
         "type": "scatter",
         "x": [
          "2025-08-18T09:20:00+02:00",
          "2025-08-18T09:25:00+02:00"
         ],
         "y": [
          0.5547,
          0.5545
         ]
        },
        {
         "fill": "tozeroy",
         "fillcolor": "deepskyblue",
         "line": {
          "color": "deepskyblue",
          "width": 0.5
         },
         "mode": "lines",
         "name": "BullFlattener",
         "opacity": 0.4,
         "showlegend": false,
         "type": "scatter",
         "x": [
          "2025-08-18T09:25:00+02:00",
          "2025-08-18T09:30:00+02:00"
         ],
         "y": [
          0.5545,
          0.5527000000000002
         ]
        },
        {
         "fill": "tozeroy",
         "fillcolor": "deepskyblue",
         "line": {
          "color": "deepskyblue",
          "width": 0.5
         },
         "mode": "lines",
         "name": "BullFlattener",
         "opacity": 0.4,
         "showlegend": false,
         "type": "scatter",
         "x": [
          "2025-08-18T09:30:00+02:00",
          "2025-08-18T09:35:00+02:00"
         ],
         "y": [
          0.5527000000000002,
          0.5527000000000002
         ]
        },
        {
         "fill": "tozeroy",
         "fillcolor": "deepskyblue",
         "line": {
          "color": "deepskyblue",
          "width": 0.5
         },
         "mode": "lines",
         "name": "BullFlattener",
         "opacity": 0.4,
         "showlegend": false,
         "type": "scatter",
         "x": [
          "2025-08-18T09:35:00+02:00",
          "2025-08-18T09:40:00+02:00"
         ],
         "y": [
          0.5527000000000002,
          0.5527000000000002
         ]
        },
        {
         "fill": "tozeroy",
         "fillcolor": "deepskyblue",
         "line": {
          "color": "deepskyblue",
          "width": 0.5
         },
         "mode": "lines",
         "name": "BullFlattener",
         "opacity": 0.4,
         "showlegend": false,
         "type": "scatter",
         "x": [
          "2025-08-18T09:40:00+02:00",
          "2025-08-18T09:45:00+02:00"
         ],
         "y": [
          0.5527000000000002,
          0.5508000000000002
         ]
        },
        {
         "fill": "tozeroy",
         "fillcolor": "deepskyblue",
         "line": {
          "color": "deepskyblue",
          "width": 0.5
         },
         "mode": "lines",
         "name": "BullFlattener",
         "opacity": 0.4,
         "showlegend": false,
         "type": "scatter",
         "x": [
          "2025-08-18T09:45:00+02:00",
          "2025-08-18T09:50:00+02:00"
         ],
         "y": [
          0.5508000000000002,
          0.5529000000000002
         ]
        },
        {
         "fill": "tozeroy",
         "fillcolor": "deepskyblue",
         "line": {
          "color": "deepskyblue",
          "width": 0.5
         },
         "mode": "lines",
         "name": "BullFlattener",
         "opacity": 0.4,
         "showlegend": false,
         "type": "scatter",
         "x": [
          "2025-08-18T09:50:00+02:00",
          "2025-08-18T09:55:00+02:00"
         ],
         "y": [
          0.5529000000000002,
          0.5506000000000002
         ]
        },
        {
         "fill": "tozeroy",
         "fillcolor": "grey",
         "line": {
          "color": "grey",
          "width": 0.5
         },
         "mode": "lines",
         "name": "Other",
         "opacity": 0.4,
         "showlegend": false,
         "type": "scatter",
         "x": [
          "2025-08-18T09:55:00+02:00",
          "2025-08-18T10:00:00+02:00"
         ],
         "y": [
          0.5506000000000002,
          0.5527000000000002
         ]
        },
        {
         "fill": "tozeroy",
         "fillcolor": "deepskyblue",
         "line": {
          "color": "deepskyblue",
          "width": 0.5
         },
         "mode": "lines",
         "name": "BullFlattener",
         "opacity": 0.4,
         "showlegend": false,
         "type": "scatter",
         "x": [
          "2025-08-18T10:00:00+02:00",
          "2025-08-18T10:05:00+02:00"
         ],
         "y": [
          0.5527000000000002,
          0.5508000000000002
         ]
        },
        {
         "fill": "tozeroy",
         "fillcolor": "grey",
         "line": {
          "color": "grey",
          "width": 0.5
         },
         "mode": "lines",
         "name": "Other",
         "opacity": 0.4,
         "showlegend": false,
         "type": "scatter",
         "x": [
          "2025-08-18T10:05:00+02:00",
          "2025-08-18T10:10:00+02:00"
         ],
         "y": [
          0.5508000000000002,
          0.5527000000000002
         ]
        },
        {
         "fill": "tozeroy",
         "fillcolor": "green",
         "line": {
          "color": "green",
          "width": 0.5
         },
         "mode": "lines",
         "name": "BullSteepener",
         "opacity": 0.4,
         "showlegend": false,
         "type": "scatter",
         "x": [
          "2025-08-18T10:10:00+02:00",
          "2025-08-18T10:15:00+02:00"
         ],
         "y": [
          0.5527000000000002,
          0.5529000000000002
         ]
        },
        {
         "fill": "tozeroy",
         "fillcolor": "orange",
         "line": {
          "color": "orange",
          "width": 0.5
         },
         "mode": "lines",
         "name": "BearFlattener",
         "opacity": 0.4,
         "showlegend": false,
         "type": "scatter",
         "x": [
          "2025-08-18T10:15:00+02:00",
          "2025-08-18T10:20:00+02:00"
         ],
         "y": [
          0.5529000000000002,
          0.5508000000000002
         ]
        },
        {
         "fill": "tozeroy",
         "fillcolor": "green",
         "line": {
          "color": "green",
          "width": 0.5
         },
         "mode": "lines",
         "name": "BullSteepener",
         "opacity": 0.4,
         "showlegend": false,
         "type": "scatter",
         "x": [
          "2025-08-18T10:20:00+02:00",
          "2025-08-18T10:25:00+02:00"
         ],
         "y": [
          0.5508000000000002,
          0.5529000000000002
         ]
        },
        {
         "fill": "tozeroy",
         "fillcolor": "deepskyblue",
         "line": {
          "color": "deepskyblue",
          "width": 0.5
         },
         "mode": "lines",
         "name": "BullFlattener",
         "opacity": 0.4,
         "showlegend": false,
         "type": "scatter",
         "x": [
          "2025-08-18T10:25:00+02:00",
          "2025-08-18T10:30:00+02:00"
         ],
         "y": [
          0.5529000000000002,
          0.5508000000000002
         ]
        },
        {
         "fill": "tozeroy",
         "fillcolor": "green",
         "line": {
          "color": "green",
          "width": 0.5
         },
         "mode": "lines",
         "name": "BullSteepener",
         "opacity": 0.4,
         "showlegend": false,
         "type": "scatter",
         "x": [
          "2025-08-18T10:30:00+02:00",
          "2025-08-18T10:35:00+02:00"
         ],
         "y": [
          0.5508000000000002,
          0.5529000000000002
         ]
        },
        {
         "fill": "tozeroy",
         "fillcolor": "deepskyblue",
         "line": {
          "color": "deepskyblue",
          "width": 0.5
         },
         "mode": "lines",
         "name": "BullFlattener",
         "opacity": 0.4,
         "showlegend": false,
         "type": "scatter",
         "x": [
          "2025-08-18T10:35:00+02:00",
          "2025-08-18T10:40:00+02:00"
         ],
         "y": [
          0.5529000000000002,
          0.5509000000000004
         ]
        },
        {
         "fill": "tozeroy",
         "fillcolor": "green",
         "line": {
          "color": "green",
          "width": 0.5
         },
         "mode": "lines",
         "name": "BullSteepener",
         "opacity": 0.4,
         "showlegend": false,
         "type": "scatter",
         "x": [
          "2025-08-18T10:40:00+02:00",
          "2025-08-18T10:45:00+02:00"
         ],
         "y": [
          0.5509000000000004,
          0.5530000000000004
         ]
        },
        {
         "fill": "tozeroy",
         "fillcolor": "green",
         "line": {
          "color": "green",
          "width": 0.5
         },
         "mode": "lines",
         "name": "BullSteepener",
         "opacity": 0.4,
         "showlegend": false,
         "type": "scatter",
         "x": [
          "2025-08-18T10:45:00+02:00",
          "2025-08-18T10:50:00+02:00"
         ],
         "y": [
          0.5530000000000004,
          0.5550000000000002
         ]
        },
        {
         "fill": "tozeroy",
         "fillcolor": "green",
         "line": {
          "color": "green",
          "width": 0.5
         },
         "mode": "lines",
         "name": "BullSteepener",
         "opacity": 0.4,
         "showlegend": false,
         "type": "scatter",
         "x": [
          "2025-08-18T10:50:00+02:00",
          "2025-08-18T10:55:00+02:00"
         ],
         "y": [
          0.5550000000000002,
          0.5530000000000004
         ]
        },
        {
         "fill": "tozeroy",
         "fillcolor": "green",
         "line": {
          "color": "green",
          "width": 0.5
         },
         "mode": "lines",
         "name": "BullSteepener",
         "opacity": 0.4,
         "showlegend": false,
         "type": "scatter",
         "x": [
          "2025-08-18T10:55:00+02:00",
          "2025-08-18T11:00:00+02:00"
         ],
         "y": [
          0.5530000000000004,
          0.5509000000000004
         ]
        },
        {
         "fill": "tozeroy",
         "fillcolor": "gold",
         "line": {
          "color": "gold",
          "width": 0.5
         },
         "mode": "lines",
         "name": "TwistSteepener",
         "opacity": 0.4,
         "showlegend": false,
         "type": "scatter",
         "x": [
          "2025-08-18T11:00:00+02:00",
          "2025-08-18T11:05:00+02:00"
         ],
         "y": [
          0.5509000000000004,
          0.5569000000000002
         ]
        },
        {
         "fill": "tozeroy",
         "fillcolor": "green",
         "line": {
          "color": "green",
          "width": 0.5
         },
         "mode": "lines",
         "name": "BullSteepener",
         "opacity": 0.4,
         "showlegend": false,
         "type": "scatter",
         "x": [
          "2025-08-18T11:05:00+02:00",
          "2025-08-18T11:10:00+02:00"
         ],
         "y": [
          0.5569000000000002,
          0.5530000000000004
         ]
        },
        {
         "fill": "tozeroy",
         "fillcolor": "green",
         "line": {
          "color": "green",
          "width": 0.5
         },
         "mode": "lines",
         "name": "BullSteepener",
         "opacity": 0.4,
         "showlegend": false,
         "type": "scatter",
         "x": [
          "2025-08-18T11:10:00+02:00",
          "2025-08-18T11:15:00+02:00"
         ],
         "y": [
          0.5530000000000004,
          0.5551000000000004
         ]
        },
        {
         "fill": "tozeroy",
         "fillcolor": "green",
         "line": {
          "color": "green",
          "width": 0.5
         },
         "mode": "lines",
         "name": "BullSteepener",
         "opacity": 0.4,
         "showlegend": false,
         "type": "scatter",
         "x": [
          "2025-08-18T11:15:00+02:00",
          "2025-08-18T11:20:00+02:00"
         ],
         "y": [
          0.5551000000000004,
          0.5551000000000004
         ]
        },
        {
         "fill": "tozeroy",
         "fillcolor": "red",
         "line": {
          "color": "red",
          "width": 0.5
         },
         "mode": "lines",
         "name": "BearSteepener",
         "opacity": 0.4,
         "showlegend": false,
         "type": "scatter",
         "x": [
          "2025-08-18T11:20:00+02:00",
          "2025-08-18T11:25:00+02:00"
         ],
         "y": [
          0.5551000000000004,
          0.5550000000000002
         ]
        },
        {
         "fill": "tozeroy",
         "fillcolor": "gold",
         "line": {
          "color": "gold",
          "width": 0.5
         },
         "mode": "lines",
         "name": "TwistSteepener",
         "opacity": 0.4,
         "showlegend": false,
         "type": "scatter",
         "x": [
          "2025-08-18T11:25:00+02:00",
          "2025-08-18T11:30:00+02:00"
         ],
         "y": [
          0.5550000000000002,
          0.5569000000000002
         ]
        },
        {
         "fill": "tozeroy",
         "fillcolor": "grey",
         "line": {
          "color": "grey",
          "width": 0.5
         },
         "mode": "lines",
         "name": "Other",
         "opacity": 0.4,
         "showlegend": false,
         "type": "scatter",
         "x": [
          "2025-08-18T11:30:00+02:00",
          "2025-08-18T11:35:00+02:00"
         ],
         "y": [
          0.5569000000000002,
          0.5569000000000002
         ]
        },
        {
         "fill": "tozeroy",
         "fillcolor": "red",
         "line": {
          "color": "red",
          "width": 0.5
         },
         "mode": "lines",
         "name": "BearSteepener",
         "opacity": 0.4,
         "showlegend": false,
         "type": "scatter",
         "x": [
          "2025-08-18T11:35:00+02:00",
          "2025-08-18T11:40:00+02:00"
         ],
         "y": [
          0.5569000000000002,
          0.5548000000000002
         ]
        },
        {
         "fill": "tozeroy",
         "fillcolor": "red",
         "line": {
          "color": "red",
          "width": 0.5
         },
         "mode": "lines",
         "name": "BearSteepener",
         "opacity": 0.4,
         "showlegend": false,
         "type": "scatter",
         "x": [
          "2025-08-18T11:40:00+02:00",
          "2025-08-18T11:45:00+02:00"
         ],
         "y": [
          0.5548000000000002,
          0.5571000000000002
         ]
        },
        {
         "fill": "tozeroy",
         "fillcolor": "orange",
         "line": {
          "color": "orange",
          "width": 0.5
         },
         "mode": "lines",
         "name": "BearFlattener",
         "opacity": 0.4,
         "showlegend": false,
         "type": "scatter",
         "x": [
          "2025-08-18T11:45:00+02:00",
          "2025-08-18T11:50:00+02:00"
         ],
         "y": [
          0.5571000000000002,
          0.5548000000000002
         ]
        },
        {
         "fill": "tozeroy",
         "fillcolor": "red",
         "line": {
          "color": "red",
          "width": 0.5
         },
         "mode": "lines",
         "name": "BearSteepener",
         "opacity": 0.4,
         "showlegend": false,
         "type": "scatter",
         "x": [
          "2025-08-18T11:50:00+02:00",
          "2025-08-18T11:55:00+02:00"
         ],
         "y": [
          0.5548000000000002,
          0.5569000000000002
         ]
        },
        {
         "fill": "tozeroy",
         "fillcolor": "grey",
         "line": {
          "color": "grey",
          "width": 0.5
         },
         "mode": "lines",
         "name": "Other",
         "opacity": 0.4,
         "showlegend": false,
         "type": "scatter",
         "x": [
          "2025-08-18T11:55:00+02:00",
          "2025-08-18T12:00:00+02:00"
         ],
         "y": [
          0.5569000000000002,
          0.5569000000000002
         ]
        },
        {
         "fill": "tozeroy",
         "fillcolor": "red",
         "line": {
          "color": "red",
          "width": 0.5
         },
         "mode": "lines",
         "name": "BearSteepener",
         "opacity": 0.4,
         "showlegend": false,
         "type": "scatter",
         "x": [
          "2025-08-18T12:00:00+02:00",
          "2025-08-18T12:05:00+02:00"
         ],
         "y": [
          0.5569000000000002,
          0.5589
         ]
        },
        {
         "fill": "tozeroy",
         "fillcolor": "grey",
         "line": {
          "color": "grey",
          "width": 0.5
         },
         "mode": "lines",
         "name": "Other",
         "opacity": 0.4,
         "showlegend": false,
         "type": "scatter",
         "x": [
          "2025-08-18T12:05:00+02:00",
          "2025-08-18T12:10:00+02:00"
         ],
         "y": [
          0.5589,
          0.5548000000000002
         ]
        },
        {
         "fill": "tozeroy",
         "fillcolor": "red",
         "line": {
          "color": "red",
          "width": 0.5
         },
         "mode": "lines",
         "name": "BearSteepener",
         "opacity": 0.4,
         "showlegend": false,
         "type": "scatter",
         "x": [
          "2025-08-18T12:10:00+02:00",
          "2025-08-18T12:15:00+02:00"
         ],
         "y": [
          0.5548000000000002,
          0.5589
         ]
        },
        {
         "fill": "tozeroy",
         "fillcolor": "green",
         "line": {
          "color": "green",
          "width": 0.5
         },
         "mode": "lines",
         "name": "BullSteepener",
         "opacity": 0.4,
         "showlegend": false,
         "type": "scatter",
         "x": [
          "2025-08-18T12:15:00+02:00",
          "2025-08-18T12:20:00+02:00"
         ],
         "y": [
          0.5589,
          0.5569000000000002
         ]
        },
        {
         "fill": "tozeroy",
         "fillcolor": "grey",
         "line": {
          "color": "grey",
          "width": 0.5
         },
         "mode": "lines",
         "name": "Other",
         "opacity": 0.4,
         "showlegend": false,
         "type": "scatter",
         "x": [
          "2025-08-18T12:20:00+02:00",
          "2025-08-18T12:25:00+02:00"
         ],
         "y": [
          0.5569000000000002,
          0.5569000000000002
         ]
        },
        {
         "fill": "tozeroy",
         "fillcolor": "orange",
         "line": {
          "color": "orange",
          "width": 0.5
         },
         "mode": "lines",
         "name": "BearFlattener",
         "opacity": 0.4,
         "showlegend": false,
         "type": "scatter",
         "x": [
          "2025-08-18T12:25:00+02:00",
          "2025-08-18T12:30:00+02:00"
         ],
         "y": [
          0.5569000000000002,
          0.5568
         ]
        },
        {
         "fill": "tozeroy",
         "fillcolor": "orange",
         "line": {
          "color": "orange",
          "width": 0.5
         },
         "mode": "lines",
         "name": "BearFlattener",
         "opacity": 0.4,
         "showlegend": false,
         "type": "scatter",
         "x": [
          "2025-08-18T12:30:00+02:00",
          "2025-08-18T12:35:00+02:00"
         ],
         "y": [
          0.5568,
          0.5566
         ]
        },
        {
         "fill": "tozeroy",
         "fillcolor": "red",
         "line": {
          "color": "red",
          "width": 0.5
         },
         "mode": "lines",
         "name": "BearSteepener",
         "opacity": 0.4,
         "showlegend": false,
         "type": "scatter",
         "x": [
          "2025-08-18T12:35:00+02:00",
          "2025-08-18T12:40:00+02:00"
         ],
         "y": [
          0.5566,
          0.5587
         ]
        },
        {
         "fill": "tozeroy",
         "fillcolor": "orange",
         "line": {
          "color": "orange",
          "width": 0.5
         },
         "mode": "lines",
         "name": "BearFlattener",
         "opacity": 0.4,
         "showlegend": false,
         "type": "scatter",
         "x": [
          "2025-08-18T12:40:00+02:00",
          "2025-08-18T12:45:00+02:00"
         ],
         "y": [
          0.5587,
          0.5547
         ]
        },
        {
         "fill": "tozeroy",
         "fillcolor": "orange",
         "line": {
          "color": "orange",
          "width": 0.5
         },
         "mode": "lines",
         "name": "BearFlattener",
         "opacity": 0.4,
         "showlegend": false,
         "type": "scatter",
         "x": [
          "2025-08-18T12:45:00+02:00",
          "2025-08-18T12:50:00+02:00"
         ],
         "y": [
          0.5547,
          0.5547
         ]
        },
        {
         "fill": "tozeroy",
         "fillcolor": "orange",
         "line": {
          "color": "orange",
          "width": 0.5
         },
         "mode": "lines",
         "name": "BearFlattener",
         "opacity": 0.4,
         "showlegend": false,
         "type": "scatter",
         "x": [
          "2025-08-18T12:50:00+02:00",
          "2025-08-18T12:55:00+02:00"
         ],
         "y": [
          0.5547,
          0.5566
         ]
        },
        {
         "fill": "tozeroy",
         "fillcolor": "orange",
         "line": {
          "color": "orange",
          "width": 0.5
         },
         "mode": "lines",
         "name": "BearFlattener",
         "opacity": 0.4,
         "showlegend": false,
         "type": "scatter",
         "x": [
          "2025-08-18T12:55:00+02:00",
          "2025-08-18T13:00:00+02:00"
         ],
         "y": [
          0.5566,
          0.5547
         ]
        },
        {
         "fill": "tozeroy",
         "fillcolor": "deepskyblue",
         "line": {
          "color": "deepskyblue",
          "width": 0.5
         },
         "mode": "lines",
         "name": "BullFlattener",
         "opacity": 0.4,
         "showlegend": false,
         "type": "scatter",
         "x": [
          "2025-08-18T13:00:00+02:00",
          "2025-08-18T13:05:00+02:00"
         ],
         "y": [
          0.5547,
          0.5548000000000002
         ]
        },
        {
         "fill": "tozeroy",
         "fillcolor": "deepskyblue",
         "line": {
          "color": "deepskyblue",
          "width": 0.5
         },
         "mode": "lines",
         "name": "BullFlattener",
         "opacity": 0.4,
         "showlegend": false,
         "type": "scatter",
         "x": [
          "2025-08-18T13:05:00+02:00",
          "2025-08-18T13:10:00+02:00"
         ],
         "y": [
          0.5548000000000002,
          0.5548000000000002
         ]
        },
        {
         "fill": "tozeroy",
         "fillcolor": "green",
         "line": {
          "color": "green",
          "width": 0.5
         },
         "mode": "lines",
         "name": "BullSteepener",
         "opacity": 0.4,
         "showlegend": false,
         "type": "scatter",
         "x": [
          "2025-08-18T13:10:00+02:00",
          "2025-08-18T13:15:00+02:00"
         ],
         "y": [
          0.5548000000000002,
          0.5550000000000002
         ]
        },
        {
         "fill": "tozeroy",
         "fillcolor": "green",
         "line": {
          "color": "green",
          "width": 0.5
         },
         "mode": "lines",
         "name": "BullSteepener",
         "opacity": 0.4,
         "showlegend": false,
         "type": "scatter",
         "x": [
          "2025-08-18T13:15:00+02:00",
          "2025-08-18T13:20:00+02:00"
         ],
         "y": [
          0.5550000000000002,
          0.5569000000000002
         ]
        },
        {
         "fill": "tozeroy",
         "fillcolor": "green",
         "line": {
          "color": "green",
          "width": 0.5
         },
         "mode": "lines",
         "name": "BullSteepener",
         "opacity": 0.4,
         "showlegend": false,
         "type": "scatter",
         "x": [
          "2025-08-18T13:20:00+02:00",
          "2025-08-18T13:25:00+02:00"
         ],
         "y": [
          0.5569000000000002,
          0.5569000000000002
         ]
        },
        {
         "fill": "tozeroy",
         "fillcolor": "green",
         "line": {
          "color": "green",
          "width": 0.5
         },
         "mode": "lines",
         "name": "BullSteepener",
         "opacity": 0.4,
         "showlegend": false,
         "type": "scatter",
         "x": [
          "2025-08-18T13:25:00+02:00",
          "2025-08-18T13:30:00+02:00"
         ],
         "y": [
          0.5569000000000002,
          0.5569000000000002
         ]
        },
        {
         "fill": "tozeroy",
         "fillcolor": "red",
         "line": {
          "color": "red",
          "width": 0.5
         },
         "mode": "lines",
         "name": "BearSteepener",
         "opacity": 0.4,
         "showlegend": false,
         "type": "scatter",
         "x": [
          "2025-08-18T13:30:00+02:00",
          "2025-08-18T13:35:00+02:00"
         ],
         "y": [
          0.5569000000000002,
          0.5568
         ]
        },
        {
         "fill": "tozeroy",
         "fillcolor": "red",
         "line": {
          "color": "red",
          "width": 0.5
         },
         "mode": "lines",
         "name": "BearSteepener",
         "opacity": 0.4,
         "showlegend": false,
         "type": "scatter",
         "x": [
          "2025-08-18T13:35:00+02:00",
          "2025-08-18T13:40:00+02:00"
         ],
         "y": [
          0.5568,
          0.5568
         ]
        },
        {
         "fill": "tozeroy",
         "fillcolor": "orange",
         "line": {
          "color": "orange",
          "width": 0.5
         },
         "mode": "lines",
         "name": "BearFlattener",
         "opacity": 0.4,
         "showlegend": false,
         "type": "scatter",
         "x": [
          "2025-08-18T13:40:00+02:00",
          "2025-08-18T13:45:00+02:00"
         ],
         "y": [
          0.5568,
          0.5548000000000002
         ]
        },
        {
         "fill": "tozeroy",
         "fillcolor": "orange",
         "line": {
          "color": "orange",
          "width": 0.5
         },
         "mode": "lines",
         "name": "BearFlattener",
         "opacity": 0.4,
         "showlegend": false,
         "type": "scatter",
         "x": [
          "2025-08-18T13:45:00+02:00",
          "2025-08-18T13:50:00+02:00"
         ],
         "y": [
          0.5548000000000002,
          0.5527000000000002
         ]
        },
        {
         "fill": "tozeroy",
         "fillcolor": "orange",
         "line": {
          "color": "orange",
          "width": 0.5
         },
         "mode": "lines",
         "name": "BearFlattener",
         "opacity": 0.4,
         "showlegend": false,
         "type": "scatter",
         "x": [
          "2025-08-18T13:50:00+02:00",
          "2025-08-18T13:55:00+02:00"
         ],
         "y": [
          0.5527000000000002,
          0.5526
         ]
        },
        {
         "fill": "tozeroy",
         "fillcolor": "orange",
         "line": {
          "color": "orange",
          "width": 0.5
         },
         "mode": "lines",
         "name": "BearFlattener",
         "opacity": 0.4,
         "showlegend": false,
         "type": "scatter",
         "x": [
          "2025-08-18T13:55:00+02:00",
          "2025-08-18T14:00:00+02:00"
         ],
         "y": [
          0.5526,
          0.5506000000000002
         ]
        },
        {
         "fill": "tozeroy",
         "fillcolor": "violet",
         "line": {
          "color": "violet",
          "width": 0.5
         },
         "mode": "lines",
         "name": "TwistFlattener",
         "opacity": 0.4,
         "showlegend": false,
         "type": "scatter",
         "x": [
          "2025-08-18T14:00:00+02:00",
          "2025-08-18T14:05:00+02:00"
         ],
         "y": [
          0.5506000000000002,
          0.5485000000000002
         ]
        },
        {
         "fill": "tozeroy",
         "fillcolor": "orange",
         "line": {
          "color": "orange",
          "width": 0.5
         },
         "mode": "lines",
         "name": "BearFlattener",
         "opacity": 0.4,
         "showlegend": false,
         "type": "scatter",
         "x": [
          "2025-08-18T14:05:00+02:00",
          "2025-08-18T14:10:00+02:00"
         ],
         "y": [
          0.5485000000000002,
          0.5484
         ]
        },
        {
         "fill": "tozeroy",
         "fillcolor": "orange",
         "line": {
          "color": "orange",
          "width": 0.5
         },
         "mode": "lines",
         "name": "BearFlattener",
         "opacity": 0.4,
         "showlegend": false,
         "type": "scatter",
         "x": [
          "2025-08-18T14:10:00+02:00",
          "2025-08-18T14:15:00+02:00"
         ],
         "y": [
          0.5484,
          0.5482999999999998
         ]
        },
        {
         "fill": "tozeroy",
         "fillcolor": "red",
         "line": {
          "color": "red",
          "width": 0.5
         },
         "mode": "lines",
         "name": "BearSteepener",
         "opacity": 0.4,
         "showlegend": false,
         "type": "scatter",
         "x": [
          "2025-08-18T14:15:00+02:00",
          "2025-08-18T14:20:00+02:00"
         ],
         "y": [
          0.5482999999999998,
          0.5560999999999998
         ]
        },
        {
         "fill": "tozeroy",
         "fillcolor": "red",
         "line": {
          "color": "red",
          "width": 0.5
         },
         "mode": "lines",
         "name": "BearSteepener",
         "opacity": 0.4,
         "showlegend": false,
         "type": "scatter",
         "x": [
          "2025-08-18T14:20:00+02:00",
          "2025-08-18T14:25:00+02:00"
         ],
         "y": [
          0.5560999999999998,
          0.5619000000000001
         ]
        },
        {
         "fill": "tozeroy",
         "fillcolor": "red",
         "line": {
          "color": "red",
          "width": 0.5
         },
         "mode": "lines",
         "name": "BearSteepener",
         "opacity": 0.4,
         "showlegend": false,
         "type": "scatter",
         "x": [
          "2025-08-18T14:25:00+02:00",
          "2025-08-18T14:30:00+02:00"
         ],
         "y": [
          0.5619000000000001,
          0.5656999999999996
         ]
        },
        {
         "fill": "tozeroy",
         "fillcolor": "red",
         "line": {
          "color": "red",
          "width": 0.5
         },
         "mode": "lines",
         "name": "BearSteepener",
         "opacity": 0.4,
         "showlegend": false,
         "type": "scatter",
         "x": [
          "2025-08-18T14:30:00+02:00",
          "2025-08-18T14:35:00+02:00"
         ],
         "y": [
          0.5656999999999996,
          0.5596999999999999
         ]
        },
        {
         "fill": "tozeroy",
         "fillcolor": "red",
         "line": {
          "color": "red",
          "width": 0.5
         },
         "mode": "lines",
         "name": "BearSteepener",
         "opacity": 0.4,
         "showlegend": false,
         "type": "scatter",
         "x": [
          "2025-08-18T14:35:00+02:00",
          "2025-08-18T14:40:00+02:00"
         ],
         "y": [
          0.5596999999999999,
          0.5598000000000001
         ]
        },
        {
         "fill": "tozeroy",
         "fillcolor": "red",
         "line": {
          "color": "red",
          "width": 0.5
         },
         "mode": "lines",
         "name": "BearSteepener",
         "opacity": 0.4,
         "showlegend": false,
         "type": "scatter",
         "x": [
          "2025-08-18T14:40:00+02:00",
          "2025-08-18T14:45:00+02:00"
         ],
         "y": [
          0.5598000000000001,
          0.5617999999999999
         ]
        },
        {
         "fill": "tozeroy",
         "fillcolor": "red",
         "line": {
          "color": "red",
          "width": 0.5
         },
         "mode": "lines",
         "name": "BearSteepener",
         "opacity": 0.4,
         "showlegend": false,
         "type": "scatter",
         "x": [
          "2025-08-18T14:45:00+02:00",
          "2025-08-18T14:50:00+02:00"
         ],
         "y": [
          0.5617999999999999,
          0.56
         ]
        },
        {
         "fill": "tozeroy",
         "fillcolor": "deepskyblue",
         "line": {
          "color": "deepskyblue",
          "width": 0.5
         },
         "mode": "lines",
         "name": "BullFlattener",
         "opacity": 0.4,
         "showlegend": false,
         "type": "scatter",
         "x": [
          "2025-08-18T14:50:00+02:00",
          "2025-08-18T14:55:00+02:00"
         ],
         "y": [
          0.56,
          0.5583999999999998
         ]
        },
        {
         "fill": "tozeroy",
         "fillcolor": "deepskyblue",
         "line": {
          "color": "deepskyblue",
          "width": 0.5
         },
         "mode": "lines",
         "name": "BullFlattener",
         "opacity": 0.4,
         "showlegend": false,
         "type": "scatter",
         "x": [
          "2025-08-18T14:55:00+02:00",
          "2025-08-18T15:00:00+02:00"
         ],
         "y": [
          0.5583999999999998,
          0.5602999999999998
         ]
        },
        {
         "fill": "tozeroy",
         "fillcolor": "green",
         "line": {
          "color": "green",
          "width": 0.5
         },
         "mode": "lines",
         "name": "BullSteepener",
         "opacity": 0.4,
         "showlegend": false,
         "type": "scatter",
         "x": [
          "2025-08-18T15:00:00+02:00",
          "2025-08-18T15:05:00+02:00"
         ],
         "y": [
          0.5602999999999998,
          0.5620000000000003
         ]
        },
        {
         "fill": "tozeroy",
         "fillcolor": "gold",
         "line": {
          "color": "gold",
          "width": 0.5
         },
         "mode": "lines",
         "name": "TwistSteepener",
         "opacity": 0.4,
         "showlegend": false,
         "type": "scatter",
         "x": [
          "2025-08-18T15:05:00+02:00",
          "2025-08-18T15:10:00+02:00"
         ],
         "y": [
          0.5620000000000003,
          0.5659000000000001
         ]
        },
        {
         "fill": "tozeroy",
         "fillcolor": "green",
         "line": {
          "color": "green",
          "width": 0.5
         },
         "mode": "lines",
         "name": "BullSteepener",
         "opacity": 0.4,
         "showlegend": false,
         "type": "scatter",
         "x": [
          "2025-08-18T15:10:00+02:00",
          "2025-08-18T15:15:00+02:00"
         ],
         "y": [
          0.5659000000000001,
          0.5639000000000003
         ]
        },
        {
         "fill": "tozeroy",
         "fillcolor": "gold",
         "line": {
          "color": "gold",
          "width": 0.5
         },
         "mode": "lines",
         "name": "TwistSteepener",
         "opacity": 0.4,
         "showlegend": false,
         "type": "scatter",
         "x": [
          "2025-08-18T15:15:00+02:00",
          "2025-08-18T15:20:00+02:00"
         ],
         "y": [
          0.5639000000000003,
          0.5659000000000001
         ]
        },
        {
         "fill": "tozeroy",
         "fillcolor": "red",
         "line": {
          "color": "red",
          "width": 0.5
         },
         "mode": "lines",
         "name": "BearSteepener",
         "opacity": 0.4,
         "showlegend": false,
         "type": "scatter",
         "x": [
          "2025-08-18T15:20:00+02:00",
          "2025-08-18T15:25:00+02:00"
         ],
         "y": [
          0.5659000000000001,
          0.5638999999999998
         ]
        },
        {
         "fill": "tozeroy",
         "fillcolor": "red",
         "line": {
          "color": "red",
          "width": 0.5
         },
         "mode": "lines",
         "name": "BearSteepener",
         "opacity": 0.4,
         "showlegend": false,
         "type": "scatter",
         "x": [
          "2025-08-18T15:25:00+02:00",
          "2025-08-18T15:30:00+02:00"
         ],
         "y": [
          0.5638999999999998,
          0.5657999999999999
         ]
        },
        {
         "fill": "tozeroy",
         "fillcolor": "red",
         "line": {
          "color": "red",
          "width": 0.5
         },
         "mode": "lines",
         "name": "BearSteepener",
         "opacity": 0.4,
         "showlegend": false,
         "type": "scatter",
         "x": [
          "2025-08-18T15:30:00+02:00",
          "2025-08-18T15:35:00+02:00"
         ],
         "y": [
          0.5657999999999999,
          0.5635999999999997
         ]
        },
        {
         "fill": "tozeroy",
         "fillcolor": "orange",
         "line": {
          "color": "orange",
          "width": 0.5
         },
         "mode": "lines",
         "name": "BearFlattener",
         "opacity": 0.4,
         "showlegend": false,
         "type": "scatter",
         "x": [
          "2025-08-18T15:35:00+02:00",
          "2025-08-18T15:40:00+02:00"
         ],
         "y": [
          0.5635999999999997,
          0.5615999999999999
         ]
        },
        {
         "fill": "tozeroy",
         "fillcolor": "orange",
         "line": {
          "color": "orange",
          "width": 0.5
         },
         "mode": "lines",
         "name": "BearFlattener",
         "opacity": 0.4,
         "showlegend": false,
         "type": "scatter",
         "x": [
          "2025-08-18T15:40:00+02:00",
          "2025-08-18T15:45:00+02:00"
         ],
         "y": [
          0.5615999999999999,
          0.5632999999999995
         ]
        },
        {
         "fill": "tozeroy",
         "fillcolor": "red",
         "line": {
          "color": "red",
          "width": 0.5
         },
         "mode": "lines",
         "name": "BearSteepener",
         "opacity": 0.4,
         "showlegend": false,
         "type": "scatter",
         "x": [
          "2025-08-18T15:45:00+02:00",
          "2025-08-18T15:50:00+02:00"
         ],
         "y": [
          0.5632999999999995,
          0.5674999999999994
         ]
        },
        {
         "fill": "tozeroy",
         "fillcolor": "red",
         "line": {
          "color": "red",
          "width": 0.5
         },
         "mode": "lines",
         "name": "BearSteepener",
         "opacity": 0.4,
         "showlegend": false,
         "type": "scatter",
         "x": [
          "2025-08-18T15:50:00+02:00",
          "2025-08-18T15:55:00+02:00"
         ],
         "y": [
          0.5674999999999994,
          0.5651999999999995
         ]
        },
        {
         "fill": "tozeroy",
         "fillcolor": "orange",
         "line": {
          "color": "orange",
          "width": 0.5
         },
         "mode": "lines",
         "name": "BearFlattener",
         "opacity": 0.4,
         "showlegend": false,
         "type": "scatter",
         "x": [
          "2025-08-18T15:55:00+02:00",
          "2025-08-18T16:00:00+02:00"
         ],
         "y": [
          0.5651999999999995,
          0.5630000000000002
         ]
        },
        {
         "fill": "tozeroy",
         "fillcolor": "orange",
         "line": {
          "color": "orange",
          "width": 0.5
         },
         "mode": "lines",
         "name": "BearFlattener",
         "opacity": 0.4,
         "showlegend": false,
         "type": "scatter",
         "x": [
          "2025-08-18T16:00:00+02:00",
          "2025-08-18T16:05:00+02:00"
         ],
         "y": [
          0.5630000000000002,
          0.5630000000000002
         ]
        },
        {
         "fill": "tozeroy",
         "fillcolor": "red",
         "line": {
          "color": "red",
          "width": 0.5
         },
         "mode": "lines",
         "name": "BearSteepener",
         "opacity": 0.4,
         "showlegend": false,
         "type": "scatter",
         "x": [
          "2025-08-18T16:05:00+02:00",
          "2025-08-18T16:10:00+02:00"
         ],
         "y": [
          0.5630000000000002,
          0.5649000000000002
         ]
        },
        {
         "fill": "tozeroy",
         "fillcolor": "red",
         "line": {
          "color": "red",
          "width": 0.5
         },
         "mode": "lines",
         "name": "BearSteepener",
         "opacity": 0.4,
         "showlegend": false,
         "type": "scatter",
         "x": [
          "2025-08-18T16:10:00+02:00",
          "2025-08-18T16:15:00+02:00"
         ],
         "y": [
          0.5649000000000002,
          0.5651000000000002
         ]
        },
        {
         "fill": "tozeroy",
         "fillcolor": "orange",
         "line": {
          "color": "orange",
          "width": 0.5
         },
         "mode": "lines",
         "name": "BearFlattener",
         "opacity": 0.4,
         "showlegend": false,
         "type": "scatter",
         "x": [
          "2025-08-18T16:15:00+02:00",
          "2025-08-18T16:20:00+02:00"
         ],
         "y": [
          0.5651000000000002,
          0.5651000000000002
         ]
        },
        {
         "fill": "tozeroy",
         "fillcolor": "orange",
         "line": {
          "color": "orange",
          "width": 0.5
         },
         "mode": "lines",
         "name": "BearFlattener",
         "opacity": 0.4,
         "showlegend": false,
         "type": "scatter",
         "x": [
          "2025-08-18T16:20:00+02:00",
          "2025-08-18T16:25:00+02:00"
         ],
         "y": [
          0.5651000000000002,
          0.5651000000000002
         ]
        },
        {
         "fill": "tozeroy",
         "fillcolor": "red",
         "line": {
          "color": "red",
          "width": 0.5
         },
         "mode": "lines",
         "name": "BearSteepener",
         "opacity": 0.4,
         "showlegend": false,
         "type": "scatter",
         "x": [
          "2025-08-18T16:25:00+02:00",
          "2025-08-18T16:30:00+02:00"
         ],
         "y": [
          0.5651000000000002,
          0.5649000000000002
         ]
        },
        {
         "fill": "tozeroy",
         "fillcolor": "red",
         "line": {
          "color": "red",
          "width": 0.5
         },
         "mode": "lines",
         "name": "BearSteepener",
         "opacity": 0.4,
         "showlegend": false,
         "type": "scatter",
         "x": [
          "2025-08-18T16:30:00+02:00",
          "2025-08-18T16:35:00+02:00"
         ],
         "y": [
          0.5649000000000002,
          0.5648
         ]
        },
        {
         "fill": "tozeroy",
         "fillcolor": "orange",
         "line": {
          "color": "orange",
          "width": 0.5
         },
         "mode": "lines",
         "name": "BearFlattener",
         "opacity": 0.4,
         "showlegend": false,
         "type": "scatter",
         "x": [
          "2025-08-18T16:35:00+02:00",
          "2025-08-18T16:40:00+02:00"
         ],
         "y": [
          0.5648,
          0.5646
         ]
        },
        {
         "fill": "tozeroy",
         "fillcolor": "red",
         "line": {
          "color": "red",
          "width": 0.5
         },
         "mode": "lines",
         "name": "BearSteepener",
         "opacity": 0.4,
         "showlegend": false,
         "type": "scatter",
         "x": [
          "2025-08-18T16:40:00+02:00",
          "2025-08-18T16:45:00+02:00"
         ],
         "y": [
          0.5646,
          0.5663999999999998
         ]
        },
        {
         "fill": "tozeroy",
         "fillcolor": "red",
         "line": {
          "color": "red",
          "width": 0.5
         },
         "mode": "lines",
         "name": "BearSteepener",
         "opacity": 0.4,
         "showlegend": false,
         "type": "scatter",
         "x": [
          "2025-08-18T16:45:00+02:00",
          "2025-08-18T16:50:00+02:00"
         ],
         "y": [
          0.5663999999999998,
          0.5662999999999996
         ]
        },
        {
         "fill": "tozeroy",
         "fillcolor": "red",
         "line": {
          "color": "red",
          "width": 0.5
         },
         "mode": "lines",
         "name": "BearSteepener",
         "opacity": 0.4,
         "showlegend": false,
         "type": "scatter",
         "x": [
          "2025-08-18T16:50:00+02:00",
          "2025-08-18T16:55:00+02:00"
         ],
         "y": [
          0.5662999999999996,
          0.5683999999999996
         ]
        },
        {
         "fill": "tozeroy",
         "fillcolor": "red",
         "line": {
          "color": "red",
          "width": 0.5
         },
         "mode": "lines",
         "name": "BearSteepener",
         "opacity": 0.4,
         "showlegend": false,
         "type": "scatter",
         "x": [
          "2025-08-18T16:55:00+02:00",
          "2025-08-18T17:00:00+02:00"
         ],
         "y": [
          0.5683999999999996,
          0.5702000000000003
         ]
        },
        {
         "fill": "tozeroy",
         "fillcolor": "red",
         "line": {
          "color": "red",
          "width": 0.5
         },
         "mode": "lines",
         "name": "BearSteepener",
         "opacity": 0.4,
         "showlegend": false,
         "type": "scatter",
         "x": [
          "2025-08-18T17:00:00+02:00",
          "2025-08-18T17:05:00+02:00"
         ],
         "y": [
          0.5702000000000003,
          0.5700000000000003
         ]
        },
        {
         "fill": "tozeroy",
         "fillcolor": "red",
         "line": {
          "color": "red",
          "width": 0.5
         },
         "mode": "lines",
         "name": "BearSteepener",
         "opacity": 0.4,
         "showlegend": false,
         "type": "scatter",
         "x": [
          "2025-08-18T17:05:00+02:00",
          "2025-08-18T17:10:00+02:00"
         ],
         "y": [
          0.5700000000000003,
          0.5721000000000003
         ]
        },
        {
         "fill": "tozeroy",
         "fillcolor": "red",
         "line": {
          "color": "red",
          "width": 0.5
         },
         "mode": "lines",
         "name": "BearSteepener",
         "opacity": 0.4,
         "showlegend": false,
         "type": "scatter",
         "x": [
          "2025-08-18T17:10:00+02:00",
          "2025-08-18T17:15:00+02:00"
         ],
         "y": [
          0.5721000000000003,
          0.5718000000000001
         ]
        },
        {
         "fill": "tozeroy",
         "fillcolor": "red",
         "line": {
          "color": "red",
          "width": 0.5
         },
         "mode": "lines",
         "name": "BearSteepener",
         "opacity": 0.4,
         "showlegend": false,
         "type": "scatter",
         "x": [
          "2025-08-18T17:15:00+02:00",
          "2025-08-18T17:20:00+02:00"
         ],
         "y": [
          0.5718000000000001,
          0.5737999999999999
         ]
        },
        {
         "fill": "tozeroy",
         "fillcolor": "red",
         "line": {
          "color": "red",
          "width": 0.5
         },
         "mode": "lines",
         "name": "BearSteepener",
         "opacity": 0.4,
         "showlegend": false,
         "type": "scatter",
         "x": [
          "2025-08-18T17:20:00+02:00",
          "2025-08-18T17:25:00+02:00"
         ],
         "y": [
          0.5737999999999999,
          0.5737999999999999
         ]
        },
        {
         "fill": "tozeroy",
         "fillcolor": "red",
         "line": {
          "color": "red",
          "width": 0.5
         },
         "mode": "lines",
         "name": "BearSteepener",
         "opacity": 0.4,
         "showlegend": false,
         "type": "scatter",
         "x": [
          "2025-08-18T17:25:00+02:00",
          "2025-08-18T17:30:00+02:00"
         ],
         "y": [
          0.5737999999999999,
          0.5777999999999999
         ]
        },
        {
         "fill": "tozeroy",
         "fillcolor": "gold",
         "line": {
          "color": "gold",
          "width": 0.5
         },
         "mode": "lines",
         "name": "TwistSteepener",
         "opacity": 0.4,
         "showlegend": false,
         "type": "scatter",
         "x": [
          "2025-08-18T17:30:00+02:00",
          "2025-08-18T17:35:00+02:00"
         ],
         "y": [
          0.5777999999999999,
          0.5779999999999998
         ]
        },
        {
         "fill": "tozeroy",
         "fillcolor": "gold",
         "line": {
          "color": "gold",
          "width": 0.5
         },
         "mode": "lines",
         "name": "TwistSteepener",
         "opacity": 0.4,
         "showlegend": false,
         "type": "scatter",
         "x": [
          "2025-08-18T17:35:00+02:00",
          "2025-08-18T17:40:00+02:00"
         ],
         "y": [
          0.5779999999999998,
          0.5802
         ]
        },
        {
         "fill": "tozeroy",
         "fillcolor": "green",
         "line": {
          "color": "green",
          "width": 0.5
         },
         "mode": "lines",
         "name": "BullSteepener",
         "opacity": 0.4,
         "showlegend": false,
         "type": "scatter",
         "x": [
          "2025-08-18T17:40:00+02:00",
          "2025-08-18T17:45:00+02:00"
         ],
         "y": [
          0.5802,
          0.5744000000000002
         ]
        },
        {
         "fill": "tozeroy",
         "fillcolor": "green",
         "line": {
          "color": "green",
          "width": 0.5
         },
         "mode": "lines",
         "name": "BullSteepener",
         "opacity": 0.4,
         "showlegend": false,
         "type": "scatter",
         "x": [
          "2025-08-18T17:45:00+02:00",
          "2025-08-18T17:50:00+02:00"
         ],
         "y": [
          0.5744000000000002,
          0.5763000000000003
         ]
        },
        {
         "fill": "tozeroy",
         "fillcolor": "green",
         "line": {
          "color": "green",
          "width": 0.5
         },
         "mode": "lines",
         "name": "BullSteepener",
         "opacity": 0.4,
         "showlegend": false,
         "type": "scatter",
         "x": [
          "2025-08-18T17:50:00+02:00",
          "2025-08-18T17:55:00+02:00"
         ],
         "y": [
          0.5763000000000003,
          0.5744000000000002
         ]
        },
        {
         "fill": "tozeroy",
         "fillcolor": "deepskyblue",
         "line": {
          "color": "deepskyblue",
          "width": 0.5
         },
         "mode": "lines",
         "name": "BullFlattener",
         "opacity": 0.4,
         "showlegend": false,
         "type": "scatter",
         "x": [
          "2025-08-18T17:55:00+02:00",
          "2025-08-18T18:00:00+02:00"
         ],
         "y": [
          0.5744000000000002,
          0.5763000000000003
         ]
        },
        {
         "fill": "tozeroy",
         "fillcolor": "deepskyblue",
         "line": {
          "color": "deepskyblue",
          "width": 0.5
         },
         "mode": "lines",
         "name": "BullFlattener",
         "opacity": 0.4,
         "showlegend": false,
         "type": "scatter",
         "x": [
          "2025-08-18T18:00:00+02:00",
          "2025-08-18T18:05:00+02:00"
         ],
         "y": [
          0.5763000000000003,
          0.5765999999999996
         ]
        },
        {
         "fill": "tozeroy",
         "fillcolor": "deepskyblue",
         "line": {
          "color": "deepskyblue",
          "width": 0.5
         },
         "mode": "lines",
         "name": "BullFlattener",
         "opacity": 0.4,
         "showlegend": false,
         "type": "scatter",
         "x": [
          "2025-08-18T18:05:00+02:00",
          "2025-08-18T18:10:00+02:00"
         ],
         "y": [
          0.5765999999999996,
          0.5746999999999995
         ]
        },
        {
         "fill": "tozeroy",
         "fillcolor": "green",
         "line": {
          "color": "green",
          "width": 0.5
         },
         "mode": "lines",
         "name": "BullSteepener",
         "opacity": 0.4,
         "showlegend": false,
         "type": "scatter",
         "x": [
          "2025-08-18T18:10:00+02:00",
          "2025-08-18T18:15:00+02:00"
         ],
         "y": [
          0.5746999999999995,
          0.5746999999999995
         ]
        },
        {
         "fill": "tozeroy",
         "fillcolor": "deepskyblue",
         "line": {
          "color": "deepskyblue",
          "width": 0.5
         },
         "mode": "lines",
         "name": "BullFlattener",
         "opacity": 0.4,
         "showlegend": false,
         "type": "scatter",
         "x": [
          "2025-08-18T18:15:00+02:00",
          "2025-08-18T18:20:00+02:00"
         ],
         "y": [
          0.5746999999999995,
          0.5747999999999998
         ]
        },
        {
         "fill": "tozeroy",
         "fillcolor": "green",
         "line": {
          "color": "green",
          "width": 0.5
         },
         "mode": "lines",
         "name": "BullSteepener",
         "opacity": 0.4,
         "showlegend": false,
         "type": "scatter",
         "x": [
          "2025-08-18T18:20:00+02:00",
          "2025-08-18T18:25:00+02:00"
         ],
         "y": [
          0.5747999999999998,
          0.5747999999999998
         ]
        },
        {
         "fill": "tozeroy",
         "fillcolor": "deepskyblue",
         "line": {
          "color": "deepskyblue",
          "width": 0.5
         },
         "mode": "lines",
         "name": "BullFlattener",
         "opacity": 0.4,
         "showlegend": false,
         "type": "scatter",
         "x": [
          "2025-08-18T18:25:00+02:00",
          "2025-08-18T18:30:00+02:00"
         ],
         "y": [
          0.5747999999999998,
          0.5749999999999997
         ]
        },
        {
         "fill": "tozeroy",
         "fillcolor": "deepskyblue",
         "line": {
          "color": "deepskyblue",
          "width": 0.5
         },
         "mode": "lines",
         "name": "BullFlattener",
         "opacity": 0.4,
         "showlegend": false,
         "type": "scatter",
         "x": [
          "2025-08-18T18:30:00+02:00",
          "2025-08-18T18:35:00+02:00"
         ],
         "y": [
          0.5749999999999997,
          0.5751
         ]
        },
        {
         "fill": "tozeroy",
         "fillcolor": "green",
         "line": {
          "color": "green",
          "width": 0.5
         },
         "mode": "lines",
         "name": "BullSteepener",
         "opacity": 0.4,
         "showlegend": false,
         "type": "scatter",
         "x": [
          "2025-08-18T18:35:00+02:00",
          "2025-08-18T18:40:00+02:00"
         ],
         "y": [
          0.5751,
          0.5751
         ]
        },
        {
         "fill": "tozeroy",
         "fillcolor": "deepskyblue",
         "line": {
          "color": "deepskyblue",
          "width": 0.5
         },
         "mode": "lines",
         "name": "BullFlattener",
         "opacity": 0.4,
         "showlegend": false,
         "type": "scatter",
         "x": [
          "2025-08-18T18:40:00+02:00",
          "2025-08-18T18:45:00+02:00"
         ],
         "y": [
          0.5751,
          0.573
         ]
        },
        {
         "fill": "tozeroy",
         "fillcolor": "grey",
         "line": {
          "color": "grey",
          "width": 0.5
         },
         "mode": "lines",
         "name": "Other",
         "opacity": 0.4,
         "showlegend": false,
         "type": "scatter",
         "x": [
          "2025-08-18T18:45:00+02:00",
          "2025-08-18T18:50:00+02:00"
         ],
         "y": [
          0.573,
          0.5747999999999998
         ]
        },
        {
         "fill": "tozeroy",
         "fillcolor": "deepskyblue",
         "line": {
          "color": "deepskyblue",
          "width": 0.5
         },
         "mode": "lines",
         "name": "BullFlattener",
         "opacity": 0.4,
         "showlegend": false,
         "type": "scatter",
         "x": [
          "2025-08-18T18:50:00+02:00",
          "2025-08-18T18:55:00+02:00"
         ],
         "y": [
          0.5747999999999998,
          0.5728999999999997
         ]
        },
        {
         "fill": "tozeroy",
         "fillcolor": "orange",
         "line": {
          "color": "orange",
          "width": 0.5
         },
         "mode": "lines",
         "name": "BearFlattener",
         "opacity": 0.4,
         "showlegend": false,
         "type": "scatter",
         "x": [
          "2025-08-18T18:55:00+02:00",
          "2025-08-18T19:00:00+02:00"
         ],
         "y": [
          0.5728999999999997,
          0.5747999999999998
         ]
        },
        {
         "fill": "tozeroy",
         "fillcolor": "orange",
         "line": {
          "color": "orange",
          "width": 0.5
         },
         "mode": "lines",
         "name": "BearFlattener",
         "opacity": 0.4,
         "showlegend": false,
         "type": "scatter",
         "x": [
          "2025-08-18T19:00:00+02:00",
          "2025-08-18T19:05:00+02:00"
         ],
         "y": [
          0.5747999999999998,
          0.5726999999999998
         ]
        },
        {
         "fill": "tozeroy",
         "fillcolor": "orange",
         "line": {
          "color": "orange",
          "width": 0.5
         },
         "mode": "lines",
         "name": "BearFlattener",
         "opacity": 0.4,
         "showlegend": false,
         "type": "scatter",
         "x": [
          "2025-08-18T19:05:00+02:00",
          "2025-08-18T19:10:00+02:00"
         ],
         "y": [
          0.5726999999999998,
          0.5728999999999997
         ]
        },
        {
         "fill": "tozeroy",
         "fillcolor": "red",
         "line": {
          "color": "red",
          "width": 0.5
         },
         "mode": "lines",
         "name": "BearSteepener",
         "opacity": 0.4,
         "showlegend": false,
         "type": "scatter",
         "x": [
          "2025-08-18T19:10:00+02:00",
          "2025-08-18T19:15:00+02:00"
         ],
         "y": [
          0.5728999999999997,
          0.5747999999999998
         ]
        },
        {
         "fill": "tozeroy",
         "fillcolor": "grey",
         "line": {
          "color": "grey",
          "width": 0.5
         },
         "mode": "lines",
         "name": "Other",
         "opacity": 0.4,
         "showlegend": false,
         "type": "scatter",
         "x": [
          "2025-08-18T19:15:00+02:00",
          "2025-08-18T19:20:00+02:00"
         ],
         "y": [
          0.5747999999999998,
          0.5747999999999998
         ]
        },
        {
         "fill": "tozeroy",
         "fillcolor": "orange",
         "line": {
          "color": "orange",
          "width": 0.5
         },
         "mode": "lines",
         "name": "BearFlattener",
         "opacity": 0.4,
         "showlegend": false,
         "type": "scatter",
         "x": [
          "2025-08-18T19:20:00+02:00",
          "2025-08-18T19:25:00+02:00"
         ],
         "y": [
          0.5747999999999998,
          0.5726999999999998
         ]
        },
        {
         "fill": "tozeroy",
         "fillcolor": "orange",
         "line": {
          "color": "orange",
          "width": 0.5
         },
         "mode": "lines",
         "name": "BearFlattener",
         "opacity": 0.4,
         "showlegend": false,
         "type": "scatter",
         "x": [
          "2025-08-18T19:25:00+02:00",
          "2025-08-18T19:30:00+02:00"
         ],
         "y": [
          0.5726999999999998,
          0.5726999999999998
         ]
        },
        {
         "fill": "tozeroy",
         "fillcolor": "orange",
         "line": {
          "color": "orange",
          "width": 0.5
         },
         "mode": "lines",
         "name": "BearFlattener",
         "opacity": 0.4,
         "showlegend": false,
         "type": "scatter",
         "x": [
          "2025-08-18T19:30:00+02:00",
          "2025-08-18T19:35:00+02:00"
         ],
         "y": [
          0.5726999999999998,
          0.5705999999999998
         ]
        },
        {
         "fill": "tozeroy",
         "fillcolor": "orange",
         "line": {
          "color": "orange",
          "width": 0.5
         },
         "mode": "lines",
         "name": "BearFlattener",
         "opacity": 0.4,
         "showlegend": false,
         "type": "scatter",
         "x": [
          "2025-08-18T19:35:00+02:00",
          "2025-08-18T19:40:00+02:00"
         ],
         "y": [
          0.5705999999999998,
          0.5705999999999998
         ]
        },
        {
         "fill": "tozeroy",
         "fillcolor": "orange",
         "line": {
          "color": "orange",
          "width": 0.5
         },
         "mode": "lines",
         "name": "BearFlattener",
         "opacity": 0.4,
         "showlegend": false,
         "type": "scatter",
         "x": [
          "2025-08-18T19:40:00+02:00",
          "2025-08-18T19:45:00+02:00"
         ],
         "y": [
          0.5705999999999998,
          0.5705999999999998
         ]
        },
        {
         "fill": "tozeroy",
         "fillcolor": "orange",
         "line": {
          "color": "orange",
          "width": 0.5
         },
         "mode": "lines",
         "name": "BearFlattener",
         "opacity": 0.4,
         "showlegend": false,
         "type": "scatter",
         "x": [
          "2025-08-18T19:45:00+02:00",
          "2025-08-18T19:50:00+02:00"
         ],
         "y": [
          0.5705999999999998,
          0.5702999999999996
         ]
        },
        {
         "fill": "tozeroy",
         "fillcolor": "orange",
         "line": {
          "color": "orange",
          "width": 0.5
         },
         "mode": "lines",
         "name": "BearFlattener",
         "opacity": 0.4,
         "showlegend": false,
         "type": "scatter",
         "x": [
          "2025-08-18T19:50:00+02:00",
          "2025-08-18T19:55:00+02:00"
         ],
         "y": [
          0.5702999999999996,
          0.5723999999999996
         ]
        },
        {
         "fill": "tozeroy",
         "fillcolor": "orange",
         "line": {
          "color": "orange",
          "width": 0.5
         },
         "mode": "lines",
         "name": "BearFlattener",
         "opacity": 0.4,
         "showlegend": false,
         "type": "scatter",
         "x": [
          "2025-08-18T19:55:00+02:00",
          "2025-08-18T20:00:00+02:00"
         ],
         "y": [
          0.5723999999999996,
          0.5702999999999996
         ]
        },
        {
         "fill": "tozeroy",
         "fillcolor": "red",
         "line": {
          "color": "red",
          "width": 0.5
         },
         "mode": "lines",
         "name": "BearSteepener",
         "opacity": 0.4,
         "showlegend": false,
         "type": "scatter",
         "x": [
          "2025-08-18T20:00:00+02:00",
          "2025-08-18T20:05:00+02:00"
         ],
         "y": [
          0.5702999999999996,
          0.5723999999999996
         ]
        },
        {
         "fill": "tozeroy",
         "fillcolor": "orange",
         "line": {
          "color": "orange",
          "width": 0.5
         },
         "mode": "lines",
         "name": "BearFlattener",
         "opacity": 0.4,
         "showlegend": false,
         "type": "scatter",
         "x": [
          "2025-08-18T20:05:00+02:00",
          "2025-08-18T20:10:00+02:00"
         ],
         "y": [
          0.5723999999999996,
          0.5704999999999996
         ]
        },
        {
         "fill": "tozeroy",
         "fillcolor": "orange",
         "line": {
          "color": "orange",
          "width": 0.5
         },
         "mode": "lines",
         "name": "BearFlattener",
         "opacity": 0.4,
         "showlegend": false,
         "type": "scatter",
         "x": [
          "2025-08-18T20:10:00+02:00",
          "2025-08-18T20:15:00+02:00"
         ],
         "y": [
          0.5704999999999996,
          0.5702999999999996
         ]
        },
        {
         "fill": "tozeroy",
         "fillcolor": "grey",
         "line": {
          "color": "grey",
          "width": 0.5
         },
         "mode": "lines",
         "name": "Other",
         "opacity": 0.4,
         "showlegend": false,
         "type": "scatter",
         "x": [
          "2025-08-18T20:15:00+02:00",
          "2025-08-18T20:20:00+02:00"
         ],
         "y": [
          0.5702999999999996,
          0.5702999999999996
         ]
        },
        {
         "fill": "tozeroy",
         "fillcolor": "deepskyblue",
         "line": {
          "color": "deepskyblue",
          "width": 0.5
         },
         "mode": "lines",
         "name": "BullFlattener",
         "opacity": 0.4,
         "showlegend": false,
         "type": "scatter",
         "x": [
          "2025-08-18T20:20:00+02:00",
          "2025-08-18T20:25:00+02:00"
         ],
         "y": [
          0.5702999999999996,
          0.5704999999999996
         ]
        },
        {
         "fill": "tozeroy",
         "fillcolor": "grey",
         "line": {
          "color": "grey",
          "width": 0.5
         },
         "mode": "lines",
         "name": "Other",
         "opacity": 0.4,
         "showlegend": false,
         "type": "scatter",
         "x": [
          "2025-08-18T20:25:00+02:00",
          "2025-08-18T20:30:00+02:00"
         ],
         "y": [
          0.5704999999999996,
          0.5702999999999996
         ]
        },
        {
         "fill": "tozeroy",
         "fillcolor": "grey",
         "line": {
          "color": "grey",
          "width": 0.5
         },
         "mode": "lines",
         "name": "Other",
         "opacity": 0.4,
         "showlegend": false,
         "type": "scatter",
         "x": [
          "2025-08-18T20:30:00+02:00",
          "2025-08-18T20:35:00+02:00"
         ],
         "y": [
          0.5702999999999996,
          0.5723999999999996
         ]
        },
        {
         "fill": "tozeroy",
         "fillcolor": "red",
         "line": {
          "color": "red",
          "width": 0.5
         },
         "mode": "lines",
         "name": "BearSteepener",
         "opacity": 0.4,
         "showlegend": false,
         "type": "scatter",
         "x": [
          "2025-08-18T20:35:00+02:00",
          "2025-08-18T20:40:00+02:00"
         ],
         "y": [
          0.5723999999999996,
          0.5723000000000003
         ]
        },
        {
         "fill": "tozeroy",
         "fillcolor": "red",
         "line": {
          "color": "red",
          "width": 0.5
         },
         "mode": "lines",
         "name": "BearSteepener",
         "opacity": 0.4,
         "showlegend": false,
         "type": "scatter",
         "x": [
          "2025-08-18T20:40:00+02:00",
          "2025-08-18T20:45:00+02:00"
         ],
         "y": [
          0.5723000000000003,
          0.5723000000000003
         ]
        },
        {
         "fill": "tozeroy",
         "fillcolor": "orange",
         "line": {
          "color": "orange",
          "width": 0.5
         },
         "mode": "lines",
         "name": "BearFlattener",
         "opacity": 0.4,
         "showlegend": false,
         "type": "scatter",
         "x": [
          "2025-08-18T20:45:00+02:00",
          "2025-08-18T20:50:00+02:00"
         ],
         "y": [
          0.5723000000000003,
          0.5702000000000003
         ]
        },
        {
         "fill": "tozeroy",
         "fillcolor": "orange",
         "line": {
          "color": "orange",
          "width": 0.5
         },
         "mode": "lines",
         "name": "BearFlattener",
         "opacity": 0.4,
         "showlegend": false,
         "type": "scatter",
         "x": [
          "2025-08-18T20:50:00+02:00",
          "2025-08-18T20:55:00+02:00"
         ],
         "y": [
          0.5702000000000003,
          0.5660999999999996
         ]
        },
        {
         "fill": "tozeroy",
         "fillcolor": "violet",
         "line": {
          "color": "violet",
          "width": 0.5
         },
         "mode": "lines",
         "name": "TwistFlattener",
         "opacity": 0.4,
         "showlegend": false,
         "type": "scatter",
         "x": [
          "2025-08-18T20:55:00+02:00",
          "2025-08-18T21:00:00+02:00"
         ],
         "y": [
          0.5660999999999996,
          0.5662999999999996
         ]
        },
        {
         "fill": "tozeroy",
         "fillcolor": "violet",
         "line": {
          "color": "violet",
          "width": 0.5
         },
         "mode": "lines",
         "name": "TwistFlattener",
         "opacity": 0.4,
         "showlegend": false,
         "type": "scatter",
         "x": [
          "2025-08-18T21:00:00+02:00",
          "2025-08-18T21:05:00+02:00"
         ],
         "y": [
          0.5662999999999996,
          0.5663999999999998
         ]
        },
        {
         "fill": "tozeroy",
         "fillcolor": "deepskyblue",
         "line": {
          "color": "deepskyblue",
          "width": 0.5
         },
         "mode": "lines",
         "name": "BullFlattener",
         "opacity": 0.4,
         "showlegend": false,
         "type": "scatter",
         "x": [
          "2025-08-18T21:05:00+02:00",
          "2025-08-18T21:10:00+02:00"
         ],
         "y": [
          0.5663999999999998,
          0.5683999999999996
         ]
        },
        {
         "fill": "tozeroy",
         "fillcolor": "deepskyblue",
         "line": {
          "color": "deepskyblue",
          "width": 0.5
         },
         "mode": "lines",
         "name": "BullFlattener",
         "opacity": 0.4,
         "showlegend": false,
         "type": "scatter",
         "x": [
          "2025-08-18T21:10:00+02:00",
          "2025-08-18T21:15:00+02:00"
         ],
         "y": [
          0.5683999999999996,
          0.5704999999999996
         ]
        },
        {
         "fill": "tozeroy",
         "fillcolor": "green",
         "line": {
          "color": "green",
          "width": 0.5
         },
         "mode": "lines",
         "name": "BullSteepener",
         "opacity": 0.4,
         "showlegend": false,
         "type": "scatter",
         "x": [
          "2025-08-18T21:15:00+02:00",
          "2025-08-18T21:20:00+02:00"
         ],
         "y": [
          0.5704999999999996,
          0.5704999999999996
         ]
        },
        {
         "fill": "tozeroy",
         "fillcolor": "green",
         "line": {
          "color": "green",
          "width": 0.5
         },
         "mode": "lines",
         "name": "BullSteepener",
         "opacity": 0.4,
         "showlegend": false,
         "type": "scatter",
         "x": [
          "2025-08-18T21:20:00+02:00",
          "2025-08-18T21:25:00+02:00"
         ],
         "y": [
          0.5704999999999996,
          0.5723999999999996
         ]
        },
        {
         "fill": "tozeroy",
         "fillcolor": "gold",
         "line": {
          "color": "gold",
          "width": 0.5
         },
         "mode": "lines",
         "name": "TwistSteepener",
         "opacity": 0.4,
         "showlegend": false,
         "type": "scatter",
         "x": [
          "2025-08-18T21:25:00+02:00",
          "2025-08-18T21:30:00+02:00"
         ],
         "y": [
          0.5723999999999996,
          0.5723999999999996
         ]
        },
        {
         "fill": "tozeroy",
         "fillcolor": "gold",
         "line": {
          "color": "gold",
          "width": 0.5
         },
         "mode": "lines",
         "name": "TwistSteepener",
         "opacity": 0.4,
         "showlegend": false,
         "type": "scatter",
         "x": [
          "2025-08-18T21:30:00+02:00",
          "2025-08-18T21:35:00+02:00"
         ],
         "y": [
          0.5723999999999996,
          0.5723999999999996
         ]
        },
        {
         "fill": "tozeroy",
         "fillcolor": "red",
         "line": {
          "color": "red",
          "width": 0.5
         },
         "mode": "lines",
         "name": "BearSteepener",
         "opacity": 0.4,
         "showlegend": false,
         "type": "scatter",
         "x": [
          "2025-08-18T21:35:00+02:00",
          "2025-08-18T21:40:00+02:00"
         ],
         "y": [
          0.5723999999999996,
          0.5702999999999996
         ]
        },
        {
         "fill": "tozeroy",
         "fillcolor": "orange",
         "line": {
          "color": "orange",
          "width": 0.5
         },
         "mode": "lines",
         "name": "BearFlattener",
         "opacity": 0.4,
         "showlegend": false,
         "type": "scatter",
         "x": [
          "2025-08-18T21:40:00+02:00",
          "2025-08-18T21:45:00+02:00"
         ],
         "y": [
          0.5702999999999996,
          0.5681999999999996
         ]
        },
        {
         "fill": "tozeroy",
         "fillcolor": "orange",
         "line": {
          "color": "orange",
          "width": 0.5
         },
         "mode": "lines",
         "name": "BearFlattener",
         "opacity": 0.4,
         "showlegend": false,
         "type": "scatter",
         "x": [
          "2025-08-18T21:45:00+02:00",
          "2025-08-18T21:50:00+02:00"
         ],
         "y": [
          0.5681999999999996,
          0.5681999999999996
         ]
        },
        {
         "fill": "tozeroy",
         "fillcolor": "violet",
         "line": {
          "color": "violet",
          "width": 0.5
         },
         "mode": "lines",
         "name": "TwistFlattener",
         "opacity": 0.4,
         "showlegend": false,
         "type": "scatter",
         "x": [
          "2025-08-18T21:50:00+02:00",
          "2025-08-18T21:55:00+02:00"
         ],
         "y": [
          0.5681999999999996,
          0.5683999999999996
         ]
        },
        {
         "fill": "tozeroy",
         "fillcolor": "orange",
         "line": {
          "color": "orange",
          "width": 0.5
         },
         "mode": "lines",
         "name": "BearFlattener",
         "opacity": 0.4,
         "showlegend": false,
         "type": "scatter",
         "x": [
          "2025-08-18T21:55:00+02:00",
          "2025-08-18T22:00:00+02:00"
         ],
         "y": [
          0.5683999999999996,
          0.5681999999999996
         ]
        },
        {
         "fill": "tozeroy",
         "fillcolor": "deepskyblue",
         "line": {
          "color": "deepskyblue",
          "width": 0.5
         },
         "mode": "lines",
         "name": "BullFlattener",
         "opacity": 0.4,
         "showlegend": false,
         "type": "scatter",
         "x": [
          "2025-08-18T22:00:00+02:00",
          "2025-08-18T22:05:00+02:00"
         ],
         "y": [
          0.5681999999999996,
          0.5684999999999998
         ]
        },
        {
         "fill": "tozeroy",
         "fillcolor": "deepskyblue",
         "line": {
          "color": "deepskyblue",
          "width": 0.5
         },
         "mode": "lines",
         "name": "BullFlattener",
         "opacity": 0.4,
         "showlegend": false,
         "type": "scatter",
         "x": [
          "2025-08-18T22:05:00+02:00",
          "2025-08-18T22:10:00+02:00"
         ],
         "y": [
          0.5684999999999998,
          0.5663999999999998
         ]
        },
        {
         "fill": "tozeroy",
         "fillcolor": "deepskyblue",
         "line": {
          "color": "deepskyblue",
          "width": 0.5
         },
         "mode": "lines",
         "name": "BullFlattener",
         "opacity": 0.4,
         "showlegend": false,
         "type": "scatter",
         "x": [
          "2025-08-18T22:10:00+02:00",
          "2025-08-18T22:15:00+02:00"
         ],
         "y": [
          0.5663999999999998,
          0.5665999999999998
         ]
        },
        {
         "fill": "tozeroy",
         "fillcolor": "green",
         "line": {
          "color": "green",
          "width": 0.5
         },
         "mode": "lines",
         "name": "BullSteepener",
         "opacity": 0.4,
         "showlegend": false,
         "type": "scatter",
         "x": [
          "2025-08-18T22:15:00+02:00",
          "2025-08-18T22:20:00+02:00"
         ],
         "y": [
          0.5665999999999998,
          0.5684999999999998
         ]
        },
        {
         "fill": "tozeroy",
         "fillcolor": "deepskyblue",
         "line": {
          "color": "deepskyblue",
          "width": 0.5
         },
         "mode": "lines",
         "name": "BullFlattener",
         "opacity": 0.4,
         "showlegend": false,
         "type": "scatter",
         "x": [
          "2025-08-18T22:20:00+02:00",
          "2025-08-18T22:25:00+02:00"
         ],
         "y": [
          0.5684999999999998,
          0.5663999999999998
         ]
        },
        {
         "fill": "tozeroy",
         "fillcolor": "deepskyblue",
         "line": {
          "color": "deepskyblue",
          "width": 0.5
         },
         "mode": "lines",
         "name": "BullFlattener",
         "opacity": 0.4,
         "showlegend": false,
         "type": "scatter",
         "x": [
          "2025-08-18T22:25:00+02:00",
          "2025-08-18T22:30:00+02:00"
         ],
         "y": [
          0.5663999999999998,
          0.5663999999999998
         ]
        },
        {
         "fill": "tozeroy",
         "fillcolor": "orange",
         "line": {
          "color": "orange",
          "width": 0.5
         },
         "mode": "lines",
         "name": "BearFlattener",
         "opacity": 0.4,
         "showlegend": false,
         "type": "scatter",
         "x": [
          "2025-08-18T22:30:00+02:00",
          "2025-08-18T22:35:00+02:00"
         ],
         "y": [
          0.5663999999999998,
          0.5663999999999998
         ]
        },
        {
         "fill": "tozeroy",
         "fillcolor": "green",
         "line": {
          "color": "green",
          "width": 0.5
         },
         "mode": "lines",
         "name": "BullSteepener",
         "opacity": 0.4,
         "showlegend": false,
         "type": "scatter",
         "x": [
          "2025-08-18T22:35:00+02:00",
          "2025-08-18T22:40:00+02:00"
         ],
         "y": [
          0.5663999999999998,
          0.5684999999999998
         ]
        },
        {
         "fill": "tozeroy",
         "fillcolor": "gold",
         "line": {
          "color": "gold",
          "width": 0.5
         },
         "mode": "lines",
         "name": "TwistSteepener",
         "opacity": 0.4,
         "showlegend": false,
         "type": "scatter",
         "x": [
          "2025-08-18T22:40:00+02:00",
          "2025-08-18T22:45:00+02:00"
         ],
         "y": [
          0.5684999999999998,
          0.5705999999999998
         ]
        },
        {
         "fill": "tozeroy",
         "fillcolor": "green",
         "line": {
          "color": "green",
          "width": 0.5
         },
         "mode": "lines",
         "name": "BullSteepener",
         "opacity": 0.4,
         "showlegend": false,
         "type": "scatter",
         "x": [
          "2025-08-18T22:45:00+02:00",
          "2025-08-18T22:50:00+02:00"
         ],
         "y": [
          0.5705999999999998,
          0.5705999999999998
         ]
        },
        {
         "fill": "tozeroy",
         "fillcolor": "green",
         "line": {
          "color": "green",
          "width": 0.5
         },
         "mode": "lines",
         "name": "BullSteepener",
         "opacity": 0.4,
         "showlegend": false,
         "type": "scatter",
         "x": [
          "2025-08-18T22:50:00+02:00",
          "2025-08-18T22:55:00+02:00"
         ],
         "y": [
          0.5705999999999998,
          0.5705999999999998
         ]
        },
        {
         "fill": "tozeroy",
         "fillcolor": "green",
         "line": {
          "color": "green",
          "width": 0.5
         },
         "mode": "lines",
         "name": "BullSteepener",
         "opacity": 0.4,
         "showlegend": false,
         "type": "scatter",
         "x": [
          "2025-08-18T22:55:00+02:00",
          "2025-08-19T01:55:00+02:00"
         ],
         "y": [
          0.5705999999999998,
          0.5686999999999998
         ]
        },
        {
         "fill": "tozeroy",
         "fillcolor": "green",
         "line": {
          "color": "green",
          "width": 0.5
         },
         "mode": "lines",
         "name": "BullSteepener",
         "opacity": 0.4,
         "showlegend": false,
         "type": "scatter",
         "x": [
          "2025-08-19T01:55:00+02:00",
          "2025-08-19T02:00:00+02:00"
         ],
         "y": [
          0.5686999999999998,
          0.5726999999999998
         ]
        },
        {
         "fill": "tozeroy",
         "fillcolor": "green",
         "line": {
          "color": "green",
          "width": 0.5
         },
         "mode": "lines",
         "name": "BullSteepener",
         "opacity": 0.4,
         "showlegend": false,
         "type": "scatter",
         "x": [
          "2025-08-19T02:00:00+02:00",
          "2025-08-19T02:05:00+02:00"
         ],
         "y": [
          0.5726999999999998,
          0.5726999999999998
         ]
        },
        {
         "fill": "tozeroy",
         "fillcolor": "green",
         "line": {
          "color": "green",
          "width": 0.5
         },
         "mode": "lines",
         "name": "BullSteepener",
         "opacity": 0.4,
         "showlegend": false,
         "type": "scatter",
         "x": [
          "2025-08-19T02:05:00+02:00",
          "2025-08-19T02:10:00+02:00"
         ],
         "y": [
          0.5726999999999998,
          0.5728999999999997
         ]
        },
        {
         "fill": "tozeroy",
         "fillcolor": "green",
         "line": {
          "color": "green",
          "width": 0.5
         },
         "mode": "lines",
         "name": "BullSteepener",
         "opacity": 0.4,
         "showlegend": false,
         "type": "scatter",
         "x": [
          "2025-08-19T02:10:00+02:00",
          "2025-08-19T02:15:00+02:00"
         ],
         "y": [
          0.5728999999999997,
          0.5728999999999997
         ]
        },
        {
         "fill": "tozeroy",
         "fillcolor": "green",
         "line": {
          "color": "green",
          "width": 0.5
         },
         "mode": "lines",
         "name": "BullSteepener",
         "opacity": 0.4,
         "showlegend": false,
         "type": "scatter",
         "x": [
          "2025-08-19T02:15:00+02:00",
          "2025-08-19T02:20:00+02:00"
         ],
         "y": [
          0.5728999999999997,
          0.5728999999999997
         ]
        },
        {
         "fill": "tozeroy",
         "fillcolor": "green",
         "line": {
          "color": "green",
          "width": 0.5
         },
         "mode": "lines",
         "name": "BullSteepener",
         "opacity": 0.4,
         "showlegend": false,
         "type": "scatter",
         "x": [
          "2025-08-19T02:20:00+02:00",
          "2025-08-19T02:25:00+02:00"
         ],
         "y": [
          0.5728999999999997,
          0.5728999999999997
         ]
        },
        {
         "fill": "tozeroy",
         "fillcolor": "orange",
         "line": {
          "color": "orange",
          "width": 0.5
         },
         "mode": "lines",
         "name": "BearFlattener",
         "opacity": 0.4,
         "showlegend": false,
         "type": "scatter",
         "x": [
          "2025-08-19T02:25:00+02:00",
          "2025-08-19T02:30:00+02:00"
         ],
         "y": [
          0.5728999999999997,
          0.5705999999999998
         ]
        },
        {
         "fill": "tozeroy",
         "fillcolor": "deepskyblue",
         "line": {
          "color": "deepskyblue",
          "width": 0.5
         },
         "mode": "lines",
         "name": "BullFlattener",
         "opacity": 0.4,
         "showlegend": false,
         "type": "scatter",
         "x": [
          "2025-08-19T02:30:00+02:00",
          "2025-08-19T02:35:00+02:00"
         ],
         "y": [
          0.5705999999999998,
          0.5707999999999998
         ]
        },
        {
         "fill": "tozeroy",
         "fillcolor": "grey",
         "line": {
          "color": "grey",
          "width": 0.5
         },
         "mode": "lines",
         "name": "Other",
         "opacity": 0.4,
         "showlegend": false,
         "type": "scatter",
         "x": [
          "2025-08-19T02:35:00+02:00",
          "2025-08-19T02:40:00+02:00"
         ],
         "y": [
          0.5707999999999998,
          0.5728999999999997
         ]
        },
        {
         "fill": "tozeroy",
         "fillcolor": "red",
         "line": {
          "color": "red",
          "width": 0.5
         },
         "mode": "lines",
         "name": "BearSteepener",
         "opacity": 0.4,
         "showlegend": false,
         "type": "scatter",
         "x": [
          "2025-08-19T02:40:00+02:00",
          "2025-08-19T02:45:00+02:00"
         ],
         "y": [
          0.5728999999999997,
          0.5747999999999998
         ]
        },
        {
         "fill": "tozeroy",
         "fillcolor": "grey",
         "line": {
          "color": "grey",
          "width": 0.5
         },
         "mode": "lines",
         "name": "Other",
         "opacity": 0.4,
         "showlegend": false,
         "type": "scatter",
         "x": [
          "2025-08-19T02:45:00+02:00",
          "2025-08-19T02:50:00+02:00"
         ],
         "y": [
          0.5747999999999998,
          0.5728999999999997
         ]
        },
        {
         "fill": "tozeroy",
         "fillcolor": "grey",
         "line": {
          "color": "grey",
          "width": 0.5
         },
         "mode": "lines",
         "name": "Other",
         "opacity": 0.4,
         "showlegend": false,
         "type": "scatter",
         "x": [
          "2025-08-19T02:50:00+02:00",
          "2025-08-19T02:55:00+02:00"
         ],
         "y": [
          0.5728999999999997,
          0.5728999999999997
         ]
        },
        {
         "fill": "tozeroy",
         "fillcolor": "green",
         "line": {
          "color": "green",
          "width": 0.5
         },
         "mode": "lines",
         "name": "BullSteepener",
         "opacity": 0.4,
         "showlegend": false,
         "type": "scatter",
         "x": [
          "2025-08-19T02:55:00+02:00",
          "2025-08-19T03:00:00+02:00"
         ],
         "y": [
          0.5728999999999997,
          0.5710999999999999
         ]
        },
        {
         "fill": "tozeroy",
         "fillcolor": "green",
         "line": {
          "color": "green",
          "width": 0.5
         },
         "mode": "lines",
         "name": "BullSteepener",
         "opacity": 0.4,
         "showlegend": false,
         "type": "scatter",
         "x": [
          "2025-08-19T03:00:00+02:00",
          "2025-08-19T03:05:00+02:00"
         ],
         "y": [
          0.5710999999999999,
          0.573
         ]
        },
        {
         "fill": "tozeroy",
         "fillcolor": "green",
         "line": {
          "color": "green",
          "width": 0.5
         },
         "mode": "lines",
         "name": "BullSteepener",
         "opacity": 0.4,
         "showlegend": false,
         "type": "scatter",
         "x": [
          "2025-08-19T03:05:00+02:00",
          "2025-08-19T03:10:00+02:00"
         ],
         "y": [
          0.573,
          0.573
         ]
        },
        {
         "fill": "tozeroy",
         "fillcolor": "deepskyblue",
         "line": {
          "color": "deepskyblue",
          "width": 0.5
         },
         "mode": "lines",
         "name": "BullFlattener",
         "opacity": 0.4,
         "showlegend": false,
         "type": "scatter",
         "x": [
          "2025-08-19T03:10:00+02:00",
          "2025-08-19T03:15:00+02:00"
         ],
         "y": [
          0.573,
          0.573
         ]
        },
        {
         "fill": "tozeroy",
         "fillcolor": "grey",
         "line": {
          "color": "grey",
          "width": 0.5
         },
         "mode": "lines",
         "name": "Other",
         "opacity": 0.4,
         "showlegend": false,
         "type": "scatter",
         "x": [
          "2025-08-19T03:15:00+02:00",
          "2025-08-19T03:20:00+02:00"
         ],
         "y": [
          0.573,
          0.5728999999999997
         ]
        },
        {
         "fill": "tozeroy",
         "fillcolor": "grey",
         "line": {
          "color": "grey",
          "width": 0.5
         },
         "mode": "lines",
         "name": "Other",
         "opacity": 0.4,
         "showlegend": false,
         "type": "scatter",
         "x": [
          "2025-08-19T03:20:00+02:00",
          "2025-08-19T03:25:00+02:00"
         ],
         "y": [
          0.5728999999999997,
          0.5728999999999997
         ]
        },
        {
         "fill": "tozeroy",
         "fillcolor": "orange",
         "line": {
          "color": "orange",
          "width": 0.5
         },
         "mode": "lines",
         "name": "BearFlattener",
         "opacity": 0.4,
         "showlegend": false,
         "type": "scatter",
         "x": [
          "2025-08-19T03:25:00+02:00",
          "2025-08-19T03:30:00+02:00"
         ],
         "y": [
          0.5728999999999997,
          0.5707999999999998
         ]
        },
        {
         "fill": "tozeroy",
         "fillcolor": "orange",
         "line": {
          "color": "orange",
          "width": 0.5
         },
         "mode": "lines",
         "name": "BearFlattener",
         "opacity": 0.4,
         "showlegend": false,
         "type": "scatter",
         "x": [
          "2025-08-19T03:30:00+02:00",
          "2025-08-19T03:35:00+02:00"
         ],
         "y": [
          0.5707999999999998,
          0.5728999999999997
         ]
        },
        {
         "fill": "tozeroy",
         "fillcolor": "orange",
         "line": {
          "color": "orange",
          "width": 0.5
         },
         "mode": "lines",
         "name": "BearFlattener",
         "opacity": 0.4,
         "showlegend": false,
         "type": "scatter",
         "x": [
          "2025-08-19T03:35:00+02:00",
          "2025-08-19T03:40:00+02:00"
         ],
         "y": [
          0.5728999999999997,
          0.5709
         ]
        },
        {
         "fill": "tozeroy",
         "fillcolor": "orange",
         "line": {
          "color": "orange",
          "width": 0.5
         },
         "mode": "lines",
         "name": "BearFlattener",
         "opacity": 0.4,
         "showlegend": false,
         "type": "scatter",
         "x": [
          "2025-08-19T03:40:00+02:00",
          "2025-08-19T03:45:00+02:00"
         ],
         "y": [
          0.5709,
          0.5728999999999997
         ]
        },
        {
         "fill": "tozeroy",
         "fillcolor": "violet",
         "line": {
          "color": "violet",
          "width": 0.5
         },
         "mode": "lines",
         "name": "TwistFlattener",
         "opacity": 0.4,
         "showlegend": false,
         "type": "scatter",
         "x": [
          "2025-08-19T03:45:00+02:00",
          "2025-08-19T03:50:00+02:00"
         ],
         "y": [
          0.5728999999999997,
          0.5688
         ]
        },
        {
         "fill": "tozeroy",
         "fillcolor": "deepskyblue",
         "line": {
          "color": "deepskyblue",
          "width": 0.5
         },
         "mode": "lines",
         "name": "BullFlattener",
         "opacity": 0.4,
         "showlegend": false,
         "type": "scatter",
         "x": [
          "2025-08-19T03:50:00+02:00",
          "2025-08-19T03:55:00+02:00"
         ],
         "y": [
          0.5688,
          0.569
         ]
        },
        {
         "fill": "tozeroy",
         "fillcolor": "deepskyblue",
         "line": {
          "color": "deepskyblue",
          "width": 0.5
         },
         "mode": "lines",
         "name": "BullFlattener",
         "opacity": 0.4,
         "showlegend": false,
         "type": "scatter",
         "x": [
          "2025-08-19T03:55:00+02:00",
          "2025-08-19T04:00:00+02:00"
         ],
         "y": [
          0.569,
          0.5688
         ]
        },
        {
         "fill": "tozeroy",
         "fillcolor": "violet",
         "line": {
          "color": "violet",
          "width": 0.5
         },
         "mode": "lines",
         "name": "TwistFlattener",
         "opacity": 0.4,
         "showlegend": false,
         "type": "scatter",
         "x": [
          "2025-08-19T04:00:00+02:00",
          "2025-08-19T04:05:00+02:00"
         ],
         "y": [
          0.5688,
          0.5688
         ]
        },
        {
         "fill": "tozeroy",
         "fillcolor": "orange",
         "line": {
          "color": "orange",
          "width": 0.5
         },
         "mode": "lines",
         "name": "BearFlattener",
         "opacity": 0.4,
         "showlegend": false,
         "type": "scatter",
         "x": [
          "2025-08-19T04:05:00+02:00",
          "2025-08-19T04:10:00+02:00"
         ],
         "y": [
          0.5688,
          0.5688
         ]
        },
        {
         "fill": "tozeroy",
         "fillcolor": "violet",
         "line": {
          "color": "violet",
          "width": 0.5
         },
         "mode": "lines",
         "name": "TwistFlattener",
         "opacity": 0.4,
         "showlegend": false,
         "type": "scatter",
         "x": [
          "2025-08-19T04:10:00+02:00",
          "2025-08-19T04:15:00+02:00"
         ],
         "y": [
          0.5688,
          0.5667
         ]
        },
        {
         "fill": "tozeroy",
         "fillcolor": "grey",
         "line": {
          "color": "grey",
          "width": 0.5
         },
         "mode": "lines",
         "name": "Other",
         "opacity": 0.4,
         "showlegend": false,
         "type": "scatter",
         "x": [
          "2025-08-19T04:15:00+02:00",
          "2025-08-19T04:20:00+02:00"
         ],
         "y": [
          0.5667,
          0.5688
         ]
        },
        {
         "fill": "tozeroy",
         "fillcolor": "orange",
         "line": {
          "color": "orange",
          "width": 0.5
         },
         "mode": "lines",
         "name": "BearFlattener",
         "opacity": 0.4,
         "showlegend": false,
         "type": "scatter",
         "x": [
          "2025-08-19T04:20:00+02:00",
          "2025-08-19T04:25:00+02:00"
         ],
         "y": [
          0.5688,
          0.5688
         ]
        },
        {
         "fill": "tozeroy",
         "fillcolor": "orange",
         "line": {
          "color": "orange",
          "width": 0.5
         },
         "mode": "lines",
         "name": "BearFlattener",
         "opacity": 0.4,
         "showlegend": false,
         "type": "scatter",
         "x": [
          "2025-08-19T04:25:00+02:00",
          "2025-08-19T04:30:00+02:00"
         ],
         "y": [
          0.5688,
          0.5686999999999998
         ]
        },
        {
         "fill": "tozeroy",
         "fillcolor": "orange",
         "line": {
          "color": "orange",
          "width": 0.5
         },
         "mode": "lines",
         "name": "BearFlattener",
         "opacity": 0.4,
         "showlegend": false,
         "type": "scatter",
         "x": [
          "2025-08-19T04:30:00+02:00",
          "2025-08-19T04:35:00+02:00"
         ],
         "y": [
          0.5686999999999998,
          0.5683999999999996
         ]
        },
        {
         "fill": "tozeroy",
         "fillcolor": "orange",
         "line": {
          "color": "orange",
          "width": 0.5
         },
         "mode": "lines",
         "name": "BearFlattener",
         "opacity": 0.4,
         "showlegend": false,
         "type": "scatter",
         "x": [
          "2025-08-19T04:35:00+02:00",
          "2025-08-19T04:40:00+02:00"
         ],
         "y": [
          0.5683999999999996,
          0.5684999999999998
         ]
        },
        {
         "fill": "tozeroy",
         "fillcolor": "red",
         "line": {
          "color": "red",
          "width": 0.5
         },
         "mode": "lines",
         "name": "BearSteepener",
         "opacity": 0.4,
         "showlegend": false,
         "type": "scatter",
         "x": [
          "2025-08-19T04:40:00+02:00",
          "2025-08-19T04:45:00+02:00"
         ],
         "y": [
          0.5684999999999998,
          0.5705999999999998
         ]
        },
        {
         "fill": "tozeroy",
         "fillcolor": "red",
         "line": {
          "color": "red",
          "width": 0.5
         },
         "mode": "lines",
         "name": "BearSteepener",
         "opacity": 0.4,
         "showlegend": false,
         "type": "scatter",
         "x": [
          "2025-08-19T04:45:00+02:00",
          "2025-08-19T04:50:00+02:00"
         ],
         "y": [
          0.5705999999999998,
          0.5704999999999996
         ]
        },
        {
         "fill": "tozeroy",
         "fillcolor": "red",
         "line": {
          "color": "red",
          "width": 0.5
         },
         "mode": "lines",
         "name": "BearSteepener",
         "opacity": 0.4,
         "showlegend": false,
         "type": "scatter",
         "x": [
          "2025-08-19T04:50:00+02:00",
          "2025-08-19T04:55:00+02:00"
         ],
         "y": [
          0.5704999999999996,
          0.5704999999999996
         ]
        },
        {
         "fill": "tozeroy",
         "fillcolor": "red",
         "line": {
          "color": "red",
          "width": 0.5
         },
         "mode": "lines",
         "name": "BearSteepener",
         "opacity": 0.4,
         "showlegend": false,
         "type": "scatter",
         "x": [
          "2025-08-19T04:55:00+02:00",
          "2025-08-19T05:00:00+02:00"
         ],
         "y": [
          0.5704999999999996,
          0.5704999999999996
         ]
        },
        {
         "fill": "tozeroy",
         "fillcolor": "green",
         "line": {
          "color": "green",
          "width": 0.5
         },
         "mode": "lines",
         "name": "BullSteepener",
         "opacity": 0.4,
         "showlegend": false,
         "type": "scatter",
         "x": [
          "2025-08-19T05:00:00+02:00",
          "2025-08-19T05:05:00+02:00"
         ],
         "y": [
          0.5704999999999996,
          0.5704999999999996
         ]
        },
        {
         "fill": "tozeroy",
         "fillcolor": "red",
         "line": {
          "color": "red",
          "width": 0.5
         },
         "mode": "lines",
         "name": "BearSteepener",
         "opacity": 0.4,
         "showlegend": false,
         "type": "scatter",
         "x": [
          "2025-08-19T05:05:00+02:00",
          "2025-08-19T05:10:00+02:00"
         ],
         "y": [
          0.5704999999999996,
          0.5704999999999996
         ]
        },
        {
         "fill": "tozeroy",
         "fillcolor": "orange",
         "line": {
          "color": "orange",
          "width": 0.5
         },
         "mode": "lines",
         "name": "BearFlattener",
         "opacity": 0.4,
         "showlegend": false,
         "type": "scatter",
         "x": [
          "2025-08-19T05:10:00+02:00",
          "2025-08-19T05:15:00+02:00"
         ],
         "y": [
          0.5704999999999996,
          0.5702999999999996
         ]
        },
        {
         "fill": "tozeroy",
         "fillcolor": "orange",
         "line": {
          "color": "orange",
          "width": 0.5
         },
         "mode": "lines",
         "name": "BearFlattener",
         "opacity": 0.4,
         "showlegend": false,
         "type": "scatter",
         "x": [
          "2025-08-19T05:15:00+02:00",
          "2025-08-19T05:20:00+02:00"
         ],
         "y": [
          0.5702999999999996,
          0.5681999999999996
         ]
        },
        {
         "fill": "tozeroy",
         "fillcolor": "orange",
         "line": {
          "color": "orange",
          "width": 0.5
         },
         "mode": "lines",
         "name": "BearFlattener",
         "opacity": 0.4,
         "showlegend": false,
         "type": "scatter",
         "x": [
          "2025-08-19T05:20:00+02:00",
          "2025-08-19T05:25:00+02:00"
         ],
         "y": [
          0.5681999999999996,
          0.5681999999999996
         ]
        },
        {
         "fill": "tozeroy",
         "fillcolor": "orange",
         "line": {
          "color": "orange",
          "width": 0.5
         },
         "mode": "lines",
         "name": "BearFlattener",
         "opacity": 0.4,
         "showlegend": false,
         "type": "scatter",
         "x": [
          "2025-08-19T05:25:00+02:00",
          "2025-08-19T05:30:00+02:00"
         ],
         "y": [
          0.5681999999999996,
          0.5683999999999996
         ]
        },
        {
         "fill": "tozeroy",
         "fillcolor": "orange",
         "line": {
          "color": "orange",
          "width": 0.5
         },
         "mode": "lines",
         "name": "BearFlattener",
         "opacity": 0.4,
         "showlegend": false,
         "type": "scatter",
         "x": [
          "2025-08-19T05:30:00+02:00",
          "2025-08-19T05:35:00+02:00"
         ],
         "y": [
          0.5683999999999996,
          0.5702999999999996
         ]
        },
        {
         "fill": "tozeroy",
         "fillcolor": "orange",
         "line": {
          "color": "orange",
          "width": 0.5
         },
         "mode": "lines",
         "name": "BearFlattener",
         "opacity": 0.4,
         "showlegend": false,
         "type": "scatter",
         "x": [
          "2025-08-19T05:35:00+02:00",
          "2025-08-19T05:40:00+02:00"
         ],
         "y": [
          0.5702999999999996,
          0.5702999999999996
         ]
        },
        {
         "fill": "tozeroy",
         "fillcolor": "orange",
         "line": {
          "color": "orange",
          "width": 0.5
         },
         "mode": "lines",
         "name": "BearFlattener",
         "opacity": 0.4,
         "showlegend": false,
         "type": "scatter",
         "x": [
          "2025-08-19T05:40:00+02:00",
          "2025-08-19T05:45:00+02:00"
         ],
         "y": [
          0.5702999999999996,
          0.5700000000000003
         ]
        },
        {
         "fill": "tozeroy",
         "fillcolor": "red",
         "line": {
          "color": "red",
          "width": 0.5
         },
         "mode": "lines",
         "name": "BearSteepener",
         "opacity": 0.4,
         "showlegend": false,
         "type": "scatter",
         "x": [
          "2025-08-19T05:45:00+02:00",
          "2025-08-19T05:50:00+02:00"
         ],
         "y": [
          0.5700000000000003,
          0.5699000000000001
         ]
        },
        {
         "fill": "tozeroy",
         "fillcolor": "red",
         "line": {
          "color": "red",
          "width": 0.5
         },
         "mode": "lines",
         "name": "BearSteepener",
         "opacity": 0.4,
         "showlegend": false,
         "type": "scatter",
         "x": [
          "2025-08-19T05:50:00+02:00",
          "2025-08-19T05:55:00+02:00"
         ],
         "y": [
          0.5699000000000001,
          0.5700000000000003
         ]
        },
        {
         "fill": "tozeroy",
         "fillcolor": "red",
         "line": {
          "color": "red",
          "width": 0.5
         },
         "mode": "lines",
         "name": "BearSteepener",
         "opacity": 0.4,
         "showlegend": false,
         "type": "scatter",
         "x": [
          "2025-08-19T05:55:00+02:00",
          "2025-08-19T06:00:00+02:00"
         ],
         "y": [
          0.5700000000000003,
          0.5700000000000003
         ]
        },
        {
         "fill": "tozeroy",
         "fillcolor": "red",
         "line": {
          "color": "red",
          "width": 0.5
         },
         "mode": "lines",
         "name": "BearSteepener",
         "opacity": 0.4,
         "showlegend": false,
         "type": "scatter",
         "x": [
          "2025-08-19T06:00:00+02:00",
          "2025-08-19T06:05:00+02:00"
         ],
         "y": [
          0.5700000000000003,
          0.5721000000000003
         ]
        },
        {
         "fill": "tozeroy",
         "fillcolor": "orange",
         "line": {
          "color": "orange",
          "width": 0.5
         },
         "mode": "lines",
         "name": "BearFlattener",
         "opacity": 0.4,
         "showlegend": false,
         "type": "scatter",
         "x": [
          "2025-08-19T06:05:00+02:00",
          "2025-08-19T06:10:00+02:00"
         ],
         "y": [
          0.5721000000000003,
          0.5702000000000003
         ]
        },
        {
         "fill": "tozeroy",
         "fillcolor": "grey",
         "line": {
          "color": "grey",
          "width": 0.5
         },
         "mode": "lines",
         "name": "Other",
         "opacity": 0.4,
         "showlegend": false,
         "type": "scatter",
         "x": [
          "2025-08-19T06:10:00+02:00",
          "2025-08-19T06:15:00+02:00"
         ],
         "y": [
          0.5702000000000003,
          0.5700000000000003
         ]
        },
        {
         "fill": "tozeroy",
         "fillcolor": "green",
         "line": {
          "color": "green",
          "width": 0.5
         },
         "mode": "lines",
         "name": "BullSteepener",
         "opacity": 0.4,
         "showlegend": false,
         "type": "scatter",
         "x": [
          "2025-08-19T06:15:00+02:00",
          "2025-08-19T06:20:00+02:00"
         ],
         "y": [
          0.5700000000000003,
          0.5702000000000003
         ]
        },
        {
         "fill": "tozeroy",
         "fillcolor": "grey",
         "line": {
          "color": "grey",
          "width": 0.5
         },
         "mode": "lines",
         "name": "Other",
         "opacity": 0.4,
         "showlegend": false,
         "type": "scatter",
         "x": [
          "2025-08-19T06:20:00+02:00",
          "2025-08-19T06:25:00+02:00"
         ],
         "y": [
          0.5702000000000003,
          0.5700000000000003
         ]
        },
        {
         "fill": "tozeroy",
         "fillcolor": "green",
         "line": {
          "color": "green",
          "width": 0.5
         },
         "mode": "lines",
         "name": "BullSteepener",
         "opacity": 0.4,
         "showlegend": false,
         "type": "scatter",
         "x": [
          "2025-08-19T06:25:00+02:00",
          "2025-08-19T06:30:00+02:00"
         ],
         "y": [
          0.5700000000000003,
          0.5702000000000003
         ]
        },
        {
         "fill": "tozeroy",
         "fillcolor": "deepskyblue",
         "line": {
          "color": "deepskyblue",
          "width": 0.5
         },
         "mode": "lines",
         "name": "BullFlattener",
         "opacity": 0.4,
         "showlegend": false,
         "type": "scatter",
         "x": [
          "2025-08-19T06:30:00+02:00",
          "2025-08-19T06:35:00+02:00"
         ],
         "y": [
          0.5702000000000003,
          0.5702000000000003
         ]
        },
        {
         "fill": "tozeroy",
         "fillcolor": "grey",
         "line": {
          "color": "grey",
          "width": 0.5
         },
         "mode": "lines",
         "name": "Other",
         "opacity": 0.4,
         "showlegend": false,
         "type": "scatter",
         "x": [
          "2025-08-19T06:35:00+02:00",
          "2025-08-19T06:40:00+02:00"
         ],
         "y": [
          0.5702000000000003,
          0.5702000000000003
         ]
        },
        {
         "fill": "tozeroy",
         "fillcolor": "green",
         "line": {
          "color": "green",
          "width": 0.5
         },
         "mode": "lines",
         "name": "BullSteepener",
         "opacity": 0.4,
         "showlegend": false,
         "type": "scatter",
         "x": [
          "2025-08-19T06:40:00+02:00",
          "2025-08-19T06:45:00+02:00"
         ],
         "y": [
          0.5702000000000003,
          0.5702000000000003
         ]
        },
        {
         "fill": "tozeroy",
         "fillcolor": "grey",
         "line": {
          "color": "grey",
          "width": 0.5
         },
         "mode": "lines",
         "name": "Other",
         "opacity": 0.4,
         "showlegend": false,
         "type": "scatter",
         "x": [
          "2025-08-19T06:45:00+02:00",
          "2025-08-19T06:50:00+02:00"
         ],
         "y": [
          0.5702000000000003,
          0.5702000000000003
         ]
        },
        {
         "fill": "tozeroy",
         "fillcolor": "green",
         "line": {
          "color": "green",
          "width": 0.5
         },
         "mode": "lines",
         "name": "BullSteepener",
         "opacity": 0.4,
         "showlegend": false,
         "type": "scatter",
         "x": [
          "2025-08-19T06:50:00+02:00",
          "2025-08-19T06:55:00+02:00"
         ],
         "y": [
          0.5702000000000003,
          0.5702000000000003
         ]
        },
        {
         "fill": "tozeroy",
         "fillcolor": "green",
         "line": {
          "color": "green",
          "width": 0.5
         },
         "mode": "lines",
         "name": "BullSteepener",
         "opacity": 0.4,
         "showlegend": false,
         "type": "scatter",
         "x": [
          "2025-08-19T06:55:00+02:00",
          "2025-08-19T07:00:00+02:00"
         ],
         "y": [
          0.5702000000000003,
          0.5704000000000002
         ]
        },
        {
         "fill": "tozeroy",
         "fillcolor": "green",
         "line": {
          "color": "green",
          "width": 0.5
         },
         "mode": "lines",
         "name": "BullSteepener",
         "opacity": 0.4,
         "showlegend": false,
         "type": "scatter",
         "x": [
          "2025-08-19T07:00:00+02:00",
          "2025-08-19T07:05:00+02:00"
         ],
         "y": [
          0.5704000000000002,
          0.5704000000000002
         ]
        },
        {
         "fill": "tozeroy",
         "fillcolor": "green",
         "line": {
          "color": "green",
          "width": 0.5
         },
         "mode": "lines",
         "name": "BullSteepener",
         "opacity": 0.4,
         "showlegend": false,
         "type": "scatter",
         "x": [
          "2025-08-19T07:05:00+02:00",
          "2025-08-19T07:10:00+02:00"
         ],
         "y": [
          0.5704000000000002,
          0.5725000000000002
         ]
        },
        {
         "fill": "tozeroy",
         "fillcolor": "green",
         "line": {
          "color": "green",
          "width": 0.5
         },
         "mode": "lines",
         "name": "BullSteepener",
         "opacity": 0.4,
         "showlegend": false,
         "type": "scatter",
         "x": [
          "2025-08-19T07:10:00+02:00",
          "2025-08-19T07:15:00+02:00"
         ],
         "y": [
          0.5725000000000002,
          0.5725000000000002
         ]
        },
        {
         "fill": "tozeroy",
         "fillcolor": "green",
         "line": {
          "color": "green",
          "width": 0.5
         },
         "mode": "lines",
         "name": "BullSteepener",
         "opacity": 0.4,
         "showlegend": false,
         "type": "scatter",
         "x": [
          "2025-08-19T07:15:00+02:00",
          "2025-08-19T07:20:00+02:00"
         ],
         "y": [
          0.5725000000000002,
          0.5725000000000002
         ]
        },
        {
         "fill": "tozeroy",
         "fillcolor": "green",
         "line": {
          "color": "green",
          "width": 0.5
         },
         "mode": "lines",
         "name": "BullSteepener",
         "opacity": 0.4,
         "showlegend": false,
         "type": "scatter",
         "x": [
          "2025-08-19T07:20:00+02:00",
          "2025-08-19T07:25:00+02:00"
         ],
         "y": [
          0.5725000000000002,
          0.5704999999999996
         ]
        },
        {
         "fill": "tozeroy",
         "fillcolor": "green",
         "line": {
          "color": "green",
          "width": 0.5
         },
         "mode": "lines",
         "name": "BullSteepener",
         "opacity": 0.4,
         "showlegend": false,
         "type": "scatter",
         "x": [
          "2025-08-19T07:25:00+02:00",
          "2025-08-19T07:30:00+02:00"
         ],
         "y": [
          0.5704999999999996,
          0.5704999999999996
         ]
        },
        {
         "fill": "tozeroy",
         "fillcolor": "deepskyblue",
         "line": {
          "color": "deepskyblue",
          "width": 0.5
         },
         "mode": "lines",
         "name": "BullFlattener",
         "opacity": 0.4,
         "showlegend": false,
         "type": "scatter",
         "x": [
          "2025-08-19T07:30:00+02:00",
          "2025-08-19T07:35:00+02:00"
         ],
         "y": [
          0.5704999999999996,
          0.5683999999999996
         ]
        },
        {
         "fill": "tozeroy",
         "fillcolor": "deepskyblue",
         "line": {
          "color": "deepskyblue",
          "width": 0.5
         },
         "mode": "lines",
         "name": "BullFlattener",
         "opacity": 0.4,
         "showlegend": false,
         "type": "scatter",
         "x": [
          "2025-08-19T07:35:00+02:00",
          "2025-08-19T07:40:00+02:00"
         ],
         "y": [
          0.5683999999999996,
          0.5704999999999996
         ]
        },
        {
         "fill": "tozeroy",
         "fillcolor": "deepskyblue",
         "line": {
          "color": "deepskyblue",
          "width": 0.5
         },
         "mode": "lines",
         "name": "BullFlattener",
         "opacity": 0.4,
         "showlegend": false,
         "type": "scatter",
         "x": [
          "2025-08-19T07:40:00+02:00",
          "2025-08-19T07:45:00+02:00"
         ],
         "y": [
          0.5704999999999996,
          0.5707999999999998
         ]
        },
        {
         "fill": "tozeroy",
         "fillcolor": "green",
         "line": {
          "color": "green",
          "width": 0.5
         },
         "mode": "lines",
         "name": "BullSteepener",
         "opacity": 0.4,
         "showlegend": false,
         "type": "scatter",
         "x": [
          "2025-08-19T07:45:00+02:00",
          "2025-08-19T07:50:00+02:00"
         ],
         "y": [
          0.5707999999999998,
          0.5727999999999995
         ]
        },
        {
         "fill": "tozeroy",
         "fillcolor": "green",
         "line": {
          "color": "green",
          "width": 0.5
         },
         "mode": "lines",
         "name": "BullSteepener",
         "opacity": 0.4,
         "showlegend": false,
         "type": "scatter",
         "x": [
          "2025-08-19T07:50:00+02:00",
          "2025-08-19T07:55:00+02:00"
         ],
         "y": [
          0.5727999999999995,
          0.5727999999999995
         ]
        },
        {
         "fill": "tozeroy",
         "fillcolor": "green",
         "line": {
          "color": "green",
          "width": 0.5
         },
         "mode": "lines",
         "name": "BullSteepener",
         "opacity": 0.4,
         "showlegend": false,
         "type": "scatter",
         "x": [
          "2025-08-19T07:55:00+02:00",
          "2025-08-19T08:00:00+02:00"
         ],
         "y": [
          0.5727999999999995,
          0.5725999999999996
         ]
        },
        {
         "fill": "tozeroy",
         "fillcolor": "gold",
         "line": {
          "color": "gold",
          "width": 0.5
         },
         "mode": "lines",
         "name": "TwistSteepener",
         "opacity": 0.4,
         "showlegend": false,
         "type": "scatter",
         "x": [
          "2025-08-19T08:00:00+02:00",
          "2025-08-19T08:05:00+02:00"
         ],
         "y": [
          0.5725999999999996,
          0.5746000000000002
         ]
        },
        {
         "fill": "tozeroy",
         "fillcolor": "green",
         "line": {
          "color": "green",
          "width": 0.5
         },
         "mode": "lines",
         "name": "BullSteepener",
         "opacity": 0.4,
         "showlegend": false,
         "type": "scatter",
         "x": [
          "2025-08-19T08:05:00+02:00",
          "2025-08-19T08:10:00+02:00"
         ],
         "y": [
          0.5746000000000002,
          0.5725999999999996
         ]
        },
        {
         "fill": "tozeroy",
         "fillcolor": "red",
         "line": {
          "color": "red",
          "width": 0.5
         },
         "mode": "lines",
         "name": "BearSteepener",
         "opacity": 0.4,
         "showlegend": false,
         "type": "scatter",
         "x": [
          "2025-08-19T08:10:00+02:00",
          "2025-08-19T08:15:00+02:00"
         ],
         "y": [
          0.5725999999999996,
          0.5727999999999995
         ]
        },
        {
         "fill": "tozeroy",
         "fillcolor": "red",
         "line": {
          "color": "red",
          "width": 0.5
         },
         "mode": "lines",
         "name": "BearSteepener",
         "opacity": 0.4,
         "showlegend": false,
         "type": "scatter",
         "x": [
          "2025-08-19T08:15:00+02:00",
          "2025-08-19T08:20:00+02:00"
         ],
         "y": [
          0.5727999999999995,
          0.5746999999999995
         ]
        },
        {
         "fill": "tozeroy",
         "fillcolor": "red",
         "line": {
          "color": "red",
          "width": 0.5
         },
         "mode": "lines",
         "name": "BearSteepener",
         "opacity": 0.4,
         "showlegend": false,
         "type": "scatter",
         "x": [
          "2025-08-19T08:20:00+02:00",
          "2025-08-19T08:25:00+02:00"
         ],
         "y": [
          0.5746999999999995,
          0.5767000000000002
         ]
        },
        {
         "fill": "tozeroy",
         "fillcolor": "red",
         "line": {
          "color": "red",
          "width": 0.5
         },
         "mode": "lines",
         "name": "BearSteepener",
         "opacity": 0.4,
         "showlegend": false,
         "type": "scatter",
         "x": [
          "2025-08-19T08:25:00+02:00",
          "2025-08-19T08:30:00+02:00"
         ],
         "y": [
          0.5767000000000002,
          0.5746000000000002
         ]
        },
        {
         "fill": "tozeroy",
         "fillcolor": "grey",
         "line": {
          "color": "grey",
          "width": 0.5
         },
         "mode": "lines",
         "name": "Other",
         "opacity": 0.4,
         "showlegend": false,
         "type": "scatter",
         "x": [
          "2025-08-19T08:30:00+02:00",
          "2025-08-19T08:35:00+02:00"
         ],
         "y": [
          0.5746000000000002,
          0.5746000000000002
         ]
        },
        {
         "fill": "tozeroy",
         "fillcolor": "grey",
         "line": {
          "color": "grey",
          "width": 0.5
         },
         "mode": "lines",
         "name": "Other",
         "opacity": 0.4,
         "showlegend": false,
         "type": "scatter",
         "x": [
          "2025-08-19T08:35:00+02:00",
          "2025-08-19T08:40:00+02:00"
         ],
         "y": [
          0.5746000000000002,
          0.5725999999999996
         ]
        },
        {
         "fill": "tozeroy",
         "fillcolor": "orange",
         "line": {
          "color": "orange",
          "width": 0.5
         },
         "mode": "lines",
         "name": "BearFlattener",
         "opacity": 0.4,
         "showlegend": false,
         "type": "scatter",
         "x": [
          "2025-08-19T08:40:00+02:00",
          "2025-08-19T08:45:00+02:00"
         ],
         "y": [
          0.5725999999999996,
          0.5725999999999996
         ]
        },
        {
         "fill": "tozeroy",
         "fillcolor": "orange",
         "line": {
          "color": "orange",
          "width": 0.5
         },
         "mode": "lines",
         "name": "BearFlattener",
         "opacity": 0.4,
         "showlegend": false,
         "type": "scatter",
         "x": [
          "2025-08-19T08:45:00+02:00",
          "2025-08-19T08:50:00+02:00"
         ],
         "y": [
          0.5725999999999996,
          0.5725999999999996
         ]
        },
        {
         "fill": "tozeroy",
         "fillcolor": "violet",
         "line": {
          "color": "violet",
          "width": 0.5
         },
         "mode": "lines",
         "name": "TwistFlattener",
         "opacity": 0.4,
         "showlegend": false,
         "type": "scatter",
         "x": [
          "2025-08-19T08:50:00+02:00",
          "2025-08-19T08:55:00+02:00"
         ],
         "y": [
          0.5725999999999996,
          0.5706999999999995
         ]
        },
        {
         "fill": "tozeroy",
         "fillcolor": "violet",
         "line": {
          "color": "violet",
          "width": 0.5
         },
         "mode": "lines",
         "name": "TwistFlattener",
         "opacity": 0.4,
         "showlegend": false,
         "type": "scatter",
         "x": [
          "2025-08-19T08:55:00+02:00",
          "2025-08-19T09:00:00+02:00"
         ],
         "y": [
          0.5706999999999995,
          0.5704999999999996
         ]
        },
        {
         "fill": "tozeroy",
         "fillcolor": "orange",
         "line": {
          "color": "orange",
          "width": 0.5
         },
         "mode": "lines",
         "name": "BearFlattener",
         "opacity": 0.4,
         "showlegend": false,
         "type": "scatter",
         "x": [
          "2025-08-19T09:00:00+02:00",
          "2025-08-19T09:05:00+02:00"
         ],
         "y": [
          0.5704999999999996,
          0.5725000000000002
         ]
        },
        {
         "fill": "tozeroy",
         "fillcolor": "orange",
         "line": {
          "color": "orange",
          "width": 0.5
         },
         "mode": "lines",
         "name": "BearFlattener",
         "opacity": 0.4,
         "showlegend": false,
         "type": "scatter",
         "x": [
          "2025-08-19T09:05:00+02:00",
          "2025-08-19T09:10:00+02:00"
         ],
         "y": [
          0.5725000000000002,
          0.5725000000000002
         ]
        },
        {
         "fill": "tozeroy",
         "fillcolor": "deepskyblue",
         "line": {
          "color": "deepskyblue",
          "width": 0.5
         },
         "mode": "lines",
         "name": "BullFlattener",
         "opacity": 0.4,
         "showlegend": false,
         "type": "scatter",
         "x": [
          "2025-08-19T09:10:00+02:00",
          "2025-08-19T09:15:00+02:00"
         ],
         "y": [
          0.5725000000000002,
          0.5706999999999995
         ]
        },
        {
         "fill": "tozeroy",
         "fillcolor": "green",
         "line": {
          "color": "green",
          "width": 0.5
         },
         "mode": "lines",
         "name": "BullSteepener",
         "opacity": 0.4,
         "showlegend": false,
         "type": "scatter",
         "x": [
          "2025-08-19T09:15:00+02:00",
          "2025-08-19T09:20:00+02:00"
         ],
         "y": [
          0.5706999999999995,
          0.5727999999999995
         ]
        },
        {
         "fill": "tozeroy",
         "fillcolor": "red",
         "line": {
          "color": "red",
          "width": 0.5
         },
         "mode": "lines",
         "name": "BearSteepener",
         "opacity": 0.4,
         "showlegend": false,
         "type": "scatter",
         "x": [
          "2025-08-19T09:20:00+02:00",
          "2025-08-19T09:25:00+02:00"
         ],
         "y": [
          0.5727999999999995,
          0.5725999999999996
         ]
        },
        {
         "fill": "tozeroy",
         "fillcolor": "red",
         "line": {
          "color": "red",
          "width": 0.5
         },
         "mode": "lines",
         "name": "BearSteepener",
         "opacity": 0.4,
         "showlegend": false,
         "type": "scatter",
         "x": [
          "2025-08-19T09:25:00+02:00",
          "2025-08-19T09:30:00+02:00"
         ],
         "y": [
          0.5725999999999996,
          0.5744000000000002
         ]
        },
        {
         "fill": "tozeroy",
         "fillcolor": "gold",
         "line": {
          "color": "gold",
          "width": 0.5
         },
         "mode": "lines",
         "name": "TwistSteepener",
         "opacity": 0.4,
         "showlegend": false,
         "type": "scatter",
         "x": [
          "2025-08-19T09:30:00+02:00",
          "2025-08-19T09:35:00+02:00"
         ],
         "y": [
          0.5744000000000002,
          0.5765000000000002
         ]
        },
        {
         "fill": "tozeroy",
         "fillcolor": "gold",
         "line": {
          "color": "gold",
          "width": 0.5
         },
         "mode": "lines",
         "name": "TwistSteepener",
         "opacity": 0.4,
         "showlegend": false,
         "type": "scatter",
         "x": [
          "2025-08-19T09:35:00+02:00",
          "2025-08-19T09:40:00+02:00"
         ],
         "y": [
          0.5765000000000002,
          0.5765000000000002
         ]
        },
        {
         "fill": "tozeroy",
         "fillcolor": "red",
         "line": {
          "color": "red",
          "width": 0.5
         },
         "mode": "lines",
         "name": "BearSteepener",
         "opacity": 0.4,
         "showlegend": false,
         "type": "scatter",
         "x": [
          "2025-08-19T09:40:00+02:00",
          "2025-08-19T09:45:00+02:00"
         ],
         "y": [
          0.5765000000000002,
          0.5764
         ]
        },
        {
         "fill": "tozeroy",
         "fillcolor": "red",
         "line": {
          "color": "red",
          "width": 0.5
         },
         "mode": "lines",
         "name": "BearSteepener",
         "opacity": 0.4,
         "showlegend": false,
         "type": "scatter",
         "x": [
          "2025-08-19T09:45:00+02:00",
          "2025-08-19T09:50:00+02:00"
         ],
         "y": [
          0.5764,
          0.5743
         ]
        },
        {
         "fill": "tozeroy",
         "fillcolor": "red",
         "line": {
          "color": "red",
          "width": 0.5
         },
         "mode": "lines",
         "name": "BearSteepener",
         "opacity": 0.4,
         "showlegend": false,
         "type": "scatter",
         "x": [
          "2025-08-19T09:50:00+02:00",
          "2025-08-19T09:55:00+02:00"
         ],
         "y": [
          0.5743,
          0.5764
         ]
        },
        {
         "fill": "tozeroy",
         "fillcolor": "red",
         "line": {
          "color": "red",
          "width": 0.5
         },
         "mode": "lines",
         "name": "BearSteepener",
         "opacity": 0.4,
         "showlegend": false,
         "type": "scatter",
         "x": [
          "2025-08-19T09:55:00+02:00",
          "2025-08-19T10:00:00+02:00"
         ],
         "y": [
          0.5764,
          0.5764
         ]
        },
        {
         "fill": "tozeroy",
         "fillcolor": "grey",
         "line": {
          "color": "grey",
          "width": 0.5
         },
         "mode": "lines",
         "name": "Other",
         "opacity": 0.4,
         "showlegend": false,
         "type": "scatter",
         "x": [
          "2025-08-19T10:00:00+02:00",
          "2025-08-19T10:05:00+02:00"
         ],
         "y": [
          0.5764,
          0.5765000000000002
         ]
        },
        {
         "fill": "tozeroy",
         "fillcolor": "grey",
         "line": {
          "color": "grey",
          "width": 0.5
         },
         "mode": "lines",
         "name": "Other",
         "opacity": 0.4,
         "showlegend": false,
         "type": "scatter",
         "x": [
          "2025-08-19T10:05:00+02:00",
          "2025-08-19T10:10:00+02:00"
         ],
         "y": [
          0.5765000000000002,
          0.5765000000000002
         ]
        },
        {
         "fill": "tozeroy",
         "fillcolor": "green",
         "line": {
          "color": "green",
          "width": 0.5
         },
         "mode": "lines",
         "name": "BullSteepener",
         "opacity": 0.4,
         "showlegend": false,
         "type": "scatter",
         "x": [
          "2025-08-19T10:10:00+02:00",
          "2025-08-19T10:15:00+02:00"
         ],
         "y": [
          0.5765000000000002,
          0.5786000000000002
         ]
        },
        {
         "fill": "tozeroy",
         "fillcolor": "green",
         "line": {
          "color": "green",
          "width": 0.5
         },
         "mode": "lines",
         "name": "BullSteepener",
         "opacity": 0.4,
         "showlegend": false,
         "type": "scatter",
         "x": [
          "2025-08-19T10:15:00+02:00",
          "2025-08-19T10:20:00+02:00"
         ],
         "y": [
          0.5786000000000002,
          0.5767000000000002
         ]
        },
        {
         "fill": "tozeroy",
         "fillcolor": "green",
         "line": {
          "color": "green",
          "width": 0.5
         },
         "mode": "lines",
         "name": "BullSteepener",
         "opacity": 0.4,
         "showlegend": false,
         "type": "scatter",
         "x": [
          "2025-08-19T10:20:00+02:00",
          "2025-08-19T10:25:00+02:00"
         ],
         "y": [
          0.5767000000000002,
          0.5767999999999995
         ]
        },
        {
         "fill": "tozeroy",
         "fillcolor": "green",
         "line": {
          "color": "green",
          "width": 0.5
         },
         "mode": "lines",
         "name": "BullSteepener",
         "opacity": 0.4,
         "showlegend": false,
         "type": "scatter",
         "x": [
          "2025-08-19T10:25:00+02:00",
          "2025-08-19T10:30:00+02:00"
         ],
         "y": [
          0.5767999999999995,
          0.5767000000000002
         ]
        },
        {
         "fill": "tozeroy",
         "fillcolor": "deepskyblue",
         "line": {
          "color": "deepskyblue",
          "width": 0.5
         },
         "mode": "lines",
         "name": "BullFlattener",
         "opacity": 0.4,
         "showlegend": false,
         "type": "scatter",
         "x": [
          "2025-08-19T10:30:00+02:00",
          "2025-08-19T10:35:00+02:00"
         ],
         "y": [
          0.5767000000000002,
          0.5746999999999995
         ]
        },
        {
         "fill": "tozeroy",
         "fillcolor": "deepskyblue",
         "line": {
          "color": "deepskyblue",
          "width": 0.5
         },
         "mode": "lines",
         "name": "BullFlattener",
         "opacity": 0.4,
         "showlegend": false,
         "type": "scatter",
         "x": [
          "2025-08-19T10:35:00+02:00",
          "2025-08-19T10:40:00+02:00"
         ],
         "y": [
          0.5746999999999995,
          0.5748999999999995
         ]
        },
        {
         "fill": "tozeroy",
         "fillcolor": "deepskyblue",
         "line": {
          "color": "deepskyblue",
          "width": 0.5
         },
         "mode": "lines",
         "name": "BullFlattener",
         "opacity": 0.4,
         "showlegend": false,
         "type": "scatter",
         "x": [
          "2025-08-19T10:40:00+02:00",
          "2025-08-19T10:45:00+02:00"
         ],
         "y": [
          0.5748999999999995,
          0.5707999999999998
         ]
        },
        {
         "fill": "tozeroy",
         "fillcolor": "deepskyblue",
         "line": {
          "color": "deepskyblue",
          "width": 0.5
         },
         "mode": "lines",
         "name": "BullFlattener",
         "opacity": 0.4,
         "showlegend": false,
         "type": "scatter",
         "x": [
          "2025-08-19T10:45:00+02:00",
          "2025-08-19T10:50:00+02:00"
         ],
         "y": [
          0.5707999999999998,
          0.5728999999999997
         ]
        },
        {
         "fill": "tozeroy",
         "fillcolor": "deepskyblue",
         "line": {
          "color": "deepskyblue",
          "width": 0.5
         },
         "mode": "lines",
         "name": "BullFlattener",
         "opacity": 0.4,
         "showlegend": false,
         "type": "scatter",
         "x": [
          "2025-08-19T10:50:00+02:00",
          "2025-08-19T10:55:00+02:00"
         ],
         "y": [
          0.5728999999999997,
          0.5728999999999997
         ]
        },
        {
         "fill": "tozeroy",
         "fillcolor": "deepskyblue",
         "line": {
          "color": "deepskyblue",
          "width": 0.5
         },
         "mode": "lines",
         "name": "BullFlattener",
         "opacity": 0.4,
         "showlegend": false,
         "type": "scatter",
         "x": [
          "2025-08-19T10:55:00+02:00",
          "2025-08-19T11:00:00+02:00"
         ],
         "y": [
          0.5728999999999997,
          0.5728999999999997
         ]
        },
        {
         "fill": "tozeroy",
         "fillcolor": "green",
         "line": {
          "color": "green",
          "width": 0.5
         },
         "mode": "lines",
         "name": "BullSteepener",
         "opacity": 0.4,
         "showlegend": false,
         "type": "scatter",
         "x": [
          "2025-08-19T11:00:00+02:00",
          "2025-08-19T11:05:00+02:00"
         ],
         "y": [
          0.5728999999999997,
          0.5748999999999995
         ]
        },
        {
         "fill": "tozeroy",
         "fillcolor": "deepskyblue",
         "line": {
          "color": "deepskyblue",
          "width": 0.5
         },
         "mode": "lines",
         "name": "BullFlattener",
         "opacity": 0.4,
         "showlegend": false,
         "type": "scatter",
         "x": [
          "2025-08-19T11:05:00+02:00",
          "2025-08-19T11:10:00+02:00"
         ],
         "y": [
          0.5748999999999995,
          0.5728999999999997
         ]
        },
        {
         "fill": "tozeroy",
         "fillcolor": "green",
         "line": {
          "color": "green",
          "width": 0.5
         },
         "mode": "lines",
         "name": "BullSteepener",
         "opacity": 0.4,
         "showlegend": false,
         "type": "scatter",
         "x": [
          "2025-08-19T11:10:00+02:00",
          "2025-08-19T11:15:00+02:00"
         ],
         "y": [
          0.5728999999999997,
          0.5728999999999997
         ]
        },
        {
         "fill": "tozeroy",
         "fillcolor": "green",
         "line": {
          "color": "green",
          "width": 0.5
         },
         "mode": "lines",
         "name": "BullSteepener",
         "opacity": 0.4,
         "showlegend": false,
         "type": "scatter",
         "x": [
          "2025-08-19T11:15:00+02:00",
          "2025-08-19T11:20:00+02:00"
         ],
         "y": [
          0.5728999999999997,
          0.5730999999999997
         ]
        },
        {
         "fill": "tozeroy",
         "fillcolor": "deepskyblue",
         "line": {
          "color": "deepskyblue",
          "width": 0.5
         },
         "mode": "lines",
         "name": "BullFlattener",
         "opacity": 0.4,
         "showlegend": false,
         "type": "scatter",
         "x": [
          "2025-08-19T11:20:00+02:00",
          "2025-08-19T11:25:00+02:00"
         ],
         "y": [
          0.5730999999999997,
          0.569
         ]
        },
        {
         "fill": "tozeroy",
         "fillcolor": "deepskyblue",
         "line": {
          "color": "deepskyblue",
          "width": 0.5
         },
         "mode": "lines",
         "name": "BullFlattener",
         "opacity": 0.4,
         "showlegend": false,
         "type": "scatter",
         "x": [
          "2025-08-19T11:25:00+02:00",
          "2025-08-19T11:30:00+02:00"
         ],
         "y": [
          0.569,
          0.5672000000000001
         ]
        },
        {
         "fill": "tozeroy",
         "fillcolor": "deepskyblue",
         "line": {
          "color": "deepskyblue",
          "width": 0.5
         },
         "mode": "lines",
         "name": "BullFlattener",
         "opacity": 0.4,
         "showlegend": false,
         "type": "scatter",
         "x": [
          "2025-08-19T11:30:00+02:00",
          "2025-08-19T11:35:00+02:00"
         ],
         "y": [
          0.5672000000000001,
          0.5691999999999999
         ]
        },
        {
         "fill": "tozeroy",
         "fillcolor": "deepskyblue",
         "line": {
          "color": "deepskyblue",
          "width": 0.5
         },
         "mode": "lines",
         "name": "BullFlattener",
         "opacity": 0.4,
         "showlegend": false,
         "type": "scatter",
         "x": [
          "2025-08-19T11:35:00+02:00",
          "2025-08-19T11:40:00+02:00"
         ],
         "y": [
          0.5691999999999999,
          0.5672000000000001
         ]
        },
        {
         "fill": "tozeroy",
         "fillcolor": "deepskyblue",
         "line": {
          "color": "deepskyblue",
          "width": 0.5
         },
         "mode": "lines",
         "name": "BullFlattener",
         "opacity": 0.4,
         "showlegend": false,
         "type": "scatter",
         "x": [
          "2025-08-19T11:40:00+02:00",
          "2025-08-19T11:45:00+02:00"
         ],
         "y": [
          0.5672000000000001,
          0.5693000000000001
         ]
        },
        {
         "fill": "tozeroy",
         "fillcolor": "deepskyblue",
         "line": {
          "color": "deepskyblue",
          "width": 0.5
         },
         "mode": "lines",
         "name": "BullFlattener",
         "opacity": 0.4,
         "showlegend": false,
         "type": "scatter",
         "x": [
          "2025-08-19T11:45:00+02:00",
          "2025-08-19T11:50:00+02:00"
         ],
         "y": [
          0.5693000000000001,
          0.5693000000000001
         ]
        },
        {
         "fill": "tozeroy",
         "fillcolor": "deepskyblue",
         "line": {
          "color": "deepskyblue",
          "width": 0.5
         },
         "mode": "lines",
         "name": "BullFlattener",
         "opacity": 0.4,
         "showlegend": false,
         "type": "scatter",
         "x": [
          "2025-08-19T11:50:00+02:00",
          "2025-08-19T11:55:00+02:00"
         ],
         "y": [
          0.5693000000000001,
          0.5674000000000001
         ]
        },
        {
         "fill": "tozeroy",
         "fillcolor": "deepskyblue",
         "line": {
          "color": "deepskyblue",
          "width": 0.5
         },
         "mode": "lines",
         "name": "BullFlattener",
         "opacity": 0.4,
         "showlegend": false,
         "type": "scatter",
         "x": [
          "2025-08-19T11:55:00+02:00",
          "2025-08-19T12:00:00+02:00"
         ],
         "y": [
          0.5674000000000001,
          0.5653999999999995
         ]
        },
        {
         "fill": "tozeroy",
         "fillcolor": "deepskyblue",
         "line": {
          "color": "deepskyblue",
          "width": 0.5
         },
         "mode": "lines",
         "name": "BullFlattener",
         "opacity": 0.4,
         "showlegend": false,
         "type": "scatter",
         "x": [
          "2025-08-19T12:00:00+02:00",
          "2025-08-19T12:05:00+02:00"
         ],
         "y": [
          0.5653999999999995,
          0.5674999999999994
         ]
        },
        {
         "fill": "tozeroy",
         "fillcolor": "green",
         "line": {
          "color": "green",
          "width": 0.5
         },
         "mode": "lines",
         "name": "BullSteepener",
         "opacity": 0.4,
         "showlegend": false,
         "type": "scatter",
         "x": [
          "2025-08-19T12:05:00+02:00",
          "2025-08-19T12:10:00+02:00"
         ],
         "y": [
          0.5674999999999994,
          0.5674999999999994
         ]
        },
        {
         "fill": "tozeroy",
         "fillcolor": "deepskyblue",
         "line": {
          "color": "deepskyblue",
          "width": 0.5
         },
         "mode": "lines",
         "name": "BullFlattener",
         "opacity": 0.4,
         "showlegend": false,
         "type": "scatter",
         "x": [
          "2025-08-19T12:10:00+02:00",
          "2025-08-19T12:15:00+02:00"
         ],
         "y": [
          0.5674999999999994,
          0.5674999999999994
         ]
        },
        {
         "fill": "tozeroy",
         "fillcolor": "deepskyblue",
         "line": {
          "color": "deepskyblue",
          "width": 0.5
         },
         "mode": "lines",
         "name": "BullFlattener",
         "opacity": 0.4,
         "showlegend": false,
         "type": "scatter",
         "x": [
          "2025-08-19T12:15:00+02:00",
          "2025-08-19T12:20:00+02:00"
         ],
         "y": [
          0.5674999999999994,
          0.5674000000000001
         ]
        },
        {
         "fill": "tozeroy",
         "fillcolor": "green",
         "line": {
          "color": "green",
          "width": 0.5
         },
         "mode": "lines",
         "name": "BullSteepener",
         "opacity": 0.4,
         "showlegend": false,
         "type": "scatter",
         "x": [
          "2025-08-19T12:20:00+02:00",
          "2025-08-19T12:25:00+02:00"
         ],
         "y": [
          0.5674000000000001,
          0.5674999999999994
         ]
        },
        {
         "fill": "tozeroy",
         "fillcolor": "grey",
         "line": {
          "color": "grey",
          "width": 0.5
         },
         "mode": "lines",
         "name": "Other",
         "opacity": 0.4,
         "showlegend": false,
         "type": "scatter",
         "x": [
          "2025-08-19T12:25:00+02:00",
          "2025-08-19T12:30:00+02:00"
         ],
         "y": [
          0.5674999999999994,
          0.5653999999999995
         ]
        },
        {
         "fill": "tozeroy",
         "fillcolor": "orange",
         "line": {
          "color": "orange",
          "width": 0.5
         },
         "mode": "lines",
         "name": "BearFlattener",
         "opacity": 0.4,
         "showlegend": false,
         "type": "scatter",
         "x": [
          "2025-08-19T12:30:00+02:00",
          "2025-08-19T12:35:00+02:00"
         ],
         "y": [
          0.5653999999999995,
          0.5674000000000001
         ]
        },
        {
         "fill": "tozeroy",
         "fillcolor": "orange",
         "line": {
          "color": "orange",
          "width": 0.5
         },
         "mode": "lines",
         "name": "BearFlattener",
         "opacity": 0.4,
         "showlegend": false,
         "type": "scatter",
         "x": [
          "2025-08-19T12:35:00+02:00",
          "2025-08-19T12:40:00+02:00"
         ],
         "y": [
          0.5674000000000001,
          0.5672000000000001
         ]
        },
        {
         "fill": "tozeroy",
         "fillcolor": "orange",
         "line": {
          "color": "orange",
          "width": 0.5
         },
         "mode": "lines",
         "name": "BearFlattener",
         "opacity": 0.4,
         "showlegend": false,
         "type": "scatter",
         "x": [
          "2025-08-19T12:40:00+02:00",
          "2025-08-19T12:45:00+02:00"
         ],
         "y": [
          0.5672000000000001,
          0.5672000000000001
         ]
        },
        {
         "fill": "tozeroy",
         "fillcolor": "red",
         "line": {
          "color": "red",
          "width": 0.5
         },
         "mode": "lines",
         "name": "BearSteepener",
         "opacity": 0.4,
         "showlegend": false,
         "type": "scatter",
         "x": [
          "2025-08-19T12:45:00+02:00",
          "2025-08-19T12:50:00+02:00"
         ],
         "y": [
          0.5672000000000001,
          0.5693000000000001
         ]
        },
        {
         "fill": "tozeroy",
         "fillcolor": "red",
         "line": {
          "color": "red",
          "width": 0.5
         },
         "mode": "lines",
         "name": "BearSteepener",
         "opacity": 0.4,
         "showlegend": false,
         "type": "scatter",
         "x": [
          "2025-08-19T12:50:00+02:00",
          "2025-08-19T12:55:00+02:00"
         ],
         "y": [
          0.5693000000000001,
          0.5691999999999999
         ]
        },
        {
         "fill": "tozeroy",
         "fillcolor": "orange",
         "line": {
          "color": "orange",
          "width": 0.5
         },
         "mode": "lines",
         "name": "BearFlattener",
         "opacity": 0.4,
         "showlegend": false,
         "type": "scatter",
         "x": [
          "2025-08-19T12:55:00+02:00",
          "2025-08-19T13:00:00+02:00"
         ],
         "y": [
          0.5691999999999999,
          0.5653000000000001
         ]
        },
        {
         "fill": "tozeroy",
         "fillcolor": "violet",
         "line": {
          "color": "violet",
          "width": 0.5
         },
         "mode": "lines",
         "name": "TwistFlattener",
         "opacity": 0.4,
         "showlegend": false,
         "type": "scatter",
         "x": [
          "2025-08-19T13:00:00+02:00",
          "2025-08-19T13:05:00+02:00"
         ],
         "y": [
          0.5653000000000001,
          0.5632999999999995
         ]
        },
        {
         "fill": "tozeroy",
         "fillcolor": "deepskyblue",
         "line": {
          "color": "deepskyblue",
          "width": 0.5
         },
         "mode": "lines",
         "name": "BullFlattener",
         "opacity": 0.4,
         "showlegend": false,
         "type": "scatter",
         "x": [
          "2025-08-19T13:05:00+02:00",
          "2025-08-19T13:10:00+02:00"
         ],
         "y": [
          0.5632999999999995,
          0.5653000000000001
         ]
        },
        {
         "fill": "tozeroy",
         "fillcolor": "grey",
         "line": {
          "color": "grey",
          "width": 0.5
         },
         "mode": "lines",
         "name": "Other",
         "opacity": 0.4,
         "showlegend": false,
         "type": "scatter",
         "x": [
          "2025-08-19T13:10:00+02:00",
          "2025-08-19T13:15:00+02:00"
         ],
         "y": [
          0.5653000000000001,
          0.5672000000000001
         ]
        },
        {
         "fill": "tozeroy",
         "fillcolor": "violet",
         "line": {
          "color": "violet",
          "width": 0.5
         },
         "mode": "lines",
         "name": "TwistFlattener",
         "opacity": 0.4,
         "showlegend": false,
         "type": "scatter",
         "x": [
          "2025-08-19T13:15:00+02:00",
          "2025-08-19T13:20:00+02:00"
         ],
         "y": [
          0.5672000000000001,
          0.5653000000000001
         ]
        },
        {
         "fill": "tozeroy",
         "fillcolor": "violet",
         "line": {
          "color": "violet",
          "width": 0.5
         },
         "mode": "lines",
         "name": "TwistFlattener",
         "opacity": 0.4,
         "showlegend": false,
         "type": "scatter",
         "x": [
          "2025-08-19T13:20:00+02:00",
          "2025-08-19T13:25:00+02:00"
         ],
         "y": [
          0.5653000000000001,
          0.5651000000000002
         ]
        },
        {
         "fill": "tozeroy",
         "fillcolor": "red",
         "line": {
          "color": "red",
          "width": 0.5
         },
         "mode": "lines",
         "name": "BearSteepener",
         "opacity": 0.4,
         "showlegend": false,
         "type": "scatter",
         "x": [
          "2025-08-19T13:25:00+02:00",
          "2025-08-19T13:30:00+02:00"
         ],
         "y": [
          0.5651000000000002,
          0.5670999999999999
         ]
        },
        {
         "fill": "tozeroy",
         "fillcolor": "red",
         "line": {
          "color": "red",
          "width": 0.5
         },
         "mode": "lines",
         "name": "BearSteepener",
         "opacity": 0.4,
         "showlegend": false,
         "type": "scatter",
         "x": [
          "2025-08-19T13:30:00+02:00",
          "2025-08-19T13:35:00+02:00"
         ],
         "y": [
          0.5670999999999999,
          0.5651000000000002
         ]
        },
        {
         "fill": "tozeroy",
         "fillcolor": "green",
         "line": {
          "color": "green",
          "width": 0.5
         },
         "mode": "lines",
         "name": "BullSteepener",
         "opacity": 0.4,
         "showlegend": false,
         "type": "scatter",
         "x": [
          "2025-08-19T13:35:00+02:00",
          "2025-08-19T13:40:00+02:00"
         ],
         "y": [
          0.5651000000000002,
          0.5653999999999995
         ]
        },
        {
         "fill": "tozeroy",
         "fillcolor": "deepskyblue",
         "line": {
          "color": "deepskyblue",
          "width": 0.5
         },
         "mode": "lines",
         "name": "BullFlattener",
         "opacity": 0.4,
         "showlegend": false,
         "type": "scatter",
         "x": [
          "2025-08-19T13:40:00+02:00",
          "2025-08-19T13:45:00+02:00"
         ],
         "y": [
          0.5653999999999995,
          0.5653000000000001
         ]
        },
        {
         "fill": "tozeroy",
         "fillcolor": "gold",
         "line": {
          "color": "gold",
          "width": 0.5
         },
         "mode": "lines",
         "name": "TwistSteepener",
         "opacity": 0.4,
         "showlegend": false,
         "type": "scatter",
         "x": [
          "2025-08-19T13:45:00+02:00",
          "2025-08-19T13:50:00+02:00"
         ],
         "y": [
          0.5653000000000001,
          0.5693000000000001
         ]
        },
        {
         "fill": "tozeroy",
         "fillcolor": "green",
         "line": {
          "color": "green",
          "width": 0.5
         },
         "mode": "lines",
         "name": "BullSteepener",
         "opacity": 0.4,
         "showlegend": false,
         "type": "scatter",
         "x": [
          "2025-08-19T13:50:00+02:00",
          "2025-08-19T13:55:00+02:00"
         ],
         "y": [
          0.5693000000000001,
          0.5674000000000001
         ]
        },
        {
         "fill": "tozeroy",
         "fillcolor": "green",
         "line": {
          "color": "green",
          "width": 0.5
         },
         "mode": "lines",
         "name": "BullSteepener",
         "opacity": 0.4,
         "showlegend": false,
         "type": "scatter",
         "x": [
          "2025-08-19T13:55:00+02:00",
          "2025-08-19T14:00:00+02:00"
         ],
         "y": [
          0.5674000000000001,
          0.5695000000000001
         ]
        },
        {
         "fill": "tozeroy",
         "fillcolor": "green",
         "line": {
          "color": "green",
          "width": 0.5
         },
         "mode": "lines",
         "name": "BullSteepener",
         "opacity": 0.4,
         "showlegend": false,
         "type": "scatter",
         "x": [
          "2025-08-19T14:00:00+02:00",
          "2025-08-19T14:05:00+02:00"
         ],
         "y": [
          0.5695000000000001,
          0.5693000000000001
         ]
        },
        {
         "fill": "tozeroy",
         "fillcolor": "red",
         "line": {
          "color": "red",
          "width": 0.5
         },
         "mode": "lines",
         "name": "BearSteepener",
         "opacity": 0.4,
         "showlegend": false,
         "type": "scatter",
         "x": [
          "2025-08-19T14:05:00+02:00",
          "2025-08-19T14:10:00+02:00"
         ],
         "y": [
          0.5693000000000001,
          0.5672000000000001
         ]
        },
        {
         "fill": "tozeroy",
         "fillcolor": "green",
         "line": {
          "color": "green",
          "width": 0.5
         },
         "mode": "lines",
         "name": "BullSteepener",
         "opacity": 0.4,
         "showlegend": false,
         "type": "scatter",
         "x": [
          "2025-08-19T14:10:00+02:00",
          "2025-08-19T14:15:00+02:00"
         ],
         "y": [
          0.5672000000000001,
          0.5674999999999994
         ]
        },
        {
         "fill": "tozeroy",
         "fillcolor": "deepskyblue",
         "line": {
          "color": "deepskyblue",
          "width": 0.5
         },
         "mode": "lines",
         "name": "BullFlattener",
         "opacity": 0.4,
         "showlegend": false,
         "type": "scatter",
         "x": [
          "2025-08-19T14:15:00+02:00",
          "2025-08-19T14:20:00+02:00"
         ],
         "y": [
          0.5674999999999994,
          0.5676999999999994
         ]
        },
        {
         "fill": "tozeroy",
         "fillcolor": "green",
         "line": {
          "color": "green",
          "width": 0.5
         },
         "mode": "lines",
         "name": "BullSteepener",
         "opacity": 0.4,
         "showlegend": false,
         "type": "scatter",
         "x": [
          "2025-08-19T14:20:00+02:00",
          "2025-08-19T14:25:00+02:00"
         ],
         "y": [
          0.5676999999999994,
          0.5674999999999994
         ]
        },
        {
         "fill": "tozeroy",
         "fillcolor": "violet",
         "line": {
          "color": "violet",
          "width": 0.5
         },
         "mode": "lines",
         "name": "TwistFlattener",
         "opacity": 0.4,
         "showlegend": false,
         "type": "scatter",
         "x": [
          "2025-08-19T14:25:00+02:00",
          "2025-08-19T14:30:00+02:00"
         ],
         "y": [
          0.5674999999999994,
          0.5653999999999995
         ]
        },
        {
         "fill": "tozeroy",
         "fillcolor": "deepskyblue",
         "line": {
          "color": "deepskyblue",
          "width": 0.5
         },
         "mode": "lines",
         "name": "BullFlattener",
         "opacity": 0.4,
         "showlegend": false,
         "type": "scatter",
         "x": [
          "2025-08-19T14:30:00+02:00",
          "2025-08-19T14:35:00+02:00"
         ],
         "y": [
          0.5653999999999995,
          0.5638999999999998
         ]
        },
        {
         "fill": "tozeroy",
         "fillcolor": "deepskyblue",
         "line": {
          "color": "deepskyblue",
          "width": 0.5
         },
         "mode": "lines",
         "name": "BullFlattener",
         "opacity": 0.4,
         "showlegend": false,
         "type": "scatter",
         "x": [
          "2025-08-19T14:35:00+02:00",
          "2025-08-19T14:40:00+02:00"
         ],
         "y": [
          0.5638999999999998,
          0.5640999999999998
         ]
        },
        {
         "fill": "tozeroy",
         "fillcolor": "deepskyblue",
         "line": {
          "color": "deepskyblue",
          "width": 0.5
         },
         "mode": "lines",
         "name": "BullFlattener",
         "opacity": 0.4,
         "showlegend": false,
         "type": "scatter",
         "x": [
          "2025-08-19T14:40:00+02:00",
          "2025-08-19T14:45:00+02:00"
         ],
         "y": [
          0.5640999999999998,
          0.5637999999999996
         ]
        },
        {
         "fill": "tozeroy",
         "fillcolor": "deepskyblue",
         "line": {
          "color": "deepskyblue",
          "width": 0.5
         },
         "mode": "lines",
         "name": "BullFlattener",
         "opacity": 0.4,
         "showlegend": false,
         "type": "scatter",
         "x": [
          "2025-08-19T14:45:00+02:00",
          "2025-08-19T14:50:00+02:00"
         ],
         "y": [
          0.5637999999999996,
          0.5658999999999996
         ]
        },
        {
         "fill": "tozeroy",
         "fillcolor": "green",
         "line": {
          "color": "green",
          "width": 0.5
         },
         "mode": "lines",
         "name": "BullSteepener",
         "opacity": 0.4,
         "showlegend": false,
         "type": "scatter",
         "x": [
          "2025-08-19T14:50:00+02:00",
          "2025-08-19T14:55:00+02:00"
         ],
         "y": [
          0.5658999999999996,
          0.5698999999999996
         ]
        },
        {
         "fill": "tozeroy",
         "fillcolor": "green",
         "line": {
          "color": "green",
          "width": 0.5
         },
         "mode": "lines",
         "name": "BullSteepener",
         "opacity": 0.4,
         "showlegend": false,
         "type": "scatter",
         "x": [
          "2025-08-19T14:55:00+02:00",
          "2025-08-19T15:00:00+02:00"
         ],
         "y": [
          0.5698999999999996,
          0.5679999999999996
         ]
        },
        {
         "fill": "tozeroy",
         "fillcolor": "grey",
         "line": {
          "color": "grey",
          "width": 0.5
         },
         "mode": "lines",
         "name": "Other",
         "opacity": 0.4,
         "showlegend": false,
         "type": "scatter",
         "x": [
          "2025-08-19T15:00:00+02:00",
          "2025-08-19T15:05:00+02:00"
         ],
         "y": [
          0.5679999999999996,
          0.5638999999999998
         ]
        },
        {
         "fill": "tozeroy",
         "fillcolor": "red",
         "line": {
          "color": "red",
          "width": 0.5
         },
         "mode": "lines",
         "name": "BearSteepener",
         "opacity": 0.4,
         "showlegend": false,
         "type": "scatter",
         "x": [
          "2025-08-19T15:05:00+02:00",
          "2025-08-19T15:10:00+02:00"
         ],
         "y": [
          0.5638999999999998,
          0.5656999999999996
         ]
        },
        {
         "fill": "tozeroy",
         "fillcolor": "red",
         "line": {
          "color": "red",
          "width": 0.5
         },
         "mode": "lines",
         "name": "BearSteepener",
         "opacity": 0.4,
         "showlegend": false,
         "type": "scatter",
         "x": [
          "2025-08-19T15:10:00+02:00",
          "2025-08-19T15:15:00+02:00"
         ],
         "y": [
          0.5656999999999996,
          0.5655999999999994
         ]
        },
        {
         "fill": "tozeroy",
         "fillcolor": "orange",
         "line": {
          "color": "orange",
          "width": 0.5
         },
         "mode": "lines",
         "name": "BearFlattener",
         "opacity": 0.4,
         "showlegend": false,
         "type": "scatter",
         "x": [
          "2025-08-19T15:15:00+02:00",
          "2025-08-19T15:20:00+02:00"
         ],
         "y": [
          0.5655999999999994,
          0.5656999999999996
         ]
        },
        {
         "fill": "tozeroy",
         "fillcolor": "orange",
         "line": {
          "color": "orange",
          "width": 0.5
         },
         "mode": "lines",
         "name": "BearFlattener",
         "opacity": 0.4,
         "showlegend": false,
         "type": "scatter",
         "x": [
          "2025-08-19T15:20:00+02:00",
          "2025-08-19T15:25:00+02:00"
         ],
         "y": [
          0.5656999999999996,
          0.5635999999999997
         ]
        },
        {
         "fill": "tozeroy",
         "fillcolor": "orange",
         "line": {
          "color": "orange",
          "width": 0.5
         },
         "mode": "lines",
         "name": "BearFlattener",
         "opacity": 0.4,
         "showlegend": false,
         "type": "scatter",
         "x": [
          "2025-08-19T15:25:00+02:00",
          "2025-08-19T15:30:00+02:00"
         ],
         "y": [
          0.5635999999999997,
          0.5658999999999996
         ]
        },
        {
         "fill": "tozeroy",
         "fillcolor": "green",
         "line": {
          "color": "green",
          "width": 0.5
         },
         "mode": "lines",
         "name": "BullSteepener",
         "opacity": 0.4,
         "showlegend": false,
         "type": "scatter",
         "x": [
          "2025-08-19T15:30:00+02:00",
          "2025-08-19T15:35:00+02:00"
         ],
         "y": [
          0.5658999999999996,
          0.5659999999999998
         ]
        },
        {
         "fill": "tozeroy",
         "fillcolor": "green",
         "line": {
          "color": "green",
          "width": 0.5
         },
         "mode": "lines",
         "name": "BullSteepener",
         "opacity": 0.4,
         "showlegend": false,
         "type": "scatter",
         "x": [
          "2025-08-19T15:35:00+02:00",
          "2025-08-19T15:40:00+02:00"
         ],
         "y": [
          0.5659999999999998,
          0.5662000000000003
         ]
        },
        {
         "fill": "tozeroy",
         "fillcolor": "green",
         "line": {
          "color": "green",
          "width": 0.5
         },
         "mode": "lines",
         "name": "BullSteepener",
         "opacity": 0.4,
         "showlegend": false,
         "type": "scatter",
         "x": [
          "2025-08-19T15:40:00+02:00",
          "2025-08-19T15:45:00+02:00"
         ],
         "y": [
          0.5662000000000003,
          0.5663000000000005
         ]
        },
        {
         "fill": "tozeroy",
         "fillcolor": "green",
         "line": {
          "color": "green",
          "width": 0.5
         },
         "mode": "lines",
         "name": "BullSteepener",
         "opacity": 0.4,
         "showlegend": false,
         "type": "scatter",
         "x": [
          "2025-08-19T15:45:00+02:00",
          "2025-08-19T15:50:00+02:00"
         ],
         "y": [
          0.5663000000000005,
          0.5663000000000005
         ]
        },
        {
         "fill": "tozeroy",
         "fillcolor": "green",
         "line": {
          "color": "green",
          "width": 0.5
         },
         "mode": "lines",
         "name": "BullSteepener",
         "opacity": 0.4,
         "showlegend": false,
         "type": "scatter",
         "x": [
          "2025-08-19T15:50:00+02:00",
          "2025-08-19T15:55:00+02:00"
         ],
         "y": [
          0.5663000000000005,
          0.5686000000000004
         ]
        },
        {
         "fill": "tozeroy",
         "fillcolor": "green",
         "line": {
          "color": "green",
          "width": 0.5
         },
         "mode": "lines",
         "name": "BullSteepener",
         "opacity": 0.4,
         "showlegend": false,
         "type": "scatter",
         "x": [
          "2025-08-19T15:55:00+02:00",
          "2025-08-19T16:00:00+02:00"
         ],
         "y": [
          0.5686000000000004,
          0.5686000000000004
         ]
        },
        {
         "fill": "tozeroy",
         "fillcolor": "green",
         "line": {
          "color": "green",
          "width": 0.5
         },
         "mode": "lines",
         "name": "BullSteepener",
         "opacity": 0.4,
         "showlegend": false,
         "type": "scatter",
         "x": [
          "2025-08-19T16:00:00+02:00",
          "2025-08-19T16:05:00+02:00"
         ],
         "y": [
          0.5686000000000004,
          0.5665999999999998
         ]
        },
        {
         "fill": "tozeroy",
         "fillcolor": "green",
         "line": {
          "color": "green",
          "width": 0.5
         },
         "mode": "lines",
         "name": "BullSteepener",
         "opacity": 0.4,
         "showlegend": false,
         "type": "scatter",
         "x": [
          "2025-08-19T16:05:00+02:00",
          "2025-08-19T16:10:00+02:00"
         ],
         "y": [
          0.5665999999999998,
          0.5665000000000004
         ]
        },
        {
         "fill": "tozeroy",
         "fillcolor": "orange",
         "line": {
          "color": "orange",
          "width": 0.5
         },
         "mode": "lines",
         "name": "BearFlattener",
         "opacity": 0.4,
         "showlegend": false,
         "type": "scatter",
         "x": [
          "2025-08-19T16:10:00+02:00",
          "2025-08-19T16:15:00+02:00"
         ],
         "y": [
          0.5665000000000004,
          0.5642000000000005
         ]
        },
        {
         "fill": "tozeroy",
         "fillcolor": "deepskyblue",
         "line": {
          "color": "deepskyblue",
          "width": 0.5
         },
         "mode": "lines",
         "name": "BullFlattener",
         "opacity": 0.4,
         "showlegend": false,
         "type": "scatter",
         "x": [
          "2025-08-19T16:15:00+02:00",
          "2025-08-19T16:20:00+02:00"
         ],
         "y": [
          0.5642000000000005,
          0.5644000000000005
         ]
        },
        {
         "fill": "tozeroy",
         "fillcolor": "orange",
         "line": {
          "color": "orange",
          "width": 0.5
         },
         "mode": "lines",
         "name": "BearFlattener",
         "opacity": 0.4,
         "showlegend": false,
         "type": "scatter",
         "x": [
          "2025-08-19T16:20:00+02:00",
          "2025-08-19T16:25:00+02:00"
         ],
         "y": [
          0.5644000000000005,
          0.5644000000000005
         ]
        },
        {
         "fill": "tozeroy",
         "fillcolor": "orange",
         "line": {
          "color": "orange",
          "width": 0.5
         },
         "mode": "lines",
         "name": "BearFlattener",
         "opacity": 0.4,
         "showlegend": false,
         "type": "scatter",
         "x": [
          "2025-08-19T16:25:00+02:00",
          "2025-08-19T16:30:00+02:00"
         ],
         "y": [
          0.5644000000000005,
          0.5644000000000005
         ]
        },
        {
         "fill": "tozeroy",
         "fillcolor": "orange",
         "line": {
          "color": "orange",
          "width": 0.5
         },
         "mode": "lines",
         "name": "BearFlattener",
         "opacity": 0.4,
         "showlegend": false,
         "type": "scatter",
         "x": [
          "2025-08-19T16:30:00+02:00",
          "2025-08-19T16:35:00+02:00"
         ],
         "y": [
          0.5644000000000005,
          0.5642000000000005
         ]
        },
        {
         "fill": "tozeroy",
         "fillcolor": "orange",
         "line": {
          "color": "orange",
          "width": 0.5
         },
         "mode": "lines",
         "name": "BearFlattener",
         "opacity": 0.4,
         "showlegend": false,
         "type": "scatter",
         "x": [
          "2025-08-19T16:35:00+02:00",
          "2025-08-19T16:40:00+02:00"
         ],
         "y": [
          0.5642000000000005,
          0.5623000000000005
         ]
        },
        {
         "fill": "tozeroy",
         "fillcolor": "orange",
         "line": {
          "color": "orange",
          "width": 0.5
         },
         "mode": "lines",
         "name": "BearFlattener",
         "opacity": 0.4,
         "showlegend": false,
         "type": "scatter",
         "x": [
          "2025-08-19T16:40:00+02:00",
          "2025-08-19T16:45:00+02:00"
         ],
         "y": [
          0.5623000000000005,
          0.5621
         ]
        },
        {
         "fill": "tozeroy",
         "fillcolor": "orange",
         "line": {
          "color": "orange",
          "width": 0.5
         },
         "mode": "lines",
         "name": "BearFlattener",
         "opacity": 0.4,
         "showlegend": false,
         "type": "scatter",
         "x": [
          "2025-08-19T16:45:00+02:00",
          "2025-08-19T16:50:00+02:00"
         ],
         "y": [
          0.5621,
          0.5621
         ]
        },
        {
         "fill": "tozeroy",
         "fillcolor": "green",
         "line": {
          "color": "green",
          "width": 0.5
         },
         "mode": "lines",
         "name": "BullSteepener",
         "opacity": 0.4,
         "showlegend": false,
         "type": "scatter",
         "x": [
          "2025-08-19T16:50:00+02:00",
          "2025-08-19T16:55:00+02:00"
         ],
         "y": [
          0.5621,
          0.5644999999999998
         ]
        },
        {
         "fill": "tozeroy",
         "fillcolor": "orange",
         "line": {
          "color": "orange",
          "width": 0.5
         },
         "mode": "lines",
         "name": "BearFlattener",
         "opacity": 0.4,
         "showlegend": false,
         "type": "scatter",
         "x": [
          "2025-08-19T16:55:00+02:00",
          "2025-08-19T17:00:00+02:00"
         ],
         "y": [
          0.5644999999999998,
          0.5623000000000005
         ]
        },
        {
         "fill": "tozeroy",
         "fillcolor": "green",
         "line": {
          "color": "green",
          "width": 0.5
         },
         "mode": "lines",
         "name": "BullSteepener",
         "opacity": 0.4,
         "showlegend": false,
         "type": "scatter",
         "x": [
          "2025-08-19T17:00:00+02:00",
          "2025-08-19T17:05:00+02:00"
         ],
         "y": [
          0.5623000000000005,
          0.5644000000000005
         ]
        },
        {
         "fill": "tozeroy",
         "fillcolor": "green",
         "line": {
          "color": "green",
          "width": 0.5
         },
         "mode": "lines",
         "name": "BullSteepener",
         "opacity": 0.4,
         "showlegend": false,
         "type": "scatter",
         "x": [
          "2025-08-19T17:05:00+02:00",
          "2025-08-19T17:10:00+02:00"
         ],
         "y": [
          0.5644000000000005,
          0.5623999999999998
         ]
        },
        {
         "fill": "tozeroy",
         "fillcolor": "deepskyblue",
         "line": {
          "color": "deepskyblue",
          "width": 0.5
         },
         "mode": "lines",
         "name": "BullFlattener",
         "opacity": 0.4,
         "showlegend": false,
         "type": "scatter",
         "x": [
          "2025-08-19T17:10:00+02:00",
          "2025-08-19T17:15:00+02:00"
         ],
         "y": [
          0.5623999999999998,
          0.5604999999999998
         ]
        },
        {
         "fill": "tozeroy",
         "fillcolor": "deepskyblue",
         "line": {
          "color": "deepskyblue",
          "width": 0.5
         },
         "mode": "lines",
         "name": "BullFlattener",
         "opacity": 0.4,
         "showlegend": false,
         "type": "scatter",
         "x": [
          "2025-08-19T17:15:00+02:00",
          "2025-08-19T17:20:00+02:00"
         ],
         "y": [
          0.5604999999999998,
          0.5602999999999998
         ]
        },
        {
         "fill": "tozeroy",
         "fillcolor": "orange",
         "line": {
          "color": "orange",
          "width": 0.5
         },
         "mode": "lines",
         "name": "BearFlattener",
         "opacity": 0.4,
         "showlegend": false,
         "type": "scatter",
         "x": [
          "2025-08-19T17:20:00+02:00",
          "2025-08-19T17:25:00+02:00"
         ],
         "y": [
          0.5602999999999998,
          0.5602
         ]
        },
        {
         "fill": "tozeroy",
         "fillcolor": "orange",
         "line": {
          "color": "orange",
          "width": 0.5
         },
         "mode": "lines",
         "name": "BearFlattener",
         "opacity": 0.4,
         "showlegend": false,
         "type": "scatter",
         "x": [
          "2025-08-19T17:25:00+02:00",
          "2025-08-19T17:30:00+02:00"
         ],
         "y": [
          0.5602,
          0.5602
         ]
        },
        {
         "fill": "tozeroy",
         "fillcolor": "orange",
         "line": {
          "color": "orange",
          "width": 0.5
         },
         "mode": "lines",
         "name": "BearFlattener",
         "opacity": 0.4,
         "showlegend": false,
         "type": "scatter",
         "x": [
          "2025-08-19T17:30:00+02:00",
          "2025-08-19T17:35:00+02:00"
         ],
         "y": [
          0.5602,
          0.56
         ]
        },
        {
         "fill": "tozeroy",
         "fillcolor": "orange",
         "line": {
          "color": "orange",
          "width": 0.5
         },
         "mode": "lines",
         "name": "BearFlattener",
         "opacity": 0.4,
         "showlegend": false,
         "type": "scatter",
         "x": [
          "2025-08-19T17:35:00+02:00",
          "2025-08-19T17:40:00+02:00"
         ],
         "y": [
          0.56,
          0.56
         ]
        },
        {
         "fill": "tozeroy",
         "fillcolor": "orange",
         "line": {
          "color": "orange",
          "width": 0.5
         },
         "mode": "lines",
         "name": "BearFlattener",
         "opacity": 0.4,
         "showlegend": false,
         "type": "scatter",
         "x": [
          "2025-08-19T17:40:00+02:00",
          "2025-08-19T17:45:00+02:00"
         ],
         "y": [
          0.56,
          0.5602
         ]
        },
        {
         "fill": "tozeroy",
         "fillcolor": "orange",
         "line": {
          "color": "orange",
          "width": 0.5
         },
         "mode": "lines",
         "name": "BearFlattener",
         "opacity": 0.4,
         "showlegend": false,
         "type": "scatter",
         "x": [
          "2025-08-19T17:45:00+02:00",
          "2025-08-19T17:50:00+02:00"
         ],
         "y": [
          0.5602,
          0.5602
         ]
        },
        {
         "fill": "tozeroy",
         "fillcolor": "grey",
         "line": {
          "color": "grey",
          "width": 0.5
         },
         "mode": "lines",
         "name": "Other",
         "opacity": 0.4,
         "showlegend": false,
         "type": "scatter",
         "x": [
          "2025-08-19T17:50:00+02:00",
          "2025-08-19T17:55:00+02:00"
         ],
         "y": [
          0.5602,
          0.5602
         ]
        },
        {
         "fill": "tozeroy",
         "fillcolor": "orange",
         "line": {
          "color": "orange",
          "width": 0.5
         },
         "mode": "lines",
         "name": "BearFlattener",
         "opacity": 0.4,
         "showlegend": false,
         "type": "scatter",
         "x": [
          "2025-08-19T17:55:00+02:00",
          "2025-08-19T18:00:00+02:00"
         ],
         "y": [
          0.5602,
          0.5581
         ]
        },
        {
         "fill": "tozeroy",
         "fillcolor": "grey",
         "line": {
          "color": "grey",
          "width": 0.5
         },
         "mode": "lines",
         "name": "Other",
         "opacity": 0.4,
         "showlegend": false,
         "type": "scatter",
         "x": [
          "2025-08-19T18:00:00+02:00",
          "2025-08-19T18:05:00+02:00"
         ],
         "y": [
          0.5581,
          0.56
         ]
        },
        {
         "fill": "tozeroy",
         "fillcolor": "grey",
         "line": {
          "color": "grey",
          "width": 0.5
         },
         "mode": "lines",
         "name": "Other",
         "opacity": 0.4,
         "showlegend": false,
         "type": "scatter",
         "x": [
          "2025-08-19T18:05:00+02:00",
          "2025-08-19T18:10:00+02:00"
         ],
         "y": [
          0.56,
          0.56
         ]
        },
        {
         "fill": "tozeroy",
         "fillcolor": "orange",
         "line": {
          "color": "orange",
          "width": 0.5
         },
         "mode": "lines",
         "name": "BearFlattener",
         "opacity": 0.4,
         "showlegend": false,
         "type": "scatter",
         "x": [
          "2025-08-19T18:10:00+02:00",
          "2025-08-19T18:15:00+02:00"
         ],
         "y": [
          0.56,
          0.56
         ]
        },
        {
         "fill": "tozeroy",
         "fillcolor": "orange",
         "line": {
          "color": "orange",
          "width": 0.5
         },
         "mode": "lines",
         "name": "BearFlattener",
         "opacity": 0.4,
         "showlegend": false,
         "type": "scatter",
         "x": [
          "2025-08-19T18:15:00+02:00",
          "2025-08-19T18:20:00+02:00"
         ],
         "y": [
          0.56,
          0.5581
         ]
        },
        {
         "fill": "tozeroy",
         "fillcolor": "orange",
         "line": {
          "color": "orange",
          "width": 0.5
         },
         "mode": "lines",
         "name": "BearFlattener",
         "opacity": 0.4,
         "showlegend": false,
         "type": "scatter",
         "x": [
          "2025-08-19T18:20:00+02:00",
          "2025-08-19T18:25:00+02:00"
         ],
         "y": [
          0.5581,
          0.56
         ]
        },
        {
         "fill": "tozeroy",
         "fillcolor": "red",
         "line": {
          "color": "red",
          "width": 0.5
         },
         "mode": "lines",
         "name": "BearSteepener",
         "opacity": 0.4,
         "showlegend": false,
         "type": "scatter",
         "x": [
          "2025-08-19T18:25:00+02:00",
          "2025-08-19T18:30:00+02:00"
         ],
         "y": [
          0.56,
          0.56
         ]
        },
        {
         "fill": "tozeroy",
         "fillcolor": "orange",
         "line": {
          "color": "orange",
          "width": 0.5
         },
         "mode": "lines",
         "name": "BearFlattener",
         "opacity": 0.4,
         "showlegend": false,
         "type": "scatter",
         "x": [
          "2025-08-19T18:30:00+02:00",
          "2025-08-19T18:35:00+02:00"
         ],
         "y": [
          0.56,
          0.5598999999999998
         ]
        },
        {
         "fill": "tozeroy",
         "fillcolor": "red",
         "line": {
          "color": "red",
          "width": 0.5
         },
         "mode": "lines",
         "name": "BearSteepener",
         "opacity": 0.4,
         "showlegend": false,
         "type": "scatter",
         "x": [
          "2025-08-19T18:35:00+02:00",
          "2025-08-19T18:40:00+02:00"
         ],
         "y": [
          0.5598999999999998,
          0.5619999999999998
         ]
        },
        {
         "fill": "tozeroy",
         "fillcolor": "deepskyblue",
         "line": {
          "color": "deepskyblue",
          "width": 0.5
         },
         "mode": "lines",
         "name": "BullFlattener",
         "opacity": 0.4,
         "showlegend": false,
         "type": "scatter",
         "x": [
          "2025-08-19T18:40:00+02:00",
          "2025-08-19T18:45:00+02:00"
         ],
         "y": [
          0.5619999999999998,
          0.5581
         ]
        },
        {
         "fill": "tozeroy",
         "fillcolor": "green",
         "line": {
          "color": "green",
          "width": 0.5
         },
         "mode": "lines",
         "name": "BullSteepener",
         "opacity": 0.4,
         "showlegend": false,
         "type": "scatter",
         "x": [
          "2025-08-19T18:45:00+02:00",
          "2025-08-19T18:50:00+02:00"
         ],
         "y": [
          0.5581,
          0.5581999999999994
         ]
        },
        {
         "fill": "tozeroy",
         "fillcolor": "deepskyblue",
         "line": {
          "color": "deepskyblue",
          "width": 0.5
         },
         "mode": "lines",
         "name": "BullFlattener",
         "opacity": 0.4,
         "showlegend": false,
         "type": "scatter",
         "x": [
          "2025-08-19T18:50:00+02:00",
          "2025-08-19T18:55:00+02:00"
         ],
         "y": [
          0.5581999999999994,
          0.5583999999999998
         ]
        },
        {
         "fill": "tozeroy",
         "fillcolor": "deepskyblue",
         "line": {
          "color": "deepskyblue",
          "width": 0.5
         },
         "mode": "lines",
         "name": "BullFlattener",
         "opacity": 0.4,
         "showlegend": false,
         "type": "scatter",
         "x": [
          "2025-08-19T18:55:00+02:00",
          "2025-08-19T19:00:00+02:00"
         ],
         "y": [
          0.5583999999999998,
          0.5583999999999998
         ]
        },
        {
         "fill": "tozeroy",
         "fillcolor": "deepskyblue",
         "line": {
          "color": "deepskyblue",
          "width": 0.5
         },
         "mode": "lines",
         "name": "BullFlattener",
         "opacity": 0.4,
         "showlegend": false,
         "type": "scatter",
         "x": [
          "2025-08-19T19:00:00+02:00",
          "2025-08-19T19:05:00+02:00"
         ],
         "y": [
          0.5583999999999998,
          0.5585
         ]
        },
        {
         "fill": "tozeroy",
         "fillcolor": "deepskyblue",
         "line": {
          "color": "deepskyblue",
          "width": 0.5
         },
         "mode": "lines",
         "name": "BullFlattener",
         "opacity": 0.4,
         "showlegend": false,
         "type": "scatter",
         "x": [
          "2025-08-19T19:05:00+02:00",
          "2025-08-19T19:10:00+02:00"
         ],
         "y": [
          0.5585,
          0.5566
         ]
        },
        {
         "fill": "tozeroy",
         "fillcolor": "deepskyblue",
         "line": {
          "color": "deepskyblue",
          "width": 0.5
         },
         "mode": "lines",
         "name": "BullFlattener",
         "opacity": 0.4,
         "showlegend": false,
         "type": "scatter",
         "x": [
          "2025-08-19T19:10:00+02:00",
          "2025-08-19T19:15:00+02:00"
         ],
         "y": [
          0.5566,
          0.5545
         ]
        },
        {
         "fill": "tozeroy",
         "fillcolor": "deepskyblue",
         "line": {
          "color": "deepskyblue",
          "width": 0.5
         },
         "mode": "lines",
         "name": "BullFlattener",
         "opacity": 0.4,
         "showlegend": false,
         "type": "scatter",
         "x": [
          "2025-08-19T19:15:00+02:00",
          "2025-08-19T19:20:00+02:00"
         ],
         "y": [
          0.5545,
          0.5546000000000002
         ]
        },
        {
         "fill": "tozeroy",
         "fillcolor": "deepskyblue",
         "line": {
          "color": "deepskyblue",
          "width": 0.5
         },
         "mode": "lines",
         "name": "BullFlattener",
         "opacity": 0.4,
         "showlegend": false,
         "type": "scatter",
         "x": [
          "2025-08-19T19:20:00+02:00",
          "2025-08-19T19:25:00+02:00"
         ],
         "y": [
          0.5546000000000002,
          0.5545
         ]
        },
        {
         "fill": "tozeroy",
         "fillcolor": "deepskyblue",
         "line": {
          "color": "deepskyblue",
          "width": 0.5
         },
         "mode": "lines",
         "name": "BullFlattener",
         "opacity": 0.4,
         "showlegend": false,
         "type": "scatter",
         "x": [
          "2025-08-19T19:25:00+02:00",
          "2025-08-19T19:30:00+02:00"
         ],
         "y": [
          0.5545,
          0.5545
         ]
        },
        {
         "fill": "tozeroy",
         "fillcolor": "violet",
         "line": {
          "color": "violet",
          "width": 0.5
         },
         "mode": "lines",
         "name": "TwistFlattener",
         "opacity": 0.4,
         "showlegend": false,
         "type": "scatter",
         "x": [
          "2025-08-19T19:30:00+02:00",
          "2025-08-19T19:35:00+02:00"
         ],
         "y": [
          0.5545,
          0.5545
         ]
        },
        {
         "fill": "tozeroy",
         "fillcolor": "orange",
         "line": {
          "color": "orange",
          "width": 0.5
         },
         "mode": "lines",
         "name": "BearFlattener",
         "opacity": 0.4,
         "showlegend": false,
         "type": "scatter",
         "x": [
          "2025-08-19T19:35:00+02:00",
          "2025-08-19T19:40:00+02:00"
         ],
         "y": [
          0.5545,
          0.5545
         ]
        },
        {
         "fill": "tozeroy",
         "fillcolor": "deepskyblue",
         "line": {
          "color": "deepskyblue",
          "width": 0.5
         },
         "mode": "lines",
         "name": "BullFlattener",
         "opacity": 0.4,
         "showlegend": false,
         "type": "scatter",
         "x": [
          "2025-08-19T19:40:00+02:00",
          "2025-08-19T19:45:00+02:00"
         ],
         "y": [
          0.5545,
          0.5525000000000002
         ]
        },
        {
         "fill": "tozeroy",
         "fillcolor": "grey",
         "line": {
          "color": "grey",
          "width": 0.5
         },
         "mode": "lines",
         "name": "Other",
         "opacity": 0.4,
         "showlegend": false,
         "type": "scatter",
         "x": [
          "2025-08-19T19:45:00+02:00",
          "2025-08-19T19:50:00+02:00"
         ],
         "y": [
          0.5525000000000002,
          0.5546000000000002
         ]
        },
        {
         "fill": "tozeroy",
         "fillcolor": "green",
         "line": {
          "color": "green",
          "width": 0.5
         },
         "mode": "lines",
         "name": "BullSteepener",
         "opacity": 0.4,
         "showlegend": false,
         "type": "scatter",
         "x": [
          "2025-08-19T19:50:00+02:00",
          "2025-08-19T19:55:00+02:00"
         ],
         "y": [
          0.5546000000000002,
          0.5566
         ]
        },
        {
         "fill": "tozeroy",
         "fillcolor": "deepskyblue",
         "line": {
          "color": "deepskyblue",
          "width": 0.5
         },
         "mode": "lines",
         "name": "BullFlattener",
         "opacity": 0.4,
         "showlegend": false,
         "type": "scatter",
         "x": [
          "2025-08-19T19:55:00+02:00",
          "2025-08-19T20:00:00+02:00"
         ],
         "y": [
          0.5566,
          0.5525000000000002
         ]
        },
        {
         "fill": "tozeroy",
         "fillcolor": "deepskyblue",
         "line": {
          "color": "deepskyblue",
          "width": 0.5
         },
         "mode": "lines",
         "name": "BullFlattener",
         "opacity": 0.4,
         "showlegend": false,
         "type": "scatter",
         "x": [
          "2025-08-19T20:00:00+02:00",
          "2025-08-19T20:05:00+02:00"
         ],
         "y": [
          0.5525000000000002,
          0.5525000000000002
         ]
        },
        {
         "fill": "tozeroy",
         "fillcolor": "deepskyblue",
         "line": {
          "color": "deepskyblue",
          "width": 0.5
         },
         "mode": "lines",
         "name": "BullFlattener",
         "opacity": 0.4,
         "showlegend": false,
         "type": "scatter",
         "x": [
          "2025-08-19T20:05:00+02:00",
          "2025-08-19T20:10:00+02:00"
         ],
         "y": [
          0.5525000000000002,
          0.5525000000000002
         ]
        },
        {
         "fill": "tozeroy",
         "fillcolor": "grey",
         "line": {
          "color": "grey",
          "width": 0.5
         },
         "mode": "lines",
         "name": "Other",
         "opacity": 0.4,
         "showlegend": false,
         "type": "scatter",
         "x": [
          "2025-08-19T20:10:00+02:00",
          "2025-08-19T20:15:00+02:00"
         ],
         "y": [
          0.5525000000000002,
          0.5525000000000002
         ]
        },
        {
         "fill": "tozeroy",
         "fillcolor": "orange",
         "line": {
          "color": "orange",
          "width": 0.5
         },
         "mode": "lines",
         "name": "BearFlattener",
         "opacity": 0.4,
         "showlegend": false,
         "type": "scatter",
         "x": [
          "2025-08-19T20:15:00+02:00",
          "2025-08-19T20:20:00+02:00"
         ],
         "y": [
          0.5525000000000002,
          0.5525000000000002
         ]
        },
        {
         "fill": "tozeroy",
         "fillcolor": "violet",
         "line": {
          "color": "violet",
          "width": 0.5
         },
         "mode": "lines",
         "name": "TwistFlattener",
         "opacity": 0.4,
         "showlegend": false,
         "type": "scatter",
         "x": [
          "2025-08-19T20:20:00+02:00",
          "2025-08-19T20:25:00+02:00"
         ],
         "y": [
          0.5525000000000002,
          0.5503999999999998
         ]
        },
        {
         "fill": "tozeroy",
         "fillcolor": "orange",
         "line": {
          "color": "orange",
          "width": 0.5
         },
         "mode": "lines",
         "name": "BearFlattener",
         "opacity": 0.4,
         "showlegend": false,
         "type": "scatter",
         "x": [
          "2025-08-19T20:25:00+02:00",
          "2025-08-19T20:30:00+02:00"
         ],
         "y": [
          0.5503999999999998,
          0.5482999999999998
         ]
        },
        {
         "fill": "tozeroy",
         "fillcolor": "orange",
         "line": {
          "color": "orange",
          "width": 0.5
         },
         "mode": "lines",
         "name": "BearFlattener",
         "opacity": 0.4,
         "showlegend": false,
         "type": "scatter",
         "x": [
          "2025-08-19T20:30:00+02:00",
          "2025-08-19T20:35:00+02:00"
         ],
         "y": [
          0.5482999999999998,
          0.5482999999999998
         ]
        },
        {
         "fill": "tozeroy",
         "fillcolor": "orange",
         "line": {
          "color": "orange",
          "width": 0.5
         },
         "mode": "lines",
         "name": "BearFlattener",
         "opacity": 0.4,
         "showlegend": false,
         "type": "scatter",
         "x": [
          "2025-08-19T20:35:00+02:00",
          "2025-08-19T20:40:00+02:00"
         ],
         "y": [
          0.5482999999999998,
          0.5523999999999996
         ]
        },
        {
         "fill": "tozeroy",
         "fillcolor": "orange",
         "line": {
          "color": "orange",
          "width": 0.5
         },
         "mode": "lines",
         "name": "BearFlattener",
         "opacity": 0.4,
         "showlegend": false,
         "type": "scatter",
         "x": [
          "2025-08-19T20:40:00+02:00",
          "2025-08-19T20:45:00+02:00"
         ],
         "y": [
          0.5523999999999996,
          0.5482999999999998
         ]
        },
        {
         "fill": "tozeroy",
         "fillcolor": "orange",
         "line": {
          "color": "orange",
          "width": 0.5
         },
         "mode": "lines",
         "name": "BearFlattener",
         "opacity": 0.4,
         "showlegend": false,
         "type": "scatter",
         "x": [
          "2025-08-19T20:45:00+02:00",
          "2025-08-19T20:50:00+02:00"
         ],
         "y": [
          0.5482999999999998,
          0.5482999999999998
         ]
        },
        {
         "fill": "tozeroy",
         "fillcolor": "orange",
         "line": {
          "color": "orange",
          "width": 0.5
         },
         "mode": "lines",
         "name": "BearFlattener",
         "opacity": 0.4,
         "showlegend": false,
         "type": "scatter",
         "x": [
          "2025-08-19T20:50:00+02:00",
          "2025-08-19T20:55:00+02:00"
         ],
         "y": [
          0.5482999999999998,
          0.5481999999999996
         ]
        },
        {
         "fill": "tozeroy",
         "fillcolor": "red",
         "line": {
          "color": "red",
          "width": 0.5
         },
         "mode": "lines",
         "name": "BearSteepener",
         "opacity": 0.4,
         "showlegend": false,
         "type": "scatter",
         "x": [
          "2025-08-19T20:55:00+02:00",
          "2025-08-19T21:00:00+02:00"
         ],
         "y": [
          0.5481999999999996,
          0.5499999999999994
         ]
        },
        {
         "fill": "tozeroy",
         "fillcolor": "orange",
         "line": {
          "color": "orange",
          "width": 0.5
         },
         "mode": "lines",
         "name": "BearFlattener",
         "opacity": 0.4,
         "showlegend": false,
         "type": "scatter",
         "x": [
          "2025-08-19T21:00:00+02:00",
          "2025-08-19T21:05:00+02:00"
         ],
         "y": [
          0.5499999999999994,
          0.5479999999999996
         ]
        },
        {
         "fill": "tozeroy",
         "fillcolor": "orange",
         "line": {
          "color": "orange",
          "width": 0.5
         },
         "mode": "lines",
         "name": "BearFlattener",
         "opacity": 0.4,
         "showlegend": false,
         "type": "scatter",
         "x": [
          "2025-08-19T21:05:00+02:00",
          "2025-08-19T21:10:00+02:00"
         ],
         "y": [
          0.5479999999999996,
          0.5481999999999996
         ]
        },
        {
         "fill": "tozeroy",
         "fillcolor": "orange",
         "line": {
          "color": "orange",
          "width": 0.5
         },
         "mode": "lines",
         "name": "BearFlattener",
         "opacity": 0.4,
         "showlegend": false,
         "type": "scatter",
         "x": [
          "2025-08-19T21:10:00+02:00",
          "2025-08-19T21:15:00+02:00"
         ],
         "y": [
          0.5481999999999996,
          0.5481999999999996
         ]
        },
        {
         "fill": "tozeroy",
         "fillcolor": "red",
         "line": {
          "color": "red",
          "width": 0.5
         },
         "mode": "lines",
         "name": "BearSteepener",
         "opacity": 0.4,
         "showlegend": false,
         "type": "scatter",
         "x": [
          "2025-08-19T21:15:00+02:00",
          "2025-08-19T21:20:00+02:00"
         ],
         "y": [
          0.5481999999999996,
          0.5502999999999996
         ]
        },
        {
         "fill": "tozeroy",
         "fillcolor": "green",
         "line": {
          "color": "green",
          "width": 0.5
         },
         "mode": "lines",
         "name": "BullSteepener",
         "opacity": 0.4,
         "showlegend": false,
         "type": "scatter",
         "x": [
          "2025-08-19T21:20:00+02:00",
          "2025-08-19T21:25:00+02:00"
         ],
         "y": [
          0.5502999999999996,
          0.5523999999999996
         ]
        },
        {
         "fill": "tozeroy",
         "fillcolor": "green",
         "line": {
          "color": "green",
          "width": 0.5
         },
         "mode": "lines",
         "name": "BullSteepener",
         "opacity": 0.4,
         "showlegend": false,
         "type": "scatter",
         "x": [
          "2025-08-19T21:25:00+02:00",
          "2025-08-19T21:30:00+02:00"
         ],
         "y": [
          0.5523999999999996,
          0.5523999999999996
         ]
        },
        {
         "fill": "tozeroy",
         "fillcolor": "green",
         "line": {
          "color": "green",
          "width": 0.5
         },
         "mode": "lines",
         "name": "BullSteepener",
         "opacity": 0.4,
         "showlegend": false,
         "type": "scatter",
         "x": [
          "2025-08-19T21:30:00+02:00",
          "2025-08-19T21:35:00+02:00"
         ],
         "y": [
          0.5523999999999996,
          0.5523999999999996
         ]
        },
        {
         "fill": "tozeroy",
         "fillcolor": "green",
         "line": {
          "color": "green",
          "width": 0.5
         },
         "mode": "lines",
         "name": "BullSteepener",
         "opacity": 0.4,
         "showlegend": false,
         "type": "scatter",
         "x": [
          "2025-08-19T21:35:00+02:00",
          "2025-08-19T21:40:00+02:00"
         ],
         "y": [
          0.5523999999999996,
          0.5523999999999996
         ]
        },
        {
         "fill": "tozeroy",
         "fillcolor": "green",
         "line": {
          "color": "green",
          "width": 0.5
         },
         "mode": "lines",
         "name": "BullSteepener",
         "opacity": 0.4,
         "showlegend": false,
         "type": "scatter",
         "x": [
          "2025-08-19T21:40:00+02:00",
          "2025-08-19T21:45:00+02:00"
         ],
         "y": [
          0.5523999999999996,
          0.5523999999999996
         ]
        },
        {
         "fill": "tozeroy",
         "fillcolor": "green",
         "line": {
          "color": "green",
          "width": 0.5
         },
         "mode": "lines",
         "name": "BullSteepener",
         "opacity": 0.4,
         "showlegend": false,
         "type": "scatter",
         "x": [
          "2025-08-19T21:45:00+02:00",
          "2025-08-19T21:50:00+02:00"
         ],
         "y": [
          0.5523999999999996,
          0.5523999999999996
         ]
        },
        {
         "fill": "tozeroy",
         "fillcolor": "grey",
         "line": {
          "color": "grey",
          "width": 0.5
         },
         "mode": "lines",
         "name": "Other",
         "opacity": 0.4,
         "showlegend": false,
         "type": "scatter",
         "x": [
          "2025-08-19T21:50:00+02:00",
          "2025-08-19T21:55:00+02:00"
         ],
         "y": [
          0.5523999999999996,
          0.5523999999999996
         ]
        },
        {
         "fill": "tozeroy",
         "fillcolor": "red",
         "line": {
          "color": "red",
          "width": 0.5
         },
         "mode": "lines",
         "name": "BearSteepener",
         "opacity": 0.4,
         "showlegend": false,
         "type": "scatter",
         "x": [
          "2025-08-19T21:55:00+02:00",
          "2025-08-19T22:00:00+02:00"
         ],
         "y": [
          0.5523999999999996,
          0.5539999999999994
         ]
        },
        {
         "fill": "tozeroy",
         "fillcolor": "red",
         "line": {
          "color": "red",
          "width": 0.5
         },
         "mode": "lines",
         "name": "BearSteepener",
         "opacity": 0.4,
         "showlegend": false,
         "type": "scatter",
         "x": [
          "2025-08-19T22:00:00+02:00",
          "2025-08-19T22:05:00+02:00"
         ],
         "y": [
          0.5539999999999994,
          0.5539999999999994
         ]
        },
        {
         "fill": "tozeroy",
         "fillcolor": "red",
         "line": {
          "color": "red",
          "width": 0.5
         },
         "mode": "lines",
         "name": "BearSteepener",
         "opacity": 0.4,
         "showlegend": false,
         "type": "scatter",
         "x": [
          "2025-08-19T22:05:00+02:00",
          "2025-08-19T22:10:00+02:00"
         ],
         "y": [
          0.5539999999999994,
          0.5581
         ]
        },
        {
         "fill": "tozeroy",
         "fillcolor": "red",
         "line": {
          "color": "red",
          "width": 0.5
         },
         "mode": "lines",
         "name": "BearSteepener",
         "opacity": 0.4,
         "showlegend": false,
         "type": "scatter",
         "x": [
          "2025-08-19T22:10:00+02:00",
          "2025-08-19T22:15:00+02:00"
         ],
         "y": [
          0.5581,
          0.5539999999999994
         ]
        },
        {
         "fill": "tozeroy",
         "fillcolor": "red",
         "line": {
          "color": "red",
          "width": 0.5
         },
         "mode": "lines",
         "name": "BearSteepener",
         "opacity": 0.4,
         "showlegend": false,
         "type": "scatter",
         "x": [
          "2025-08-19T22:15:00+02:00",
          "2025-08-19T22:20:00+02:00"
         ],
         "y": [
          0.5539999999999994,
          0.5539999999999994
         ]
        },
        {
         "fill": "tozeroy",
         "fillcolor": "red",
         "line": {
          "color": "red",
          "width": 0.5
         },
         "mode": "lines",
         "name": "BearSteepener",
         "opacity": 0.4,
         "showlegend": false,
         "type": "scatter",
         "x": [
          "2025-08-19T22:20:00+02:00",
          "2025-08-19T22:25:00+02:00"
         ],
         "y": [
          0.5539999999999994,
          0.556
         ]
        },
        {
         "fill": "tozeroy",
         "fillcolor": "red",
         "line": {
          "color": "red",
          "width": 0.5
         },
         "mode": "lines",
         "name": "BearSteepener",
         "opacity": 0.4,
         "showlegend": false,
         "type": "scatter",
         "x": [
          "2025-08-19T22:25:00+02:00",
          "2025-08-19T22:30:00+02:00"
         ],
         "y": [
          0.556,
          0.556
         ]
        },
        {
         "fill": "tozeroy",
         "fillcolor": "red",
         "line": {
          "color": "red",
          "width": 0.5
         },
         "mode": "lines",
         "name": "BearSteepener",
         "opacity": 0.4,
         "showlegend": false,
         "type": "scatter",
         "x": [
          "2025-08-19T22:30:00+02:00",
          "2025-08-19T22:35:00+02:00"
         ],
         "y": [
          0.556,
          0.556
         ]
        },
        {
         "fill": "tozeroy",
         "fillcolor": "grey",
         "line": {
          "color": "grey",
          "width": 0.5
         },
         "mode": "lines",
         "name": "Other",
         "opacity": 0.4,
         "showlegend": false,
         "type": "scatter",
         "x": [
          "2025-08-19T22:35:00+02:00",
          "2025-08-19T22:40:00+02:00"
         ],
         "y": [
          0.556,
          0.5581
         ]
        },
        {
         "fill": "tozeroy",
         "fillcolor": "gold",
         "line": {
          "color": "gold",
          "width": 0.5
         },
         "mode": "lines",
         "name": "TwistSteepener",
         "opacity": 0.4,
         "showlegend": false,
         "type": "scatter",
         "x": [
          "2025-08-19T22:40:00+02:00",
          "2025-08-19T22:45:00+02:00"
         ],
         "y": [
          0.5581,
          0.5581
         ]
        },
        {
         "fill": "tozeroy",
         "fillcolor": "orange",
         "line": {
          "color": "orange",
          "width": 0.5
         },
         "mode": "lines",
         "name": "BearFlattener",
         "opacity": 0.4,
         "showlegend": false,
         "type": "scatter",
         "x": [
          "2025-08-19T22:45:00+02:00",
          "2025-08-19T22:50:00+02:00"
         ],
         "y": [
          0.5581,
          0.5539000000000001
         ]
        },
        {
         "fill": "tozeroy",
         "fillcolor": "green",
         "line": {
          "color": "green",
          "width": 0.5
         },
         "mode": "lines",
         "name": "BullSteepener",
         "opacity": 0.4,
         "showlegend": false,
         "type": "scatter",
         "x": [
          "2025-08-19T22:50:00+02:00",
          "2025-08-19T22:55:00+02:00"
         ],
         "y": [
          0.5539000000000001,
          0.5581999999999994
         ]
        },
        {
         "fill": "tozeroy",
         "fillcolor": "red",
         "line": {
          "color": "red",
          "width": 0.5
         },
         "mode": "lines",
         "name": "BearSteepener",
         "opacity": 0.4,
         "showlegend": false,
         "type": "scatter",
         "x": [
          "2025-08-19T22:55:00+02:00",
          "2025-08-20T01:55:00+02:00"
         ],
         "y": [
          0.5581999999999994,
          0.5579000000000001
         ]
        },
        {
         "fill": "tozeroy",
         "fillcolor": "grey",
         "line": {
          "color": "grey",
          "width": 0.5
         },
         "mode": "lines",
         "name": "Other",
         "opacity": 0.4,
         "showlegend": false,
         "type": "scatter",
         "x": [
          "2025-08-20T01:55:00+02:00",
          "2025-08-20T02:00:00+02:00"
         ],
         "y": [
          0.5579000000000001,
          0.556
         ]
        },
        {
         "fill": "tozeroy",
         "fillcolor": "orange",
         "line": {
          "color": "orange",
          "width": 0.5
         },
         "mode": "lines",
         "name": "BearFlattener",
         "opacity": 0.4,
         "showlegend": false,
         "type": "scatter",
         "x": [
          "2025-08-20T02:00:00+02:00",
          "2025-08-20T02:05:00+02:00"
         ],
         "y": [
          0.556,
          0.5539000000000001
         ]
        },
        {
         "fill": "tozeroy",
         "fillcolor": "orange",
         "line": {
          "color": "orange",
          "width": 0.5
         },
         "mode": "lines",
         "name": "BearFlattener",
         "opacity": 0.4,
         "showlegend": false,
         "type": "scatter",
         "x": [
          "2025-08-20T02:05:00+02:00",
          "2025-08-20T02:10:00+02:00"
         ],
         "y": [
          0.5539000000000001,
          0.556
         ]
        },
        {
         "fill": "tozeroy",
         "fillcolor": "green",
         "line": {
          "color": "green",
          "width": 0.5
         },
         "mode": "lines",
         "name": "BullSteepener",
         "opacity": 0.4,
         "showlegend": false,
         "type": "scatter",
         "x": [
          "2025-08-20T02:10:00+02:00",
          "2025-08-20T02:15:00+02:00"
         ],
         "y": [
          0.556,
          0.556
         ]
        },
        {
         "fill": "tozeroy",
         "fillcolor": "orange",
         "line": {
          "color": "orange",
          "width": 0.5
         },
         "mode": "lines",
         "name": "BearFlattener",
         "opacity": 0.4,
         "showlegend": false,
         "type": "scatter",
         "x": [
          "2025-08-20T02:15:00+02:00",
          "2025-08-20T02:20:00+02:00"
         ],
         "y": [
          0.556,
          0.5560999999999994
         ]
        },
        {
         "fill": "tozeroy",
         "fillcolor": "deepskyblue",
         "line": {
          "color": "deepskyblue",
          "width": 0.5
         },
         "mode": "lines",
         "name": "BullFlattener",
         "opacity": 0.4,
         "showlegend": false,
         "type": "scatter",
         "x": [
          "2025-08-20T02:20:00+02:00",
          "2025-08-20T02:25:00+02:00"
         ],
         "y": [
          0.5560999999999994,
          0.556
         ]
        },
        {
         "fill": "tozeroy",
         "fillcolor": "grey",
         "line": {
          "color": "grey",
          "width": 0.5
         },
         "mode": "lines",
         "name": "Other",
         "opacity": 0.4,
         "showlegend": false,
         "type": "scatter",
         "x": [
          "2025-08-20T02:25:00+02:00",
          "2025-08-20T02:30:00+02:00"
         ],
         "y": [
          0.556,
          0.556
         ]
        },
        {
         "fill": "tozeroy",
         "fillcolor": "gold",
         "line": {
          "color": "gold",
          "width": 0.5
         },
         "mode": "lines",
         "name": "TwistSteepener",
         "opacity": 0.4,
         "showlegend": false,
         "type": "scatter",
         "x": [
          "2025-08-20T02:30:00+02:00",
          "2025-08-20T02:35:00+02:00"
         ],
         "y": [
          0.556,
          0.5579000000000001
         ]
        },
        {
         "fill": "tozeroy",
         "fillcolor": "grey",
         "line": {
          "color": "grey",
          "width": 0.5
         },
         "mode": "lines",
         "name": "Other",
         "opacity": 0.4,
         "showlegend": false,
         "type": "scatter",
         "x": [
          "2025-08-20T02:35:00+02:00",
          "2025-08-20T02:40:00+02:00"
         ],
         "y": [
          0.5579000000000001,
          0.556
         ]
        },
        {
         "fill": "tozeroy",
         "fillcolor": "green",
         "line": {
          "color": "green",
          "width": 0.5
         },
         "mode": "lines",
         "name": "BullSteepener",
         "opacity": 0.4,
         "showlegend": false,
         "type": "scatter",
         "x": [
          "2025-08-20T02:40:00+02:00",
          "2025-08-20T02:45:00+02:00"
         ],
         "y": [
          0.556,
          0.5581
         ]
        },
        {
         "fill": "tozeroy",
         "fillcolor": "red",
         "line": {
          "color": "red",
          "width": 0.5
         },
         "mode": "lines",
         "name": "BearSteepener",
         "opacity": 0.4,
         "showlegend": false,
         "type": "scatter",
         "x": [
          "2025-08-20T02:45:00+02:00",
          "2025-08-20T02:50:00+02:00"
         ],
         "y": [
          0.5581,
          0.5581
         ]
        },
        {
         "fill": "tozeroy",
         "fillcolor": "orange",
         "line": {
          "color": "orange",
          "width": 0.5
         },
         "mode": "lines",
         "name": "BearFlattener",
         "opacity": 0.4,
         "showlegend": false,
         "type": "scatter",
         "x": [
          "2025-08-20T02:50:00+02:00",
          "2025-08-20T02:55:00+02:00"
         ],
         "y": [
          0.5581,
          0.5558000000000001
         ]
        },
        {
         "fill": "tozeroy",
         "fillcolor": "red",
         "line": {
          "color": "red",
          "width": 0.5
         },
         "mode": "lines",
         "name": "BearSteepener",
         "opacity": 0.4,
         "showlegend": false,
         "type": "scatter",
         "x": [
          "2025-08-20T02:55:00+02:00",
          "2025-08-20T03:00:00+02:00"
         ],
         "y": [
          0.5558000000000001,
          0.5579000000000001
         ]
        },
        {
         "fill": "tozeroy",
         "fillcolor": "grey",
         "line": {
          "color": "grey",
          "width": 0.5
         },
         "mode": "lines",
         "name": "Other",
         "opacity": 0.4,
         "showlegend": false,
         "type": "scatter",
         "x": [
          "2025-08-20T03:00:00+02:00",
          "2025-08-20T03:05:00+02:00"
         ],
         "y": [
          0.5579000000000001,
          0.5579000000000001
         ]
        },
        {
         "fill": "tozeroy",
         "fillcolor": "orange",
         "line": {
          "color": "orange",
          "width": 0.5
         },
         "mode": "lines",
         "name": "BearFlattener",
         "opacity": 0.4,
         "showlegend": false,
         "type": "scatter",
         "x": [
          "2025-08-20T03:05:00+02:00",
          "2025-08-20T03:10:00+02:00"
         ],
         "y": [
          0.5579000000000001,
          0.5535999999999999
         ]
        },
        {
         "fill": "tozeroy",
         "fillcolor": "orange",
         "line": {
          "color": "orange",
          "width": 0.5
         },
         "mode": "lines",
         "name": "BearFlattener",
         "opacity": 0.4,
         "showlegend": false,
         "type": "scatter",
         "x": [
          "2025-08-20T03:10:00+02:00",
          "2025-08-20T03:15:00+02:00"
         ],
         "y": [
          0.5535999999999999,
          0.5535999999999999
         ]
        },
        {
         "fill": "tozeroy",
         "fillcolor": "orange",
         "line": {
          "color": "orange",
          "width": 0.5
         },
         "mode": "lines",
         "name": "BearFlattener",
         "opacity": 0.4,
         "showlegend": false,
         "type": "scatter",
         "x": [
          "2025-08-20T03:15:00+02:00",
          "2025-08-20T03:20:00+02:00"
         ],
         "y": [
          0.5535999999999999,
          0.5535999999999999
         ]
        },
        {
         "fill": "tozeroy",
         "fillcolor": "orange",
         "line": {
          "color": "orange",
          "width": 0.5
         },
         "mode": "lines",
         "name": "BearFlattener",
         "opacity": 0.4,
         "showlegend": false,
         "type": "scatter",
         "x": [
          "2025-08-20T03:20:00+02:00",
          "2025-08-20T03:25:00+02:00"
         ],
         "y": [
          0.5535999999999999,
          0.5535999999999999
         ]
        },
        {
         "fill": "tozeroy",
         "fillcolor": "orange",
         "line": {
          "color": "orange",
          "width": 0.5
         },
         "mode": "lines",
         "name": "BearFlattener",
         "opacity": 0.4,
         "showlegend": false,
         "type": "scatter",
         "x": [
          "2025-08-20T03:25:00+02:00",
          "2025-08-20T03:30:00+02:00"
         ],
         "y": [
          0.5535999999999999,
          0.5537000000000001
         ]
        },
        {
         "fill": "tozeroy",
         "fillcolor": "orange",
         "line": {
          "color": "orange",
          "width": 0.5
         },
         "mode": "lines",
         "name": "BearFlattener",
         "opacity": 0.4,
         "showlegend": false,
         "type": "scatter",
         "x": [
          "2025-08-20T03:30:00+02:00",
          "2025-08-20T03:35:00+02:00"
         ],
         "y": [
          0.5537000000000001,
          0.5537000000000001
         ]
        },
        {
         "fill": "tozeroy",
         "fillcolor": "grey",
         "line": {
          "color": "grey",
          "width": 0.5
         },
         "mode": "lines",
         "name": "Other",
         "opacity": 0.4,
         "showlegend": false,
         "type": "scatter",
         "x": [
          "2025-08-20T03:35:00+02:00",
          "2025-08-20T03:40:00+02:00"
         ],
         "y": [
          0.5537000000000001,
          0.5535999999999999
         ]
        },
        {
         "fill": "tozeroy",
         "fillcolor": "red",
         "line": {
          "color": "red",
          "width": 0.5
         },
         "mode": "lines",
         "name": "BearSteepener",
         "opacity": 0.4,
         "showlegend": false,
         "type": "scatter",
         "x": [
          "2025-08-20T03:40:00+02:00",
          "2025-08-20T03:45:00+02:00"
         ],
         "y": [
          0.5535999999999999,
          0.5553999999999997
         ]
        },
        {
         "fill": "tozeroy",
         "fillcolor": "red",
         "line": {
          "color": "red",
          "width": 0.5
         },
         "mode": "lines",
         "name": "BearSteepener",
         "opacity": 0.4,
         "showlegend": false,
         "type": "scatter",
         "x": [
          "2025-08-20T03:45:00+02:00",
          "2025-08-20T03:50:00+02:00"
         ],
         "y": [
          0.5553999999999997,
          0.5572999999999997
         ]
        },
        {
         "fill": "tozeroy",
         "fillcolor": "red",
         "line": {
          "color": "red",
          "width": 0.5
         },
         "mode": "lines",
         "name": "BearSteepener",
         "opacity": 0.4,
         "showlegend": false,
         "type": "scatter",
         "x": [
          "2025-08-20T03:50:00+02:00",
          "2025-08-20T03:55:00+02:00"
         ],
         "y": [
          0.5572999999999997,
          0.5554999999999999
         ]
        },
        {
         "fill": "tozeroy",
         "fillcolor": "orange",
         "line": {
          "color": "orange",
          "width": 0.5
         },
         "mode": "lines",
         "name": "BearFlattener",
         "opacity": 0.4,
         "showlegend": false,
         "type": "scatter",
         "x": [
          "2025-08-20T03:55:00+02:00",
          "2025-08-20T04:00:00+02:00"
         ],
         "y": [
          0.5554999999999999,
          0.5516000000000001
         ]
        },
        {
         "fill": "tozeroy",
         "fillcolor": "grey",
         "line": {
          "color": "grey",
          "width": 0.5
         },
         "mode": "lines",
         "name": "Other",
         "opacity": 0.4,
         "showlegend": false,
         "type": "scatter",
         "x": [
          "2025-08-20T04:00:00+02:00",
          "2025-08-20T04:05:00+02:00"
         ],
         "y": [
          0.5516000000000001,
          0.5537000000000001
         ]
        },
        {
         "fill": "tozeroy",
         "fillcolor": "green",
         "line": {
          "color": "green",
          "width": 0.5
         },
         "mode": "lines",
         "name": "BullSteepener",
         "opacity": 0.4,
         "showlegend": false,
         "type": "scatter",
         "x": [
          "2025-08-20T04:05:00+02:00",
          "2025-08-20T04:10:00+02:00"
         ],
         "y": [
          0.5537000000000001,
          0.5537000000000001
         ]
        },
        {
         "fill": "tozeroy",
         "fillcolor": "deepskyblue",
         "line": {
          "color": "deepskyblue",
          "width": 0.5
         },
         "mode": "lines",
         "name": "BullFlattener",
         "opacity": 0.4,
         "showlegend": false,
         "type": "scatter",
         "x": [
          "2025-08-20T04:10:00+02:00",
          "2025-08-20T04:15:00+02:00"
         ],
         "y": [
          0.5537000000000001,
          0.5537000000000001
         ]
        },
        {
         "fill": "tozeroy",
         "fillcolor": "deepskyblue",
         "line": {
          "color": "deepskyblue",
          "width": 0.5
         },
         "mode": "lines",
         "name": "BullFlattener",
         "opacity": 0.4,
         "showlegend": false,
         "type": "scatter",
         "x": [
          "2025-08-20T04:15:00+02:00",
          "2025-08-20T04:20:00+02:00"
         ],
         "y": [
          0.5537000000000001,
          0.5556999999999999
         ]
        },
        {
         "fill": "tozeroy",
         "fillcolor": "grey",
         "line": {
          "color": "grey",
          "width": 0.5
         },
         "mode": "lines",
         "name": "Other",
         "opacity": 0.4,
         "showlegend": false,
         "type": "scatter",
         "x": [
          "2025-08-20T04:20:00+02:00",
          "2025-08-20T04:25:00+02:00"
         ],
         "y": [
          0.5556999999999999,
          0.5554999999999999
         ]
        },
        {
         "fill": "tozeroy",
         "fillcolor": "gold",
         "line": {
          "color": "gold",
          "width": 0.5
         },
         "mode": "lines",
         "name": "TwistSteepener",
         "opacity": 0.4,
         "showlegend": false,
         "type": "scatter",
         "x": [
          "2025-08-20T04:25:00+02:00",
          "2025-08-20T04:30:00+02:00"
         ],
         "y": [
          0.5554999999999999,
          0.5556999999999999
         ]
        },
        {
         "fill": "tozeroy",
         "fillcolor": "red",
         "line": {
          "color": "red",
          "width": 0.5
         },
         "mode": "lines",
         "name": "BearSteepener",
         "opacity": 0.4,
         "showlegend": false,
         "type": "scatter",
         "x": [
          "2025-08-20T04:30:00+02:00",
          "2025-08-20T04:35:00+02:00"
         ],
         "y": [
          0.5556999999999999,
          0.5556999999999999
         ]
        },
        {
         "fill": "tozeroy",
         "fillcolor": "grey",
         "line": {
          "color": "grey",
          "width": 0.5
         },
         "mode": "lines",
         "name": "Other",
         "opacity": 0.4,
         "showlegend": false,
         "type": "scatter",
         "x": [
          "2025-08-20T04:35:00+02:00",
          "2025-08-20T04:40:00+02:00"
         ],
         "y": [
          0.5556999999999999,
          0.5537000000000001
         ]
        },
        {
         "fill": "tozeroy",
         "fillcolor": "grey",
         "line": {
          "color": "grey",
          "width": 0.5
         },
         "mode": "lines",
         "name": "Other",
         "opacity": 0.4,
         "showlegend": false,
         "type": "scatter",
         "x": [
          "2025-08-20T04:40:00+02:00",
          "2025-08-20T04:45:00+02:00"
         ],
         "y": [
          0.5537000000000001,
          0.5537000000000001
         ]
        },
        {
         "fill": "tozeroy",
         "fillcolor": "deepskyblue",
         "line": {
          "color": "deepskyblue",
          "width": 0.5
         },
         "mode": "lines",
         "name": "BullFlattener",
         "opacity": 0.4,
         "showlegend": false,
         "type": "scatter",
         "x": [
          "2025-08-20T04:45:00+02:00",
          "2025-08-20T04:50:00+02:00"
         ],
         "y": [
          0.5537000000000001,
          0.5537000000000001
         ]
        },
        {
         "fill": "tozeroy",
         "fillcolor": "deepskyblue",
         "line": {
          "color": "deepskyblue",
          "width": 0.5
         },
         "mode": "lines",
         "name": "BullFlattener",
         "opacity": 0.4,
         "showlegend": false,
         "type": "scatter",
         "x": [
          "2025-08-20T04:50:00+02:00",
          "2025-08-20T04:55:00+02:00"
         ],
         "y": [
          0.5537000000000001,
          0.5537000000000001
         ]
        },
        {
         "fill": "tozeroy",
         "fillcolor": "green",
         "line": {
          "color": "green",
          "width": 0.5
         },
         "mode": "lines",
         "name": "BullSteepener",
         "opacity": 0.4,
         "showlegend": false,
         "type": "scatter",
         "x": [
          "2025-08-20T04:55:00+02:00",
          "2025-08-20T05:00:00+02:00"
         ],
         "y": [
          0.5537000000000001,
          0.5558000000000001
         ]
        },
        {
         "fill": "tozeroy",
         "fillcolor": "green",
         "line": {
          "color": "green",
          "width": 0.5
         },
         "mode": "lines",
         "name": "BullSteepener",
         "opacity": 0.4,
         "showlegend": false,
         "type": "scatter",
         "x": [
          "2025-08-20T05:00:00+02:00",
          "2025-08-20T05:05:00+02:00"
         ],
         "y": [
          0.5558000000000001,
          0.5558000000000001
         ]
        },
        {
         "fill": "tozeroy",
         "fillcolor": "green",
         "line": {
          "color": "green",
          "width": 0.5
         },
         "mode": "lines",
         "name": "BullSteepener",
         "opacity": 0.4,
         "showlegend": false,
         "type": "scatter",
         "x": [
          "2025-08-20T05:05:00+02:00",
          "2025-08-20T05:10:00+02:00"
         ],
         "y": [
          0.5558000000000001,
          0.5558000000000001
         ]
        },
        {
         "fill": "tozeroy",
         "fillcolor": "green",
         "line": {
          "color": "green",
          "width": 0.5
         },
         "mode": "lines",
         "name": "BullSteepener",
         "opacity": 0.4,
         "showlegend": false,
         "type": "scatter",
         "x": [
          "2025-08-20T05:10:00+02:00",
          "2025-08-20T05:15:00+02:00"
         ],
         "y": [
          0.5558000000000001,
          0.5558000000000001
         ]
        },
        {
         "fill": "tozeroy",
         "fillcolor": "green",
         "line": {
          "color": "green",
          "width": 0.5
         },
         "mode": "lines",
         "name": "BullSteepener",
         "opacity": 0.4,
         "showlegend": false,
         "type": "scatter",
         "x": [
          "2025-08-20T05:15:00+02:00",
          "2025-08-20T05:20:00+02:00"
         ],
         "y": [
          0.5558000000000001,
          0.5558000000000001
         ]
        },
        {
         "fill": "tozeroy",
         "fillcolor": "green",
         "line": {
          "color": "green",
          "width": 0.5
         },
         "mode": "lines",
         "name": "BullSteepener",
         "opacity": 0.4,
         "showlegend": false,
         "type": "scatter",
         "x": [
          "2025-08-20T05:20:00+02:00",
          "2025-08-20T05:25:00+02:00"
         ],
         "y": [
          0.5558000000000001,
          0.5579000000000001
         ]
        },
        {
         "fill": "tozeroy",
         "fillcolor": "green",
         "line": {
          "color": "green",
          "width": 0.5
         },
         "mode": "lines",
         "name": "BullSteepener",
         "opacity": 0.4,
         "showlegend": false,
         "type": "scatter",
         "x": [
          "2025-08-20T05:25:00+02:00",
          "2025-08-20T05:30:00+02:00"
         ],
         "y": [
          0.5579000000000001,
          0.556
         ]
        },
        {
         "fill": "tozeroy",
         "fillcolor": "green",
         "line": {
          "color": "green",
          "width": 0.5
         },
         "mode": "lines",
         "name": "BullSteepener",
         "opacity": 0.4,
         "showlegend": false,
         "type": "scatter",
         "x": [
          "2025-08-20T05:30:00+02:00",
          "2025-08-20T05:35:00+02:00"
         ],
         "y": [
          0.556,
          0.556
         ]
        },
        {
         "fill": "tozeroy",
         "fillcolor": "deepskyblue",
         "line": {
          "color": "deepskyblue",
          "width": 0.5
         },
         "mode": "lines",
         "name": "BullFlattener",
         "opacity": 0.4,
         "showlegend": false,
         "type": "scatter",
         "x": [
          "2025-08-20T05:35:00+02:00",
          "2025-08-20T05:40:00+02:00"
         ],
         "y": [
          0.556,
          0.5539000000000001
         ]
        },
        {
         "fill": "tozeroy",
         "fillcolor": "green",
         "line": {
          "color": "green",
          "width": 0.5
         },
         "mode": "lines",
         "name": "BullSteepener",
         "opacity": 0.4,
         "showlegend": false,
         "type": "scatter",
         "x": [
          "2025-08-20T05:40:00+02:00",
          "2025-08-20T05:45:00+02:00"
         ],
         "y": [
          0.5539000000000001,
          0.556
         ]
        },
        {
         "fill": "tozeroy",
         "fillcolor": "green",
         "line": {
          "color": "green",
          "width": 0.5
         },
         "mode": "lines",
         "name": "BullSteepener",
         "opacity": 0.4,
         "showlegend": false,
         "type": "scatter",
         "x": [
          "2025-08-20T05:45:00+02:00",
          "2025-08-20T05:50:00+02:00"
         ],
         "y": [
          0.556,
          0.556
         ]
        },
        {
         "fill": "tozeroy",
         "fillcolor": "orange",
         "line": {
          "color": "orange",
          "width": 0.5
         },
         "mode": "lines",
         "name": "BearFlattener",
         "opacity": 0.4,
         "showlegend": false,
         "type": "scatter",
         "x": [
          "2025-08-20T05:50:00+02:00",
          "2025-08-20T05:55:00+02:00"
         ],
         "y": [
          0.556,
          0.5558000000000001
         ]
        },
        {
         "fill": "tozeroy",
         "fillcolor": "orange",
         "line": {
          "color": "orange",
          "width": 0.5
         },
         "mode": "lines",
         "name": "BearFlattener",
         "opacity": 0.4,
         "showlegend": false,
         "type": "scatter",
         "x": [
          "2025-08-20T05:55:00+02:00",
          "2025-08-20T06:00:00+02:00"
         ],
         "y": [
          0.5558000000000001,
          0.5558000000000001
         ]
        },
        {
         "fill": "tozeroy",
         "fillcolor": "orange",
         "line": {
          "color": "orange",
          "width": 0.5
         },
         "mode": "lines",
         "name": "BearFlattener",
         "opacity": 0.4,
         "showlegend": false,
         "type": "scatter",
         "x": [
          "2025-08-20T06:00:00+02:00",
          "2025-08-20T06:05:00+02:00"
         ],
         "y": [
          0.5558000000000001,
          0.5539000000000001
         ]
        },
        {
         "fill": "tozeroy",
         "fillcolor": "green",
         "line": {
          "color": "green",
          "width": 0.5
         },
         "mode": "lines",
         "name": "BullSteepener",
         "opacity": 0.4,
         "showlegend": false,
         "type": "scatter",
         "x": [
          "2025-08-20T06:05:00+02:00",
          "2025-08-20T06:10:00+02:00"
         ],
         "y": [
          0.5539000000000001,
          0.556
         ]
        },
        {
         "fill": "tozeroy",
         "fillcolor": "grey",
         "line": {
          "color": "grey",
          "width": 0.5
         },
         "mode": "lines",
         "name": "Other",
         "opacity": 0.4,
         "showlegend": false,
         "type": "scatter",
         "x": [
          "2025-08-20T06:10:00+02:00",
          "2025-08-20T06:15:00+02:00"
         ],
         "y": [
          0.556,
          0.556
         ]
        },
        {
         "fill": "tozeroy",
         "fillcolor": "grey",
         "line": {
          "color": "grey",
          "width": 0.5
         },
         "mode": "lines",
         "name": "Other",
         "opacity": 0.4,
         "showlegend": false,
         "type": "scatter",
         "x": [
          "2025-08-20T06:15:00+02:00",
          "2025-08-20T06:20:00+02:00"
         ],
         "y": [
          0.556,
          0.556
         ]
        },
        {
         "fill": "tozeroy",
         "fillcolor": "green",
         "line": {
          "color": "green",
          "width": 0.5
         },
         "mode": "lines",
         "name": "BullSteepener",
         "opacity": 0.4,
         "showlegend": false,
         "type": "scatter",
         "x": [
          "2025-08-20T06:20:00+02:00",
          "2025-08-20T06:25:00+02:00"
         ],
         "y": [
          0.556,
          0.5579000000000001
         ]
        },
        {
         "fill": "tozeroy",
         "fillcolor": "green",
         "line": {
          "color": "green",
          "width": 0.5
         },
         "mode": "lines",
         "name": "BullSteepener",
         "opacity": 0.4,
         "showlegend": false,
         "type": "scatter",
         "x": [
          "2025-08-20T06:25:00+02:00",
          "2025-08-20T06:30:00+02:00"
         ],
         "y": [
          0.5579000000000001,
          0.5579000000000001
         ]
        },
        {
         "fill": "tozeroy",
         "fillcolor": "red",
         "line": {
          "color": "red",
          "width": 0.5
         },
         "mode": "lines",
         "name": "BearSteepener",
         "opacity": 0.4,
         "showlegend": false,
         "type": "scatter",
         "x": [
          "2025-08-20T06:30:00+02:00",
          "2025-08-20T06:35:00+02:00"
         ],
         "y": [
          0.5579000000000001,
          0.5558000000000001
         ]
        },
        {
         "fill": "tozeroy",
         "fillcolor": "red",
         "line": {
          "color": "red",
          "width": 0.5
         },
         "mode": "lines",
         "name": "BearSteepener",
         "opacity": 0.4,
         "showlegend": false,
         "type": "scatter",
         "x": [
          "2025-08-20T06:35:00+02:00",
          "2025-08-20T06:40:00+02:00"
         ],
         "y": [
          0.5558000000000001,
          0.5577999999999999
         ]
        },
        {
         "fill": "tozeroy",
         "fillcolor": "red",
         "line": {
          "color": "red",
          "width": 0.5
         },
         "mode": "lines",
         "name": "BearSteepener",
         "opacity": 0.4,
         "showlegend": false,
         "type": "scatter",
         "x": [
          "2025-08-20T06:40:00+02:00",
          "2025-08-20T06:45:00+02:00"
         ],
         "y": [
          0.5577999999999999,
          0.5577999999999999
         ]
        },
        {
         "fill": "tozeroy",
         "fillcolor": "red",
         "line": {
          "color": "red",
          "width": 0.5
         },
         "mode": "lines",
         "name": "BearSteepener",
         "opacity": 0.4,
         "showlegend": false,
         "type": "scatter",
         "x": [
          "2025-08-20T06:45:00+02:00",
          "2025-08-20T06:50:00+02:00"
         ],
         "y": [
          0.5577999999999999,
          0.5577999999999999
         ]
        },
        {
         "fill": "tozeroy",
         "fillcolor": "orange",
         "line": {
          "color": "orange",
          "width": 0.5
         },
         "mode": "lines",
         "name": "BearFlattener",
         "opacity": 0.4,
         "showlegend": false,
         "type": "scatter",
         "x": [
          "2025-08-20T06:50:00+02:00",
          "2025-08-20T06:55:00+02:00"
         ],
         "y": [
          0.5577999999999999,
          0.5554999999999999
         ]
        },
        {
         "fill": "tozeroy",
         "fillcolor": "orange",
         "line": {
          "color": "orange",
          "width": 0.5
         },
         "mode": "lines",
         "name": "BearFlattener",
         "opacity": 0.4,
         "showlegend": false,
         "type": "scatter",
         "x": [
          "2025-08-20T06:55:00+02:00",
          "2025-08-20T07:00:00+02:00"
         ],
         "y": [
          0.5554999999999999,
          0.5577999999999999
         ]
        },
        {
         "fill": "tozeroy",
         "fillcolor": "red",
         "line": {
          "color": "red",
          "width": 0.5
         },
         "mode": "lines",
         "name": "BearSteepener",
         "opacity": 0.4,
         "showlegend": false,
         "type": "scatter",
         "x": [
          "2025-08-20T07:00:00+02:00",
          "2025-08-20T07:05:00+02:00"
         ],
         "y": [
          0.5577999999999999,
          0.5577999999999999
         ]
        },
        {
         "fill": "tozeroy",
         "fillcolor": "red",
         "line": {
          "color": "red",
          "width": 0.5
         },
         "mode": "lines",
         "name": "BearSteepener",
         "opacity": 0.4,
         "showlegend": false,
         "type": "scatter",
         "x": [
          "2025-08-20T07:05:00+02:00",
          "2025-08-20T07:10:00+02:00"
         ],
         "y": [
          0.5577999999999999,
          0.5597999999999996
         ]
        },
        {
         "fill": "tozeroy",
         "fillcolor": "red",
         "line": {
          "color": "red",
          "width": 0.5
         },
         "mode": "lines",
         "name": "BearSteepener",
         "opacity": 0.4,
         "showlegend": false,
         "type": "scatter",
         "x": [
          "2025-08-20T07:10:00+02:00",
          "2025-08-20T07:15:00+02:00"
         ],
         "y": [
          0.5597999999999996,
          0.5597999999999996
         ]
        },
        {
         "fill": "tozeroy",
         "fillcolor": "orange",
         "line": {
          "color": "orange",
          "width": 0.5
         },
         "mode": "lines",
         "name": "BearFlattener",
         "opacity": 0.4,
         "showlegend": false,
         "type": "scatter",
         "x": [
          "2025-08-20T07:15:00+02:00",
          "2025-08-20T07:20:00+02:00"
         ],
         "y": [
          0.5597999999999996,
          0.5576999999999996
         ]
        },
        {
         "fill": "tozeroy",
         "fillcolor": "red",
         "line": {
          "color": "red",
          "width": 0.5
         },
         "mode": "lines",
         "name": "BearSteepener",
         "opacity": 0.4,
         "showlegend": false,
         "type": "scatter",
         "x": [
          "2025-08-20T07:20:00+02:00",
          "2025-08-20T07:25:00+02:00"
         ],
         "y": [
          0.5576999999999996,
          0.5574999999999997
         ]
        },
        {
         "fill": "tozeroy",
         "fillcolor": "red",
         "line": {
          "color": "red",
          "width": 0.5
         },
         "mode": "lines",
         "name": "BearSteepener",
         "opacity": 0.4,
         "showlegend": false,
         "type": "scatter",
         "x": [
          "2025-08-20T07:25:00+02:00",
          "2025-08-20T07:30:00+02:00"
         ],
         "y": [
          0.5574999999999997,
          0.5595999999999997
         ]
        },
        {
         "fill": "tozeroy",
         "fillcolor": "red",
         "line": {
          "color": "red",
          "width": 0.5
         },
         "mode": "lines",
         "name": "BearSteepener",
         "opacity": 0.4,
         "showlegend": false,
         "type": "scatter",
         "x": [
          "2025-08-20T07:30:00+02:00",
          "2025-08-20T07:35:00+02:00"
         ],
         "y": [
          0.5595999999999997,
          0.5595999999999997
         ]
        },
        {
         "fill": "tozeroy",
         "fillcolor": "grey",
         "line": {
          "color": "grey",
          "width": 0.5
         },
         "mode": "lines",
         "name": "Other",
         "opacity": 0.4,
         "showlegend": false,
         "type": "scatter",
         "x": [
          "2025-08-20T07:35:00+02:00",
          "2025-08-20T07:40:00+02:00"
         ],
         "y": [
          0.5595999999999997,
          0.5597999999999996
         ]
        },
        {
         "fill": "tozeroy",
         "fillcolor": "orange",
         "line": {
          "color": "orange",
          "width": 0.5
         },
         "mode": "lines",
         "name": "BearFlattener",
         "opacity": 0.4,
         "showlegend": false,
         "type": "scatter",
         "x": [
          "2025-08-20T07:40:00+02:00",
          "2025-08-20T07:45:00+02:00"
         ],
         "y": [
          0.5597999999999996,
          0.5576999999999996
         ]
        },
        {
         "fill": "tozeroy",
         "fillcolor": "red",
         "line": {
          "color": "red",
          "width": 0.5
         },
         "mode": "lines",
         "name": "BearSteepener",
         "opacity": 0.4,
         "showlegend": false,
         "type": "scatter",
         "x": [
          "2025-08-20T07:45:00+02:00",
          "2025-08-20T07:50:00+02:00"
         ],
         "y": [
          0.5576999999999996,
          0.5595999999999997
         ]
        },
        {
         "fill": "tozeroy",
         "fillcolor": "red",
         "line": {
          "color": "red",
          "width": 0.5
         },
         "mode": "lines",
         "name": "BearSteepener",
         "opacity": 0.4,
         "showlegend": false,
         "type": "scatter",
         "x": [
          "2025-08-20T07:50:00+02:00",
          "2025-08-20T07:55:00+02:00"
         ],
         "y": [
          0.5595999999999997,
          0.5594999999999994
         ]
        },
        {
         "fill": "tozeroy",
         "fillcolor": "red",
         "line": {
          "color": "red",
          "width": 0.5
         },
         "mode": "lines",
         "name": "BearSteepener",
         "opacity": 0.4,
         "showlegend": false,
         "type": "scatter",
         "x": [
          "2025-08-20T07:55:00+02:00",
          "2025-08-20T08:00:00+02:00"
         ],
         "y": [
          0.5594999999999994,
          0.5613999999999995
         ]
        },
        {
         "fill": "tozeroy",
         "fillcolor": "orange",
         "line": {
          "color": "orange",
          "width": 0.5
         },
         "mode": "lines",
         "name": "BearFlattener",
         "opacity": 0.4,
         "showlegend": false,
         "type": "scatter",
         "x": [
          "2025-08-20T08:00:00+02:00",
          "2025-08-20T08:05:00+02:00"
         ],
         "y": [
          0.5613999999999995,
          0.5574999999999997
         ]
        },
        {
         "fill": "tozeroy",
         "fillcolor": "orange",
         "line": {
          "color": "orange",
          "width": 0.5
         },
         "mode": "lines",
         "name": "BearFlattener",
         "opacity": 0.4,
         "showlegend": false,
         "type": "scatter",
         "x": [
          "2025-08-20T08:05:00+02:00",
          "2025-08-20T08:10:00+02:00"
         ],
         "y": [
          0.5574999999999997,
          0.5576999999999996
         ]
        },
        {
         "fill": "tozeroy",
         "fillcolor": "green",
         "line": {
          "color": "green",
          "width": 0.5
         },
         "mode": "lines",
         "name": "BullSteepener",
         "opacity": 0.4,
         "showlegend": false,
         "type": "scatter",
         "x": [
          "2025-08-20T08:10:00+02:00",
          "2025-08-20T08:15:00+02:00"
         ],
         "y": [
          0.5576999999999996,
          0.5577999999999999
         ]
        },
        {
         "fill": "tozeroy",
         "fillcolor": "green",
         "line": {
          "color": "green",
          "width": 0.5
         },
         "mode": "lines",
         "name": "BullSteepener",
         "opacity": 0.4,
         "showlegend": false,
         "type": "scatter",
         "x": [
          "2025-08-20T08:15:00+02:00",
          "2025-08-20T08:20:00+02:00"
         ],
         "y": [
          0.5577999999999999,
          0.5618999999999996
         ]
        },
        {
         "fill": "tozeroy",
         "fillcolor": "green",
         "line": {
          "color": "green",
          "width": 0.5
         },
         "mode": "lines",
         "name": "BullSteepener",
         "opacity": 0.4,
         "showlegend": false,
         "type": "scatter",
         "x": [
          "2025-08-20T08:20:00+02:00",
          "2025-08-20T08:25:00+02:00"
         ],
         "y": [
          0.5618999999999996,
          0.5598999999999998
         ]
        },
        {
         "fill": "tozeroy",
         "fillcolor": "deepskyblue",
         "line": {
          "color": "deepskyblue",
          "width": 0.5
         },
         "mode": "lines",
         "name": "BullFlattener",
         "opacity": 0.4,
         "showlegend": false,
         "type": "scatter",
         "x": [
          "2025-08-20T08:25:00+02:00",
          "2025-08-20T08:30:00+02:00"
         ],
         "y": [
          0.5598999999999998,
          0.5598999999999998
         ]
        },
        {
         "fill": "tozeroy",
         "fillcolor": "deepskyblue",
         "line": {
          "color": "deepskyblue",
          "width": 0.5
         },
         "mode": "lines",
         "name": "BullFlattener",
         "opacity": 0.4,
         "showlegend": false,
         "type": "scatter",
         "x": [
          "2025-08-20T08:30:00+02:00",
          "2025-08-20T08:35:00+02:00"
         ],
         "y": [
          0.5598999999999998,
          0.556
         ]
        },
        {
         "fill": "tozeroy",
         "fillcolor": "deepskyblue",
         "line": {
          "color": "deepskyblue",
          "width": 0.5
         },
         "mode": "lines",
         "name": "BullFlattener",
         "opacity": 0.4,
         "showlegend": false,
         "type": "scatter",
         "x": [
          "2025-08-20T08:35:00+02:00",
          "2025-08-20T08:40:00+02:00"
         ],
         "y": [
          0.556,
          0.556
         ]
        },
        {
         "fill": "tozeroy",
         "fillcolor": "deepskyblue",
         "line": {
          "color": "deepskyblue",
          "width": 0.5
         },
         "mode": "lines",
         "name": "BullFlattener",
         "opacity": 0.4,
         "showlegend": false,
         "type": "scatter",
         "x": [
          "2025-08-20T08:40:00+02:00",
          "2025-08-20T08:45:00+02:00"
         ],
         "y": [
          0.556,
          0.556
         ]
        },
        {
         "fill": "tozeroy",
         "fillcolor": "violet",
         "line": {
          "color": "violet",
          "width": 0.5
         },
         "mode": "lines",
         "name": "TwistFlattener",
         "opacity": 0.4,
         "showlegend": false,
         "type": "scatter",
         "x": [
          "2025-08-20T08:45:00+02:00",
          "2025-08-20T08:50:00+02:00"
         ],
         "y": [
          0.556,
          0.5537999999999998
         ]
        },
        {
         "fill": "tozeroy",
         "fillcolor": "orange",
         "line": {
          "color": "orange",
          "width": 0.5
         },
         "mode": "lines",
         "name": "BearFlattener",
         "opacity": 0.4,
         "showlegend": false,
         "type": "scatter",
         "x": [
          "2025-08-20T08:50:00+02:00",
          "2025-08-20T08:55:00+02:00"
         ],
         "y": [
          0.5537999999999998,
          0.5577999999999999
         ]
        },
        {
         "fill": "tozeroy",
         "fillcolor": "orange",
         "line": {
          "color": "orange",
          "width": 0.5
         },
         "mode": "lines",
         "name": "BearFlattener",
         "opacity": 0.4,
         "showlegend": false,
         "type": "scatter",
         "x": [
          "2025-08-20T08:55:00+02:00",
          "2025-08-20T09:00:00+02:00"
         ],
         "y": [
          0.5577999999999999,
          0.5597999999999996
         ]
        },
        {
         "fill": "tozeroy",
         "fillcolor": "orange",
         "line": {
          "color": "orange",
          "width": 0.5
         },
         "mode": "lines",
         "name": "BearFlattener",
         "opacity": 0.4,
         "showlegend": false,
         "type": "scatter",
         "x": [
          "2025-08-20T09:00:00+02:00",
          "2025-08-20T09:05:00+02:00"
         ],
         "y": [
          0.5597999999999996,
          0.5558999999999998
         ]
        },
        {
         "fill": "tozeroy",
         "fillcolor": "orange",
         "line": {
          "color": "orange",
          "width": 0.5
         },
         "mode": "lines",
         "name": "BearFlattener",
         "opacity": 0.4,
         "showlegend": false,
         "type": "scatter",
         "x": [
          "2025-08-20T09:05:00+02:00",
          "2025-08-20T09:10:00+02:00"
         ],
         "y": [
          0.5558999999999998,
          0.5539000000000001
         ]
        },
        {
         "fill": "tozeroy",
         "fillcolor": "deepskyblue",
         "line": {
          "color": "deepskyblue",
          "width": 0.5
         },
         "mode": "lines",
         "name": "BullFlattener",
         "opacity": 0.4,
         "showlegend": false,
         "type": "scatter",
         "x": [
          "2025-08-20T09:10:00+02:00",
          "2025-08-20T09:15:00+02:00"
         ],
         "y": [
          0.5539000000000001,
          0.5541
         ]
        },
        {
         "fill": "tozeroy",
         "fillcolor": "green",
         "line": {
          "color": "green",
          "width": 0.5
         },
         "mode": "lines",
         "name": "BullSteepener",
         "opacity": 0.4,
         "showlegend": false,
         "type": "scatter",
         "x": [
          "2025-08-20T09:15:00+02:00",
          "2025-08-20T09:20:00+02:00"
         ],
         "y": [
          0.5541,
          0.5558999999999998
         ]
        },
        {
         "fill": "tozeroy",
         "fillcolor": "deepskyblue",
         "line": {
          "color": "deepskyblue",
          "width": 0.5
         },
         "mode": "lines",
         "name": "BullFlattener",
         "opacity": 0.4,
         "showlegend": false,
         "type": "scatter",
         "x": [
          "2025-08-20T09:20:00+02:00",
          "2025-08-20T09:25:00+02:00"
         ],
         "y": [
          0.5558999999999998,
          0.5539000000000001
         ]
        },
        {
         "fill": "tozeroy",
         "fillcolor": "orange",
         "line": {
          "color": "orange",
          "width": 0.5
         },
         "mode": "lines",
         "name": "BearFlattener",
         "opacity": 0.4,
         "showlegend": false,
         "type": "scatter",
         "x": [
          "2025-08-20T09:25:00+02:00",
          "2025-08-20T09:30:00+02:00"
         ],
         "y": [
          0.5539000000000001,
          0.5576999999999996
         ]
        },
        {
         "fill": "tozeroy",
         "fillcolor": "red",
         "line": {
          "color": "red",
          "width": 0.5
         },
         "mode": "lines",
         "name": "BearSteepener",
         "opacity": 0.4,
         "showlegend": false,
         "type": "scatter",
         "x": [
          "2025-08-20T09:30:00+02:00",
          "2025-08-20T09:35:00+02:00"
         ],
         "y": [
          0.5576999999999996,
          0.5576999999999996
         ]
        },
        {
         "fill": "tozeroy",
         "fillcolor": "red",
         "line": {
          "color": "red",
          "width": 0.5
         },
         "mode": "lines",
         "name": "BearSteepener",
         "opacity": 0.4,
         "showlegend": false,
         "type": "scatter",
         "x": [
          "2025-08-20T09:35:00+02:00",
          "2025-08-20T09:40:00+02:00"
         ],
         "y": [
          0.5576999999999996,
          0.5574999999999997
         ]
        },
        {
         "fill": "tozeroy",
         "fillcolor": "red",
         "line": {
          "color": "red",
          "width": 0.5
         },
         "mode": "lines",
         "name": "BearSteepener",
         "opacity": 0.4,
         "showlegend": false,
         "type": "scatter",
         "x": [
          "2025-08-20T09:40:00+02:00",
          "2025-08-20T09:45:00+02:00"
         ],
         "y": [
          0.5574999999999997,
          0.5573999999999995
         ]
        },
        {
         "fill": "tozeroy",
         "fillcolor": "red",
         "line": {
          "color": "red",
          "width": 0.5
         },
         "mode": "lines",
         "name": "BearSteepener",
         "opacity": 0.4,
         "showlegend": false,
         "type": "scatter",
         "x": [
          "2025-08-20T09:45:00+02:00",
          "2025-08-20T09:50:00+02:00"
         ],
         "y": [
          0.5573999999999995,
          0.5592999999999995
         ]
        },
        {
         "fill": "tozeroy",
         "fillcolor": "red",
         "line": {
          "color": "red",
          "width": 0.5
         },
         "mode": "lines",
         "name": "BearSteepener",
         "opacity": 0.4,
         "showlegend": false,
         "type": "scatter",
         "x": [
          "2025-08-20T09:50:00+02:00",
          "2025-08-20T09:55:00+02:00"
         ],
         "y": [
          0.5592999999999995,
          0.5592999999999995
         ]
        },
        {
         "fill": "tozeroy",
         "fillcolor": "red",
         "line": {
          "color": "red",
          "width": 0.5
         },
         "mode": "lines",
         "name": "BearSteepener",
         "opacity": 0.4,
         "showlegend": false,
         "type": "scatter",
         "x": [
          "2025-08-20T09:55:00+02:00",
          "2025-08-20T10:00:00+02:00"
         ],
         "y": [
          0.5592999999999995,
          0.5613999999999995
         ]
        },
        {
         "fill": "tozeroy",
         "fillcolor": "red",
         "line": {
          "color": "red",
          "width": 0.5
         },
         "mode": "lines",
         "name": "BearSteepener",
         "opacity": 0.4,
         "showlegend": false,
         "type": "scatter",
         "x": [
          "2025-08-20T10:00:00+02:00",
          "2025-08-20T10:05:00+02:00"
         ],
         "y": [
          0.5613999999999995,
          0.5594999999999994
         ]
        },
        {
         "fill": "tozeroy",
         "fillcolor": "deepskyblue",
         "line": {
          "color": "deepskyblue",
          "width": 0.5
         },
         "mode": "lines",
         "name": "BullFlattener",
         "opacity": 0.4,
         "showlegend": false,
         "type": "scatter",
         "x": [
          "2025-08-20T10:05:00+02:00",
          "2025-08-20T10:10:00+02:00"
         ],
         "y": [
          0.5594999999999994,
          0.5556999999999999
         ]
        },
        {
         "fill": "tozeroy",
         "fillcolor": "deepskyblue",
         "line": {
          "color": "deepskyblue",
          "width": 0.5
         },
         "mode": "lines",
         "name": "BullFlattener",
         "opacity": 0.4,
         "showlegend": false,
         "type": "scatter",
         "x": [
          "2025-08-20T10:10:00+02:00",
          "2025-08-20T10:15:00+02:00"
         ],
         "y": [
          0.5556999999999999,
          0.5556999999999999
         ]
        },
        {
         "fill": "tozeroy",
         "fillcolor": "deepskyblue",
         "line": {
          "color": "deepskyblue",
          "width": 0.5
         },
         "mode": "lines",
         "name": "BullFlattener",
         "opacity": 0.4,
         "showlegend": false,
         "type": "scatter",
         "x": [
          "2025-08-20T10:15:00+02:00",
          "2025-08-20T10:20:00+02:00"
         ],
         "y": [
          0.5556999999999999,
          0.5556999999999999
         ]
        },
        {
         "fill": "tozeroy",
         "fillcolor": "deepskyblue",
         "line": {
          "color": "deepskyblue",
          "width": 0.5
         },
         "mode": "lines",
         "name": "BullFlattener",
         "opacity": 0.4,
         "showlegend": false,
         "type": "scatter",
         "x": [
          "2025-08-20T10:20:00+02:00",
          "2025-08-20T10:25:00+02:00"
         ],
         "y": [
          0.5556999999999999,
          0.5516999999999999
         ]
        },
        {
         "fill": "tozeroy",
         "fillcolor": "deepskyblue",
         "line": {
          "color": "deepskyblue",
          "width": 0.5
         },
         "mode": "lines",
         "name": "BullFlattener",
         "opacity": 0.4,
         "showlegend": false,
         "type": "scatter",
         "x": [
          "2025-08-20T10:25:00+02:00",
          "2025-08-20T10:30:00+02:00"
         ],
         "y": [
          0.5516999999999999,
          0.5537999999999998
         ]
        },
        {
         "fill": "tozeroy",
         "fillcolor": "deepskyblue",
         "line": {
          "color": "deepskyblue",
          "width": 0.5
         },
         "mode": "lines",
         "name": "BullFlattener",
         "opacity": 0.4,
         "showlegend": false,
         "type": "scatter",
         "x": [
          "2025-08-20T10:30:00+02:00",
          "2025-08-20T10:35:00+02:00"
         ],
         "y": [
          0.5537999999999998,
          0.5518000000000001
         ]
        },
        {
         "fill": "tozeroy",
         "fillcolor": "violet",
         "line": {
          "color": "violet",
          "width": 0.5
         },
         "mode": "lines",
         "name": "TwistFlattener",
         "opacity": 0.4,
         "showlegend": false,
         "type": "scatter",
         "x": [
          "2025-08-20T10:35:00+02:00",
          "2025-08-20T10:40:00+02:00"
         ],
         "y": [
          0.5518000000000001,
          0.5497000000000001
         ]
        },
        {
         "fill": "tozeroy",
         "fillcolor": "deepskyblue",
         "line": {
          "color": "deepskyblue",
          "width": 0.5
         },
         "mode": "lines",
         "name": "BullFlattener",
         "opacity": 0.4,
         "showlegend": false,
         "type": "scatter",
         "x": [
          "2025-08-20T10:40:00+02:00",
          "2025-08-20T10:45:00+02:00"
         ],
         "y": [
          0.5497000000000001,
          0.5499999999999994
         ]
        },
        {
         "fill": "tozeroy",
         "fillcolor": "deepskyblue",
         "line": {
          "color": "deepskyblue",
          "width": 0.5
         },
         "mode": "lines",
         "name": "BullFlattener",
         "opacity": 0.4,
         "showlegend": false,
         "type": "scatter",
         "x": [
          "2025-08-20T10:45:00+02:00",
          "2025-08-20T10:50:00+02:00"
         ],
         "y": [
          0.5499999999999994,
          0.552
         ]
        },
        {
         "fill": "tozeroy",
         "fillcolor": "deepskyblue",
         "line": {
          "color": "deepskyblue",
          "width": 0.5
         },
         "mode": "lines",
         "name": "BullFlattener",
         "opacity": 0.4,
         "showlegend": false,
         "type": "scatter",
         "x": [
          "2025-08-20T10:50:00+02:00",
          "2025-08-20T10:55:00+02:00"
         ],
         "y": [
          0.552,
          0.5478999999999994
         ]
        },
        {
         "fill": "tozeroy",
         "fillcolor": "deepskyblue",
         "line": {
          "color": "deepskyblue",
          "width": 0.5
         },
         "mode": "lines",
         "name": "BullFlattener",
         "opacity": 0.4,
         "showlegend": false,
         "type": "scatter",
         "x": [
          "2025-08-20T10:55:00+02:00",
          "2025-08-20T11:00:00+02:00"
         ],
         "y": [
          0.5478999999999994,
          0.5480999999999994
         ]
        },
        {
         "fill": "tozeroy",
         "fillcolor": "deepskyblue",
         "line": {
          "color": "deepskyblue",
          "width": 0.5
         },
         "mode": "lines",
         "name": "BullFlattener",
         "opacity": 0.4,
         "showlegend": false,
         "type": "scatter",
         "x": [
          "2025-08-20T11:00:00+02:00",
          "2025-08-20T11:05:00+02:00"
         ],
         "y": [
          0.5480999999999994,
          0.5480999999999994
         ]
        },
        {
         "fill": "tozeroy",
         "fillcolor": "deepskyblue",
         "line": {
          "color": "deepskyblue",
          "width": 0.5
         },
         "mode": "lines",
         "name": "BullFlattener",
         "opacity": 0.4,
         "showlegend": false,
         "type": "scatter",
         "x": [
          "2025-08-20T11:05:00+02:00",
          "2025-08-20T11:10:00+02:00"
         ],
         "y": [
          0.5480999999999994,
          0.5480999999999994
         ]
        },
        {
         "fill": "tozeroy",
         "fillcolor": "deepskyblue",
         "line": {
          "color": "deepskyblue",
          "width": 0.5
         },
         "mode": "lines",
         "name": "BullFlattener",
         "opacity": 0.4,
         "showlegend": false,
         "type": "scatter",
         "x": [
          "2025-08-20T11:10:00+02:00",
          "2025-08-20T11:15:00+02:00"
         ],
         "y": [
          0.5480999999999994,
          0.5460999999999996
         ]
        },
        {
         "fill": "tozeroy",
         "fillcolor": "deepskyblue",
         "line": {
          "color": "deepskyblue",
          "width": 0.5
         },
         "mode": "lines",
         "name": "BullFlattener",
         "opacity": 0.4,
         "showlegend": false,
         "type": "scatter",
         "x": [
          "2025-08-20T11:15:00+02:00",
          "2025-08-20T11:20:00+02:00"
         ],
         "y": [
          0.5460999999999996,
          0.5460999999999996
         ]
        },
        {
         "fill": "tozeroy",
         "fillcolor": "deepskyblue",
         "line": {
          "color": "deepskyblue",
          "width": 0.5
         },
         "mode": "lines",
         "name": "BullFlattener",
         "opacity": 0.4,
         "showlegend": false,
         "type": "scatter",
         "x": [
          "2025-08-20T11:20:00+02:00",
          "2025-08-20T11:25:00+02:00"
         ],
         "y": [
          0.5460999999999996,
          0.5460999999999996
         ]
        },
        {
         "fill": "tozeroy",
         "fillcolor": "green",
         "line": {
          "color": "green",
          "width": 0.5
         },
         "mode": "lines",
         "name": "BullSteepener",
         "opacity": 0.4,
         "showlegend": false,
         "type": "scatter",
         "x": [
          "2025-08-20T11:25:00+02:00",
          "2025-08-20T11:30:00+02:00"
         ],
         "y": [
          0.5460999999999996,
          0.5481999999999996
         ]
        },
        {
         "fill": "tozeroy",
         "fillcolor": "grey",
         "line": {
          "color": "grey",
          "width": 0.5
         },
         "mode": "lines",
         "name": "Other",
         "opacity": 0.4,
         "showlegend": false,
         "type": "scatter",
         "x": [
          "2025-08-20T11:30:00+02:00",
          "2025-08-20T11:35:00+02:00"
         ],
         "y": [
          0.5481999999999996,
          0.5480999999999994
         ]
        },
        {
         "fill": "tozeroy",
         "fillcolor": "deepskyblue",
         "line": {
          "color": "deepskyblue",
          "width": 0.5
         },
         "mode": "lines",
         "name": "BullFlattener",
         "opacity": 0.4,
         "showlegend": false,
         "type": "scatter",
         "x": [
          "2025-08-20T11:35:00+02:00",
          "2025-08-20T11:40:00+02:00"
         ],
         "y": [
          0.5480999999999994,
          0.5460999999999996
         ]
        },
        {
         "fill": "tozeroy",
         "fillcolor": "green",
         "line": {
          "color": "green",
          "width": 0.5
         },
         "mode": "lines",
         "name": "BullSteepener",
         "opacity": 0.4,
         "showlegend": false,
         "type": "scatter",
         "x": [
          "2025-08-20T11:40:00+02:00",
          "2025-08-20T11:45:00+02:00"
         ],
         "y": [
          0.5460999999999996,
          0.5464000000000002
         ]
        },
        {
         "fill": "tozeroy",
         "fillcolor": "green",
         "line": {
          "color": "green",
          "width": 0.5
         },
         "mode": "lines",
         "name": "BullSteepener",
         "opacity": 0.4,
         "showlegend": false,
         "type": "scatter",
         "x": [
          "2025-08-20T11:45:00+02:00",
          "2025-08-20T11:50:00+02:00"
         ],
         "y": [
          0.5464000000000002,
          0.5464000000000002
         ]
        },
        {
         "fill": "tozeroy",
         "fillcolor": "green",
         "line": {
          "color": "green",
          "width": 0.5
         },
         "mode": "lines",
         "name": "BullSteepener",
         "opacity": 0.4,
         "showlegend": false,
         "type": "scatter",
         "x": [
          "2025-08-20T11:50:00+02:00",
          "2025-08-20T11:55:00+02:00"
         ],
         "y": [
          0.5464000000000002,
          0.5464000000000002
         ]
        },
        {
         "fill": "tozeroy",
         "fillcolor": "deepskyblue",
         "line": {
          "color": "deepskyblue",
          "width": 0.5
         },
         "mode": "lines",
         "name": "BullFlattener",
         "opacity": 0.4,
         "showlegend": false,
         "type": "scatter",
         "x": [
          "2025-08-20T11:55:00+02:00",
          "2025-08-20T12:00:00+02:00"
         ],
         "y": [
          0.5464000000000002,
          0.5466000000000002
         ]
        },
        {
         "fill": "tozeroy",
         "fillcolor": "deepskyblue",
         "line": {
          "color": "deepskyblue",
          "width": 0.5
         },
         "mode": "lines",
         "name": "BullFlattener",
         "opacity": 0.4,
         "showlegend": false,
         "type": "scatter",
         "x": [
          "2025-08-20T12:00:00+02:00",
          "2025-08-20T12:05:00+02:00"
         ],
         "y": [
          0.5466000000000002,
          0.5466000000000002
         ]
        },
        {
         "fill": "tozeroy",
         "fillcolor": "deepskyblue",
         "line": {
          "color": "deepskyblue",
          "width": 0.5
         },
         "mode": "lines",
         "name": "BullFlattener",
         "opacity": 0.4,
         "showlegend": false,
         "type": "scatter",
         "x": [
          "2025-08-20T12:05:00+02:00",
          "2025-08-20T12:10:00+02:00"
         ],
         "y": [
          0.5466000000000002,
          0.5447000000000002
         ]
        },
        {
         "fill": "tozeroy",
         "fillcolor": "deepskyblue",
         "line": {
          "color": "deepskyblue",
          "width": 0.5
         },
         "mode": "lines",
         "name": "BullFlattener",
         "opacity": 0.4,
         "showlegend": false,
         "type": "scatter",
         "x": [
          "2025-08-20T12:10:00+02:00",
          "2025-08-20T12:15:00+02:00"
         ],
         "y": [
          0.5447000000000002,
          0.5448000000000004
         ]
        },
        {
         "fill": "tozeroy",
         "fillcolor": "deepskyblue",
         "line": {
          "color": "deepskyblue",
          "width": 0.5
         },
         "mode": "lines",
         "name": "BullFlattener",
         "opacity": 0.4,
         "showlegend": false,
         "type": "scatter",
         "x": [
          "2025-08-20T12:15:00+02:00",
          "2025-08-20T12:20:00+02:00"
         ],
         "y": [
          0.5448000000000004,
          0.5427000000000004
         ]
        },
        {
         "fill": "tozeroy",
         "fillcolor": "deepskyblue",
         "line": {
          "color": "deepskyblue",
          "width": 0.5
         },
         "mode": "lines",
         "name": "BullFlattener",
         "opacity": 0.4,
         "showlegend": false,
         "type": "scatter",
         "x": [
          "2025-08-20T12:20:00+02:00",
          "2025-08-20T12:25:00+02:00"
         ],
         "y": [
          0.5427000000000004,
          0.5427000000000004
         ]
        },
        {
         "fill": "tozeroy",
         "fillcolor": "deepskyblue",
         "line": {
          "color": "deepskyblue",
          "width": 0.5
         },
         "mode": "lines",
         "name": "BullFlattener",
         "opacity": 0.4,
         "showlegend": false,
         "type": "scatter",
         "x": [
          "2025-08-20T12:25:00+02:00",
          "2025-08-20T12:30:00+02:00"
         ],
         "y": [
          0.5427000000000004,
          0.5448000000000004
         ]
        },
        {
         "fill": "tozeroy",
         "fillcolor": "deepskyblue",
         "line": {
          "color": "deepskyblue",
          "width": 0.5
         },
         "mode": "lines",
         "name": "BullFlattener",
         "opacity": 0.4,
         "showlegend": false,
         "type": "scatter",
         "x": [
          "2025-08-20T12:30:00+02:00",
          "2025-08-20T12:35:00+02:00"
         ],
         "y": [
          0.5448000000000004,
          0.5448000000000004
         ]
        },
        {
         "fill": "tozeroy",
         "fillcolor": "deepskyblue",
         "line": {
          "color": "deepskyblue",
          "width": 0.5
         },
         "mode": "lines",
         "name": "BullFlattener",
         "opacity": 0.4,
         "showlegend": false,
         "type": "scatter",
         "x": [
          "2025-08-20T12:35:00+02:00",
          "2025-08-20T12:40:00+02:00"
         ],
         "y": [
          0.5448000000000004,
          0.5427000000000004
         ]
        },
        {
         "fill": "tozeroy",
         "fillcolor": "orange",
         "line": {
          "color": "orange",
          "width": 0.5
         },
         "mode": "lines",
         "name": "BearFlattener",
         "opacity": 0.4,
         "showlegend": false,
         "type": "scatter",
         "x": [
          "2025-08-20T12:40:00+02:00",
          "2025-08-20T12:45:00+02:00"
         ],
         "y": [
          0.5427000000000004,
          0.5427000000000004
         ]
        },
        {
         "fill": "tozeroy",
         "fillcolor": "red",
         "line": {
          "color": "red",
          "width": 0.5
         },
         "mode": "lines",
         "name": "BearSteepener",
         "opacity": 0.4,
         "showlegend": false,
         "type": "scatter",
         "x": [
          "2025-08-20T12:45:00+02:00",
          "2025-08-20T12:50:00+02:00"
         ],
         "y": [
          0.5427000000000004,
          0.5445000000000002
         ]
        },
        {
         "fill": "tozeroy",
         "fillcolor": "red",
         "line": {
          "color": "red",
          "width": 0.5
         },
         "mode": "lines",
         "name": "BearSteepener",
         "opacity": 0.4,
         "showlegend": false,
         "type": "scatter",
         "x": [
          "2025-08-20T12:50:00+02:00",
          "2025-08-20T12:55:00+02:00"
         ],
         "y": [
          0.5445000000000002,
          0.5464000000000002
         ]
        },
        {
         "fill": "tozeroy",
         "fillcolor": "red",
         "line": {
          "color": "red",
          "width": 0.5
         },
         "mode": "lines",
         "name": "BearSteepener",
         "opacity": 0.4,
         "showlegend": false,
         "type": "scatter",
         "x": [
          "2025-08-20T12:55:00+02:00",
          "2025-08-20T13:00:00+02:00"
         ],
         "y": [
          0.5464000000000002,
          0.5466000000000002
         ]
        },
        {
         "fill": "tozeroy",
         "fillcolor": "red",
         "line": {
          "color": "red",
          "width": 0.5
         },
         "mode": "lines",
         "name": "BearSteepener",
         "opacity": 0.4,
         "showlegend": false,
         "type": "scatter",
         "x": [
          "2025-08-20T13:00:00+02:00",
          "2025-08-20T13:05:00+02:00"
         ],
         "y": [
          0.5466000000000002,
          0.5464000000000002
         ]
        },
        {
         "line": {
          "color": "white",
          "width": 2
         },
         "mode": "lines",
         "name": "2s10s",
         "type": "scatter",
         "x": [
          "2025-08-18T02:00:00+02:00",
          "2025-08-18T02:05:00+02:00",
          "2025-08-18T02:10:00+02:00",
          "2025-08-18T02:15:00+02:00",
          "2025-08-18T02:20:00+02:00",
          "2025-08-18T02:25:00+02:00",
          "2025-08-18T02:30:00+02:00",
          "2025-08-18T02:35:00+02:00",
          "2025-08-18T02:40:00+02:00",
          "2025-08-18T02:45:00+02:00",
          "2025-08-18T02:50:00+02:00",
          "2025-08-18T02:55:00+02:00",
          "2025-08-18T03:00:00+02:00",
          "2025-08-18T03:05:00+02:00",
          "2025-08-18T03:10:00+02:00",
          "2025-08-18T03:15:00+02:00",
          "2025-08-18T03:20:00+02:00",
          "2025-08-18T03:25:00+02:00",
          "2025-08-18T03:30:00+02:00",
          "2025-08-18T03:35:00+02:00",
          "2025-08-18T03:40:00+02:00",
          "2025-08-18T03:45:00+02:00",
          "2025-08-18T03:50:00+02:00",
          "2025-08-18T03:55:00+02:00",
          "2025-08-18T04:00:00+02:00",
          "2025-08-18T04:05:00+02:00",
          "2025-08-18T04:10:00+02:00",
          "2025-08-18T04:15:00+02:00",
          "2025-08-18T04:20:00+02:00",
          "2025-08-18T04:25:00+02:00",
          "2025-08-18T04:30:00+02:00",
          "2025-08-18T04:35:00+02:00",
          "2025-08-18T04:40:00+02:00",
          "2025-08-18T04:45:00+02:00",
          "2025-08-18T04:50:00+02:00",
          "2025-08-18T04:55:00+02:00",
          "2025-08-18T05:00:00+02:00",
          "2025-08-18T05:05:00+02:00",
          "2025-08-18T05:10:00+02:00",
          "2025-08-18T05:15:00+02:00",
          "2025-08-18T05:20:00+02:00",
          "2025-08-18T05:25:00+02:00",
          "2025-08-18T05:30:00+02:00",
          "2025-08-18T05:35:00+02:00",
          "2025-08-18T05:40:00+02:00",
          "2025-08-18T05:45:00+02:00",
          "2025-08-18T05:50:00+02:00",
          "2025-08-18T05:55:00+02:00",
          "2025-08-18T06:00:00+02:00",
          "2025-08-18T06:05:00+02:00",
          "2025-08-18T06:10:00+02:00",
          "2025-08-18T06:15:00+02:00",
          "2025-08-18T06:20:00+02:00",
          "2025-08-18T06:25:00+02:00",
          "2025-08-18T06:30:00+02:00",
          "2025-08-18T06:35:00+02:00",
          "2025-08-18T06:40:00+02:00",
          "2025-08-18T06:45:00+02:00",
          "2025-08-18T06:50:00+02:00",
          "2025-08-18T06:55:00+02:00",
          "2025-08-18T07:00:00+02:00",
          "2025-08-18T07:05:00+02:00",
          "2025-08-18T07:10:00+02:00",
          "2025-08-18T07:15:00+02:00",
          "2025-08-18T07:20:00+02:00",
          "2025-08-18T07:25:00+02:00",
          "2025-08-18T07:30:00+02:00",
          "2025-08-18T07:35:00+02:00",
          "2025-08-18T07:40:00+02:00",
          "2025-08-18T07:45:00+02:00",
          "2025-08-18T07:50:00+02:00",
          "2025-08-18T07:55:00+02:00",
          "2025-08-18T08:00:00+02:00",
          "2025-08-18T08:05:00+02:00",
          "2025-08-18T08:10:00+02:00",
          "2025-08-18T08:15:00+02:00",
          "2025-08-18T08:20:00+02:00",
          "2025-08-18T08:25:00+02:00",
          "2025-08-18T08:30:00+02:00",
          "2025-08-18T08:35:00+02:00",
          "2025-08-18T08:40:00+02:00",
          "2025-08-18T08:45:00+02:00",
          "2025-08-18T08:50:00+02:00",
          "2025-08-18T08:55:00+02:00",
          "2025-08-18T09:00:00+02:00",
          "2025-08-18T09:05:00+02:00",
          "2025-08-18T09:10:00+02:00",
          "2025-08-18T09:15:00+02:00",
          "2025-08-18T09:20:00+02:00",
          "2025-08-18T09:25:00+02:00",
          "2025-08-18T09:30:00+02:00",
          "2025-08-18T09:35:00+02:00",
          "2025-08-18T09:40:00+02:00",
          "2025-08-18T09:45:00+02:00",
          "2025-08-18T09:50:00+02:00",
          "2025-08-18T09:55:00+02:00",
          "2025-08-18T10:00:00+02:00",
          "2025-08-18T10:05:00+02:00",
          "2025-08-18T10:10:00+02:00",
          "2025-08-18T10:15:00+02:00",
          "2025-08-18T10:20:00+02:00",
          "2025-08-18T10:25:00+02:00",
          "2025-08-18T10:30:00+02:00",
          "2025-08-18T10:35:00+02:00",
          "2025-08-18T10:40:00+02:00",
          "2025-08-18T10:45:00+02:00",
          "2025-08-18T10:50:00+02:00",
          "2025-08-18T10:55:00+02:00",
          "2025-08-18T11:00:00+02:00",
          "2025-08-18T11:05:00+02:00",
          "2025-08-18T11:10:00+02:00",
          "2025-08-18T11:15:00+02:00",
          "2025-08-18T11:20:00+02:00",
          "2025-08-18T11:25:00+02:00",
          "2025-08-18T11:30:00+02:00",
          "2025-08-18T11:35:00+02:00",
          "2025-08-18T11:40:00+02:00",
          "2025-08-18T11:45:00+02:00",
          "2025-08-18T11:50:00+02:00",
          "2025-08-18T11:55:00+02:00",
          "2025-08-18T12:00:00+02:00",
          "2025-08-18T12:05:00+02:00",
          "2025-08-18T12:10:00+02:00",
          "2025-08-18T12:15:00+02:00",
          "2025-08-18T12:20:00+02:00",
          "2025-08-18T12:25:00+02:00",
          "2025-08-18T12:30:00+02:00",
          "2025-08-18T12:35:00+02:00",
          "2025-08-18T12:40:00+02:00",
          "2025-08-18T12:45:00+02:00",
          "2025-08-18T12:50:00+02:00",
          "2025-08-18T12:55:00+02:00",
          "2025-08-18T13:00:00+02:00",
          "2025-08-18T13:05:00+02:00",
          "2025-08-18T13:10:00+02:00",
          "2025-08-18T13:15:00+02:00",
          "2025-08-18T13:20:00+02:00",
          "2025-08-18T13:25:00+02:00",
          "2025-08-18T13:30:00+02:00",
          "2025-08-18T13:35:00+02:00",
          "2025-08-18T13:40:00+02:00",
          "2025-08-18T13:45:00+02:00",
          "2025-08-18T13:50:00+02:00",
          "2025-08-18T13:55:00+02:00",
          "2025-08-18T14:00:00+02:00",
          "2025-08-18T14:05:00+02:00",
          "2025-08-18T14:10:00+02:00",
          "2025-08-18T14:15:00+02:00",
          "2025-08-18T14:20:00+02:00",
          "2025-08-18T14:25:00+02:00",
          "2025-08-18T14:30:00+02:00",
          "2025-08-18T14:35:00+02:00",
          "2025-08-18T14:40:00+02:00",
          "2025-08-18T14:45:00+02:00",
          "2025-08-18T14:50:00+02:00",
          "2025-08-18T14:55:00+02:00",
          "2025-08-18T15:00:00+02:00",
          "2025-08-18T15:05:00+02:00",
          "2025-08-18T15:10:00+02:00",
          "2025-08-18T15:15:00+02:00",
          "2025-08-18T15:20:00+02:00",
          "2025-08-18T15:25:00+02:00",
          "2025-08-18T15:30:00+02:00",
          "2025-08-18T15:35:00+02:00",
          "2025-08-18T15:40:00+02:00",
          "2025-08-18T15:45:00+02:00",
          "2025-08-18T15:50:00+02:00",
          "2025-08-18T15:55:00+02:00",
          "2025-08-18T16:00:00+02:00",
          "2025-08-18T16:05:00+02:00",
          "2025-08-18T16:10:00+02:00",
          "2025-08-18T16:15:00+02:00",
          "2025-08-18T16:20:00+02:00",
          "2025-08-18T16:25:00+02:00",
          "2025-08-18T16:30:00+02:00",
          "2025-08-18T16:35:00+02:00",
          "2025-08-18T16:40:00+02:00",
          "2025-08-18T16:45:00+02:00",
          "2025-08-18T16:50:00+02:00",
          "2025-08-18T16:55:00+02:00",
          "2025-08-18T17:00:00+02:00",
          "2025-08-18T17:05:00+02:00",
          "2025-08-18T17:10:00+02:00",
          "2025-08-18T17:15:00+02:00",
          "2025-08-18T17:20:00+02:00",
          "2025-08-18T17:25:00+02:00",
          "2025-08-18T17:30:00+02:00",
          "2025-08-18T17:35:00+02:00",
          "2025-08-18T17:40:00+02:00",
          "2025-08-18T17:45:00+02:00",
          "2025-08-18T17:50:00+02:00",
          "2025-08-18T17:55:00+02:00",
          "2025-08-18T18:00:00+02:00",
          "2025-08-18T18:05:00+02:00",
          "2025-08-18T18:10:00+02:00",
          "2025-08-18T18:15:00+02:00",
          "2025-08-18T18:20:00+02:00",
          "2025-08-18T18:25:00+02:00",
          "2025-08-18T18:30:00+02:00",
          "2025-08-18T18:35:00+02:00",
          "2025-08-18T18:40:00+02:00",
          "2025-08-18T18:45:00+02:00",
          "2025-08-18T18:50:00+02:00",
          "2025-08-18T18:55:00+02:00",
          "2025-08-18T19:00:00+02:00",
          "2025-08-18T19:05:00+02:00",
          "2025-08-18T19:10:00+02:00",
          "2025-08-18T19:15:00+02:00",
          "2025-08-18T19:20:00+02:00",
          "2025-08-18T19:25:00+02:00",
          "2025-08-18T19:30:00+02:00",
          "2025-08-18T19:35:00+02:00",
          "2025-08-18T19:40:00+02:00",
          "2025-08-18T19:45:00+02:00",
          "2025-08-18T19:50:00+02:00",
          "2025-08-18T19:55:00+02:00",
          "2025-08-18T20:00:00+02:00",
          "2025-08-18T20:05:00+02:00",
          "2025-08-18T20:10:00+02:00",
          "2025-08-18T20:15:00+02:00",
          "2025-08-18T20:20:00+02:00",
          "2025-08-18T20:25:00+02:00",
          "2025-08-18T20:30:00+02:00",
          "2025-08-18T20:35:00+02:00",
          "2025-08-18T20:40:00+02:00",
          "2025-08-18T20:45:00+02:00",
          "2025-08-18T20:50:00+02:00",
          "2025-08-18T20:55:00+02:00",
          "2025-08-18T21:00:00+02:00",
          "2025-08-18T21:05:00+02:00",
          "2025-08-18T21:10:00+02:00",
          "2025-08-18T21:15:00+02:00",
          "2025-08-18T21:20:00+02:00",
          "2025-08-18T21:25:00+02:00",
          "2025-08-18T21:30:00+02:00",
          "2025-08-18T21:35:00+02:00",
          "2025-08-18T21:40:00+02:00",
          "2025-08-18T21:45:00+02:00",
          "2025-08-18T21:50:00+02:00",
          "2025-08-18T21:55:00+02:00",
          "2025-08-18T22:00:00+02:00",
          "2025-08-18T22:05:00+02:00",
          "2025-08-18T22:10:00+02:00",
          "2025-08-18T22:15:00+02:00",
          "2025-08-18T22:20:00+02:00",
          "2025-08-18T22:25:00+02:00",
          "2025-08-18T22:30:00+02:00",
          "2025-08-18T22:35:00+02:00",
          "2025-08-18T22:40:00+02:00",
          "2025-08-18T22:45:00+02:00",
          "2025-08-18T22:50:00+02:00",
          "2025-08-18T22:55:00+02:00",
          "2025-08-19T01:55:00+02:00",
          "2025-08-19T02:00:00+02:00",
          "2025-08-19T02:05:00+02:00",
          "2025-08-19T02:10:00+02:00",
          "2025-08-19T02:15:00+02:00",
          "2025-08-19T02:20:00+02:00",
          "2025-08-19T02:25:00+02:00",
          "2025-08-19T02:30:00+02:00",
          "2025-08-19T02:35:00+02:00",
          "2025-08-19T02:40:00+02:00",
          "2025-08-19T02:45:00+02:00",
          "2025-08-19T02:50:00+02:00",
          "2025-08-19T02:55:00+02:00",
          "2025-08-19T03:00:00+02:00",
          "2025-08-19T03:05:00+02:00",
          "2025-08-19T03:10:00+02:00",
          "2025-08-19T03:15:00+02:00",
          "2025-08-19T03:20:00+02:00",
          "2025-08-19T03:25:00+02:00",
          "2025-08-19T03:30:00+02:00",
          "2025-08-19T03:35:00+02:00",
          "2025-08-19T03:40:00+02:00",
          "2025-08-19T03:45:00+02:00",
          "2025-08-19T03:50:00+02:00",
          "2025-08-19T03:55:00+02:00",
          "2025-08-19T04:00:00+02:00",
          "2025-08-19T04:05:00+02:00",
          "2025-08-19T04:10:00+02:00",
          "2025-08-19T04:15:00+02:00",
          "2025-08-19T04:20:00+02:00",
          "2025-08-19T04:25:00+02:00",
          "2025-08-19T04:30:00+02:00",
          "2025-08-19T04:35:00+02:00",
          "2025-08-19T04:40:00+02:00",
          "2025-08-19T04:45:00+02:00",
          "2025-08-19T04:50:00+02:00",
          "2025-08-19T04:55:00+02:00",
          "2025-08-19T05:00:00+02:00",
          "2025-08-19T05:05:00+02:00",
          "2025-08-19T05:10:00+02:00",
          "2025-08-19T05:15:00+02:00",
          "2025-08-19T05:20:00+02:00",
          "2025-08-19T05:25:00+02:00",
          "2025-08-19T05:30:00+02:00",
          "2025-08-19T05:35:00+02:00",
          "2025-08-19T05:40:00+02:00",
          "2025-08-19T05:45:00+02:00",
          "2025-08-19T05:50:00+02:00",
          "2025-08-19T05:55:00+02:00",
          "2025-08-19T06:00:00+02:00",
          "2025-08-19T06:05:00+02:00",
          "2025-08-19T06:10:00+02:00",
          "2025-08-19T06:15:00+02:00",
          "2025-08-19T06:20:00+02:00",
          "2025-08-19T06:25:00+02:00",
          "2025-08-19T06:30:00+02:00",
          "2025-08-19T06:35:00+02:00",
          "2025-08-19T06:40:00+02:00",
          "2025-08-19T06:45:00+02:00",
          "2025-08-19T06:50:00+02:00",
          "2025-08-19T06:55:00+02:00",
          "2025-08-19T07:00:00+02:00",
          "2025-08-19T07:05:00+02:00",
          "2025-08-19T07:10:00+02:00",
          "2025-08-19T07:15:00+02:00",
          "2025-08-19T07:20:00+02:00",
          "2025-08-19T07:25:00+02:00",
          "2025-08-19T07:30:00+02:00",
          "2025-08-19T07:35:00+02:00",
          "2025-08-19T07:40:00+02:00",
          "2025-08-19T07:45:00+02:00",
          "2025-08-19T07:50:00+02:00",
          "2025-08-19T07:55:00+02:00",
          "2025-08-19T08:00:00+02:00",
          "2025-08-19T08:05:00+02:00",
          "2025-08-19T08:10:00+02:00",
          "2025-08-19T08:15:00+02:00",
          "2025-08-19T08:20:00+02:00",
          "2025-08-19T08:25:00+02:00",
          "2025-08-19T08:30:00+02:00",
          "2025-08-19T08:35:00+02:00",
          "2025-08-19T08:40:00+02:00",
          "2025-08-19T08:45:00+02:00",
          "2025-08-19T08:50:00+02:00",
          "2025-08-19T08:55:00+02:00",
          "2025-08-19T09:00:00+02:00",
          "2025-08-19T09:05:00+02:00",
          "2025-08-19T09:10:00+02:00",
          "2025-08-19T09:15:00+02:00",
          "2025-08-19T09:20:00+02:00",
          "2025-08-19T09:25:00+02:00",
          "2025-08-19T09:30:00+02:00",
          "2025-08-19T09:35:00+02:00",
          "2025-08-19T09:40:00+02:00",
          "2025-08-19T09:45:00+02:00",
          "2025-08-19T09:50:00+02:00",
          "2025-08-19T09:55:00+02:00",
          "2025-08-19T10:00:00+02:00",
          "2025-08-19T10:05:00+02:00",
          "2025-08-19T10:10:00+02:00",
          "2025-08-19T10:15:00+02:00",
          "2025-08-19T10:20:00+02:00",
          "2025-08-19T10:25:00+02:00",
          "2025-08-19T10:30:00+02:00",
          "2025-08-19T10:35:00+02:00",
          "2025-08-19T10:40:00+02:00",
          "2025-08-19T10:45:00+02:00",
          "2025-08-19T10:50:00+02:00",
          "2025-08-19T10:55:00+02:00",
          "2025-08-19T11:00:00+02:00",
          "2025-08-19T11:05:00+02:00",
          "2025-08-19T11:10:00+02:00",
          "2025-08-19T11:15:00+02:00",
          "2025-08-19T11:20:00+02:00",
          "2025-08-19T11:25:00+02:00",
          "2025-08-19T11:30:00+02:00",
          "2025-08-19T11:35:00+02:00",
          "2025-08-19T11:40:00+02:00",
          "2025-08-19T11:45:00+02:00",
          "2025-08-19T11:50:00+02:00",
          "2025-08-19T11:55:00+02:00",
          "2025-08-19T12:00:00+02:00",
          "2025-08-19T12:05:00+02:00",
          "2025-08-19T12:10:00+02:00",
          "2025-08-19T12:15:00+02:00",
          "2025-08-19T12:20:00+02:00",
          "2025-08-19T12:25:00+02:00",
          "2025-08-19T12:30:00+02:00",
          "2025-08-19T12:35:00+02:00",
          "2025-08-19T12:40:00+02:00",
          "2025-08-19T12:45:00+02:00",
          "2025-08-19T12:50:00+02:00",
          "2025-08-19T12:55:00+02:00",
          "2025-08-19T13:00:00+02:00",
          "2025-08-19T13:05:00+02:00",
          "2025-08-19T13:10:00+02:00",
          "2025-08-19T13:15:00+02:00",
          "2025-08-19T13:20:00+02:00",
          "2025-08-19T13:25:00+02:00",
          "2025-08-19T13:30:00+02:00",
          "2025-08-19T13:35:00+02:00",
          "2025-08-19T13:40:00+02:00",
          "2025-08-19T13:45:00+02:00",
          "2025-08-19T13:50:00+02:00",
          "2025-08-19T13:55:00+02:00",
          "2025-08-19T14:00:00+02:00",
          "2025-08-19T14:05:00+02:00",
          "2025-08-19T14:10:00+02:00",
          "2025-08-19T14:15:00+02:00",
          "2025-08-19T14:20:00+02:00",
          "2025-08-19T14:25:00+02:00",
          "2025-08-19T14:30:00+02:00",
          "2025-08-19T14:35:00+02:00",
          "2025-08-19T14:40:00+02:00",
          "2025-08-19T14:45:00+02:00",
          "2025-08-19T14:50:00+02:00",
          "2025-08-19T14:55:00+02:00",
          "2025-08-19T15:00:00+02:00",
          "2025-08-19T15:05:00+02:00",
          "2025-08-19T15:10:00+02:00",
          "2025-08-19T15:15:00+02:00",
          "2025-08-19T15:20:00+02:00",
          "2025-08-19T15:25:00+02:00",
          "2025-08-19T15:30:00+02:00",
          "2025-08-19T15:35:00+02:00",
          "2025-08-19T15:40:00+02:00",
          "2025-08-19T15:45:00+02:00",
          "2025-08-19T15:50:00+02:00",
          "2025-08-19T15:55:00+02:00",
          "2025-08-19T16:00:00+02:00",
          "2025-08-19T16:05:00+02:00",
          "2025-08-19T16:10:00+02:00",
          "2025-08-19T16:15:00+02:00",
          "2025-08-19T16:20:00+02:00",
          "2025-08-19T16:25:00+02:00",
          "2025-08-19T16:30:00+02:00",
          "2025-08-19T16:35:00+02:00",
          "2025-08-19T16:40:00+02:00",
          "2025-08-19T16:45:00+02:00",
          "2025-08-19T16:50:00+02:00",
          "2025-08-19T16:55:00+02:00",
          "2025-08-19T17:00:00+02:00",
          "2025-08-19T17:05:00+02:00",
          "2025-08-19T17:10:00+02:00",
          "2025-08-19T17:15:00+02:00",
          "2025-08-19T17:20:00+02:00",
          "2025-08-19T17:25:00+02:00",
          "2025-08-19T17:30:00+02:00",
          "2025-08-19T17:35:00+02:00",
          "2025-08-19T17:40:00+02:00",
          "2025-08-19T17:45:00+02:00",
          "2025-08-19T17:50:00+02:00",
          "2025-08-19T17:55:00+02:00",
          "2025-08-19T18:00:00+02:00",
          "2025-08-19T18:05:00+02:00",
          "2025-08-19T18:10:00+02:00",
          "2025-08-19T18:15:00+02:00",
          "2025-08-19T18:20:00+02:00",
          "2025-08-19T18:25:00+02:00",
          "2025-08-19T18:30:00+02:00",
          "2025-08-19T18:35:00+02:00",
          "2025-08-19T18:40:00+02:00",
          "2025-08-19T18:45:00+02:00",
          "2025-08-19T18:50:00+02:00",
          "2025-08-19T18:55:00+02:00",
          "2025-08-19T19:00:00+02:00",
          "2025-08-19T19:05:00+02:00",
          "2025-08-19T19:10:00+02:00",
          "2025-08-19T19:15:00+02:00",
          "2025-08-19T19:20:00+02:00",
          "2025-08-19T19:25:00+02:00",
          "2025-08-19T19:30:00+02:00",
          "2025-08-19T19:35:00+02:00",
          "2025-08-19T19:40:00+02:00",
          "2025-08-19T19:45:00+02:00",
          "2025-08-19T19:50:00+02:00",
          "2025-08-19T19:55:00+02:00",
          "2025-08-19T20:00:00+02:00",
          "2025-08-19T20:05:00+02:00",
          "2025-08-19T20:10:00+02:00",
          "2025-08-19T20:15:00+02:00",
          "2025-08-19T20:20:00+02:00",
          "2025-08-19T20:25:00+02:00",
          "2025-08-19T20:30:00+02:00",
          "2025-08-19T20:35:00+02:00",
          "2025-08-19T20:40:00+02:00",
          "2025-08-19T20:45:00+02:00",
          "2025-08-19T20:50:00+02:00",
          "2025-08-19T20:55:00+02:00",
          "2025-08-19T21:00:00+02:00",
          "2025-08-19T21:05:00+02:00",
          "2025-08-19T21:10:00+02:00",
          "2025-08-19T21:15:00+02:00",
          "2025-08-19T21:20:00+02:00",
          "2025-08-19T21:25:00+02:00",
          "2025-08-19T21:30:00+02:00",
          "2025-08-19T21:35:00+02:00",
          "2025-08-19T21:40:00+02:00",
          "2025-08-19T21:45:00+02:00",
          "2025-08-19T21:50:00+02:00",
          "2025-08-19T21:55:00+02:00",
          "2025-08-19T22:00:00+02:00",
          "2025-08-19T22:05:00+02:00",
          "2025-08-19T22:10:00+02:00",
          "2025-08-19T22:15:00+02:00",
          "2025-08-19T22:20:00+02:00",
          "2025-08-19T22:25:00+02:00",
          "2025-08-19T22:30:00+02:00",
          "2025-08-19T22:35:00+02:00",
          "2025-08-19T22:40:00+02:00",
          "2025-08-19T22:45:00+02:00",
          "2025-08-19T22:50:00+02:00",
          "2025-08-19T22:55:00+02:00",
          "2025-08-20T01:55:00+02:00",
          "2025-08-20T02:00:00+02:00",
          "2025-08-20T02:05:00+02:00",
          "2025-08-20T02:10:00+02:00",
          "2025-08-20T02:15:00+02:00",
          "2025-08-20T02:20:00+02:00",
          "2025-08-20T02:25:00+02:00",
          "2025-08-20T02:30:00+02:00",
          "2025-08-20T02:35:00+02:00",
          "2025-08-20T02:40:00+02:00",
          "2025-08-20T02:45:00+02:00",
          "2025-08-20T02:50:00+02:00",
          "2025-08-20T02:55:00+02:00",
          "2025-08-20T03:00:00+02:00",
          "2025-08-20T03:05:00+02:00",
          "2025-08-20T03:10:00+02:00",
          "2025-08-20T03:15:00+02:00",
          "2025-08-20T03:20:00+02:00",
          "2025-08-20T03:25:00+02:00",
          "2025-08-20T03:30:00+02:00",
          "2025-08-20T03:35:00+02:00",
          "2025-08-20T03:40:00+02:00",
          "2025-08-20T03:45:00+02:00",
          "2025-08-20T03:50:00+02:00",
          "2025-08-20T03:55:00+02:00",
          "2025-08-20T04:00:00+02:00",
          "2025-08-20T04:05:00+02:00",
          "2025-08-20T04:10:00+02:00",
          "2025-08-20T04:15:00+02:00",
          "2025-08-20T04:20:00+02:00",
          "2025-08-20T04:25:00+02:00",
          "2025-08-20T04:30:00+02:00",
          "2025-08-20T04:35:00+02:00",
          "2025-08-20T04:40:00+02:00",
          "2025-08-20T04:45:00+02:00",
          "2025-08-20T04:50:00+02:00",
          "2025-08-20T04:55:00+02:00",
          "2025-08-20T05:00:00+02:00",
          "2025-08-20T05:05:00+02:00",
          "2025-08-20T05:10:00+02:00",
          "2025-08-20T05:15:00+02:00",
          "2025-08-20T05:20:00+02:00",
          "2025-08-20T05:25:00+02:00",
          "2025-08-20T05:30:00+02:00",
          "2025-08-20T05:35:00+02:00",
          "2025-08-20T05:40:00+02:00",
          "2025-08-20T05:45:00+02:00",
          "2025-08-20T05:50:00+02:00",
          "2025-08-20T05:55:00+02:00",
          "2025-08-20T06:00:00+02:00",
          "2025-08-20T06:05:00+02:00",
          "2025-08-20T06:10:00+02:00",
          "2025-08-20T06:15:00+02:00",
          "2025-08-20T06:20:00+02:00",
          "2025-08-20T06:25:00+02:00",
          "2025-08-20T06:30:00+02:00",
          "2025-08-20T06:35:00+02:00",
          "2025-08-20T06:40:00+02:00",
          "2025-08-20T06:45:00+02:00",
          "2025-08-20T06:50:00+02:00",
          "2025-08-20T06:55:00+02:00",
          "2025-08-20T07:00:00+02:00",
          "2025-08-20T07:05:00+02:00",
          "2025-08-20T07:10:00+02:00",
          "2025-08-20T07:15:00+02:00",
          "2025-08-20T07:20:00+02:00",
          "2025-08-20T07:25:00+02:00",
          "2025-08-20T07:30:00+02:00",
          "2025-08-20T07:35:00+02:00",
          "2025-08-20T07:40:00+02:00",
          "2025-08-20T07:45:00+02:00",
          "2025-08-20T07:50:00+02:00",
          "2025-08-20T07:55:00+02:00",
          "2025-08-20T08:00:00+02:00",
          "2025-08-20T08:05:00+02:00",
          "2025-08-20T08:10:00+02:00",
          "2025-08-20T08:15:00+02:00",
          "2025-08-20T08:20:00+02:00",
          "2025-08-20T08:25:00+02:00",
          "2025-08-20T08:30:00+02:00",
          "2025-08-20T08:35:00+02:00",
          "2025-08-20T08:40:00+02:00",
          "2025-08-20T08:45:00+02:00",
          "2025-08-20T08:50:00+02:00",
          "2025-08-20T08:55:00+02:00",
          "2025-08-20T09:00:00+02:00",
          "2025-08-20T09:05:00+02:00",
          "2025-08-20T09:10:00+02:00",
          "2025-08-20T09:15:00+02:00",
          "2025-08-20T09:20:00+02:00",
          "2025-08-20T09:25:00+02:00",
          "2025-08-20T09:30:00+02:00",
          "2025-08-20T09:35:00+02:00",
          "2025-08-20T09:40:00+02:00",
          "2025-08-20T09:45:00+02:00",
          "2025-08-20T09:50:00+02:00",
          "2025-08-20T09:55:00+02:00",
          "2025-08-20T10:00:00+02:00",
          "2025-08-20T10:05:00+02:00",
          "2025-08-20T10:10:00+02:00",
          "2025-08-20T10:15:00+02:00",
          "2025-08-20T10:20:00+02:00",
          "2025-08-20T10:25:00+02:00",
          "2025-08-20T10:30:00+02:00",
          "2025-08-20T10:35:00+02:00",
          "2025-08-20T10:40:00+02:00",
          "2025-08-20T10:45:00+02:00",
          "2025-08-20T10:50:00+02:00",
          "2025-08-20T10:55:00+02:00",
          "2025-08-20T11:00:00+02:00",
          "2025-08-20T11:05:00+02:00",
          "2025-08-20T11:10:00+02:00",
          "2025-08-20T11:15:00+02:00",
          "2025-08-20T11:20:00+02:00",
          "2025-08-20T11:25:00+02:00",
          "2025-08-20T11:30:00+02:00",
          "2025-08-20T11:35:00+02:00",
          "2025-08-20T11:40:00+02:00",
          "2025-08-20T11:45:00+02:00",
          "2025-08-20T11:50:00+02:00",
          "2025-08-20T11:55:00+02:00",
          "2025-08-20T12:00:00+02:00",
          "2025-08-20T12:05:00+02:00",
          "2025-08-20T12:10:00+02:00",
          "2025-08-20T12:15:00+02:00",
          "2025-08-20T12:20:00+02:00",
          "2025-08-20T12:25:00+02:00",
          "2025-08-20T12:30:00+02:00",
          "2025-08-20T12:35:00+02:00",
          "2025-08-20T12:40:00+02:00",
          "2025-08-20T12:45:00+02:00",
          "2025-08-20T12:50:00+02:00",
          "2025-08-20T12:55:00+02:00",
          "2025-08-20T13:00:00+02:00",
          "2025-08-20T13:05:00+02:00"
         ],
         "y": {
          "bdata": "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",
          "dtype": "f8"
         }
        },
        {
         "line": {
          "color": "green",
          "width": 10
         },
         "mode": "lines",
         "name": "BullSteepener",
         "showlegend": true,
         "type": "scatter",
         "x": [
          null
         ],
         "y": [
          null
         ]
        },
        {
         "line": {
          "color": "red",
          "width": 10
         },
         "mode": "lines",
         "name": "BearSteepener",
         "showlegend": true,
         "type": "scatter",
         "x": [
          null
         ],
         "y": [
          null
         ]
        },
        {
         "line": {
          "color": "deepskyblue",
          "width": 10
         },
         "mode": "lines",
         "name": "BullFlattener",
         "showlegend": true,
         "type": "scatter",
         "x": [
          null
         ],
         "y": [
          null
         ]
        },
        {
         "line": {
          "color": "orange",
          "width": 10
         },
         "mode": "lines",
         "name": "BearFlattener",
         "showlegend": true,
         "type": "scatter",
         "x": [
          null
         ],
         "y": [
          null
         ]
        },
        {
         "line": {
          "color": "violet",
          "width": 10
         },
         "mode": "lines",
         "name": "TwistFlattener",
         "showlegend": true,
         "type": "scatter",
         "x": [
          null
         ],
         "y": [
          null
         ]
        },
        {
         "line": {
          "color": "gold",
          "width": 10
         },
         "mode": "lines",
         "name": "TwistSteepener",
         "showlegend": true,
         "type": "scatter",
         "x": [
          null
         ],
         "y": [
          null
         ]
        },
        {
         "line": {
          "color": "grey",
          "width": 10
         },
         "mode": "lines",
         "name": "Other",
         "showlegend": true,
         "type": "scatter",
         "x": [
          null
         ],
         "y": [
          null
         ]
        }
       ],
       "layout": {
        "hovermode": "x unified",
        "legend": {
         "bgcolor": "rgba(0,0,0,0)",
         "font": {
          "color": "white",
          "size": 10
         },
         "orientation": "v",
         "x": 0.01,
         "xanchor": "left",
         "y": 1,
         "yanchor": "top"
        },
        "margin": {
         "b": 40,
         "l": 60,
         "r": 20,
         "t": 60
        },
        "paper_bgcolor": "black",
        "plot_bgcolor": "black",
        "template": {
         "data": {
          "bar": [
           {
            "error_x": {
             "color": "#2a3f5f"
            },
            "error_y": {
             "color": "#2a3f5f"
            },
            "marker": {
             "line": {
              "color": "#E5ECF6",
              "width": 0.5
             },
             "pattern": {
              "fillmode": "overlay",
              "size": 10,
              "solidity": 0.2
             }
            },
            "type": "bar"
           }
          ],
          "barpolar": [
           {
            "marker": {
             "line": {
              "color": "#E5ECF6",
              "width": 0.5
             },
             "pattern": {
              "fillmode": "overlay",
              "size": 10,
              "solidity": 0.2
             }
            },
            "type": "barpolar"
           }
          ],
          "carpet": [
           {
            "aaxis": {
             "endlinecolor": "#2a3f5f",
             "gridcolor": "white",
             "linecolor": "white",
             "minorgridcolor": "white",
             "startlinecolor": "#2a3f5f"
            },
            "baxis": {
             "endlinecolor": "#2a3f5f",
             "gridcolor": "white",
             "linecolor": "white",
             "minorgridcolor": "white",
             "startlinecolor": "#2a3f5f"
            },
            "type": "carpet"
           }
          ],
          "choropleth": [
           {
            "colorbar": {
             "outlinewidth": 0,
             "ticks": ""
            },
            "type": "choropleth"
           }
          ],
          "contour": [
           {
            "colorbar": {
             "outlinewidth": 0,
             "ticks": ""
            },
            "colorscale": [
             [
              0,
              "#0d0887"
             ],
             [
              0.1111111111111111,
              "#46039f"
             ],
             [
              0.2222222222222222,
              "#7201a8"
             ],
             [
              0.3333333333333333,
              "#9c179e"
             ],
             [
              0.4444444444444444,
              "#bd3786"
             ],
             [
              0.5555555555555556,
              "#d8576b"
             ],
             [
              0.6666666666666666,
              "#ed7953"
             ],
             [
              0.7777777777777778,
              "#fb9f3a"
             ],
             [
              0.8888888888888888,
              "#fdca26"
             ],
             [
              1,
              "#f0f921"
             ]
            ],
            "type": "contour"
           }
          ],
          "contourcarpet": [
           {
            "colorbar": {
             "outlinewidth": 0,
             "ticks": ""
            },
            "type": "contourcarpet"
           }
          ],
          "heatmap": [
           {
            "colorbar": {
             "outlinewidth": 0,
             "ticks": ""
            },
            "colorscale": [
             [
              0,
              "#0d0887"
             ],
             [
              0.1111111111111111,
              "#46039f"
             ],
             [
              0.2222222222222222,
              "#7201a8"
             ],
             [
              0.3333333333333333,
              "#9c179e"
             ],
             [
              0.4444444444444444,
              "#bd3786"
             ],
             [
              0.5555555555555556,
              "#d8576b"
             ],
             [
              0.6666666666666666,
              "#ed7953"
             ],
             [
              0.7777777777777778,
              "#fb9f3a"
             ],
             [
              0.8888888888888888,
              "#fdca26"
             ],
             [
              1,
              "#f0f921"
             ]
            ],
            "type": "heatmap"
           }
          ],
          "histogram": [
           {
            "marker": {
             "pattern": {
              "fillmode": "overlay",
              "size": 10,
              "solidity": 0.2
             }
            },
            "type": "histogram"
           }
          ],
          "histogram2d": [
           {
            "colorbar": {
             "outlinewidth": 0,
             "ticks": ""
            },
            "colorscale": [
             [
              0,
              "#0d0887"
             ],
             [
              0.1111111111111111,
              "#46039f"
             ],
             [
              0.2222222222222222,
              "#7201a8"
             ],
             [
              0.3333333333333333,
              "#9c179e"
             ],
             [
              0.4444444444444444,
              "#bd3786"
             ],
             [
              0.5555555555555556,
              "#d8576b"
             ],
             [
              0.6666666666666666,
              "#ed7953"
             ],
             [
              0.7777777777777778,
              "#fb9f3a"
             ],
             [
              0.8888888888888888,
              "#fdca26"
             ],
             [
              1,
              "#f0f921"
             ]
            ],
            "type": "histogram2d"
           }
          ],
          "histogram2dcontour": [
           {
            "colorbar": {
             "outlinewidth": 0,
             "ticks": ""
            },
            "colorscale": [
             [
              0,
              "#0d0887"
             ],
             [
              0.1111111111111111,
              "#46039f"
             ],
             [
              0.2222222222222222,
              "#7201a8"
             ],
             [
              0.3333333333333333,
              "#9c179e"
             ],
             [
              0.4444444444444444,
              "#bd3786"
             ],
             [
              0.5555555555555556,
              "#d8576b"
             ],
             [
              0.6666666666666666,
              "#ed7953"
             ],
             [
              0.7777777777777778,
              "#fb9f3a"
             ],
             [
              0.8888888888888888,
              "#fdca26"
             ],
             [
              1,
              "#f0f921"
             ]
            ],
            "type": "histogram2dcontour"
           }
          ],
          "mesh3d": [
           {
            "colorbar": {
             "outlinewidth": 0,
             "ticks": ""
            },
            "type": "mesh3d"
           }
          ],
          "parcoords": [
           {
            "line": {
             "colorbar": {
              "outlinewidth": 0,
              "ticks": ""
             }
            },
            "type": "parcoords"
           }
          ],
          "pie": [
           {
            "automargin": true,
            "type": "pie"
           }
          ],
          "scatter": [
           {
            "fillpattern": {
             "fillmode": "overlay",
             "size": 10,
             "solidity": 0.2
            },
            "type": "scatter"
           }
          ],
          "scatter3d": [
           {
            "line": {
             "colorbar": {
              "outlinewidth": 0,
              "ticks": ""
             }
            },
            "marker": {
             "colorbar": {
              "outlinewidth": 0,
              "ticks": ""
             }
            },
            "type": "scatter3d"
           }
          ],
          "scattercarpet": [
           {
            "marker": {
             "colorbar": {
              "outlinewidth": 0,
              "ticks": ""
             }
            },
            "type": "scattercarpet"
           }
          ],
          "scattergeo": [
           {
            "marker": {
             "colorbar": {
              "outlinewidth": 0,
              "ticks": ""
             }
            },
            "type": "scattergeo"
           }
          ],
          "scattergl": [
           {
            "marker": {
             "colorbar": {
              "outlinewidth": 0,
              "ticks": ""
             }
            },
            "type": "scattergl"
           }
          ],
          "scattermap": [
           {
            "marker": {
             "colorbar": {
              "outlinewidth": 0,
              "ticks": ""
             }
            },
            "type": "scattermap"
           }
          ],
          "scattermapbox": [
           {
            "marker": {
             "colorbar": {
              "outlinewidth": 0,
              "ticks": ""
             }
            },
            "type": "scattermapbox"
           }
          ],
          "scatterpolar": [
           {
            "marker": {
             "colorbar": {
              "outlinewidth": 0,
              "ticks": ""
             }
            },
            "type": "scatterpolar"
           }
          ],
          "scatterpolargl": [
           {
            "marker": {
             "colorbar": {
              "outlinewidth": 0,
              "ticks": ""
             }
            },
            "type": "scatterpolargl"
           }
          ],
          "scatterternary": [
           {
            "marker": {
             "colorbar": {
              "outlinewidth": 0,
              "ticks": ""
             }
            },
            "type": "scatterternary"
           }
          ],
          "surface": [
           {
            "colorbar": {
             "outlinewidth": 0,
             "ticks": ""
            },
            "colorscale": [
             [
              0,
              "#0d0887"
             ],
             [
              0.1111111111111111,
              "#46039f"
             ],
             [
              0.2222222222222222,
              "#7201a8"
             ],
             [
              0.3333333333333333,
              "#9c179e"
             ],
             [
              0.4444444444444444,
              "#bd3786"
             ],
             [
              0.5555555555555556,
              "#d8576b"
             ],
             [
              0.6666666666666666,
              "#ed7953"
             ],
             [
              0.7777777777777778,
              "#fb9f3a"
             ],
             [
              0.8888888888888888,
              "#fdca26"
             ],
             [
              1,
              "#f0f921"
             ]
            ],
            "type": "surface"
           }
          ],
          "table": [
           {
            "cells": {
             "fill": {
              "color": "#EBF0F8"
             },
             "line": {
              "color": "white"
             }
            },
            "header": {
             "fill": {
              "color": "#C8D4E3"
             },
             "line": {
              "color": "white"
             }
            },
            "type": "table"
           }
          ]
         },
         "layout": {
          "annotationdefaults": {
           "arrowcolor": "#2a3f5f",
           "arrowhead": 0,
           "arrowwidth": 1
          },
          "autotypenumbers": "strict",
          "coloraxis": {
           "colorbar": {
            "outlinewidth": 0,
            "ticks": ""
           }
          },
          "colorscale": {
           "diverging": [
            [
             0,
             "#8e0152"
            ],
            [
             0.1,
             "#c51b7d"
            ],
            [
             0.2,
             "#de77ae"
            ],
            [
             0.3,
             "#f1b6da"
            ],
            [
             0.4,
             "#fde0ef"
            ],
            [
             0.5,
             "#f7f7f7"
            ],
            [
             0.6,
             "#e6f5d0"
            ],
            [
             0.7,
             "#b8e186"
            ],
            [
             0.8,
             "#7fbc41"
            ],
            [
             0.9,
             "#4d9221"
            ],
            [
             1,
             "#276419"
            ]
           ],
           "sequential": [
            [
             0,
             "#0d0887"
            ],
            [
             0.1111111111111111,
             "#46039f"
            ],
            [
             0.2222222222222222,
             "#7201a8"
            ],
            [
             0.3333333333333333,
             "#9c179e"
            ],
            [
             0.4444444444444444,
             "#bd3786"
            ],
            [
             0.5555555555555556,
             "#d8576b"
            ],
            [
             0.6666666666666666,
             "#ed7953"
            ],
            [
             0.7777777777777778,
             "#fb9f3a"
            ],
            [
             0.8888888888888888,
             "#fdca26"
            ],
            [
             1,
             "#f0f921"
            ]
           ],
           "sequentialminus": [
            [
             0,
             "#0d0887"
            ],
            [
             0.1111111111111111,
             "#46039f"
            ],
            [
             0.2222222222222222,
             "#7201a8"
            ],
            [
             0.3333333333333333,
             "#9c179e"
            ],
            [
             0.4444444444444444,
             "#bd3786"
            ],
            [
             0.5555555555555556,
             "#d8576b"
            ],
            [
             0.6666666666666666,
             "#ed7953"
            ],
            [
             0.7777777777777778,
             "#fb9f3a"
            ],
            [
             0.8888888888888888,
             "#fdca26"
            ],
            [
             1,
             "#f0f921"
            ]
           ]
          },
          "colorway": [
           "#636efa",
           "#EF553B",
           "#00cc96",
           "#ab63fa",
           "#FFA15A",
           "#19d3f3",
           "#FF6692",
           "#B6E880",
           "#FF97FF",
           "#FECB52"
          ],
          "font": {
           "color": "#2a3f5f"
          },
          "geo": {
           "bgcolor": "white",
           "lakecolor": "white",
           "landcolor": "#E5ECF6",
           "showlakes": true,
           "showland": true,
           "subunitcolor": "white"
          },
          "hoverlabel": {
           "align": "left"
          },
          "hovermode": "closest",
          "mapbox": {
           "style": "light"
          },
          "paper_bgcolor": "white",
          "plot_bgcolor": "#E5ECF6",
          "polar": {
           "angularaxis": {
            "gridcolor": "white",
            "linecolor": "white",
            "ticks": ""
           },
           "bgcolor": "#E5ECF6",
           "radialaxis": {
            "gridcolor": "white",
            "linecolor": "white",
            "ticks": ""
           }
          },
          "scene": {
           "xaxis": {
            "backgroundcolor": "#E5ECF6",
            "gridcolor": "white",
            "gridwidth": 2,
            "linecolor": "white",
            "showbackground": true,
            "ticks": "",
            "zerolinecolor": "white"
           },
           "yaxis": {
            "backgroundcolor": "#E5ECF6",
            "gridcolor": "white",
            "gridwidth": 2,
            "linecolor": "white",
            "showbackground": true,
            "ticks": "",
            "zerolinecolor": "white"
           },
           "zaxis": {
            "backgroundcolor": "#E5ECF6",
            "gridcolor": "white",
            "gridwidth": 2,
            "linecolor": "white",
            "showbackground": true,
            "ticks": "",
            "zerolinecolor": "white"
           }
          },
          "shapedefaults": {
           "line": {
            "color": "#2a3f5f"
           }
          },
          "ternary": {
           "aaxis": {
            "gridcolor": "white",
            "linecolor": "white",
            "ticks": ""
           },
           "baxis": {
            "gridcolor": "white",
            "linecolor": "white",
            "ticks": ""
           },
           "bgcolor": "#E5ECF6",
           "caxis": {
            "gridcolor": "white",
            "linecolor": "white",
            "ticks": ""
           }
          },
          "title": {
           "x": 0.05
          },
          "xaxis": {
           "automargin": true,
           "gridcolor": "white",
           "linecolor": "white",
           "ticks": "",
           "title": {
            "standoff": 15
           },
           "zerolinecolor": "white",
           "zerolinewidth": 2
          },
          "yaxis": {
           "automargin": true,
           "gridcolor": "white",
           "linecolor": "white",
           "ticks": "",
           "title": {
            "standoff": 15
           },
           "zerolinecolor": "white",
           "zerolinewidth": 2
          }
         }
        },
        "title": {
         "font": {
          "color": "white",
          "size": 16
         },
         "text": "UST 2s10s Yield Curve (30-min lookback)",
         "x": 0.5,
         "xanchor": "center"
        },
        "xaxis": {
         "color": "white",
         "showgrid": false,
         "zeroline": false
        },
        "yaxis": {
         "color": "white",
         "range": [
          0.5327000000000004,
          0.5902000000000001
         ],
         "showgrid": false,
         "zeroline": false
        }
       }
      }
     },
     "metadata": {},
     "output_type": "display_data"
    }
   ],
   "source": [
    "plot_yield_curve_regimes_plotly(classify_regime(UST_combined), \"UST\")    "
   ]
  },
  {
   "cell_type": "code",
   "execution_count": 74,
   "id": "73c75e94",
   "metadata": {},
   "outputs": [
    {
     "name": "stdout",
     "output_type": "stream",
     "text": [
      "Fetching 2Y Bund data...\n",
      "Fetching 10Y bund data...\n"
     ]
    }
   ],
   "source": [
    "#Pull intraday data\n",
    "print(\"Fetching 2Y Bund data...\")\n",
    "Bund_2y = get_intraday_data(\"GDBR2 Index\", start_datetime, end_datetime)\n",
    "print(\"Fetching 10Y bund data...\")\n",
    "Bund_10y = get_intraday_data(\"GDBR10 Index\", start_datetime, end_datetime)\n",
    "\n",
    "#Merge dataframes on time\n",
    "Bund_combined = pd.merge(Bund_2y[['time', 'close']], Bund_10y[['time', 'close']], \n",
    "                      on='time', suffixes=('_2y', '_10y'))\n",
    "\n",
    "#Set time as index\n",
    "Bund_combined['time'] = pd.to_datetime(Bund_combined['time'], utc=True)\n",
    "Bund_combined.set_index('time', inplace=True)\n",
    "Bund_combined.index = Bund_combined.index.tz_convert('Europe/Zurich')"
   ]
  },
  {
   "cell_type": "code",
   "execution_count": 75,
   "id": "8f460e93",
   "metadata": {},
   "outputs": [
    {
     "data": {
      "application/vnd.plotly.v1+json": {
       "config": {
        "plotlyServerURL": "https://plot.ly"
       },
       "data": [
        {
         "fill": "tozeroy",
         "fillcolor": "grey",
         "line": {
          "color": "grey",
          "width": 0.5
         },
         "mode": "lines",
         "name": "Other",
         "opacity": 0.4,
         "showlegend": false,
         "type": "scatter",
         "x": [
          "2025-08-18T08:25:00+02:00",
          "2025-08-18T08:30:00+02:00"
         ],
         "y": [
          0.812,
          0.812
         ]
        },
        {
         "fill": "tozeroy",
         "fillcolor": "grey",
         "line": {
          "color": "grey",
          "width": 0.5
         },
         "mode": "lines",
         "name": "Other",
         "opacity": 0.4,
         "showlegend": false,
         "type": "scatter",
         "x": [
          "2025-08-18T08:30:00+02:00",
          "2025-08-18T08:35:00+02:00"
         ],
         "y": [
          0.812,
          0.8089999999999999
         ]
        },
        {
         "fill": "tozeroy",
         "fillcolor": "grey",
         "line": {
          "color": "grey",
          "width": 0.5
         },
         "mode": "lines",
         "name": "Other",
         "opacity": 0.4,
         "showlegend": false,
         "type": "scatter",
         "x": [
          "2025-08-18T08:35:00+02:00",
          "2025-08-18T08:40:00+02:00"
         ],
         "y": [
          0.8089999999999999,
          0.8119999999999998
         ]
        },
        {
         "fill": "tozeroy",
         "fillcolor": "grey",
         "line": {
          "color": "grey",
          "width": 0.5
         },
         "mode": "lines",
         "name": "Other",
         "opacity": 0.4,
         "showlegend": false,
         "type": "scatter",
         "x": [
          "2025-08-18T08:40:00+02:00",
          "2025-08-18T08:45:00+02:00"
         ],
         "y": [
          0.8119999999999998,
          0.8070000000000002
         ]
        },
        {
         "fill": "tozeroy",
         "fillcolor": "grey",
         "line": {
          "color": "grey",
          "width": 0.5
         },
         "mode": "lines",
         "name": "Other",
         "opacity": 0.4,
         "showlegend": false,
         "type": "scatter",
         "x": [
          "2025-08-18T08:45:00+02:00",
          "2025-08-18T08:50:00+02:00"
         ],
         "y": [
          0.8070000000000002,
          0.8049999999999999
         ]
        },
        {
         "fill": "tozeroy",
         "fillcolor": "violet",
         "line": {
          "color": "violet",
          "width": 0.5
         },
         "mode": "lines",
         "name": "TwistFlattener",
         "opacity": 0.4,
         "showlegend": false,
         "type": "scatter",
         "x": [
          "2025-08-18T08:50:00+02:00",
          "2025-08-18T08:55:00+02:00"
         ],
         "y": [
          0.8049999999999999,
          0.8049999999999999
         ]
        },
        {
         "fill": "tozeroy",
         "fillcolor": "deepskyblue",
         "line": {
          "color": "deepskyblue",
          "width": 0.5
         },
         "mode": "lines",
         "name": "BullFlattener",
         "opacity": 0.4,
         "showlegend": false,
         "type": "scatter",
         "x": [
          "2025-08-18T08:55:00+02:00",
          "2025-08-18T09:00:00+02:00"
         ],
         "y": [
          0.8049999999999999,
          0.8029999999999999
         ]
        },
        {
         "fill": "tozeroy",
         "fillcolor": "deepskyblue",
         "line": {
          "color": "deepskyblue",
          "width": 0.5
         },
         "mode": "lines",
         "name": "BullFlattener",
         "opacity": 0.4,
         "showlegend": false,
         "type": "scatter",
         "x": [
          "2025-08-18T09:00:00+02:00",
          "2025-08-18T09:05:00+02:00"
         ],
         "y": [
          0.8029999999999999,
          0.8010000000000002
         ]
        },
        {
         "fill": "tozeroy",
         "fillcolor": "deepskyblue",
         "line": {
          "color": "deepskyblue",
          "width": 0.5
         },
         "mode": "lines",
         "name": "BullFlattener",
         "opacity": 0.4,
         "showlegend": false,
         "type": "scatter",
         "x": [
          "2025-08-18T09:05:00+02:00",
          "2025-08-18T09:10:00+02:00"
         ],
         "y": [
          0.8010000000000002,
          0.7990000000000002
         ]
        },
        {
         "fill": "tozeroy",
         "fillcolor": "deepskyblue",
         "line": {
          "color": "deepskyblue",
          "width": 0.5
         },
         "mode": "lines",
         "name": "BullFlattener",
         "opacity": 0.4,
         "showlegend": false,
         "type": "scatter",
         "x": [
          "2025-08-18T09:10:00+02:00",
          "2025-08-18T09:15:00+02:00"
         ],
         "y": [
          0.7990000000000002,
          0.7969999999999999
         ]
        },
        {
         "fill": "tozeroy",
         "fillcolor": "deepskyblue",
         "line": {
          "color": "deepskyblue",
          "width": 0.5
         },
         "mode": "lines",
         "name": "BullFlattener",
         "opacity": 0.4,
         "showlegend": false,
         "type": "scatter",
         "x": [
          "2025-08-18T09:15:00+02:00",
          "2025-08-18T09:20:00+02:00"
         ],
         "y": [
          0.7969999999999999,
          0.7990000000000002
         ]
        },
        {
         "fill": "tozeroy",
         "fillcolor": "deepskyblue",
         "line": {
          "color": "deepskyblue",
          "width": 0.5
         },
         "mode": "lines",
         "name": "BullFlattener",
         "opacity": 0.4,
         "showlegend": false,
         "type": "scatter",
         "x": [
          "2025-08-18T09:20:00+02:00",
          "2025-08-18T09:25:00+02:00"
         ],
         "y": [
          0.7990000000000002,
          0.8009999999999999
         ]
        },
        {
         "fill": "tozeroy",
         "fillcolor": "deepskyblue",
         "line": {
          "color": "deepskyblue",
          "width": 0.5
         },
         "mode": "lines",
         "name": "BullFlattener",
         "opacity": 0.4,
         "showlegend": false,
         "type": "scatter",
         "x": [
          "2025-08-18T09:25:00+02:00",
          "2025-08-18T09:30:00+02:00"
         ],
         "y": [
          0.8009999999999999,
          0.7999999999999998
         ]
        },
        {
         "fill": "tozeroy",
         "fillcolor": "deepskyblue",
         "line": {
          "color": "deepskyblue",
          "width": 0.5
         },
         "mode": "lines",
         "name": "BullFlattener",
         "opacity": 0.4,
         "showlegend": false,
         "type": "scatter",
         "x": [
          "2025-08-18T09:30:00+02:00",
          "2025-08-18T09:35:00+02:00"
         ],
         "y": [
          0.7999999999999998,
          0.7999999999999998
         ]
        },
        {
         "fill": "tozeroy",
         "fillcolor": "green",
         "line": {
          "color": "green",
          "width": 0.5
         },
         "mode": "lines",
         "name": "BullSteepener",
         "opacity": 0.4,
         "showlegend": false,
         "type": "scatter",
         "x": [
          "2025-08-18T09:35:00+02:00",
          "2025-08-18T09:40:00+02:00"
         ],
         "y": [
          0.7999999999999998,
          0.7999999999999998
         ]
        },
        {
         "fill": "tozeroy",
         "fillcolor": "deepskyblue",
         "line": {
          "color": "deepskyblue",
          "width": 0.5
         },
         "mode": "lines",
         "name": "BullFlattener",
         "opacity": 0.4,
         "showlegend": false,
         "type": "scatter",
         "x": [
          "2025-08-18T09:40:00+02:00",
          "2025-08-18T09:45:00+02:00"
         ],
         "y": [
          0.7999999999999998,
          0.796
         ]
        },
        {
         "fill": "tozeroy",
         "fillcolor": "deepskyblue",
         "line": {
          "color": "deepskyblue",
          "width": 0.5
         },
         "mode": "lines",
         "name": "BullFlattener",
         "opacity": 0.4,
         "showlegend": false,
         "type": "scatter",
         "x": [
          "2025-08-18T09:45:00+02:00",
          "2025-08-18T09:50:00+02:00"
         ],
         "y": [
          0.796,
          0.794
         ]
        },
        {
         "fill": "tozeroy",
         "fillcolor": "deepskyblue",
         "line": {
          "color": "deepskyblue",
          "width": 0.5
         },
         "mode": "lines",
         "name": "BullFlattener",
         "opacity": 0.4,
         "showlegend": false,
         "type": "scatter",
         "x": [
          "2025-08-18T09:50:00+02:00",
          "2025-08-18T09:55:00+02:00"
         ],
         "y": [
          0.794,
          0.7929999999999999
         ]
        },
        {
         "fill": "tozeroy",
         "fillcolor": "deepskyblue",
         "line": {
          "color": "deepskyblue",
          "width": 0.5
         },
         "mode": "lines",
         "name": "BullFlattener",
         "opacity": 0.4,
         "showlegend": false,
         "type": "scatter",
         "x": [
          "2025-08-18T09:55:00+02:00",
          "2025-08-18T10:00:00+02:00"
         ],
         "y": [
          0.7929999999999999,
          0.794
         ]
        },
        {
         "fill": "tozeroy",
         "fillcolor": "deepskyblue",
         "line": {
          "color": "deepskyblue",
          "width": 0.5
         },
         "mode": "lines",
         "name": "BullFlattener",
         "opacity": 0.4,
         "showlegend": false,
         "type": "scatter",
         "x": [
          "2025-08-18T10:00:00+02:00",
          "2025-08-18T10:05:00+02:00"
         ],
         "y": [
          0.794,
          0.7909999999999999
         ]
        },
        {
         "fill": "tozeroy",
         "fillcolor": "deepskyblue",
         "line": {
          "color": "deepskyblue",
          "width": 0.5
         },
         "mode": "lines",
         "name": "BullFlattener",
         "opacity": 0.4,
         "showlegend": false,
         "type": "scatter",
         "x": [
          "2025-08-18T10:05:00+02:00",
          "2025-08-18T10:10:00+02:00"
         ],
         "y": [
          0.7909999999999999,
          0.7930000000000001
         ]
        },
        {
         "fill": "tozeroy",
         "fillcolor": "deepskyblue",
         "line": {
          "color": "deepskyblue",
          "width": 0.5
         },
         "mode": "lines",
         "name": "BullFlattener",
         "opacity": 0.4,
         "showlegend": false,
         "type": "scatter",
         "x": [
          "2025-08-18T10:10:00+02:00",
          "2025-08-18T10:15:00+02:00"
         ],
         "y": [
          0.7930000000000001,
          0.7930000000000001
         ]
        },
        {
         "fill": "tozeroy",
         "fillcolor": "grey",
         "line": {
          "color": "grey",
          "width": 0.5
         },
         "mode": "lines",
         "name": "Other",
         "opacity": 0.4,
         "showlegend": false,
         "type": "scatter",
         "x": [
          "2025-08-18T10:15:00+02:00",
          "2025-08-18T10:20:00+02:00"
         ],
         "y": [
          0.7930000000000001,
          0.794
         ]
        },
        {
         "fill": "tozeroy",
         "fillcolor": "deepskyblue",
         "line": {
          "color": "deepskyblue",
          "width": 0.5
         },
         "mode": "lines",
         "name": "BullFlattener",
         "opacity": 0.4,
         "showlegend": false,
         "type": "scatter",
         "x": [
          "2025-08-18T10:20:00+02:00",
          "2025-08-18T10:25:00+02:00"
         ],
         "y": [
          0.794,
          0.792
         ]
        },
        {
         "fill": "tozeroy",
         "fillcolor": "orange",
         "line": {
          "color": "orange",
          "width": 0.5
         },
         "mode": "lines",
         "name": "BearFlattener",
         "opacity": 0.4,
         "showlegend": false,
         "type": "scatter",
         "x": [
          "2025-08-18T10:25:00+02:00",
          "2025-08-18T10:30:00+02:00"
         ],
         "y": [
          0.792,
          0.7919999999999998
         ]
        },
        {
         "fill": "tozeroy",
         "fillcolor": "red",
         "line": {
          "color": "red",
          "width": 0.5
         },
         "mode": "lines",
         "name": "BearSteepener",
         "opacity": 0.4,
         "showlegend": false,
         "type": "scatter",
         "x": [
          "2025-08-18T10:30:00+02:00",
          "2025-08-18T10:35:00+02:00"
         ],
         "y": [
          0.7919999999999998,
          0.794
         ]
        },
        {
         "fill": "tozeroy",
         "fillcolor": "grey",
         "line": {
          "color": "grey",
          "width": 0.5
         },
         "mode": "lines",
         "name": "Other",
         "opacity": 0.4,
         "showlegend": false,
         "type": "scatter",
         "x": [
          "2025-08-18T10:35:00+02:00",
          "2025-08-18T10:40:00+02:00"
         ],
         "y": [
          0.794,
          0.7930000000000001
         ]
        },
        {
         "fill": "tozeroy",
         "fillcolor": "orange",
         "line": {
          "color": "orange",
          "width": 0.5
         },
         "mode": "lines",
         "name": "BearFlattener",
         "opacity": 0.4,
         "showlegend": false,
         "type": "scatter",
         "x": [
          "2025-08-18T10:40:00+02:00",
          "2025-08-18T10:45:00+02:00"
         ],
         "y": [
          0.7930000000000001,
          0.7929999999999999
         ]
        },
        {
         "fill": "tozeroy",
         "fillcolor": "red",
         "line": {
          "color": "red",
          "width": 0.5
         },
         "mode": "lines",
         "name": "BearSteepener",
         "opacity": 0.4,
         "showlegend": false,
         "type": "scatter",
         "x": [
          "2025-08-18T10:45:00+02:00",
          "2025-08-18T10:50:00+02:00"
         ],
         "y": [
          0.7929999999999999,
          0.7940000000000003
         ]
        },
        {
         "fill": "tozeroy",
         "fillcolor": "red",
         "line": {
          "color": "red",
          "width": 0.5
         },
         "mode": "lines",
         "name": "BearSteepener",
         "opacity": 0.4,
         "showlegend": false,
         "type": "scatter",
         "x": [
          "2025-08-18T10:50:00+02:00",
          "2025-08-18T10:55:00+02:00"
         ],
         "y": [
          0.7940000000000003,
          0.7940000000000003
         ]
        },
        {
         "fill": "tozeroy",
         "fillcolor": "red",
         "line": {
          "color": "red",
          "width": 0.5
         },
         "mode": "lines",
         "name": "BearSteepener",
         "opacity": 0.4,
         "showlegend": false,
         "type": "scatter",
         "x": [
          "2025-08-18T10:55:00+02:00",
          "2025-08-18T11:00:00+02:00"
         ],
         "y": [
          0.7940000000000003,
          0.792
         ]
        },
        {
         "fill": "tozeroy",
         "fillcolor": "orange",
         "line": {
          "color": "orange",
          "width": 0.5
         },
         "mode": "lines",
         "name": "BearFlattener",
         "opacity": 0.4,
         "showlegend": false,
         "type": "scatter",
         "x": [
          "2025-08-18T11:00:00+02:00",
          "2025-08-18T11:05:00+02:00"
         ],
         "y": [
          0.792,
          0.7930000000000001
         ]
        },
        {
         "fill": "tozeroy",
         "fillcolor": "red",
         "line": {
          "color": "red",
          "width": 0.5
         },
         "mode": "lines",
         "name": "BearSteepener",
         "opacity": 0.4,
         "showlegend": false,
         "type": "scatter",
         "x": [
          "2025-08-18T11:05:00+02:00",
          "2025-08-18T11:10:00+02:00"
         ],
         "y": [
          0.7930000000000001,
          0.794
         ]
        },
        {
         "fill": "tozeroy",
         "fillcolor": "red",
         "line": {
          "color": "red",
          "width": 0.5
         },
         "mode": "lines",
         "name": "BearSteepener",
         "opacity": 0.4,
         "showlegend": false,
         "type": "scatter",
         "x": [
          "2025-08-18T11:10:00+02:00",
          "2025-08-18T11:15:00+02:00"
         ],
         "y": [
          0.794,
          0.7939999999999998
         ]
        },
        {
         "fill": "tozeroy",
         "fillcolor": "orange",
         "line": {
          "color": "orange",
          "width": 0.5
         },
         "mode": "lines",
         "name": "BearFlattener",
         "opacity": 0.4,
         "showlegend": false,
         "type": "scatter",
         "x": [
          "2025-08-18T11:15:00+02:00",
          "2025-08-18T11:20:00+02:00"
         ],
         "y": [
          0.7939999999999998,
          0.7939999999999998
         ]
        },
        {
         "fill": "tozeroy",
         "fillcolor": "red",
         "line": {
          "color": "red",
          "width": 0.5
         },
         "mode": "lines",
         "name": "BearSteepener",
         "opacity": 0.4,
         "showlegend": false,
         "type": "scatter",
         "x": [
          "2025-08-18T11:20:00+02:00",
          "2025-08-18T11:25:00+02:00"
         ],
         "y": [
          0.7939999999999998,
          0.7950000000000002
         ]
        },
        {
         "fill": "tozeroy",
         "fillcolor": "red",
         "line": {
          "color": "red",
          "width": 0.5
         },
         "mode": "lines",
         "name": "BearSteepener",
         "opacity": 0.4,
         "showlegend": false,
         "type": "scatter",
         "x": [
          "2025-08-18T11:25:00+02:00",
          "2025-08-18T11:30:00+02:00"
         ],
         "y": [
          0.7950000000000002,
          0.794
         ]
        },
        {
         "fill": "tozeroy",
         "fillcolor": "red",
         "line": {
          "color": "red",
          "width": 0.5
         },
         "mode": "lines",
         "name": "BearSteepener",
         "opacity": 0.4,
         "showlegend": false,
         "type": "scatter",
         "x": [
          "2025-08-18T11:30:00+02:00",
          "2025-08-18T11:35:00+02:00"
         ],
         "y": [
          0.794,
          0.794
         ]
        },
        {
         "fill": "tozeroy",
         "fillcolor": "red",
         "line": {
          "color": "red",
          "width": 0.5
         },
         "mode": "lines",
         "name": "BearSteepener",
         "opacity": 0.4,
         "showlegend": false,
         "type": "scatter",
         "x": [
          "2025-08-18T11:35:00+02:00",
          "2025-08-18T11:40:00+02:00"
         ],
         "y": [
          0.794,
          0.7949999999999999
         ]
        },
        {
         "fill": "tozeroy",
         "fillcolor": "orange",
         "line": {
          "color": "orange",
          "width": 0.5
         },
         "mode": "lines",
         "name": "BearFlattener",
         "opacity": 0.4,
         "showlegend": false,
         "type": "scatter",
         "x": [
          "2025-08-18T11:40:00+02:00",
          "2025-08-18T11:45:00+02:00"
         ],
         "y": [
          0.7949999999999999,
          0.7929999999999999
         ]
        },
        {
         "fill": "tozeroy",
         "fillcolor": "red",
         "line": {
          "color": "red",
          "width": 0.5
         },
         "mode": "lines",
         "name": "BearSteepener",
         "opacity": 0.4,
         "showlegend": false,
         "type": "scatter",
         "x": [
          "2025-08-18T11:45:00+02:00",
          "2025-08-18T11:50:00+02:00"
         ],
         "y": [
          0.7929999999999999,
          0.796
         ]
        },
        {
         "fill": "tozeroy",
         "fillcolor": "red",
         "line": {
          "color": "red",
          "width": 0.5
         },
         "mode": "lines",
         "name": "BearSteepener",
         "opacity": 0.4,
         "showlegend": false,
         "type": "scatter",
         "x": [
          "2025-08-18T11:50:00+02:00",
          "2025-08-18T11:55:00+02:00"
         ],
         "y": [
          0.796,
          0.796
         ]
        },
        {
         "fill": "tozeroy",
         "fillcolor": "green",
         "line": {
          "color": "green",
          "width": 0.5
         },
         "mode": "lines",
         "name": "BullSteepener",
         "opacity": 0.4,
         "showlegend": false,
         "type": "scatter",
         "x": [
          "2025-08-18T11:55:00+02:00",
          "2025-08-18T12:00:00+02:00"
         ],
         "y": [
          0.796,
          0.7969999999999999
         ]
        },
        {
         "fill": "tozeroy",
         "fillcolor": "red",
         "line": {
          "color": "red",
          "width": 0.5
         },
         "mode": "lines",
         "name": "BearSteepener",
         "opacity": 0.4,
         "showlegend": false,
         "type": "scatter",
         "x": [
          "2025-08-18T12:00:00+02:00",
          "2025-08-18T12:05:00+02:00"
         ],
         "y": [
          0.7969999999999999,
          0.7959999999999998
         ]
        },
        {
         "fill": "tozeroy",
         "fillcolor": "deepskyblue",
         "line": {
          "color": "deepskyblue",
          "width": 0.5
         },
         "mode": "lines",
         "name": "BullFlattener",
         "opacity": 0.4,
         "showlegend": false,
         "type": "scatter",
         "x": [
          "2025-08-18T12:05:00+02:00",
          "2025-08-18T12:10:00+02:00"
         ],
         "y": [
          0.7959999999999998,
          0.7930000000000001
         ]
        },
        {
         "fill": "tozeroy",
         "fillcolor": "red",
         "line": {
          "color": "red",
          "width": 0.5
         },
         "mode": "lines",
         "name": "BearSteepener",
         "opacity": 0.4,
         "showlegend": false,
         "type": "scatter",
         "x": [
          "2025-08-18T12:10:00+02:00",
          "2025-08-18T12:15:00+02:00"
         ],
         "y": [
          0.7930000000000001,
          0.7930000000000001
         ]
        },
        {
         "fill": "tozeroy",
         "fillcolor": "violet",
         "line": {
          "color": "violet",
          "width": 0.5
         },
         "mode": "lines",
         "name": "TwistFlattener",
         "opacity": 0.4,
         "showlegend": false,
         "type": "scatter",
         "x": [
          "2025-08-18T12:15:00+02:00",
          "2025-08-18T12:20:00+02:00"
         ],
         "y": [
          0.7930000000000001,
          0.7920000000000003
         ]
        },
        {
         "fill": "tozeroy",
         "fillcolor": "violet",
         "line": {
          "color": "violet",
          "width": 0.5
         },
         "mode": "lines",
         "name": "TwistFlattener",
         "opacity": 0.4,
         "showlegend": false,
         "type": "scatter",
         "x": [
          "2025-08-18T12:20:00+02:00",
          "2025-08-18T12:25:00+02:00"
         ],
         "y": [
          0.7920000000000003,
          0.794
         ]
        },
        {
         "fill": "tozeroy",
         "fillcolor": "orange",
         "line": {
          "color": "orange",
          "width": 0.5
         },
         "mode": "lines",
         "name": "BearFlattener",
         "opacity": 0.4,
         "showlegend": false,
         "type": "scatter",
         "x": [
          "2025-08-18T12:25:00+02:00",
          "2025-08-18T12:30:00+02:00"
         ],
         "y": [
          0.794,
          0.7919999999999998
         ]
        },
        {
         "fill": "tozeroy",
         "fillcolor": "violet",
         "line": {
          "color": "violet",
          "width": 0.5
         },
         "mode": "lines",
         "name": "TwistFlattener",
         "opacity": 0.4,
         "showlegend": false,
         "type": "scatter",
         "x": [
          "2025-08-18T12:30:00+02:00",
          "2025-08-18T12:35:00+02:00"
         ],
         "y": [
          0.7919999999999998,
          0.792
         ]
        },
        {
         "fill": "tozeroy",
         "fillcolor": "orange",
         "line": {
          "color": "orange",
          "width": 0.5
         },
         "mode": "lines",
         "name": "BearFlattener",
         "opacity": 0.4,
         "showlegend": false,
         "type": "scatter",
         "x": [
          "2025-08-18T12:35:00+02:00",
          "2025-08-18T12:40:00+02:00"
         ],
         "y": [
          0.792,
          0.7929999999999999
         ]
        },
        {
         "fill": "tozeroy",
         "fillcolor": "orange",
         "line": {
          "color": "orange",
          "width": 0.5
         },
         "mode": "lines",
         "name": "BearFlattener",
         "opacity": 0.4,
         "showlegend": false,
         "type": "scatter",
         "x": [
          "2025-08-18T12:40:00+02:00",
          "2025-08-18T12:45:00+02:00"
         ],
         "y": [
          0.7929999999999999,
          0.79
         ]
        },
        {
         "fill": "tozeroy",
         "fillcolor": "orange",
         "line": {
          "color": "orange",
          "width": 0.5
         },
         "mode": "lines",
         "name": "BearFlattener",
         "opacity": 0.4,
         "showlegend": false,
         "type": "scatter",
         "x": [
          "2025-08-18T12:45:00+02:00",
          "2025-08-18T12:50:00+02:00"
         ],
         "y": [
          0.79,
          0.7919999999999998
         ]
        },
        {
         "fill": "tozeroy",
         "fillcolor": "orange",
         "line": {
          "color": "orange",
          "width": 0.5
         },
         "mode": "lines",
         "name": "BearFlattener",
         "opacity": 0.4,
         "showlegend": false,
         "type": "scatter",
         "x": [
          "2025-08-18T12:50:00+02:00",
          "2025-08-18T12:55:00+02:00"
         ],
         "y": [
          0.7919999999999998,
          0.7929999999999999
         ]
        },
        {
         "fill": "tozeroy",
         "fillcolor": "red",
         "line": {
          "color": "red",
          "width": 0.5
         },
         "mode": "lines",
         "name": "BearSteepener",
         "opacity": 0.4,
         "showlegend": false,
         "type": "scatter",
         "x": [
          "2025-08-18T12:55:00+02:00",
          "2025-08-18T13:00:00+02:00"
         ],
         "y": [
          0.7929999999999999,
          0.7939999999999998
         ]
        },
        {
         "fill": "tozeroy",
         "fillcolor": "red",
         "line": {
          "color": "red",
          "width": 0.5
         },
         "mode": "lines",
         "name": "BearSteepener",
         "opacity": 0.4,
         "showlegend": false,
         "type": "scatter",
         "x": [
          "2025-08-18T13:00:00+02:00",
          "2025-08-18T13:05:00+02:00"
         ],
         "y": [
          0.7939999999999998,
          0.7929999999999999
         ]
        },
        {
         "fill": "tozeroy",
         "fillcolor": "red",
         "line": {
          "color": "red",
          "width": 0.5
         },
         "mode": "lines",
         "name": "BearSteepener",
         "opacity": 0.4,
         "showlegend": false,
         "type": "scatter",
         "x": [
          "2025-08-18T13:05:00+02:00",
          "2025-08-18T13:10:00+02:00"
         ],
         "y": [
          0.7929999999999999,
          0.7949999999999999
         ]
        },
        {
         "fill": "tozeroy",
         "fillcolor": "red",
         "line": {
          "color": "red",
          "width": 0.5
         },
         "mode": "lines",
         "name": "BearSteepener",
         "opacity": 0.4,
         "showlegend": false,
         "type": "scatter",
         "x": [
          "2025-08-18T13:10:00+02:00",
          "2025-08-18T13:15:00+02:00"
         ],
         "y": [
          0.7949999999999999,
          0.7929999999999997
         ]
        },
        {
         "fill": "tozeroy",
         "fillcolor": "red",
         "line": {
          "color": "red",
          "width": 0.5
         },
         "mode": "lines",
         "name": "BearSteepener",
         "opacity": 0.4,
         "showlegend": false,
         "type": "scatter",
         "x": [
          "2025-08-18T13:15:00+02:00",
          "2025-08-18T13:20:00+02:00"
         ],
         "y": [
          0.7929999999999997,
          0.794
         ]
        },
        {
         "fill": "tozeroy",
         "fillcolor": "green",
         "line": {
          "color": "green",
          "width": 0.5
         },
         "mode": "lines",
         "name": "BullSteepener",
         "opacity": 0.4,
         "showlegend": false,
         "type": "scatter",
         "x": [
          "2025-08-18T13:20:00+02:00",
          "2025-08-18T13:25:00+02:00"
         ],
         "y": [
          0.794,
          0.7950000000000002
         ]
        },
        {
         "fill": "tozeroy",
         "fillcolor": "gold",
         "line": {
          "color": "gold",
          "width": 0.5
         },
         "mode": "lines",
         "name": "TwistSteepener",
         "opacity": 0.4,
         "showlegend": false,
         "type": "scatter",
         "x": [
          "2025-08-18T13:25:00+02:00",
          "2025-08-18T13:30:00+02:00"
         ],
         "y": [
          0.7950000000000002,
          0.7979999999999998
         ]
        },
        {
         "fill": "tozeroy",
         "fillcolor": "gold",
         "line": {
          "color": "gold",
          "width": 0.5
         },
         "mode": "lines",
         "name": "TwistSteepener",
         "opacity": 0.4,
         "showlegend": false,
         "type": "scatter",
         "x": [
          "2025-08-18T13:30:00+02:00",
          "2025-08-18T13:35:00+02:00"
         ],
         "y": [
          0.7979999999999998,
          0.7969999999999999
         ]
        },
        {
         "fill": "tozeroy",
         "fillcolor": "gold",
         "line": {
          "color": "gold",
          "width": 0.5
         },
         "mode": "lines",
         "name": "TwistSteepener",
         "opacity": 0.4,
         "showlegend": false,
         "type": "scatter",
         "x": [
          "2025-08-18T13:35:00+02:00",
          "2025-08-18T13:40:00+02:00"
         ],
         "y": [
          0.7969999999999999,
          0.7969999999999999
         ]
        },
        {
         "fill": "tozeroy",
         "fillcolor": "red",
         "line": {
          "color": "red",
          "width": 0.5
         },
         "mode": "lines",
         "name": "BearSteepener",
         "opacity": 0.4,
         "showlegend": false,
         "type": "scatter",
         "x": [
          "2025-08-18T13:40:00+02:00",
          "2025-08-18T13:45:00+02:00"
         ],
         "y": [
          0.7969999999999999,
          0.7959999999999998
         ]
        },
        {
         "fill": "tozeroy",
         "fillcolor": "green",
         "line": {
          "color": "green",
          "width": 0.5
         },
         "mode": "lines",
         "name": "BullSteepener",
         "opacity": 0.4,
         "showlegend": false,
         "type": "scatter",
         "x": [
          "2025-08-18T13:45:00+02:00",
          "2025-08-18T13:50:00+02:00"
         ],
         "y": [
          0.7959999999999998,
          0.796
         ]
        },
        {
         "fill": "tozeroy",
         "fillcolor": "deepskyblue",
         "line": {
          "color": "deepskyblue",
          "width": 0.5
         },
         "mode": "lines",
         "name": "BullFlattener",
         "opacity": 0.4,
         "showlegend": false,
         "type": "scatter",
         "x": [
          "2025-08-18T13:50:00+02:00",
          "2025-08-18T13:55:00+02:00"
         ],
         "y": [
          0.796,
          0.7930000000000001
         ]
        },
        {
         "fill": "tozeroy",
         "fillcolor": "deepskyblue",
         "line": {
          "color": "deepskyblue",
          "width": 0.5
         },
         "mode": "lines",
         "name": "BullFlattener",
         "opacity": 0.4,
         "showlegend": false,
         "type": "scatter",
         "x": [
          "2025-08-18T13:55:00+02:00",
          "2025-08-18T14:00:00+02:00"
         ],
         "y": [
          0.7930000000000001,
          0.7920000000000003
         ]
        },
        {
         "fill": "tozeroy",
         "fillcolor": "deepskyblue",
         "line": {
          "color": "deepskyblue",
          "width": 0.5
         },
         "mode": "lines",
         "name": "BullFlattener",
         "opacity": 0.4,
         "showlegend": false,
         "type": "scatter",
         "x": [
          "2025-08-18T14:00:00+02:00",
          "2025-08-18T14:05:00+02:00"
         ],
         "y": [
          0.7920000000000003,
          0.7889999999999999
         ]
        },
        {
         "fill": "tozeroy",
         "fillcolor": "deepskyblue",
         "line": {
          "color": "deepskyblue",
          "width": 0.5
         },
         "mode": "lines",
         "name": "BullFlattener",
         "opacity": 0.4,
         "showlegend": false,
         "type": "scatter",
         "x": [
          "2025-08-18T14:05:00+02:00",
          "2025-08-18T14:10:00+02:00"
         ],
         "y": [
          0.7889999999999999,
          0.7930000000000001
         ]
        },
        {
         "fill": "tozeroy",
         "fillcolor": "deepskyblue",
         "line": {
          "color": "deepskyblue",
          "width": 0.5
         },
         "mode": "lines",
         "name": "BullFlattener",
         "opacity": 0.4,
         "showlegend": false,
         "type": "scatter",
         "x": [
          "2025-08-18T14:10:00+02:00",
          "2025-08-18T14:15:00+02:00"
         ],
         "y": [
          0.7930000000000001,
          0.7920000000000003
         ]
        },
        {
         "fill": "tozeroy",
         "fillcolor": "green",
         "line": {
          "color": "green",
          "width": 0.5
         },
         "mode": "lines",
         "name": "BullSteepener",
         "opacity": 0.4,
         "showlegend": false,
         "type": "scatter",
         "x": [
          "2025-08-18T14:15:00+02:00",
          "2025-08-18T14:20:00+02:00"
         ],
         "y": [
          0.7920000000000003,
          0.798
         ]
        },
        {
         "fill": "tozeroy",
         "fillcolor": "red",
         "line": {
          "color": "red",
          "width": 0.5
         },
         "mode": "lines",
         "name": "BearSteepener",
         "opacity": 0.4,
         "showlegend": false,
         "type": "scatter",
         "x": [
          "2025-08-18T14:20:00+02:00",
          "2025-08-18T14:25:00+02:00"
         ],
         "y": [
          0.798,
          0.8029999999999999
         ]
        },
        {
         "fill": "tozeroy",
         "fillcolor": "red",
         "line": {
          "color": "red",
          "width": 0.5
         },
         "mode": "lines",
         "name": "BearSteepener",
         "opacity": 0.4,
         "showlegend": false,
         "type": "scatter",
         "x": [
          "2025-08-18T14:25:00+02:00",
          "2025-08-18T14:30:00+02:00"
         ],
         "y": [
          0.8029999999999999,
          0.8039999999999998
         ]
        },
        {
         "fill": "tozeroy",
         "fillcolor": "red",
         "line": {
          "color": "red",
          "width": 0.5
         },
         "mode": "lines",
         "name": "BearSteepener",
         "opacity": 0.4,
         "showlegend": false,
         "type": "scatter",
         "x": [
          "2025-08-18T14:30:00+02:00",
          "2025-08-18T14:35:00+02:00"
         ],
         "y": [
          0.8039999999999998,
          0.8039999999999998
         ]
        },
        {
         "fill": "tozeroy",
         "fillcolor": "red",
         "line": {
          "color": "red",
          "width": 0.5
         },
         "mode": "lines",
         "name": "BearSteepener",
         "opacity": 0.4,
         "showlegend": false,
         "type": "scatter",
         "x": [
          "2025-08-18T14:35:00+02:00",
          "2025-08-18T14:40:00+02:00"
         ],
         "y": [
          0.8039999999999998,
          0.8029999999999999
         ]
        },
        {
         "fill": "tozeroy",
         "fillcolor": "red",
         "line": {
          "color": "red",
          "width": 0.5
         },
         "mode": "lines",
         "name": "BearSteepener",
         "opacity": 0.4,
         "showlegend": false,
         "type": "scatter",
         "x": [
          "2025-08-18T14:40:00+02:00",
          "2025-08-18T14:45:00+02:00"
         ],
         "y": [
          0.8029999999999999,
          0.7999999999999998
         ]
        },
        {
         "fill": "tozeroy",
         "fillcolor": "red",
         "line": {
          "color": "red",
          "width": 0.5
         },
         "mode": "lines",
         "name": "BearSteepener",
         "opacity": 0.4,
         "showlegend": false,
         "type": "scatter",
         "x": [
          "2025-08-18T14:45:00+02:00",
          "2025-08-18T14:50:00+02:00"
         ],
         "y": [
          0.7999999999999998,
          0.8
         ]
        },
        {
         "fill": "tozeroy",
         "fillcolor": "deepskyblue",
         "line": {
          "color": "deepskyblue",
          "width": 0.5
         },
         "mode": "lines",
         "name": "BullFlattener",
         "opacity": 0.4,
         "showlegend": false,
         "type": "scatter",
         "x": [
          "2025-08-18T14:50:00+02:00",
          "2025-08-18T14:55:00+02:00"
         ],
         "y": [
          0.8,
          0.798
         ]
        },
        {
         "fill": "tozeroy",
         "fillcolor": "deepskyblue",
         "line": {
          "color": "deepskyblue",
          "width": 0.5
         },
         "mode": "lines",
         "name": "BullFlattener",
         "opacity": 0.4,
         "showlegend": false,
         "type": "scatter",
         "x": [
          "2025-08-18T14:55:00+02:00",
          "2025-08-18T15:00:00+02:00"
         ],
         "y": [
          0.798,
          0.7999999999999998
         ]
        },
        {
         "fill": "tozeroy",
         "fillcolor": "deepskyblue",
         "line": {
          "color": "deepskyblue",
          "width": 0.5
         },
         "mode": "lines",
         "name": "BullFlattener",
         "opacity": 0.4,
         "showlegend": false,
         "type": "scatter",
         "x": [
          "2025-08-18T15:00:00+02:00",
          "2025-08-18T15:05:00+02:00"
         ],
         "y": [
          0.7999999999999998,
          0.8029999999999999
         ]
        },
        {
         "fill": "tozeroy",
         "fillcolor": "red",
         "line": {
          "color": "red",
          "width": 0.5
         },
         "mode": "lines",
         "name": "BearSteepener",
         "opacity": 0.4,
         "showlegend": false,
         "type": "scatter",
         "x": [
          "2025-08-18T15:05:00+02:00",
          "2025-08-18T15:10:00+02:00"
         ],
         "y": [
          0.8029999999999999,
          0.8039999999999998
         ]
        },
        {
         "fill": "tozeroy",
         "fillcolor": "red",
         "line": {
          "color": "red",
          "width": 0.5
         },
         "mode": "lines",
         "name": "BearSteepener",
         "opacity": 0.4,
         "showlegend": false,
         "type": "scatter",
         "x": [
          "2025-08-18T15:10:00+02:00",
          "2025-08-18T15:15:00+02:00"
         ],
         "y": [
          0.8039999999999998,
          0.8049999999999999
         ]
        },
        {
         "fill": "tozeroy",
         "fillcolor": "red",
         "line": {
          "color": "red",
          "width": 0.5
         },
         "mode": "lines",
         "name": "BearSteepener",
         "opacity": 0.4,
         "showlegend": false,
         "type": "scatter",
         "x": [
          "2025-08-18T15:15:00+02:00",
          "2025-08-18T15:20:00+02:00"
         ],
         "y": [
          0.8049999999999999,
          0.8059999999999998
         ]
        },
        {
         "fill": "tozeroy",
         "fillcolor": "red",
         "line": {
          "color": "red",
          "width": 0.5
         },
         "mode": "lines",
         "name": "BearSteepener",
         "opacity": 0.4,
         "showlegend": false,
         "type": "scatter",
         "x": [
          "2025-08-18T15:20:00+02:00",
          "2025-08-18T15:25:00+02:00"
         ],
         "y": [
          0.8059999999999998,
          0.8049999999999999
         ]
        },
        {
         "fill": "tozeroy",
         "fillcolor": "red",
         "line": {
          "color": "red",
          "width": 0.5
         },
         "mode": "lines",
         "name": "BearSteepener",
         "opacity": 0.4,
         "showlegend": false,
         "type": "scatter",
         "x": [
          "2025-08-18T15:25:00+02:00",
          "2025-08-18T15:30:00+02:00"
         ],
         "y": [
          0.8049999999999999,
          0.806
         ]
        },
        {
         "fill": "tozeroy",
         "fillcolor": "red",
         "line": {
          "color": "red",
          "width": 0.5
         },
         "mode": "lines",
         "name": "BearSteepener",
         "opacity": 0.4,
         "showlegend": false,
         "type": "scatter",
         "x": [
          "2025-08-18T15:30:00+02:00",
          "2025-08-18T15:35:00+02:00"
         ],
         "y": [
          0.806,
          0.8049999999999997
         ]
        },
        {
         "fill": "tozeroy",
         "fillcolor": "green",
         "line": {
          "color": "green",
          "width": 0.5
         },
         "mode": "lines",
         "name": "BullSteepener",
         "opacity": 0.4,
         "showlegend": false,
         "type": "scatter",
         "x": [
          "2025-08-18T15:35:00+02:00",
          "2025-08-18T15:40:00+02:00"
         ],
         "y": [
          0.8049999999999997,
          0.8050000000000002
         ]
        },
        {
         "fill": "tozeroy",
         "fillcolor": "deepskyblue",
         "line": {
          "color": "deepskyblue",
          "width": 0.5
         },
         "mode": "lines",
         "name": "BullFlattener",
         "opacity": 0.4,
         "showlegend": false,
         "type": "scatter",
         "x": [
          "2025-08-18T15:40:00+02:00",
          "2025-08-18T15:45:00+02:00"
         ],
         "y": [
          0.8050000000000002,
          0.8039999999999998
         ]
        },
        {
         "fill": "tozeroy",
         "fillcolor": "deepskyblue",
         "line": {
          "color": "deepskyblue",
          "width": 0.5
         },
         "mode": "lines",
         "name": "BullFlattener",
         "opacity": 0.4,
         "showlegend": false,
         "type": "scatter",
         "x": [
          "2025-08-18T15:45:00+02:00",
          "2025-08-18T15:50:00+02:00"
         ],
         "y": [
          0.8039999999999998,
          0.8039999999999998
         ]
        },
        {
         "fill": "tozeroy",
         "fillcolor": "green",
         "line": {
          "color": "green",
          "width": 0.5
         },
         "mode": "lines",
         "name": "BullSteepener",
         "opacity": 0.4,
         "showlegend": false,
         "type": "scatter",
         "x": [
          "2025-08-18T15:50:00+02:00",
          "2025-08-18T15:55:00+02:00"
         ],
         "y": [
          0.8039999999999998,
          0.8070000000000002
         ]
        },
        {
         "fill": "tozeroy",
         "fillcolor": "green",
         "line": {
          "color": "green",
          "width": 0.5
         },
         "mode": "lines",
         "name": "BullSteepener",
         "opacity": 0.4,
         "showlegend": false,
         "type": "scatter",
         "x": [
          "2025-08-18T15:55:00+02:00",
          "2025-08-18T16:00:00+02:00"
         ],
         "y": [
          0.8070000000000002,
          0.8079999999999998
         ]
        },
        {
         "fill": "tozeroy",
         "fillcolor": "green",
         "line": {
          "color": "green",
          "width": 0.5
         },
         "mode": "lines",
         "name": "BullSteepener",
         "opacity": 0.4,
         "showlegend": false,
         "type": "scatter",
         "x": [
          "2025-08-18T16:00:00+02:00",
          "2025-08-18T16:05:00+02:00"
         ],
         "y": [
          0.8079999999999998,
          0.8069999999999999
         ]
        },
        {
         "fill": "tozeroy",
         "fillcolor": "gold",
         "line": {
          "color": "gold",
          "width": 0.5
         },
         "mode": "lines",
         "name": "TwistSteepener",
         "opacity": 0.4,
         "showlegend": false,
         "type": "scatter",
         "x": [
          "2025-08-18T16:05:00+02:00",
          "2025-08-18T16:10:00+02:00"
         ],
         "y": [
          0.8069999999999999,
          0.8089999999999997
         ]
        },
        {
         "fill": "tozeroy",
         "fillcolor": "red",
         "line": {
          "color": "red",
          "width": 0.5
         },
         "mode": "lines",
         "name": "BearSteepener",
         "opacity": 0.4,
         "showlegend": false,
         "type": "scatter",
         "x": [
          "2025-08-18T16:10:00+02:00",
          "2025-08-18T16:15:00+02:00"
         ],
         "y": [
          0.8089999999999997,
          0.8099999999999998
         ]
        },
        {
         "fill": "tozeroy",
         "fillcolor": "red",
         "line": {
          "color": "red",
          "width": 0.5
         },
         "mode": "lines",
         "name": "BearSteepener",
         "opacity": 0.4,
         "showlegend": false,
         "type": "scatter",
         "x": [
          "2025-08-18T16:15:00+02:00",
          "2025-08-18T16:20:00+02:00"
         ],
         "y": [
          0.8099999999999998,
          0.812
         ]
        },
        {
         "fill": "tozeroy",
         "fillcolor": "red",
         "line": {
          "color": "red",
          "width": 0.5
         },
         "mode": "lines",
         "name": "BearSteepener",
         "opacity": 0.4,
         "showlegend": false,
         "type": "scatter",
         "x": [
          "2025-08-18T16:20:00+02:00",
          "2025-08-18T16:25:00+02:00"
         ],
         "y": [
          0.812,
          0.8099999999999998
         ]
        },
        {
         "fill": "tozeroy",
         "fillcolor": "red",
         "line": {
          "color": "red",
          "width": 0.5
         },
         "mode": "lines",
         "name": "BearSteepener",
         "opacity": 0.4,
         "showlegend": false,
         "type": "scatter",
         "x": [
          "2025-08-18T16:25:00+02:00",
          "2025-08-18T16:30:00+02:00"
         ],
         "y": [
          0.8099999999999998,
          0.8109999999999997
         ]
        },
        {
         "fill": "tozeroy",
         "fillcolor": "red",
         "line": {
          "color": "red",
          "width": 0.5
         },
         "mode": "lines",
         "name": "BearSteepener",
         "opacity": 0.4,
         "showlegend": false,
         "type": "scatter",
         "x": [
          "2025-08-18T16:30:00+02:00",
          "2025-08-18T16:35:00+02:00"
         ],
         "y": [
          0.8109999999999997,
          0.8079999999999998
         ]
        },
        {
         "fill": "tozeroy",
         "fillcolor": "red",
         "line": {
          "color": "red",
          "width": 0.5
         },
         "mode": "lines",
         "name": "BearSteepener",
         "opacity": 0.4,
         "showlegend": false,
         "type": "scatter",
         "x": [
          "2025-08-18T16:35:00+02:00",
          "2025-08-18T16:40:00+02:00"
         ],
         "y": [
          0.8079999999999998,
          0.81
         ]
        },
        {
         "fill": "tozeroy",
         "fillcolor": "red",
         "line": {
          "color": "red",
          "width": 0.5
         },
         "mode": "lines",
         "name": "BearSteepener",
         "opacity": 0.4,
         "showlegend": false,
         "type": "scatter",
         "x": [
          "2025-08-18T16:40:00+02:00",
          "2025-08-18T16:45:00+02:00"
         ],
         "y": [
          0.81,
          0.8109999999999999
         ]
        },
        {
         "fill": "tozeroy",
         "fillcolor": "orange",
         "line": {
          "color": "orange",
          "width": 0.5
         },
         "mode": "lines",
         "name": "BearFlattener",
         "opacity": 0.4,
         "showlegend": false,
         "type": "scatter",
         "x": [
          "2025-08-18T16:45:00+02:00",
          "2025-08-18T16:50:00+02:00"
         ],
         "y": [
          0.8109999999999999,
          0.8109999999999999
         ]
        },
        {
         "fill": "tozeroy",
         "fillcolor": "green",
         "line": {
          "color": "green",
          "width": 0.5
         },
         "mode": "lines",
         "name": "BullSteepener",
         "opacity": 0.4,
         "showlegend": false,
         "type": "scatter",
         "x": [
          "2025-08-18T16:50:00+02:00",
          "2025-08-18T16:55:00+02:00"
         ],
         "y": [
          0.8109999999999999,
          0.8109999999999999
         ]
        },
        {
         "fill": "tozeroy",
         "fillcolor": "grey",
         "line": {
          "color": "grey",
          "width": 0.5
         },
         "mode": "lines",
         "name": "Other",
         "opacity": 0.4,
         "showlegend": false,
         "type": "scatter",
         "x": [
          "2025-08-18T16:55:00+02:00",
          "2025-08-18T17:00:00+02:00"
         ],
         "y": [
          0.8109999999999999,
          0.8109999999999997
         ]
        },
        {
         "fill": "tozeroy",
         "fillcolor": "green",
         "line": {
          "color": "green",
          "width": 0.5
         },
         "mode": "lines",
         "name": "BullSteepener",
         "opacity": 0.4,
         "showlegend": false,
         "type": "scatter",
         "x": [
          "2025-08-18T17:00:00+02:00",
          "2025-08-18T17:05:00+02:00"
         ],
         "y": [
          0.8109999999999997,
          0.8099999999999998
         ]
        },
        {
         "fill": "tozeroy",
         "fillcolor": "green",
         "line": {
          "color": "green",
          "width": 0.5
         },
         "mode": "lines",
         "name": "BullSteepener",
         "opacity": 0.4,
         "showlegend": false,
         "type": "scatter",
         "x": [
          "2025-08-18T17:05:00+02:00",
          "2025-08-18T17:10:00+02:00"
         ],
         "y": [
          0.8099999999999998,
          0.812
         ]
        },
        {
         "fill": "tozeroy",
         "fillcolor": "green",
         "line": {
          "color": "green",
          "width": 0.5
         },
         "mode": "lines",
         "name": "BullSteepener",
         "opacity": 0.4,
         "showlegend": false,
         "type": "scatter",
         "x": [
          "2025-08-18T17:10:00+02:00",
          "2025-08-18T17:15:00+02:00"
         ],
         "y": [
          0.812,
          0.813
         ]
        },
        {
         "fill": "tozeroy",
         "fillcolor": "green",
         "line": {
          "color": "green",
          "width": 0.5
         },
         "mode": "lines",
         "name": "BullSteepener",
         "opacity": 0.4,
         "showlegend": false,
         "type": "scatter",
         "x": [
          "2025-08-18T17:15:00+02:00",
          "2025-08-18T17:20:00+02:00"
         ],
         "y": [
          0.813,
          0.813
         ]
        },
        {
         "fill": "tozeroy",
         "fillcolor": "red",
         "line": {
          "color": "red",
          "width": 0.5
         },
         "mode": "lines",
         "name": "BearSteepener",
         "opacity": 0.4,
         "showlegend": false,
         "type": "scatter",
         "x": [
          "2025-08-18T17:20:00+02:00",
          "2025-08-18T17:25:00+02:00"
         ],
         "y": [
          0.813,
          0.812
         ]
        },
        {
         "fill": "tozeroy",
         "fillcolor": "grey",
         "line": {
          "color": "grey",
          "width": 0.5
         },
         "mode": "lines",
         "name": "Other",
         "opacity": 0.4,
         "showlegend": false,
         "type": "scatter",
         "x": [
          "2025-08-18T17:25:00+02:00",
          "2025-08-18T17:30:00+02:00"
         ],
         "y": [
          0.812,
          0.8109999999999997
         ]
        },
        {
         "fill": "tozeroy",
         "fillcolor": "green",
         "line": {
          "color": "green",
          "width": 0.5
         },
         "mode": "lines",
         "name": "BullSteepener",
         "opacity": 0.4,
         "showlegend": false,
         "type": "scatter",
         "x": [
          "2025-08-18T17:30:00+02:00",
          "2025-08-18T17:35:00+02:00"
         ],
         "y": [
          0.8109999999999997,
          0.8109999999999999
         ]
        },
        {
         "fill": "tozeroy",
         "fillcolor": "deepskyblue",
         "line": {
          "color": "deepskyblue",
          "width": 0.5
         },
         "mode": "lines",
         "name": "BullFlattener",
         "opacity": 0.4,
         "showlegend": false,
         "type": "scatter",
         "x": [
          "2025-08-18T17:35:00+02:00",
          "2025-08-18T17:40:00+02:00"
         ],
         "y": [
          0.8109999999999999,
          0.8079999999999998
         ]
        },
        {
         "fill": "tozeroy",
         "fillcolor": "deepskyblue",
         "line": {
          "color": "deepskyblue",
          "width": 0.5
         },
         "mode": "lines",
         "name": "BullFlattener",
         "opacity": 0.4,
         "showlegend": false,
         "type": "scatter",
         "x": [
          "2025-08-18T17:40:00+02:00",
          "2025-08-18T17:45:00+02:00"
         ],
         "y": [
          0.8079999999999998,
          0.8049999999999997
         ]
        },
        {
         "fill": "tozeroy",
         "fillcolor": "deepskyblue",
         "line": {
          "color": "deepskyblue",
          "width": 0.5
         },
         "mode": "lines",
         "name": "BullFlattener",
         "opacity": 0.4,
         "showlegend": false,
         "type": "scatter",
         "x": [
          "2025-08-18T17:45:00+02:00",
          "2025-08-18T17:50:00+02:00"
         ],
         "y": [
          0.8049999999999997,
          0.8079999999999998
         ]
        },
        {
         "fill": "tozeroy",
         "fillcolor": "deepskyblue",
         "line": {
          "color": "deepskyblue",
          "width": 0.5
         },
         "mode": "lines",
         "name": "BullFlattener",
         "opacity": 0.4,
         "showlegend": false,
         "type": "scatter",
         "x": [
          "2025-08-18T17:50:00+02:00",
          "2025-08-18T17:55:00+02:00"
         ],
         "y": [
          0.8079999999999998,
          0.808
         ]
        },
        {
         "fill": "tozeroy",
         "fillcolor": "green",
         "line": {
          "color": "green",
          "width": 0.5
         },
         "mode": "lines",
         "name": "BullSteepener",
         "opacity": 0.4,
         "showlegend": false,
         "type": "scatter",
         "x": [
          "2025-08-18T17:55:00+02:00",
          "2025-08-19T08:20:00+02:00"
         ],
         "y": [
          0.808,
          0.8129999999999997
         ]
        },
        {
         "fill": "tozeroy",
         "fillcolor": "gold",
         "line": {
          "color": "gold",
          "width": 0.5
         },
         "mode": "lines",
         "name": "TwistSteepener",
         "opacity": 0.4,
         "showlegend": false,
         "type": "scatter",
         "x": [
          "2025-08-19T08:20:00+02:00",
          "2025-08-19T08:25:00+02:00"
         ],
         "y": [
          0.8129999999999997,
          0.8159999999999998
         ]
        },
        {
         "fill": "tozeroy",
         "fillcolor": "gold",
         "line": {
          "color": "gold",
          "width": 0.5
         },
         "mode": "lines",
         "name": "TwistSteepener",
         "opacity": 0.4,
         "showlegend": false,
         "type": "scatter",
         "x": [
          "2025-08-19T08:25:00+02:00",
          "2025-08-19T08:30:00+02:00"
         ],
         "y": [
          0.8159999999999998,
          0.8159999999999998
         ]
        },
        {
         "fill": "tozeroy",
         "fillcolor": "red",
         "line": {
          "color": "red",
          "width": 0.5
         },
         "mode": "lines",
         "name": "BearSteepener",
         "opacity": 0.4,
         "showlegend": false,
         "type": "scatter",
         "x": [
          "2025-08-19T08:30:00+02:00",
          "2025-08-19T08:35:00+02:00"
         ],
         "y": [
          0.8159999999999998,
          0.8169999999999997
         ]
        },
        {
         "fill": "tozeroy",
         "fillcolor": "red",
         "line": {
          "color": "red",
          "width": 0.5
         },
         "mode": "lines",
         "name": "BearSteepener",
         "opacity": 0.4,
         "showlegend": false,
         "type": "scatter",
         "x": [
          "2025-08-19T08:35:00+02:00",
          "2025-08-19T08:40:00+02:00"
         ],
         "y": [
          0.8169999999999997,
          0.8159999999999998
         ]
        },
        {
         "fill": "tozeroy",
         "fillcolor": "red",
         "line": {
          "color": "red",
          "width": 0.5
         },
         "mode": "lines",
         "name": "BearSteepener",
         "opacity": 0.4,
         "showlegend": false,
         "type": "scatter",
         "x": [
          "2025-08-19T08:40:00+02:00",
          "2025-08-19T08:45:00+02:00"
         ],
         "y": [
          0.8159999999999998,
          0.8159999999999998
         ]
        },
        {
         "fill": "tozeroy",
         "fillcolor": "red",
         "line": {
          "color": "red",
          "width": 0.5
         },
         "mode": "lines",
         "name": "BearSteepener",
         "opacity": 0.4,
         "showlegend": false,
         "type": "scatter",
         "x": [
          "2025-08-19T08:45:00+02:00",
          "2025-08-19T08:50:00+02:00"
         ],
         "y": [
          0.8159999999999998,
          0.8159999999999998
         ]
        },
        {
         "fill": "tozeroy",
         "fillcolor": "grey",
         "line": {
          "color": "grey",
          "width": 0.5
         },
         "mode": "lines",
         "name": "Other",
         "opacity": 0.4,
         "showlegend": false,
         "type": "scatter",
         "x": [
          "2025-08-19T08:50:00+02:00",
          "2025-08-19T08:55:00+02:00"
         ],
         "y": [
          0.8159999999999998,
          0.8159999999999998
         ]
        },
        {
         "fill": "tozeroy",
         "fillcolor": "red",
         "line": {
          "color": "red",
          "width": 0.5
         },
         "mode": "lines",
         "name": "BearSteepener",
         "opacity": 0.4,
         "showlegend": false,
         "type": "scatter",
         "x": [
          "2025-08-19T08:55:00+02:00",
          "2025-08-19T09:00:00+02:00"
         ],
         "y": [
          0.8159999999999998,
          0.8170000000000002
         ]
        },
        {
         "fill": "tozeroy",
         "fillcolor": "red",
         "line": {
          "color": "red",
          "width": 0.5
         },
         "mode": "lines",
         "name": "BearSteepener",
         "opacity": 0.4,
         "showlegend": false,
         "type": "scatter",
         "x": [
          "2025-08-19T09:00:00+02:00",
          "2025-08-19T09:05:00+02:00"
         ],
         "y": [
          0.8170000000000002,
          0.819
         ]
        },
        {
         "fill": "tozeroy",
         "fillcolor": "green",
         "line": {
          "color": "green",
          "width": 0.5
         },
         "mode": "lines",
         "name": "BullSteepener",
         "opacity": 0.4,
         "showlegend": false,
         "type": "scatter",
         "x": [
          "2025-08-19T09:05:00+02:00",
          "2025-08-19T09:10:00+02:00"
         ],
         "y": [
          0.819,
          0.8160000000000001
         ]
        },
        {
         "fill": "tozeroy",
         "fillcolor": "deepskyblue",
         "line": {
          "color": "deepskyblue",
          "width": 0.5
         },
         "mode": "lines",
         "name": "BullFlattener",
         "opacity": 0.4,
         "showlegend": false,
         "type": "scatter",
         "x": [
          "2025-08-19T09:10:00+02:00",
          "2025-08-19T09:15:00+02:00"
         ],
         "y": [
          0.8160000000000001,
          0.812
         ]
        },
        {
         "fill": "tozeroy",
         "fillcolor": "deepskyblue",
         "line": {
          "color": "deepskyblue",
          "width": 0.5
         },
         "mode": "lines",
         "name": "BullFlattener",
         "opacity": 0.4,
         "showlegend": false,
         "type": "scatter",
         "x": [
          "2025-08-19T09:15:00+02:00",
          "2025-08-19T09:20:00+02:00"
         ],
         "y": [
          0.812,
          0.813
         ]
        },
        {
         "fill": "tozeroy",
         "fillcolor": "green",
         "line": {
          "color": "green",
          "width": 0.5
         },
         "mode": "lines",
         "name": "BullSteepener",
         "opacity": 0.4,
         "showlegend": false,
         "type": "scatter",
         "x": [
          "2025-08-19T09:20:00+02:00",
          "2025-08-19T09:25:00+02:00"
         ],
         "y": [
          0.813,
          0.8160000000000001
         ]
        },
        {
         "fill": "tozeroy",
         "fillcolor": "orange",
         "line": {
          "color": "orange",
          "width": 0.5
         },
         "mode": "lines",
         "name": "BearFlattener",
         "opacity": 0.4,
         "showlegend": false,
         "type": "scatter",
         "x": [
          "2025-08-19T09:25:00+02:00",
          "2025-08-19T09:30:00+02:00"
         ],
         "y": [
          0.8160000000000001,
          0.8160000000000001
         ]
        },
        {
         "fill": "tozeroy",
         "fillcolor": "deepskyblue",
         "line": {
          "color": "deepskyblue",
          "width": 0.5
         },
         "mode": "lines",
         "name": "BullFlattener",
         "opacity": 0.4,
         "showlegend": false,
         "type": "scatter",
         "x": [
          "2025-08-19T09:30:00+02:00",
          "2025-08-19T09:35:00+02:00"
         ],
         "y": [
          0.8160000000000001,
          0.8159999999999998
         ]
        },
        {
         "fill": "tozeroy",
         "fillcolor": "orange",
         "line": {
          "color": "orange",
          "width": 0.5
         },
         "mode": "lines",
         "name": "BearFlattener",
         "opacity": 0.4,
         "showlegend": false,
         "type": "scatter",
         "x": [
          "2025-08-19T09:35:00+02:00",
          "2025-08-19T09:40:00+02:00"
         ],
         "y": [
          0.8159999999999998,
          0.8159999999999998
         ]
        },
        {
         "fill": "tozeroy",
         "fillcolor": "red",
         "line": {
          "color": "red",
          "width": 0.5
         },
         "mode": "lines",
         "name": "BearSteepener",
         "opacity": 0.4,
         "showlegend": false,
         "type": "scatter",
         "x": [
          "2025-08-19T09:40:00+02:00",
          "2025-08-19T09:45:00+02:00"
         ],
         "y": [
          0.8159999999999998,
          0.8190000000000002
         ]
        },
        {
         "fill": "tozeroy",
         "fillcolor": "red",
         "line": {
          "color": "red",
          "width": 0.5
         },
         "mode": "lines",
         "name": "BearSteepener",
         "opacity": 0.4,
         "showlegend": false,
         "type": "scatter",
         "x": [
          "2025-08-19T09:45:00+02:00",
          "2025-08-19T09:50:00+02:00"
         ],
         "y": [
          0.8190000000000002,
          0.8180000000000001
         ]
        },
        {
         "fill": "tozeroy",
         "fillcolor": "orange",
         "line": {
          "color": "orange",
          "width": 0.5
         },
         "mode": "lines",
         "name": "BearFlattener",
         "opacity": 0.4,
         "showlegend": false,
         "type": "scatter",
         "x": [
          "2025-08-19T09:50:00+02:00",
          "2025-08-19T09:55:00+02:00"
         ],
         "y": [
          0.8180000000000001,
          0.8159999999999998
         ]
        },
        {
         "fill": "tozeroy",
         "fillcolor": "orange",
         "line": {
          "color": "orange",
          "width": 0.5
         },
         "mode": "lines",
         "name": "BearFlattener",
         "opacity": 0.4,
         "showlegend": false,
         "type": "scatter",
         "x": [
          "2025-08-19T09:55:00+02:00",
          "2025-08-19T10:00:00+02:00"
         ],
         "y": [
          0.8159999999999998,
          0.8139999999999998
         ]
        },
        {
         "fill": "tozeroy",
         "fillcolor": "orange",
         "line": {
          "color": "orange",
          "width": 0.5
         },
         "mode": "lines",
         "name": "BearFlattener",
         "opacity": 0.4,
         "showlegend": false,
         "type": "scatter",
         "x": [
          "2025-08-19T10:00:00+02:00",
          "2025-08-19T10:05:00+02:00"
         ],
         "y": [
          0.8139999999999998,
          0.815
         ]
        },
        {
         "fill": "tozeroy",
         "fillcolor": "red",
         "line": {
          "color": "red",
          "width": 0.5
         },
         "mode": "lines",
         "name": "BearSteepener",
         "opacity": 0.4,
         "showlegend": false,
         "type": "scatter",
         "x": [
          "2025-08-19T10:05:00+02:00",
          "2025-08-19T10:10:00+02:00"
         ],
         "y": [
          0.815,
          0.8160000000000001
         ]
        },
        {
         "fill": "tozeroy",
         "fillcolor": "violet",
         "line": {
          "color": "violet",
          "width": 0.5
         },
         "mode": "lines",
         "name": "TwistFlattener",
         "opacity": 0.4,
         "showlegend": false,
         "type": "scatter",
         "x": [
          "2025-08-19T10:10:00+02:00",
          "2025-08-19T10:15:00+02:00"
         ],
         "y": [
          0.8160000000000001,
          0.8139999999999998
         ]
        },
        {
         "fill": "tozeroy",
         "fillcolor": "deepskyblue",
         "line": {
          "color": "deepskyblue",
          "width": 0.5
         },
         "mode": "lines",
         "name": "BullFlattener",
         "opacity": 0.4,
         "showlegend": false,
         "type": "scatter",
         "x": [
          "2025-08-19T10:15:00+02:00",
          "2025-08-19T10:20:00+02:00"
         ],
         "y": [
          0.8139999999999998,
          0.813
         ]
        },
        {
         "fill": "tozeroy",
         "fillcolor": "deepskyblue",
         "line": {
          "color": "deepskyblue",
          "width": 0.5
         },
         "mode": "lines",
         "name": "BullFlattener",
         "opacity": 0.4,
         "showlegend": false,
         "type": "scatter",
         "x": [
          "2025-08-19T10:20:00+02:00",
          "2025-08-19T10:25:00+02:00"
         ],
         "y": [
          0.813,
          0.8089999999999999
         ]
        },
        {
         "fill": "tozeroy",
         "fillcolor": "deepskyblue",
         "line": {
          "color": "deepskyblue",
          "width": 0.5
         },
         "mode": "lines",
         "name": "BullFlattener",
         "opacity": 0.4,
         "showlegend": false,
         "type": "scatter",
         "x": [
          "2025-08-19T10:25:00+02:00",
          "2025-08-19T10:30:00+02:00"
         ],
         "y": [
          0.8089999999999999,
          0.812
         ]
        },
        {
         "fill": "tozeroy",
         "fillcolor": "deepskyblue",
         "line": {
          "color": "deepskyblue",
          "width": 0.5
         },
         "mode": "lines",
         "name": "BullFlattener",
         "opacity": 0.4,
         "showlegend": false,
         "type": "scatter",
         "x": [
          "2025-08-19T10:30:00+02:00",
          "2025-08-19T10:35:00+02:00"
         ],
         "y": [
          0.812,
          0.8119999999999998
         ]
        },
        {
         "fill": "tozeroy",
         "fillcolor": "deepskyblue",
         "line": {
          "color": "deepskyblue",
          "width": 0.5
         },
         "mode": "lines",
         "name": "BullFlattener",
         "opacity": 0.4,
         "showlegend": false,
         "type": "scatter",
         "x": [
          "2025-08-19T10:35:00+02:00",
          "2025-08-19T10:40:00+02:00"
         ],
         "y": [
          0.8119999999999998,
          0.812
         ]
        },
        {
         "fill": "tozeroy",
         "fillcolor": "deepskyblue",
         "line": {
          "color": "deepskyblue",
          "width": 0.5
         },
         "mode": "lines",
         "name": "BullFlattener",
         "opacity": 0.4,
         "showlegend": false,
         "type": "scatter",
         "x": [
          "2025-08-19T10:40:00+02:00",
          "2025-08-19T10:45:00+02:00"
         ],
         "y": [
          0.812,
          0.8089999999999999
         ]
        },
        {
         "fill": "tozeroy",
         "fillcolor": "orange",
         "line": {
          "color": "orange",
          "width": 0.5
         },
         "mode": "lines",
         "name": "BearFlattener",
         "opacity": 0.4,
         "showlegend": false,
         "type": "scatter",
         "x": [
          "2025-08-19T10:45:00+02:00",
          "2025-08-19T10:50:00+02:00"
         ],
         "y": [
          0.8089999999999999,
          0.8109999999999999
         ]
        },
        {
         "fill": "tozeroy",
         "fillcolor": "red",
         "line": {
          "color": "red",
          "width": 0.5
         },
         "mode": "lines",
         "name": "BearSteepener",
         "opacity": 0.4,
         "showlegend": false,
         "type": "scatter",
         "x": [
          "2025-08-19T10:50:00+02:00",
          "2025-08-19T10:55:00+02:00"
         ],
         "y": [
          0.8109999999999999,
          0.81
         ]
        },
        {
         "fill": "tozeroy",
         "fillcolor": "violet",
         "line": {
          "color": "violet",
          "width": 0.5
         },
         "mode": "lines",
         "name": "TwistFlattener",
         "opacity": 0.4,
         "showlegend": false,
         "type": "scatter",
         "x": [
          "2025-08-19T10:55:00+02:00",
          "2025-08-19T11:00:00+02:00"
         ],
         "y": [
          0.81,
          0.8079999999999998
         ]
        },
        {
         "fill": "tozeroy",
         "fillcolor": "deepskyblue",
         "line": {
          "color": "deepskyblue",
          "width": 0.5
         },
         "mode": "lines",
         "name": "BullFlattener",
         "opacity": 0.4,
         "showlegend": false,
         "type": "scatter",
         "x": [
          "2025-08-19T11:00:00+02:00",
          "2025-08-19T11:05:00+02:00"
         ],
         "y": [
          0.8079999999999998,
          0.8089999999999997
         ]
        },
        {
         "fill": "tozeroy",
         "fillcolor": "violet",
         "line": {
          "color": "violet",
          "width": 0.5
         },
         "mode": "lines",
         "name": "TwistFlattener",
         "opacity": 0.4,
         "showlegend": false,
         "type": "scatter",
         "x": [
          "2025-08-19T11:05:00+02:00",
          "2025-08-19T11:10:00+02:00"
         ],
         "y": [
          0.8089999999999997,
          0.8079999999999998
         ]
        },
        {
         "fill": "tozeroy",
         "fillcolor": "deepskyblue",
         "line": {
          "color": "deepskyblue",
          "width": 0.5
         },
         "mode": "lines",
         "name": "BullFlattener",
         "opacity": 0.4,
         "showlegend": false,
         "type": "scatter",
         "x": [
          "2025-08-19T11:10:00+02:00",
          "2025-08-19T11:15:00+02:00"
         ],
         "y": [
          0.8079999999999998,
          0.8059999999999998
         ]
        },
        {
         "fill": "tozeroy",
         "fillcolor": "deepskyblue",
         "line": {
          "color": "deepskyblue",
          "width": 0.5
         },
         "mode": "lines",
         "name": "BullFlattener",
         "opacity": 0.4,
         "showlegend": false,
         "type": "scatter",
         "x": [
          "2025-08-19T11:15:00+02:00",
          "2025-08-19T11:20:00+02:00"
         ],
         "y": [
          0.8059999999999998,
          0.8069999999999997
         ]
        },
        {
         "fill": "tozeroy",
         "fillcolor": "deepskyblue",
         "line": {
          "color": "deepskyblue",
          "width": 0.5
         },
         "mode": "lines",
         "name": "BullFlattener",
         "opacity": 0.4,
         "showlegend": false,
         "type": "scatter",
         "x": [
          "2025-08-19T11:20:00+02:00",
          "2025-08-19T11:25:00+02:00"
         ],
         "y": [
          0.8069999999999997,
          0.8069999999999997
         ]
        },
        {
         "fill": "tozeroy",
         "fillcolor": "deepskyblue",
         "line": {
          "color": "deepskyblue",
          "width": 0.5
         },
         "mode": "lines",
         "name": "BullFlattener",
         "opacity": 0.4,
         "showlegend": false,
         "type": "scatter",
         "x": [
          "2025-08-19T11:25:00+02:00",
          "2025-08-19T11:30:00+02:00"
         ],
         "y": [
          0.8069999999999997,
          0.8049999999999999
         ]
        },
        {
         "fill": "tozeroy",
         "fillcolor": "deepskyblue",
         "line": {
          "color": "deepskyblue",
          "width": 0.5
         },
         "mode": "lines",
         "name": "BullFlattener",
         "opacity": 0.4,
         "showlegend": false,
         "type": "scatter",
         "x": [
          "2025-08-19T11:30:00+02:00",
          "2025-08-19T11:35:00+02:00"
         ],
         "y": [
          0.8049999999999999,
          0.8059999999999998
         ]
        },
        {
         "fill": "tozeroy",
         "fillcolor": "deepskyblue",
         "line": {
          "color": "deepskyblue",
          "width": 0.5
         },
         "mode": "lines",
         "name": "BullFlattener",
         "opacity": 0.4,
         "showlegend": false,
         "type": "scatter",
         "x": [
          "2025-08-19T11:35:00+02:00",
          "2025-08-19T11:40:00+02:00"
         ],
         "y": [
          0.8059999999999998,
          0.8049999999999999
         ]
        },
        {
         "fill": "tozeroy",
         "fillcolor": "deepskyblue",
         "line": {
          "color": "deepskyblue",
          "width": 0.5
         },
         "mode": "lines",
         "name": "BullFlattener",
         "opacity": 0.4,
         "showlegend": false,
         "type": "scatter",
         "x": [
          "2025-08-19T11:40:00+02:00",
          "2025-08-19T11:45:00+02:00"
         ],
         "y": [
          0.8049999999999999,
          0.8030000000000002
         ]
        },
        {
         "fill": "tozeroy",
         "fillcolor": "deepskyblue",
         "line": {
          "color": "deepskyblue",
          "width": 0.5
         },
         "mode": "lines",
         "name": "BullFlattener",
         "opacity": 0.4,
         "showlegend": false,
         "type": "scatter",
         "x": [
          "2025-08-19T11:45:00+02:00",
          "2025-08-19T11:50:00+02:00"
         ],
         "y": [
          0.8030000000000002,
          0.8019999999999998
         ]
        },
        {
         "fill": "tozeroy",
         "fillcolor": "deepskyblue",
         "line": {
          "color": "deepskyblue",
          "width": 0.5
         },
         "mode": "lines",
         "name": "BullFlattener",
         "opacity": 0.4,
         "showlegend": false,
         "type": "scatter",
         "x": [
          "2025-08-19T11:50:00+02:00",
          "2025-08-19T11:55:00+02:00"
         ],
         "y": [
          0.8019999999999998,
          0.8029999999999999
         ]
        },
        {
         "fill": "tozeroy",
         "fillcolor": "deepskyblue",
         "line": {
          "color": "deepskyblue",
          "width": 0.5
         },
         "mode": "lines",
         "name": "BullFlattener",
         "opacity": 0.4,
         "showlegend": false,
         "type": "scatter",
         "x": [
          "2025-08-19T11:55:00+02:00",
          "2025-08-19T12:00:00+02:00"
         ],
         "y": [
          0.8029999999999999,
          0.8019999999999998
         ]
        },
        {
         "fill": "tozeroy",
         "fillcolor": "deepskyblue",
         "line": {
          "color": "deepskyblue",
          "width": 0.5
         },
         "mode": "lines",
         "name": "BullFlattener",
         "opacity": 0.4,
         "showlegend": false,
         "type": "scatter",
         "x": [
          "2025-08-19T12:00:00+02:00",
          "2025-08-19T12:05:00+02:00"
         ],
         "y": [
          0.8019999999999998,
          0.8029999999999997
         ]
        },
        {
         "fill": "tozeroy",
         "fillcolor": "deepskyblue",
         "line": {
          "color": "deepskyblue",
          "width": 0.5
         },
         "mode": "lines",
         "name": "BullFlattener",
         "opacity": 0.4,
         "showlegend": false,
         "type": "scatter",
         "x": [
          "2025-08-19T12:05:00+02:00",
          "2025-08-19T12:10:00+02:00"
         ],
         "y": [
          0.8029999999999997,
          0.8029999999999999
         ]
        },
        {
         "fill": "tozeroy",
         "fillcolor": "deepskyblue",
         "line": {
          "color": "deepskyblue",
          "width": 0.5
         },
         "mode": "lines",
         "name": "BullFlattener",
         "opacity": 0.4,
         "showlegend": false,
         "type": "scatter",
         "x": [
          "2025-08-19T12:10:00+02:00",
          "2025-08-19T12:15:00+02:00"
         ],
         "y": [
          0.8029999999999999,
          0.8019999999999998
         ]
        },
        {
         "fill": "tozeroy",
         "fillcolor": "green",
         "line": {
          "color": "green",
          "width": 0.5
         },
         "mode": "lines",
         "name": "BullSteepener",
         "opacity": 0.4,
         "showlegend": false,
         "type": "scatter",
         "x": [
          "2025-08-19T12:15:00+02:00",
          "2025-08-19T12:20:00+02:00"
         ],
         "y": [
          0.8019999999999998,
          0.804
         ]
        },
        {
         "fill": "tozeroy",
         "fillcolor": "deepskyblue",
         "line": {
          "color": "deepskyblue",
          "width": 0.5
         },
         "mode": "lines",
         "name": "BullFlattener",
         "opacity": 0.4,
         "showlegend": false,
         "type": "scatter",
         "x": [
          "2025-08-19T12:20:00+02:00",
          "2025-08-19T12:25:00+02:00"
         ],
         "y": [
          0.804,
          0.8029999999999997
         ]
        },
        {
         "fill": "tozeroy",
         "fillcolor": "gold",
         "line": {
          "color": "gold",
          "width": 0.5
         },
         "mode": "lines",
         "name": "TwistSteepener",
         "opacity": 0.4,
         "showlegend": false,
         "type": "scatter",
         "x": [
          "2025-08-19T12:25:00+02:00",
          "2025-08-19T12:30:00+02:00"
         ],
         "y": [
          0.8029999999999997,
          0.804
         ]
        },
        {
         "fill": "tozeroy",
         "fillcolor": "red",
         "line": {
          "color": "red",
          "width": 0.5
         },
         "mode": "lines",
         "name": "BearSteepener",
         "opacity": 0.4,
         "showlegend": false,
         "type": "scatter",
         "x": [
          "2025-08-19T12:30:00+02:00",
          "2025-08-19T12:35:00+02:00"
         ],
         "y": [
          0.804,
          0.804
         ]
        },
        {
         "fill": "tozeroy",
         "fillcolor": "orange",
         "line": {
          "color": "orange",
          "width": 0.5
         },
         "mode": "lines",
         "name": "BearFlattener",
         "opacity": 0.4,
         "showlegend": false,
         "type": "scatter",
         "x": [
          "2025-08-19T12:35:00+02:00",
          "2025-08-19T12:40:00+02:00"
         ],
         "y": [
          0.804,
          0.8019999999999998
         ]
        },
        {
         "fill": "tozeroy",
         "fillcolor": "grey",
         "line": {
          "color": "grey",
          "width": 0.5
         },
         "mode": "lines",
         "name": "Other",
         "opacity": 0.4,
         "showlegend": false,
         "type": "scatter",
         "x": [
          "2025-08-19T12:40:00+02:00",
          "2025-08-19T12:45:00+02:00"
         ],
         "y": [
          0.8019999999999998,
          0.8019999999999998
         ]
        },
        {
         "fill": "tozeroy",
         "fillcolor": "orange",
         "line": {
          "color": "orange",
          "width": 0.5
         },
         "mode": "lines",
         "name": "BearFlattener",
         "opacity": 0.4,
         "showlegend": false,
         "type": "scatter",
         "x": [
          "2025-08-19T12:45:00+02:00",
          "2025-08-19T12:50:00+02:00"
         ],
         "y": [
          0.8019999999999998,
          0.8019999999999998
         ]
        },
        {
         "fill": "tozeroy",
         "fillcolor": "red",
         "line": {
          "color": "red",
          "width": 0.5
         },
         "mode": "lines",
         "name": "BearSteepener",
         "opacity": 0.4,
         "showlegend": false,
         "type": "scatter",
         "x": [
          "2025-08-19T12:50:00+02:00",
          "2025-08-19T12:55:00+02:00"
         ],
         "y": [
          0.8019999999999998,
          0.8030000000000002
         ]
        },
        {
         "fill": "tozeroy",
         "fillcolor": "orange",
         "line": {
          "color": "orange",
          "width": 0.5
         },
         "mode": "lines",
         "name": "BearFlattener",
         "opacity": 0.4,
         "showlegend": false,
         "type": "scatter",
         "x": [
          "2025-08-19T12:55:00+02:00",
          "2025-08-19T13:00:00+02:00"
         ],
         "y": [
          0.8030000000000002,
          0.8009999999999999
         ]
        },
        {
         "fill": "tozeroy",
         "fillcolor": "orange",
         "line": {
          "color": "orange",
          "width": 0.5
         },
         "mode": "lines",
         "name": "BearFlattener",
         "opacity": 0.4,
         "showlegend": false,
         "type": "scatter",
         "x": [
          "2025-08-19T13:00:00+02:00",
          "2025-08-19T13:05:00+02:00"
         ],
         "y": [
          0.8009999999999999,
          0.802
         ]
        },
        {
         "fill": "tozeroy",
         "fillcolor": "green",
         "line": {
          "color": "green",
          "width": 0.5
         },
         "mode": "lines",
         "name": "BullSteepener",
         "opacity": 0.4,
         "showlegend": false,
         "type": "scatter",
         "x": [
          "2025-08-19T13:05:00+02:00",
          "2025-08-19T13:10:00+02:00"
         ],
         "y": [
          0.802,
          0.8029999999999999
         ]
        },
        {
         "fill": "tozeroy",
         "fillcolor": "green",
         "line": {
          "color": "green",
          "width": 0.5
         },
         "mode": "lines",
         "name": "BullSteepener",
         "opacity": 0.4,
         "showlegend": false,
         "type": "scatter",
         "x": [
          "2025-08-19T13:10:00+02:00",
          "2025-08-19T13:15:00+02:00"
         ],
         "y": [
          0.8029999999999999,
          0.8049999999999997
         ]
        },
        {
         "fill": "tozeroy",
         "fillcolor": "green",
         "line": {
          "color": "green",
          "width": 0.5
         },
         "mode": "lines",
         "name": "BullSteepener",
         "opacity": 0.4,
         "showlegend": false,
         "type": "scatter",
         "x": [
          "2025-08-19T13:15:00+02:00",
          "2025-08-19T13:20:00+02:00"
         ],
         "y": [
          0.8049999999999997,
          0.8049999999999997
         ]
        },
        {
         "fill": "tozeroy",
         "fillcolor": "green",
         "line": {
          "color": "green",
          "width": 0.5
         },
         "mode": "lines",
         "name": "BullSteepener",
         "opacity": 0.4,
         "showlegend": false,
         "type": "scatter",
         "x": [
          "2025-08-19T13:20:00+02:00",
          "2025-08-19T13:25:00+02:00"
         ],
         "y": [
          0.8049999999999997,
          0.8049999999999997
         ]
        },
        {
         "fill": "tozeroy",
         "fillcolor": "gold",
         "line": {
          "color": "gold",
          "width": 0.5
         },
         "mode": "lines",
         "name": "TwistSteepener",
         "opacity": 0.4,
         "showlegend": false,
         "type": "scatter",
         "x": [
          "2025-08-19T13:25:00+02:00",
          "2025-08-19T13:30:00+02:00"
         ],
         "y": [
          0.8049999999999997,
          0.8049999999999997
         ]
        },
        {
         "fill": "tozeroy",
         "fillcolor": "gold",
         "line": {
          "color": "gold",
          "width": 0.5
         },
         "mode": "lines",
         "name": "TwistSteepener",
         "opacity": 0.4,
         "showlegend": false,
         "type": "scatter",
         "x": [
          "2025-08-19T13:30:00+02:00",
          "2025-08-19T13:35:00+02:00"
         ],
         "y": [
          0.8049999999999997,
          0.8049999999999997
         ]
        },
        {
         "fill": "tozeroy",
         "fillcolor": "green",
         "line": {
          "color": "green",
          "width": 0.5
         },
         "mode": "lines",
         "name": "BullSteepener",
         "opacity": 0.4,
         "showlegend": false,
         "type": "scatter",
         "x": [
          "2025-08-19T13:35:00+02:00",
          "2025-08-19T13:40:00+02:00"
         ],
         "y": [
          0.8049999999999997,
          0.8049999999999999
         ]
        },
        {
         "fill": "tozeroy",
         "fillcolor": "grey",
         "line": {
          "color": "grey",
          "width": 0.5
         },
         "mode": "lines",
         "name": "Other",
         "opacity": 0.4,
         "showlegend": false,
         "type": "scatter",
         "x": [
          "2025-08-19T13:40:00+02:00",
          "2025-08-19T13:45:00+02:00"
         ],
         "y": [
          0.8049999999999999,
          0.8049999999999997
         ]
        },
        {
         "fill": "tozeroy",
         "fillcolor": "red",
         "line": {
          "color": "red",
          "width": 0.5
         },
         "mode": "lines",
         "name": "BearSteepener",
         "opacity": 0.4,
         "showlegend": false,
         "type": "scatter",
         "x": [
          "2025-08-19T13:45:00+02:00",
          "2025-08-19T13:50:00+02:00"
         ],
         "y": [
          0.8049999999999997,
          0.806
         ]
        },
        {
         "fill": "tozeroy",
         "fillcolor": "red",
         "line": {
          "color": "red",
          "width": 0.5
         },
         "mode": "lines",
         "name": "BearSteepener",
         "opacity": 0.4,
         "showlegend": false,
         "type": "scatter",
         "x": [
          "2025-08-19T13:50:00+02:00",
          "2025-08-19T13:55:00+02:00"
         ],
         "y": [
          0.806,
          0.806
         ]
        },
        {
         "fill": "tozeroy",
         "fillcolor": "red",
         "line": {
          "color": "red",
          "width": 0.5
         },
         "mode": "lines",
         "name": "BearSteepener",
         "opacity": 0.4,
         "showlegend": false,
         "type": "scatter",
         "x": [
          "2025-08-19T13:55:00+02:00",
          "2025-08-19T14:00:00+02:00"
         ],
         "y": [
          0.806,
          0.8070000000000002
         ]
        },
        {
         "fill": "tozeroy",
         "fillcolor": "red",
         "line": {
          "color": "red",
          "width": 0.5
         },
         "mode": "lines",
         "name": "BearSteepener",
         "opacity": 0.4,
         "showlegend": false,
         "type": "scatter",
         "x": [
          "2025-08-19T14:00:00+02:00",
          "2025-08-19T14:05:00+02:00"
         ],
         "y": [
          0.8070000000000002,
          0.8089999999999999
         ]
        },
        {
         "fill": "tozeroy",
         "fillcolor": "red",
         "line": {
          "color": "red",
          "width": 0.5
         },
         "mode": "lines",
         "name": "BearSteepener",
         "opacity": 0.4,
         "showlegend": false,
         "type": "scatter",
         "x": [
          "2025-08-19T14:05:00+02:00",
          "2025-08-19T14:10:00+02:00"
         ],
         "y": [
          0.8089999999999999,
          0.8069999999999999
         ]
        },
        {
         "fill": "tozeroy",
         "fillcolor": "red",
         "line": {
          "color": "red",
          "width": 0.5
         },
         "mode": "lines",
         "name": "BearSteepener",
         "opacity": 0.4,
         "showlegend": false,
         "type": "scatter",
         "x": [
          "2025-08-19T14:10:00+02:00",
          "2025-08-19T14:15:00+02:00"
         ],
         "y": [
          0.8069999999999999,
          0.8050000000000002
         ]
        },
        {
         "fill": "tozeroy",
         "fillcolor": "grey",
         "line": {
          "color": "grey",
          "width": 0.5
         },
         "mode": "lines",
         "name": "Other",
         "opacity": 0.4,
         "showlegend": false,
         "type": "scatter",
         "x": [
          "2025-08-19T14:15:00+02:00",
          "2025-08-19T14:20:00+02:00"
         ],
         "y": [
          0.8050000000000002,
          0.806
         ]
        },
        {
         "fill": "tozeroy",
         "fillcolor": "orange",
         "line": {
          "color": "orange",
          "width": 0.5
         },
         "mode": "lines",
         "name": "BearFlattener",
         "opacity": 0.4,
         "showlegend": false,
         "type": "scatter",
         "x": [
          "2025-08-19T14:20:00+02:00",
          "2025-08-19T14:25:00+02:00"
         ],
         "y": [
          0.806,
          0.8049999999999997
         ]
        },
        {
         "fill": "tozeroy",
         "fillcolor": "deepskyblue",
         "line": {
          "color": "deepskyblue",
          "width": 0.5
         },
         "mode": "lines",
         "name": "BullFlattener",
         "opacity": 0.4,
         "showlegend": false,
         "type": "scatter",
         "x": [
          "2025-08-19T14:25:00+02:00",
          "2025-08-19T14:30:00+02:00"
         ],
         "y": [
          0.8049999999999997,
          0.804
         ]
        },
        {
         "fill": "tozeroy",
         "fillcolor": "deepskyblue",
         "line": {
          "color": "deepskyblue",
          "width": 0.5
         },
         "mode": "lines",
         "name": "BullFlattener",
         "opacity": 0.4,
         "showlegend": false,
         "type": "scatter",
         "x": [
          "2025-08-19T14:30:00+02:00",
          "2025-08-19T14:35:00+02:00"
         ],
         "y": [
          0.804,
          0.8049999999999999
         ]
        },
        {
         "fill": "tozeroy",
         "fillcolor": "deepskyblue",
         "line": {
          "color": "deepskyblue",
          "width": 0.5
         },
         "mode": "lines",
         "name": "BullFlattener",
         "opacity": 0.4,
         "showlegend": false,
         "type": "scatter",
         "x": [
          "2025-08-19T14:35:00+02:00",
          "2025-08-19T14:40:00+02:00"
         ],
         "y": [
          0.8049999999999999,
          0.804
         ]
        },
        {
         "fill": "tozeroy",
         "fillcolor": "grey",
         "line": {
          "color": "grey",
          "width": 0.5
         },
         "mode": "lines",
         "name": "Other",
         "opacity": 0.4,
         "showlegend": false,
         "type": "scatter",
         "x": [
          "2025-08-19T14:40:00+02:00",
          "2025-08-19T14:45:00+02:00"
         ],
         "y": [
          0.804,
          0.8050000000000002
         ]
        },
        {
         "fill": "tozeroy",
         "fillcolor": "deepskyblue",
         "line": {
          "color": "deepskyblue",
          "width": 0.5
         },
         "mode": "lines",
         "name": "BullFlattener",
         "opacity": 0.4,
         "showlegend": false,
         "type": "scatter",
         "x": [
          "2025-08-19T14:45:00+02:00",
          "2025-08-19T14:50:00+02:00"
         ],
         "y": [
          0.8050000000000002,
          0.8050000000000002
         ]
        },
        {
         "fill": "tozeroy",
         "fillcolor": "red",
         "line": {
          "color": "red",
          "width": 0.5
         },
         "mode": "lines",
         "name": "BearSteepener",
         "opacity": 0.4,
         "showlegend": false,
         "type": "scatter",
         "x": [
          "2025-08-19T14:50:00+02:00",
          "2025-08-19T14:55:00+02:00"
         ],
         "y": [
          0.8050000000000002,
          0.8069999999999997
         ]
        },
        {
         "fill": "tozeroy",
         "fillcolor": "orange",
         "line": {
          "color": "orange",
          "width": 0.5
         },
         "mode": "lines",
         "name": "BearFlattener",
         "opacity": 0.4,
         "showlegend": false,
         "type": "scatter",
         "x": [
          "2025-08-19T14:55:00+02:00",
          "2025-08-19T15:00:00+02:00"
         ],
         "y": [
          0.8069999999999997,
          0.8039999999999998
         ]
        },
        {
         "fill": "tozeroy",
         "fillcolor": "orange",
         "line": {
          "color": "orange",
          "width": 0.5
         },
         "mode": "lines",
         "name": "BearFlattener",
         "opacity": 0.4,
         "showlegend": false,
         "type": "scatter",
         "x": [
          "2025-08-19T15:00:00+02:00",
          "2025-08-19T15:05:00+02:00"
         ],
         "y": [
          0.8039999999999998,
          0.8029999999999999
         ]
        },
        {
         "fill": "tozeroy",
         "fillcolor": "orange",
         "line": {
          "color": "orange",
          "width": 0.5
         },
         "mode": "lines",
         "name": "BearFlattener",
         "opacity": 0.4,
         "showlegend": false,
         "type": "scatter",
         "x": [
          "2025-08-19T15:05:00+02:00",
          "2025-08-19T15:10:00+02:00"
         ],
         "y": [
          0.8029999999999999,
          0.8029999999999999
         ]
        },
        {
         "fill": "tozeroy",
         "fillcolor": "orange",
         "line": {
          "color": "orange",
          "width": 0.5
         },
         "mode": "lines",
         "name": "BearFlattener",
         "opacity": 0.4,
         "showlegend": false,
         "type": "scatter",
         "x": [
          "2025-08-19T15:10:00+02:00",
          "2025-08-19T15:15:00+02:00"
         ],
         "y": [
          0.8029999999999999,
          0.802
         ]
        },
        {
         "fill": "tozeroy",
         "fillcolor": "violet",
         "line": {
          "color": "violet",
          "width": 0.5
         },
         "mode": "lines",
         "name": "TwistFlattener",
         "opacity": 0.4,
         "showlegend": false,
         "type": "scatter",
         "x": [
          "2025-08-19T15:15:00+02:00",
          "2025-08-19T15:20:00+02:00"
         ],
         "y": [
          0.802,
          0.7999999999999998
         ]
        },
        {
         "fill": "tozeroy",
         "fillcolor": "deepskyblue",
         "line": {
          "color": "deepskyblue",
          "width": 0.5
         },
         "mode": "lines",
         "name": "BullFlattener",
         "opacity": 0.4,
         "showlegend": false,
         "type": "scatter",
         "x": [
          "2025-08-19T15:20:00+02:00",
          "2025-08-19T15:25:00+02:00"
         ],
         "y": [
          0.7999999999999998,
          0.7989999999999997
         ]
        },
        {
         "fill": "tozeroy",
         "fillcolor": "deepskyblue",
         "line": {
          "color": "deepskyblue",
          "width": 0.5
         },
         "mode": "lines",
         "name": "BullFlattener",
         "opacity": 0.4,
         "showlegend": false,
         "type": "scatter",
         "x": [
          "2025-08-19T15:25:00+02:00",
          "2025-08-19T15:30:00+02:00"
         ],
         "y": [
          0.7989999999999997,
          0.7989999999999999
         ]
        },
        {
         "fill": "tozeroy",
         "fillcolor": "deepskyblue",
         "line": {
          "color": "deepskyblue",
          "width": 0.5
         },
         "mode": "lines",
         "name": "BullFlattener",
         "opacity": 0.4,
         "showlegend": false,
         "type": "scatter",
         "x": [
          "2025-08-19T15:30:00+02:00",
          "2025-08-19T15:35:00+02:00"
         ],
         "y": [
          0.7989999999999999,
          0.7990000000000002
         ]
        },
        {
         "fill": "tozeroy",
         "fillcolor": "deepskyblue",
         "line": {
          "color": "deepskyblue",
          "width": 0.5
         },
         "mode": "lines",
         "name": "BullFlattener",
         "opacity": 0.4,
         "showlegend": false,
         "type": "scatter",
         "x": [
          "2025-08-19T15:35:00+02:00",
          "2025-08-19T15:40:00+02:00"
         ],
         "y": [
          0.7990000000000002,
          0.7949999999999999
         ]
        },
        {
         "fill": "tozeroy",
         "fillcolor": "deepskyblue",
         "line": {
          "color": "deepskyblue",
          "width": 0.5
         },
         "mode": "lines",
         "name": "BullFlattener",
         "opacity": 0.4,
         "showlegend": false,
         "type": "scatter",
         "x": [
          "2025-08-19T15:40:00+02:00",
          "2025-08-19T15:45:00+02:00"
         ],
         "y": [
          0.7949999999999999,
          0.7949999999999999
         ]
        },
        {
         "fill": "tozeroy",
         "fillcolor": "deepskyblue",
         "line": {
          "color": "deepskyblue",
          "width": 0.5
         },
         "mode": "lines",
         "name": "BullFlattener",
         "opacity": 0.4,
         "showlegend": false,
         "type": "scatter",
         "x": [
          "2025-08-19T15:45:00+02:00",
          "2025-08-19T15:50:00+02:00"
         ],
         "y": [
          0.7949999999999999,
          0.7949999999999997
         ]
        },
        {
         "fill": "tozeroy",
         "fillcolor": "deepskyblue",
         "line": {
          "color": "deepskyblue",
          "width": 0.5
         },
         "mode": "lines",
         "name": "BullFlattener",
         "opacity": 0.4,
         "showlegend": false,
         "type": "scatter",
         "x": [
          "2025-08-19T15:50:00+02:00",
          "2025-08-19T15:55:00+02:00"
         ],
         "y": [
          0.7949999999999997,
          0.7969999999999997
         ]
        },
        {
         "fill": "tozeroy",
         "fillcolor": "deepskyblue",
         "line": {
          "color": "deepskyblue",
          "width": 0.5
         },
         "mode": "lines",
         "name": "BullFlattener",
         "opacity": 0.4,
         "showlegend": false,
         "type": "scatter",
         "x": [
          "2025-08-19T15:55:00+02:00",
          "2025-08-19T16:00:00+02:00"
         ],
         "y": [
          0.7969999999999997,
          0.7969999999999999
         ]
        },
        {
         "fill": "tozeroy",
         "fillcolor": "deepskyblue",
         "line": {
          "color": "deepskyblue",
          "width": 0.5
         },
         "mode": "lines",
         "name": "BullFlattener",
         "opacity": 0.4,
         "showlegend": false,
         "type": "scatter",
         "x": [
          "2025-08-19T16:00:00+02:00",
          "2025-08-19T16:05:00+02:00"
         ],
         "y": [
          0.7969999999999999,
          0.796
         ]
        },
        {
         "fill": "tozeroy",
         "fillcolor": "green",
         "line": {
          "color": "green",
          "width": 0.5
         },
         "mode": "lines",
         "name": "BullSteepener",
         "opacity": 0.4,
         "showlegend": false,
         "type": "scatter",
         "x": [
          "2025-08-19T16:05:00+02:00",
          "2025-08-19T16:10:00+02:00"
         ],
         "y": [
          0.796,
          0.796
         ]
        },
        {
         "fill": "tozeroy",
         "fillcolor": "red",
         "line": {
          "color": "red",
          "width": 0.5
         },
         "mode": "lines",
         "name": "BearSteepener",
         "opacity": 0.4,
         "showlegend": false,
         "type": "scatter",
         "x": [
          "2025-08-19T16:10:00+02:00",
          "2025-08-19T16:15:00+02:00"
         ],
         "y": [
          0.796,
          0.7969999999999997
         ]
        },
        {
         "fill": "tozeroy",
         "fillcolor": "gold",
         "line": {
          "color": "gold",
          "width": 0.5
         },
         "mode": "lines",
         "name": "TwistSteepener",
         "opacity": 0.4,
         "showlegend": false,
         "type": "scatter",
         "x": [
          "2025-08-19T16:15:00+02:00",
          "2025-08-19T16:20:00+02:00"
         ],
         "y": [
          0.7969999999999997,
          0.798
         ]
        },
        {
         "fill": "tozeroy",
         "fillcolor": "red",
         "line": {
          "color": "red",
          "width": 0.5
         },
         "mode": "lines",
         "name": "BearSteepener",
         "opacity": 0.4,
         "showlegend": false,
         "type": "scatter",
         "x": [
          "2025-08-19T16:20:00+02:00",
          "2025-08-19T16:25:00+02:00"
         ],
         "y": [
          0.798,
          0.7999999999999998
         ]
        },
        {
         "fill": "tozeroy",
         "fillcolor": "red",
         "line": {
          "color": "red",
          "width": 0.5
         },
         "mode": "lines",
         "name": "BearSteepener",
         "opacity": 0.4,
         "showlegend": false,
         "type": "scatter",
         "x": [
          "2025-08-19T16:25:00+02:00",
          "2025-08-19T16:30:00+02:00"
         ],
         "y": [
          0.7999999999999998,
          0.798
         ]
        },
        {
         "fill": "tozeroy",
         "fillcolor": "red",
         "line": {
          "color": "red",
          "width": 0.5
         },
         "mode": "lines",
         "name": "BearSteepener",
         "opacity": 0.4,
         "showlegend": false,
         "type": "scatter",
         "x": [
          "2025-08-19T16:30:00+02:00",
          "2025-08-19T16:35:00+02:00"
         ],
         "y": [
          0.798,
          0.7969999999999997
         ]
        },
        {
         "fill": "tozeroy",
         "fillcolor": "violet",
         "line": {
          "color": "violet",
          "width": 0.5
         },
         "mode": "lines",
         "name": "TwistFlattener",
         "opacity": 0.4,
         "showlegend": false,
         "type": "scatter",
         "x": [
          "2025-08-19T16:35:00+02:00",
          "2025-08-19T16:40:00+02:00"
         ],
         "y": [
          0.7969999999999997,
          0.7919999999999998
         ]
        },
        {
         "fill": "tozeroy",
         "fillcolor": "deepskyblue",
         "line": {
          "color": "deepskyblue",
          "width": 0.5
         },
         "mode": "lines",
         "name": "BullFlattener",
         "opacity": 0.4,
         "showlegend": false,
         "type": "scatter",
         "x": [
          "2025-08-19T16:40:00+02:00",
          "2025-08-19T16:45:00+02:00"
         ],
         "y": [
          0.7919999999999998,
          0.7930000000000001
         ]
        },
        {
         "fill": "tozeroy",
         "fillcolor": "deepskyblue",
         "line": {
          "color": "deepskyblue",
          "width": 0.5
         },
         "mode": "lines",
         "name": "BullFlattener",
         "opacity": 0.4,
         "showlegend": false,
         "type": "scatter",
         "x": [
          "2025-08-19T16:45:00+02:00",
          "2025-08-19T16:50:00+02:00"
         ],
         "y": [
          0.7930000000000001,
          0.7949999999999999
         ]
        },
        {
         "fill": "tozeroy",
         "fillcolor": "deepskyblue",
         "line": {
          "color": "deepskyblue",
          "width": 0.5
         },
         "mode": "lines",
         "name": "BullFlattener",
         "opacity": 0.4,
         "showlegend": false,
         "type": "scatter",
         "x": [
          "2025-08-19T16:50:00+02:00",
          "2025-08-19T16:55:00+02:00"
         ],
         "y": [
          0.7949999999999999,
          0.7960000000000003
         ]
        },
        {
         "fill": "tozeroy",
         "fillcolor": "deepskyblue",
         "line": {
          "color": "deepskyblue",
          "width": 0.5
         },
         "mode": "lines",
         "name": "BullFlattener",
         "opacity": 0.4,
         "showlegend": false,
         "type": "scatter",
         "x": [
          "2025-08-19T16:55:00+02:00",
          "2025-08-19T17:00:00+02:00"
         ],
         "y": [
          0.7960000000000003,
          0.7949999999999999
         ]
        },
        {
         "fill": "tozeroy",
         "fillcolor": "deepskyblue",
         "line": {
          "color": "deepskyblue",
          "width": 0.5
         },
         "mode": "lines",
         "name": "BullFlattener",
         "opacity": 0.4,
         "showlegend": false,
         "type": "scatter",
         "x": [
          "2025-08-19T17:00:00+02:00",
          "2025-08-19T17:05:00+02:00"
         ],
         "y": [
          0.7949999999999999,
          0.7950000000000002
         ]
        },
        {
         "fill": "tozeroy",
         "fillcolor": "gold",
         "line": {
          "color": "gold",
          "width": 0.5
         },
         "mode": "lines",
         "name": "TwistSteepener",
         "opacity": 0.4,
         "showlegend": false,
         "type": "scatter",
         "x": [
          "2025-08-19T17:05:00+02:00",
          "2025-08-19T17:10:00+02:00"
         ],
         "y": [
          0.7950000000000002,
          0.798
         ]
        },
        {
         "fill": "tozeroy",
         "fillcolor": "red",
         "line": {
          "color": "red",
          "width": 0.5
         },
         "mode": "lines",
         "name": "BearSteepener",
         "opacity": 0.4,
         "showlegend": false,
         "type": "scatter",
         "x": [
          "2025-08-19T17:10:00+02:00",
          "2025-08-19T17:15:00+02:00"
         ],
         "y": [
          0.798,
          0.7969999999999997
         ]
        },
        {
         "fill": "tozeroy",
         "fillcolor": "gold",
         "line": {
          "color": "gold",
          "width": 0.5
         },
         "mode": "lines",
         "name": "TwistSteepener",
         "opacity": 0.4,
         "showlegend": false,
         "type": "scatter",
         "x": [
          "2025-08-19T17:15:00+02:00",
          "2025-08-19T17:20:00+02:00"
         ],
         "y": [
          0.7969999999999997,
          0.7989999999999997
         ]
        },
        {
         "fill": "tozeroy",
         "fillcolor": "red",
         "line": {
          "color": "red",
          "width": 0.5
         },
         "mode": "lines",
         "name": "BearSteepener",
         "opacity": 0.4,
         "showlegend": false,
         "type": "scatter",
         "x": [
          "2025-08-19T17:20:00+02:00",
          "2025-08-19T17:25:00+02:00"
         ],
         "y": [
          0.7989999999999997,
          0.7999999999999998
         ]
        },
        {
         "fill": "tozeroy",
         "fillcolor": "gold",
         "line": {
          "color": "gold",
          "width": 0.5
         },
         "mode": "lines",
         "name": "TwistSteepener",
         "opacity": 0.4,
         "showlegend": false,
         "type": "scatter",
         "x": [
          "2025-08-19T17:25:00+02:00",
          "2025-08-19T17:30:00+02:00"
         ],
         "y": [
          0.7999999999999998,
          0.7979999999999998
         ]
        },
        {
         "fill": "tozeroy",
         "fillcolor": "red",
         "line": {
          "color": "red",
          "width": 0.5
         },
         "mode": "lines",
         "name": "BearSteepener",
         "opacity": 0.4,
         "showlegend": false,
         "type": "scatter",
         "x": [
          "2025-08-19T17:30:00+02:00",
          "2025-08-19T17:35:00+02:00"
         ],
         "y": [
          0.7979999999999998,
          0.7959999999999998
         ]
        },
        {
         "fill": "tozeroy",
         "fillcolor": "orange",
         "line": {
          "color": "orange",
          "width": 0.5
         },
         "mode": "lines",
         "name": "BearFlattener",
         "opacity": 0.4,
         "showlegend": false,
         "type": "scatter",
         "x": [
          "2025-08-19T17:35:00+02:00",
          "2025-08-19T17:40:00+02:00"
         ],
         "y": [
          0.7959999999999998,
          0.7969999999999997
         ]
        },
        {
         "fill": "tozeroy",
         "fillcolor": "deepskyblue",
         "line": {
          "color": "deepskyblue",
          "width": 0.5
         },
         "mode": "lines",
         "name": "BullFlattener",
         "opacity": 0.4,
         "showlegend": false,
         "type": "scatter",
         "x": [
          "2025-08-19T17:40:00+02:00",
          "2025-08-19T17:45:00+02:00"
         ],
         "y": [
          0.7969999999999997,
          0.7949999999999999
         ]
        },
        {
         "fill": "tozeroy",
         "fillcolor": "deepskyblue",
         "line": {
          "color": "deepskyblue",
          "width": 0.5
         },
         "mode": "lines",
         "name": "BullFlattener",
         "opacity": 0.4,
         "showlegend": false,
         "type": "scatter",
         "x": [
          "2025-08-19T17:45:00+02:00",
          "2025-08-19T17:50:00+02:00"
         ],
         "y": [
          0.7949999999999999,
          0.7950000000000002
         ]
        },
        {
         "fill": "tozeroy",
         "fillcolor": "violet",
         "line": {
          "color": "violet",
          "width": 0.5
         },
         "mode": "lines",
         "name": "TwistFlattener",
         "opacity": 0.4,
         "showlegend": false,
         "type": "scatter",
         "x": [
          "2025-08-19T17:50:00+02:00",
          "2025-08-19T17:55:00+02:00"
         ],
         "y": [
          0.7950000000000002,
          0.7939999999999998
         ]
        },
        {
         "fill": "tozeroy",
         "fillcolor": "green",
         "line": {
          "color": "green",
          "width": 0.5
         },
         "mode": "lines",
         "name": "BullSteepener",
         "opacity": 0.4,
         "showlegend": false,
         "type": "scatter",
         "x": [
          "2025-08-19T17:55:00+02:00",
          "2025-08-20T08:20:00+02:00"
         ],
         "y": [
          0.7939999999999998,
          0.7980000000000003
         ]
        },
        {
         "fill": "tozeroy",
         "fillcolor": "deepskyblue",
         "line": {
          "color": "deepskyblue",
          "width": 0.5
         },
         "mode": "lines",
         "name": "BullFlattener",
         "opacity": 0.4,
         "showlegend": false,
         "type": "scatter",
         "x": [
          "2025-08-20T08:20:00+02:00",
          "2025-08-20T08:25:00+02:00"
         ],
         "y": [
          0.7980000000000003,
          0.7949999999999999
         ]
        },
        {
         "fill": "tozeroy",
         "fillcolor": "deepskyblue",
         "line": {
          "color": "deepskyblue",
          "width": 0.5
         },
         "mode": "lines",
         "name": "BullFlattener",
         "opacity": 0.4,
         "showlegend": false,
         "type": "scatter",
         "x": [
          "2025-08-20T08:25:00+02:00",
          "2025-08-20T08:30:00+02:00"
         ],
         "y": [
          0.7949999999999999,
          0.792
         ]
        },
        {
         "fill": "tozeroy",
         "fillcolor": "deepskyblue",
         "line": {
          "color": "deepskyblue",
          "width": 0.5
         },
         "mode": "lines",
         "name": "BullFlattener",
         "opacity": 0.4,
         "showlegend": false,
         "type": "scatter",
         "x": [
          "2025-08-20T08:30:00+02:00",
          "2025-08-20T08:35:00+02:00"
         ],
         "y": [
          0.792,
          0.7909999999999999
         ]
        },
        {
         "fill": "tozeroy",
         "fillcolor": "deepskyblue",
         "line": {
          "color": "deepskyblue",
          "width": 0.5
         },
         "mode": "lines",
         "name": "BullFlattener",
         "opacity": 0.4,
         "showlegend": false,
         "type": "scatter",
         "x": [
          "2025-08-20T08:35:00+02:00",
          "2025-08-20T08:40:00+02:00"
         ],
         "y": [
          0.7909999999999999,
          0.7909999999999999
         ]
        },
        {
         "fill": "tozeroy",
         "fillcolor": "deepskyblue",
         "line": {
          "color": "deepskyblue",
          "width": 0.5
         },
         "mode": "lines",
         "name": "BullFlattener",
         "opacity": 0.4,
         "showlegend": false,
         "type": "scatter",
         "x": [
          "2025-08-20T08:40:00+02:00",
          "2025-08-20T08:45:00+02:00"
         ],
         "y": [
          0.7909999999999999,
          0.792
         ]
        },
        {
         "fill": "tozeroy",
         "fillcolor": "orange",
         "line": {
          "color": "orange",
          "width": 0.5
         },
         "mode": "lines",
         "name": "BearFlattener",
         "opacity": 0.4,
         "showlegend": false,
         "type": "scatter",
         "x": [
          "2025-08-20T08:45:00+02:00",
          "2025-08-20T08:50:00+02:00"
         ],
         "y": [
          0.792,
          0.7940000000000003
         ]
        },
        {
         "fill": "tozeroy",
         "fillcolor": "grey",
         "line": {
          "color": "grey",
          "width": 0.5
         },
         "mode": "lines",
         "name": "Other",
         "opacity": 0.4,
         "showlegend": false,
         "type": "scatter",
         "x": [
          "2025-08-20T08:50:00+02:00",
          "2025-08-20T08:55:00+02:00"
         ],
         "y": [
          0.7940000000000003,
          0.7949999999999999
         ]
        },
        {
         "fill": "tozeroy",
         "fillcolor": "red",
         "line": {
          "color": "red",
          "width": 0.5
         },
         "mode": "lines",
         "name": "BearSteepener",
         "opacity": 0.4,
         "showlegend": false,
         "type": "scatter",
         "x": [
          "2025-08-20T08:55:00+02:00",
          "2025-08-20T09:00:00+02:00"
         ],
         "y": [
          0.7949999999999999,
          0.7970000000000002
         ]
        },
        {
         "fill": "tozeroy",
         "fillcolor": "red",
         "line": {
          "color": "red",
          "width": 0.5
         },
         "mode": "lines",
         "name": "BearSteepener",
         "opacity": 0.4,
         "showlegend": false,
         "type": "scatter",
         "x": [
          "2025-08-20T09:00:00+02:00",
          "2025-08-20T09:05:00+02:00"
         ],
         "y": [
          0.7970000000000002,
          0.794
         ]
        },
        {
         "fill": "tozeroy",
         "fillcolor": "gold",
         "line": {
          "color": "gold",
          "width": 0.5
         },
         "mode": "lines",
         "name": "TwistSteepener",
         "opacity": 0.4,
         "showlegend": false,
         "type": "scatter",
         "x": [
          "2025-08-20T09:05:00+02:00",
          "2025-08-20T09:10:00+02:00"
         ],
         "y": [
          0.794,
          0.794
         ]
        },
        {
         "fill": "tozeroy",
         "fillcolor": "orange",
         "line": {
          "color": "orange",
          "width": 0.5
         },
         "mode": "lines",
         "name": "BearFlattener",
         "opacity": 0.4,
         "showlegend": false,
         "type": "scatter",
         "x": [
          "2025-08-20T09:10:00+02:00",
          "2025-08-20T09:15:00+02:00"
         ],
         "y": [
          0.794,
          0.7910000000000001
         ]
        },
        {
         "fill": "tozeroy",
         "fillcolor": "red",
         "line": {
          "color": "red",
          "width": 0.5
         },
         "mode": "lines",
         "name": "BearSteepener",
         "opacity": 0.4,
         "showlegend": false,
         "type": "scatter",
         "x": [
          "2025-08-20T09:15:00+02:00",
          "2025-08-20T09:20:00+02:00"
         ],
         "y": [
          0.7910000000000001,
          0.7949999999999999
         ]
        },
        {
         "fill": "tozeroy",
         "fillcolor": "green",
         "line": {
          "color": "green",
          "width": 0.5
         },
         "mode": "lines",
         "name": "BullSteepener",
         "opacity": 0.4,
         "showlegend": false,
         "type": "scatter",
         "x": [
          "2025-08-20T09:20:00+02:00",
          "2025-08-20T09:25:00+02:00"
         ],
         "y": [
          0.7949999999999999,
          0.7950000000000002
         ]
        },
        {
         "fill": "tozeroy",
         "fillcolor": "deepskyblue",
         "line": {
          "color": "deepskyblue",
          "width": 0.5
         },
         "mode": "lines",
         "name": "BullFlattener",
         "opacity": 0.4,
         "showlegend": false,
         "type": "scatter",
         "x": [
          "2025-08-20T09:25:00+02:00",
          "2025-08-20T09:30:00+02:00"
         ],
         "y": [
          0.7950000000000002,
          0.7949999999999999
         ]
        },
        {
         "fill": "tozeroy",
         "fillcolor": "red",
         "line": {
          "color": "red",
          "width": 0.5
         },
         "mode": "lines",
         "name": "BearSteepener",
         "opacity": 0.4,
         "showlegend": false,
         "type": "scatter",
         "x": [
          "2025-08-20T09:30:00+02:00",
          "2025-08-20T09:35:00+02:00"
         ],
         "y": [
          0.7949999999999999,
          0.7950000000000002
         ]
        },
        {
         "fill": "tozeroy",
         "fillcolor": "grey",
         "line": {
          "color": "grey",
          "width": 0.5
         },
         "mode": "lines",
         "name": "Other",
         "opacity": 0.4,
         "showlegend": false,
         "type": "scatter",
         "x": [
          "2025-08-20T09:35:00+02:00",
          "2025-08-20T09:40:00+02:00"
         ],
         "y": [
          0.7950000000000002,
          0.794
         ]
        },
        {
         "fill": "tozeroy",
         "fillcolor": "red",
         "line": {
          "color": "red",
          "width": 0.5
         },
         "mode": "lines",
         "name": "BearSteepener",
         "opacity": 0.4,
         "showlegend": false,
         "type": "scatter",
         "x": [
          "2025-08-20T09:40:00+02:00",
          "2025-08-20T09:45:00+02:00"
         ],
         "y": [
          0.794,
          0.7970000000000002
         ]
        },
        {
         "fill": "tozeroy",
         "fillcolor": "red",
         "line": {
          "color": "red",
          "width": 0.5
         },
         "mode": "lines",
         "name": "BearSteepener",
         "opacity": 0.4,
         "showlegend": false,
         "type": "scatter",
         "x": [
          "2025-08-20T09:45:00+02:00",
          "2025-08-20T09:50:00+02:00"
         ],
         "y": [
          0.7970000000000002,
          0.7970000000000002
         ]
        },
        {
         "fill": "tozeroy",
         "fillcolor": "red",
         "line": {
          "color": "red",
          "width": 0.5
         },
         "mode": "lines",
         "name": "BearSteepener",
         "opacity": 0.4,
         "showlegend": false,
         "type": "scatter",
         "x": [
          "2025-08-20T09:50:00+02:00",
          "2025-08-20T09:55:00+02:00"
         ],
         "y": [
          0.7970000000000002,
          0.798
         ]
        },
        {
         "fill": "tozeroy",
         "fillcolor": "gold",
         "line": {
          "color": "gold",
          "width": 0.5
         },
         "mode": "lines",
         "name": "TwistSteepener",
         "opacity": 0.4,
         "showlegend": false,
         "type": "scatter",
         "x": [
          "2025-08-20T09:55:00+02:00",
          "2025-08-20T10:00:00+02:00"
         ],
         "y": [
          0.798,
          0.7999999999999998
         ]
        },
        {
         "fill": "tozeroy",
         "fillcolor": "gold",
         "line": {
          "color": "gold",
          "width": 0.5
         },
         "mode": "lines",
         "name": "TwistSteepener",
         "opacity": 0.4,
         "showlegend": false,
         "type": "scatter",
         "x": [
          "2025-08-20T10:00:00+02:00",
          "2025-08-20T10:05:00+02:00"
         ],
         "y": [
          0.7999999999999998,
          0.8000000000000003
         ]
        },
        {
         "fill": "tozeroy",
         "fillcolor": "green",
         "line": {
          "color": "green",
          "width": 0.5
         },
         "mode": "lines",
         "name": "BullSteepener",
         "opacity": 0.4,
         "showlegend": false,
         "type": "scatter",
         "x": [
          "2025-08-20T10:05:00+02:00",
          "2025-08-20T10:10:00+02:00"
         ],
         "y": [
          0.8000000000000003,
          0.7940000000000003
         ]
        },
        {
         "fill": "tozeroy",
         "fillcolor": "deepskyblue",
         "line": {
          "color": "deepskyblue",
          "width": 0.5
         },
         "mode": "lines",
         "name": "BullFlattener",
         "opacity": 0.4,
         "showlegend": false,
         "type": "scatter",
         "x": [
          "2025-08-20T10:10:00+02:00",
          "2025-08-20T10:15:00+02:00"
         ],
         "y": [
          0.7940000000000003,
          0.7950000000000002
         ]
        },
        {
         "fill": "tozeroy",
         "fillcolor": "grey",
         "line": {
          "color": "grey",
          "width": 0.5
         },
         "mode": "lines",
         "name": "Other",
         "opacity": 0.4,
         "showlegend": false,
         "type": "scatter",
         "x": [
          "2025-08-20T10:15:00+02:00",
          "2025-08-20T10:20:00+02:00"
         ],
         "y": [
          0.7950000000000002,
          0.7970000000000002
         ]
        },
        {
         "fill": "tozeroy",
         "fillcolor": "deepskyblue",
         "line": {
          "color": "deepskyblue",
          "width": 0.5
         },
         "mode": "lines",
         "name": "BullFlattener",
         "opacity": 0.4,
         "showlegend": false,
         "type": "scatter",
         "x": [
          "2025-08-20T10:20:00+02:00",
          "2025-08-20T10:25:00+02:00"
         ],
         "y": [
          0.7970000000000002,
          0.7969999999999999
         ]
        },
        {
         "fill": "tozeroy",
         "fillcolor": "deepskyblue",
         "line": {
          "color": "deepskyblue",
          "width": 0.5
         },
         "mode": "lines",
         "name": "BullFlattener",
         "opacity": 0.4,
         "showlegend": false,
         "type": "scatter",
         "x": [
          "2025-08-20T10:25:00+02:00",
          "2025-08-20T10:30:00+02:00"
         ],
         "y": [
          0.7969999999999999,
          0.7959999999999998
         ]
        },
        {
         "fill": "tozeroy",
         "fillcolor": "deepskyblue",
         "line": {
          "color": "deepskyblue",
          "width": 0.5
         },
         "mode": "lines",
         "name": "BullFlattener",
         "opacity": 0.4,
         "showlegend": false,
         "type": "scatter",
         "x": [
          "2025-08-20T10:30:00+02:00",
          "2025-08-20T10:35:00+02:00"
         ],
         "y": [
          0.7959999999999998,
          0.7929999999999999
         ]
        },
        {
         "fill": "tozeroy",
         "fillcolor": "deepskyblue",
         "line": {
          "color": "deepskyblue",
          "width": 0.5
         },
         "mode": "lines",
         "name": "BullFlattener",
         "opacity": 0.4,
         "showlegend": false,
         "type": "scatter",
         "x": [
          "2025-08-20T10:35:00+02:00",
          "2025-08-20T10:40:00+02:00"
         ],
         "y": [
          0.7929999999999999,
          0.792
         ]
        },
        {
         "fill": "tozeroy",
         "fillcolor": "deepskyblue",
         "line": {
          "color": "deepskyblue",
          "width": 0.5
         },
         "mode": "lines",
         "name": "BullFlattener",
         "opacity": 0.4,
         "showlegend": false,
         "type": "scatter",
         "x": [
          "2025-08-20T10:40:00+02:00",
          "2025-08-20T10:45:00+02:00"
         ],
         "y": [
          0.792,
          0.7909999999999999
         ]
        },
        {
         "fill": "tozeroy",
         "fillcolor": "deepskyblue",
         "line": {
          "color": "deepskyblue",
          "width": 0.5
         },
         "mode": "lines",
         "name": "BullFlattener",
         "opacity": 0.4,
         "showlegend": false,
         "type": "scatter",
         "x": [
          "2025-08-20T10:45:00+02:00",
          "2025-08-20T10:50:00+02:00"
         ],
         "y": [
          0.7909999999999999,
          0.7930000000000001
         ]
        },
        {
         "fill": "tozeroy",
         "fillcolor": "deepskyblue",
         "line": {
          "color": "deepskyblue",
          "width": 0.5
         },
         "mode": "lines",
         "name": "BullFlattener",
         "opacity": 0.4,
         "showlegend": false,
         "type": "scatter",
         "x": [
          "2025-08-20T10:50:00+02:00",
          "2025-08-20T10:55:00+02:00"
         ],
         "y": [
          0.7930000000000001,
          0.7909999999999999
         ]
        },
        {
         "fill": "tozeroy",
         "fillcolor": "deepskyblue",
         "line": {
          "color": "deepskyblue",
          "width": 0.5
         },
         "mode": "lines",
         "name": "BullFlattener",
         "opacity": 0.4,
         "showlegend": false,
         "type": "scatter",
         "x": [
          "2025-08-20T10:55:00+02:00",
          "2025-08-20T11:00:00+02:00"
         ],
         "y": [
          0.7909999999999999,
          0.7880000000000003
         ]
        },
        {
         "fill": "tozeroy",
         "fillcolor": "deepskyblue",
         "line": {
          "color": "deepskyblue",
          "width": 0.5
         },
         "mode": "lines",
         "name": "BullFlattener",
         "opacity": 0.4,
         "showlegend": false,
         "type": "scatter",
         "x": [
          "2025-08-20T11:00:00+02:00",
          "2025-08-20T11:05:00+02:00"
         ],
         "y": [
          0.7880000000000003,
          0.7890000000000001
         ]
        },
        {
         "fill": "tozeroy",
         "fillcolor": "deepskyblue",
         "line": {
          "color": "deepskyblue",
          "width": 0.5
         },
         "mode": "lines",
         "name": "BullFlattener",
         "opacity": 0.4,
         "showlegend": false,
         "type": "scatter",
         "x": [
          "2025-08-20T11:05:00+02:00",
          "2025-08-20T11:10:00+02:00"
         ],
         "y": [
          0.7890000000000001,
          0.7890000000000001
         ]
        },
        {
         "fill": "tozeroy",
         "fillcolor": "deepskyblue",
         "line": {
          "color": "deepskyblue",
          "width": 0.5
         },
         "mode": "lines",
         "name": "BullFlattener",
         "opacity": 0.4,
         "showlegend": false,
         "type": "scatter",
         "x": [
          "2025-08-20T11:10:00+02:00",
          "2025-08-20T11:15:00+02:00"
         ],
         "y": [
          0.7890000000000001,
          0.7870000000000001
         ]
        },
        {
         "fill": "tozeroy",
         "fillcolor": "deepskyblue",
         "line": {
          "color": "deepskyblue",
          "width": 0.5
         },
         "mode": "lines",
         "name": "BullFlattener",
         "opacity": 0.4,
         "showlegend": false,
         "type": "scatter",
         "x": [
          "2025-08-20T11:15:00+02:00",
          "2025-08-20T11:20:00+02:00"
         ],
         "y": [
          0.7870000000000001,
          0.788
         ]
        },
        {
         "fill": "tozeroy",
         "fillcolor": "orange",
         "line": {
          "color": "orange",
          "width": 0.5
         },
         "mode": "lines",
         "name": "BearFlattener",
         "opacity": 0.4,
         "showlegend": false,
         "type": "scatter",
         "x": [
          "2025-08-20T11:20:00+02:00",
          "2025-08-20T11:25:00+02:00"
         ],
         "y": [
          0.788,
          0.7870000000000001
         ]
        },
        {
         "fill": "tozeroy",
         "fillcolor": "red",
         "line": {
          "color": "red",
          "width": 0.5
         },
         "mode": "lines",
         "name": "BearSteepener",
         "opacity": 0.4,
         "showlegend": false,
         "type": "scatter",
         "x": [
          "2025-08-20T11:25:00+02:00",
          "2025-08-20T11:30:00+02:00"
         ],
         "y": [
          0.7870000000000001,
          0.7909999999999999
         ]
        },
        {
         "fill": "tozeroy",
         "fillcolor": "red",
         "line": {
          "color": "red",
          "width": 0.5
         },
         "mode": "lines",
         "name": "BearSteepener",
         "opacity": 0.4,
         "showlegend": false,
         "type": "scatter",
         "x": [
          "2025-08-20T11:30:00+02:00",
          "2025-08-20T11:35:00+02:00"
         ],
         "y": [
          0.7909999999999999,
          0.7920000000000003
         ]
        },
        {
         "fill": "tozeroy",
         "fillcolor": "red",
         "line": {
          "color": "red",
          "width": 0.5
         },
         "mode": "lines",
         "name": "BearSteepener",
         "opacity": 0.4,
         "showlegend": false,
         "type": "scatter",
         "x": [
          "2025-08-20T11:35:00+02:00",
          "2025-08-20T11:40:00+02:00"
         ],
         "y": [
          0.7920000000000003,
          0.7899999999999998
         ]
        },
        {
         "fill": "tozeroy",
         "fillcolor": "red",
         "line": {
          "color": "red",
          "width": 0.5
         },
         "mode": "lines",
         "name": "BearSteepener",
         "opacity": 0.4,
         "showlegend": false,
         "type": "scatter",
         "x": [
          "2025-08-20T11:40:00+02:00",
          "2025-08-20T11:45:00+02:00"
         ],
         "y": [
          0.7899999999999998,
          0.7890000000000001
         ]
        },
        {
         "fill": "tozeroy",
         "fillcolor": "orange",
         "line": {
          "color": "orange",
          "width": 0.5
         },
         "mode": "lines",
         "name": "BearFlattener",
         "opacity": 0.4,
         "showlegend": false,
         "type": "scatter",
         "x": [
          "2025-08-20T11:45:00+02:00",
          "2025-08-20T11:50:00+02:00"
         ],
         "y": [
          0.7890000000000001,
          0.7869999999999999
         ]
        },
        {
         "fill": "tozeroy",
         "fillcolor": "green",
         "line": {
          "color": "green",
          "width": 0.5
         },
         "mode": "lines",
         "name": "BullSteepener",
         "opacity": 0.4,
         "showlegend": false,
         "type": "scatter",
         "x": [
          "2025-08-20T11:50:00+02:00",
          "2025-08-20T11:55:00+02:00"
         ],
         "y": [
          0.7869999999999999,
          0.788
         ]
        },
        {
         "fill": "tozeroy",
         "fillcolor": "deepskyblue",
         "line": {
          "color": "deepskyblue",
          "width": 0.5
         },
         "mode": "lines",
         "name": "BullFlattener",
         "opacity": 0.4,
         "showlegend": false,
         "type": "scatter",
         "x": [
          "2025-08-20T11:55:00+02:00",
          "2025-08-20T12:00:00+02:00"
         ],
         "y": [
          0.788,
          0.7889999999999999
         ]
        },
        {
         "fill": "tozeroy",
         "fillcolor": "deepskyblue",
         "line": {
          "color": "deepskyblue",
          "width": 0.5
         },
         "mode": "lines",
         "name": "BullFlattener",
         "opacity": 0.4,
         "showlegend": false,
         "type": "scatter",
         "x": [
          "2025-08-20T12:00:00+02:00",
          "2025-08-20T12:05:00+02:00"
         ],
         "y": [
          0.7889999999999999,
          0.788
         ]
        },
        {
         "fill": "tozeroy",
         "fillcolor": "deepskyblue",
         "line": {
          "color": "deepskyblue",
          "width": 0.5
         },
         "mode": "lines",
         "name": "BullFlattener",
         "opacity": 0.4,
         "showlegend": false,
         "type": "scatter",
         "x": [
          "2025-08-20T12:05:00+02:00",
          "2025-08-20T12:10:00+02:00"
         ],
         "y": [
          0.788,
          0.7890000000000001
         ]
        },
        {
         "fill": "tozeroy",
         "fillcolor": "deepskyblue",
         "line": {
          "color": "deepskyblue",
          "width": 0.5
         },
         "mode": "lines",
         "name": "BullFlattener",
         "opacity": 0.4,
         "showlegend": false,
         "type": "scatter",
         "x": [
          "2025-08-20T12:10:00+02:00",
          "2025-08-20T12:15:00+02:00"
         ],
         "y": [
          0.7890000000000001,
          0.7880000000000003
         ]
        },
        {
         "fill": "tozeroy",
         "fillcolor": "green",
         "line": {
          "color": "green",
          "width": 0.5
         },
         "mode": "lines",
         "name": "BullSteepener",
         "opacity": 0.4,
         "showlegend": false,
         "type": "scatter",
         "x": [
          "2025-08-20T12:15:00+02:00",
          "2025-08-20T12:20:00+02:00"
         ],
         "y": [
          0.7880000000000003,
          0.7909999999999999
         ]
        },
        {
         "fill": "tozeroy",
         "fillcolor": "grey",
         "line": {
          "color": "grey",
          "width": 0.5
         },
         "mode": "lines",
         "name": "Other",
         "opacity": 0.4,
         "showlegend": false,
         "type": "scatter",
         "x": [
          "2025-08-20T12:20:00+02:00",
          "2025-08-20T12:25:00+02:00"
         ],
         "y": [
          0.7909999999999999,
          0.788
         ]
        },
        {
         "fill": "tozeroy",
         "fillcolor": "green",
         "line": {
          "color": "green",
          "width": 0.5
         },
         "mode": "lines",
         "name": "BullSteepener",
         "opacity": 0.4,
         "showlegend": false,
         "type": "scatter",
         "x": [
          "2025-08-20T12:25:00+02:00",
          "2025-08-20T12:30:00+02:00"
         ],
         "y": [
          0.788,
          0.7899999999999998
         ]
        },
        {
         "fill": "tozeroy",
         "fillcolor": "red",
         "line": {
          "color": "red",
          "width": 0.5
         },
         "mode": "lines",
         "name": "BearSteepener",
         "opacity": 0.4,
         "showlegend": false,
         "type": "scatter",
         "x": [
          "2025-08-20T12:30:00+02:00",
          "2025-08-20T12:35:00+02:00"
         ],
         "y": [
          0.7899999999999998,
          0.7890000000000001
         ]
        },
        {
         "fill": "tozeroy",
         "fillcolor": "orange",
         "line": {
          "color": "orange",
          "width": 0.5
         },
         "mode": "lines",
         "name": "BearFlattener",
         "opacity": 0.4,
         "showlegend": false,
         "type": "scatter",
         "x": [
          "2025-08-20T12:35:00+02:00",
          "2025-08-20T12:40:00+02:00"
         ],
         "y": [
          0.7890000000000001,
          0.7889999999999999
         ]
        },
        {
         "fill": "tozeroy",
         "fillcolor": "red",
         "line": {
          "color": "red",
          "width": 0.5
         },
         "mode": "lines",
         "name": "BearSteepener",
         "opacity": 0.4,
         "showlegend": false,
         "type": "scatter",
         "x": [
          "2025-08-20T12:40:00+02:00",
          "2025-08-20T12:45:00+02:00"
         ],
         "y": [
          0.7889999999999999,
          0.7889999999999999
         ]
        },
        {
         "fill": "tozeroy",
         "fillcolor": "orange",
         "line": {
          "color": "orange",
          "width": 0.5
         },
         "mode": "lines",
         "name": "BearFlattener",
         "opacity": 0.4,
         "showlegend": false,
         "type": "scatter",
         "x": [
          "2025-08-20T12:45:00+02:00",
          "2025-08-20T12:50:00+02:00"
         ],
         "y": [
          0.7889999999999999,
          0.7889999999999999
         ]
        },
        {
         "fill": "tozeroy",
         "fillcolor": "green",
         "line": {
          "color": "green",
          "width": 0.5
         },
         "mode": "lines",
         "name": "BullSteepener",
         "opacity": 0.4,
         "showlegend": false,
         "type": "scatter",
         "x": [
          "2025-08-20T12:50:00+02:00",
          "2025-08-20T12:55:00+02:00"
         ],
         "y": [
          0.7889999999999999,
          0.7890000000000001
         ]
        },
        {
         "fill": "tozeroy",
         "fillcolor": "deepskyblue",
         "line": {
          "color": "deepskyblue",
          "width": 0.5
         },
         "mode": "lines",
         "name": "BullFlattener",
         "opacity": 0.4,
         "showlegend": false,
         "type": "scatter",
         "x": [
          "2025-08-20T12:55:00+02:00",
          "2025-08-20T13:00:00+02:00"
         ],
         "y": [
          0.7890000000000001,
          0.7870000000000001
         ]
        },
        {
         "fill": "tozeroy",
         "fillcolor": "deepskyblue",
         "line": {
          "color": "deepskyblue",
          "width": 0.5
         },
         "mode": "lines",
         "name": "BullFlattener",
         "opacity": 0.4,
         "showlegend": false,
         "type": "scatter",
         "x": [
          "2025-08-20T13:00:00+02:00",
          "2025-08-20T13:05:00+02:00"
         ],
         "y": [
          0.7870000000000001,
          0.7879999999999998
         ]
        },
        {
         "line": {
          "color": "white",
          "width": 2
         },
         "mode": "lines",
         "name": "2s10s",
         "type": "scatter",
         "x": [
          "2025-08-18T08:25:00+02:00",
          "2025-08-18T08:30:00+02:00",
          "2025-08-18T08:35:00+02:00",
          "2025-08-18T08:40:00+02:00",
          "2025-08-18T08:45:00+02:00",
          "2025-08-18T08:50:00+02:00",
          "2025-08-18T08:55:00+02:00",
          "2025-08-18T09:00:00+02:00",
          "2025-08-18T09:05:00+02:00",
          "2025-08-18T09:10:00+02:00",
          "2025-08-18T09:15:00+02:00",
          "2025-08-18T09:20:00+02:00",
          "2025-08-18T09:25:00+02:00",
          "2025-08-18T09:30:00+02:00",
          "2025-08-18T09:35:00+02:00",
          "2025-08-18T09:40:00+02:00",
          "2025-08-18T09:45:00+02:00",
          "2025-08-18T09:50:00+02:00",
          "2025-08-18T09:55:00+02:00",
          "2025-08-18T10:00:00+02:00",
          "2025-08-18T10:05:00+02:00",
          "2025-08-18T10:10:00+02:00",
          "2025-08-18T10:15:00+02:00",
          "2025-08-18T10:20:00+02:00",
          "2025-08-18T10:25:00+02:00",
          "2025-08-18T10:30:00+02:00",
          "2025-08-18T10:35:00+02:00",
          "2025-08-18T10:40:00+02:00",
          "2025-08-18T10:45:00+02:00",
          "2025-08-18T10:50:00+02:00",
          "2025-08-18T10:55:00+02:00",
          "2025-08-18T11:00:00+02:00",
          "2025-08-18T11:05:00+02:00",
          "2025-08-18T11:10:00+02:00",
          "2025-08-18T11:15:00+02:00",
          "2025-08-18T11:20:00+02:00",
          "2025-08-18T11:25:00+02:00",
          "2025-08-18T11:30:00+02:00",
          "2025-08-18T11:35:00+02:00",
          "2025-08-18T11:40:00+02:00",
          "2025-08-18T11:45:00+02:00",
          "2025-08-18T11:50:00+02:00",
          "2025-08-18T11:55:00+02:00",
          "2025-08-18T12:00:00+02:00",
          "2025-08-18T12:05:00+02:00",
          "2025-08-18T12:10:00+02:00",
          "2025-08-18T12:15:00+02:00",
          "2025-08-18T12:20:00+02:00",
          "2025-08-18T12:25:00+02:00",
          "2025-08-18T12:30:00+02:00",
          "2025-08-18T12:35:00+02:00",
          "2025-08-18T12:40:00+02:00",
          "2025-08-18T12:45:00+02:00",
          "2025-08-18T12:50:00+02:00",
          "2025-08-18T12:55:00+02:00",
          "2025-08-18T13:00:00+02:00",
          "2025-08-18T13:05:00+02:00",
          "2025-08-18T13:10:00+02:00",
          "2025-08-18T13:15:00+02:00",
          "2025-08-18T13:20:00+02:00",
          "2025-08-18T13:25:00+02:00",
          "2025-08-18T13:30:00+02:00",
          "2025-08-18T13:35:00+02:00",
          "2025-08-18T13:40:00+02:00",
          "2025-08-18T13:45:00+02:00",
          "2025-08-18T13:50:00+02:00",
          "2025-08-18T13:55:00+02:00",
          "2025-08-18T14:00:00+02:00",
          "2025-08-18T14:05:00+02:00",
          "2025-08-18T14:10:00+02:00",
          "2025-08-18T14:15:00+02:00",
          "2025-08-18T14:20:00+02:00",
          "2025-08-18T14:25:00+02:00",
          "2025-08-18T14:30:00+02:00",
          "2025-08-18T14:35:00+02:00",
          "2025-08-18T14:40:00+02:00",
          "2025-08-18T14:45:00+02:00",
          "2025-08-18T14:50:00+02:00",
          "2025-08-18T14:55:00+02:00",
          "2025-08-18T15:00:00+02:00",
          "2025-08-18T15:05:00+02:00",
          "2025-08-18T15:10:00+02:00",
          "2025-08-18T15:15:00+02:00",
          "2025-08-18T15:20:00+02:00",
          "2025-08-18T15:25:00+02:00",
          "2025-08-18T15:30:00+02:00",
          "2025-08-18T15:35:00+02:00",
          "2025-08-18T15:40:00+02:00",
          "2025-08-18T15:45:00+02:00",
          "2025-08-18T15:50:00+02:00",
          "2025-08-18T15:55:00+02:00",
          "2025-08-18T16:00:00+02:00",
          "2025-08-18T16:05:00+02:00",
          "2025-08-18T16:10:00+02:00",
          "2025-08-18T16:15:00+02:00",
          "2025-08-18T16:20:00+02:00",
          "2025-08-18T16:25:00+02:00",
          "2025-08-18T16:30:00+02:00",
          "2025-08-18T16:35:00+02:00",
          "2025-08-18T16:40:00+02:00",
          "2025-08-18T16:45:00+02:00",
          "2025-08-18T16:50:00+02:00",
          "2025-08-18T16:55:00+02:00",
          "2025-08-18T17:00:00+02:00",
          "2025-08-18T17:05:00+02:00",
          "2025-08-18T17:10:00+02:00",
          "2025-08-18T17:15:00+02:00",
          "2025-08-18T17:20:00+02:00",
          "2025-08-18T17:25:00+02:00",
          "2025-08-18T17:30:00+02:00",
          "2025-08-18T17:35:00+02:00",
          "2025-08-18T17:40:00+02:00",
          "2025-08-18T17:45:00+02:00",
          "2025-08-18T17:50:00+02:00",
          "2025-08-18T17:55:00+02:00",
          "2025-08-19T08:20:00+02:00",
          "2025-08-19T08:25:00+02:00",
          "2025-08-19T08:30:00+02:00",
          "2025-08-19T08:35:00+02:00",
          "2025-08-19T08:40:00+02:00",
          "2025-08-19T08:45:00+02:00",
          "2025-08-19T08:50:00+02:00",
          "2025-08-19T08:55:00+02:00",
          "2025-08-19T09:00:00+02:00",
          "2025-08-19T09:05:00+02:00",
          "2025-08-19T09:10:00+02:00",
          "2025-08-19T09:15:00+02:00",
          "2025-08-19T09:20:00+02:00",
          "2025-08-19T09:25:00+02:00",
          "2025-08-19T09:30:00+02:00",
          "2025-08-19T09:35:00+02:00",
          "2025-08-19T09:40:00+02:00",
          "2025-08-19T09:45:00+02:00",
          "2025-08-19T09:50:00+02:00",
          "2025-08-19T09:55:00+02:00",
          "2025-08-19T10:00:00+02:00",
          "2025-08-19T10:05:00+02:00",
          "2025-08-19T10:10:00+02:00",
          "2025-08-19T10:15:00+02:00",
          "2025-08-19T10:20:00+02:00",
          "2025-08-19T10:25:00+02:00",
          "2025-08-19T10:30:00+02:00",
          "2025-08-19T10:35:00+02:00",
          "2025-08-19T10:40:00+02:00",
          "2025-08-19T10:45:00+02:00",
          "2025-08-19T10:50:00+02:00",
          "2025-08-19T10:55:00+02:00",
          "2025-08-19T11:00:00+02:00",
          "2025-08-19T11:05:00+02:00",
          "2025-08-19T11:10:00+02:00",
          "2025-08-19T11:15:00+02:00",
          "2025-08-19T11:20:00+02:00",
          "2025-08-19T11:25:00+02:00",
          "2025-08-19T11:30:00+02:00",
          "2025-08-19T11:35:00+02:00",
          "2025-08-19T11:40:00+02:00",
          "2025-08-19T11:45:00+02:00",
          "2025-08-19T11:50:00+02:00",
          "2025-08-19T11:55:00+02:00",
          "2025-08-19T12:00:00+02:00",
          "2025-08-19T12:05:00+02:00",
          "2025-08-19T12:10:00+02:00",
          "2025-08-19T12:15:00+02:00",
          "2025-08-19T12:20:00+02:00",
          "2025-08-19T12:25:00+02:00",
          "2025-08-19T12:30:00+02:00",
          "2025-08-19T12:35:00+02:00",
          "2025-08-19T12:40:00+02:00",
          "2025-08-19T12:45:00+02:00",
          "2025-08-19T12:50:00+02:00",
          "2025-08-19T12:55:00+02:00",
          "2025-08-19T13:00:00+02:00",
          "2025-08-19T13:05:00+02:00",
          "2025-08-19T13:10:00+02:00",
          "2025-08-19T13:15:00+02:00",
          "2025-08-19T13:20:00+02:00",
          "2025-08-19T13:25:00+02:00",
          "2025-08-19T13:30:00+02:00",
          "2025-08-19T13:35:00+02:00",
          "2025-08-19T13:40:00+02:00",
          "2025-08-19T13:45:00+02:00",
          "2025-08-19T13:50:00+02:00",
          "2025-08-19T13:55:00+02:00",
          "2025-08-19T14:00:00+02:00",
          "2025-08-19T14:05:00+02:00",
          "2025-08-19T14:10:00+02:00",
          "2025-08-19T14:15:00+02:00",
          "2025-08-19T14:20:00+02:00",
          "2025-08-19T14:25:00+02:00",
          "2025-08-19T14:30:00+02:00",
          "2025-08-19T14:35:00+02:00",
          "2025-08-19T14:40:00+02:00",
          "2025-08-19T14:45:00+02:00",
          "2025-08-19T14:50:00+02:00",
          "2025-08-19T14:55:00+02:00",
          "2025-08-19T15:00:00+02:00",
          "2025-08-19T15:05:00+02:00",
          "2025-08-19T15:10:00+02:00",
          "2025-08-19T15:15:00+02:00",
          "2025-08-19T15:20:00+02:00",
          "2025-08-19T15:25:00+02:00",
          "2025-08-19T15:30:00+02:00",
          "2025-08-19T15:35:00+02:00",
          "2025-08-19T15:40:00+02:00",
          "2025-08-19T15:45:00+02:00",
          "2025-08-19T15:50:00+02:00",
          "2025-08-19T15:55:00+02:00",
          "2025-08-19T16:00:00+02:00",
          "2025-08-19T16:05:00+02:00",
          "2025-08-19T16:10:00+02:00",
          "2025-08-19T16:15:00+02:00",
          "2025-08-19T16:20:00+02:00",
          "2025-08-19T16:25:00+02:00",
          "2025-08-19T16:30:00+02:00",
          "2025-08-19T16:35:00+02:00",
          "2025-08-19T16:40:00+02:00",
          "2025-08-19T16:45:00+02:00",
          "2025-08-19T16:50:00+02:00",
          "2025-08-19T16:55:00+02:00",
          "2025-08-19T17:00:00+02:00",
          "2025-08-19T17:05:00+02:00",
          "2025-08-19T17:10:00+02:00",
          "2025-08-19T17:15:00+02:00",
          "2025-08-19T17:20:00+02:00",
          "2025-08-19T17:25:00+02:00",
          "2025-08-19T17:30:00+02:00",
          "2025-08-19T17:35:00+02:00",
          "2025-08-19T17:40:00+02:00",
          "2025-08-19T17:45:00+02:00",
          "2025-08-19T17:50:00+02:00",
          "2025-08-19T17:55:00+02:00",
          "2025-08-20T08:20:00+02:00",
          "2025-08-20T08:25:00+02:00",
          "2025-08-20T08:30:00+02:00",
          "2025-08-20T08:35:00+02:00",
          "2025-08-20T08:40:00+02:00",
          "2025-08-20T08:45:00+02:00",
          "2025-08-20T08:50:00+02:00",
          "2025-08-20T08:55:00+02:00",
          "2025-08-20T09:00:00+02:00",
          "2025-08-20T09:05:00+02:00",
          "2025-08-20T09:10:00+02:00",
          "2025-08-20T09:15:00+02:00",
          "2025-08-20T09:20:00+02:00",
          "2025-08-20T09:25:00+02:00",
          "2025-08-20T09:30:00+02:00",
          "2025-08-20T09:35:00+02:00",
          "2025-08-20T09:40:00+02:00",
          "2025-08-20T09:45:00+02:00",
          "2025-08-20T09:50:00+02:00",
          "2025-08-20T09:55:00+02:00",
          "2025-08-20T10:00:00+02:00",
          "2025-08-20T10:05:00+02:00",
          "2025-08-20T10:10:00+02:00",
          "2025-08-20T10:15:00+02:00",
          "2025-08-20T10:20:00+02:00",
          "2025-08-20T10:25:00+02:00",
          "2025-08-20T10:30:00+02:00",
          "2025-08-20T10:35:00+02:00",
          "2025-08-20T10:40:00+02:00",
          "2025-08-20T10:45:00+02:00",
          "2025-08-20T10:50:00+02:00",
          "2025-08-20T10:55:00+02:00",
          "2025-08-20T11:00:00+02:00",
          "2025-08-20T11:05:00+02:00",
          "2025-08-20T11:10:00+02:00",
          "2025-08-20T11:15:00+02:00",
          "2025-08-20T11:20:00+02:00",
          "2025-08-20T11:25:00+02:00",
          "2025-08-20T11:30:00+02:00",
          "2025-08-20T11:35:00+02:00",
          "2025-08-20T11:40:00+02:00",
          "2025-08-20T11:45:00+02:00",
          "2025-08-20T11:50:00+02:00",
          "2025-08-20T11:55:00+02:00",
          "2025-08-20T12:00:00+02:00",
          "2025-08-20T12:05:00+02:00",
          "2025-08-20T12:10:00+02:00",
          "2025-08-20T12:15:00+02:00",
          "2025-08-20T12:20:00+02:00",
          "2025-08-20T12:25:00+02:00",
          "2025-08-20T12:30:00+02:00",
          "2025-08-20T12:35:00+02:00",
          "2025-08-20T12:40:00+02:00",
          "2025-08-20T12:45:00+02:00",
          "2025-08-20T12:50:00+02:00",
          "2025-08-20T12:55:00+02:00",
          "2025-08-20T13:00:00+02:00",
          "2025-08-20T13:05:00+02:00"
         ],
         "y": {
          "bdata": "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",
          "dtype": "f8"
         }
        },
        {
         "line": {
          "color": "green",
          "width": 10
         },
         "mode": "lines",
         "name": "BullSteepener",
         "showlegend": true,
         "type": "scatter",
         "x": [
          null
         ],
         "y": [
          null
         ]
        },
        {
         "line": {
          "color": "red",
          "width": 10
         },
         "mode": "lines",
         "name": "BearSteepener",
         "showlegend": true,
         "type": "scatter",
         "x": [
          null
         ],
         "y": [
          null
         ]
        },
        {
         "line": {
          "color": "deepskyblue",
          "width": 10
         },
         "mode": "lines",
         "name": "BullFlattener",
         "showlegend": true,
         "type": "scatter",
         "x": [
          null
         ],
         "y": [
          null
         ]
        },
        {
         "line": {
          "color": "orange",
          "width": 10
         },
         "mode": "lines",
         "name": "BearFlattener",
         "showlegend": true,
         "type": "scatter",
         "x": [
          null
         ],
         "y": [
          null
         ]
        },
        {
         "line": {
          "color": "violet",
          "width": 10
         },
         "mode": "lines",
         "name": "TwistFlattener",
         "showlegend": true,
         "type": "scatter",
         "x": [
          null
         ],
         "y": [
          null
         ]
        },
        {
         "line": {
          "color": "gold",
          "width": 10
         },
         "mode": "lines",
         "name": "TwistSteepener",
         "showlegend": true,
         "type": "scatter",
         "x": [
          null
         ],
         "y": [
          null
         ]
        },
        {
         "line": {
          "color": "grey",
          "width": 10
         },
         "mode": "lines",
         "name": "Other",
         "showlegend": true,
         "type": "scatter",
         "x": [
          null
         ],
         "y": [
          null
         ]
        }
       ],
       "layout": {
        "hovermode": "x unified",
        "legend": {
         "bgcolor": "rgba(0,0,0,0)",
         "font": {
          "color": "white",
          "size": 10
         },
         "orientation": "v",
         "x": 0.01,
         "xanchor": "left",
         "y": 1,
         "yanchor": "top"
        },
        "margin": {
         "b": 40,
         "l": 60,
         "r": 20,
         "t": 60
        },
        "paper_bgcolor": "black",
        "plot_bgcolor": "black",
        "template": {
         "data": {
          "bar": [
           {
            "error_x": {
             "color": "#2a3f5f"
            },
            "error_y": {
             "color": "#2a3f5f"
            },
            "marker": {
             "line": {
              "color": "#E5ECF6",
              "width": 0.5
             },
             "pattern": {
              "fillmode": "overlay",
              "size": 10,
              "solidity": 0.2
             }
            },
            "type": "bar"
           }
          ],
          "barpolar": [
           {
            "marker": {
             "line": {
              "color": "#E5ECF6",
              "width": 0.5
             },
             "pattern": {
              "fillmode": "overlay",
              "size": 10,
              "solidity": 0.2
             }
            },
            "type": "barpolar"
           }
          ],
          "carpet": [
           {
            "aaxis": {
             "endlinecolor": "#2a3f5f",
             "gridcolor": "white",
             "linecolor": "white",
             "minorgridcolor": "white",
             "startlinecolor": "#2a3f5f"
            },
            "baxis": {
             "endlinecolor": "#2a3f5f",
             "gridcolor": "white",
             "linecolor": "white",
             "minorgridcolor": "white",
             "startlinecolor": "#2a3f5f"
            },
            "type": "carpet"
           }
          ],
          "choropleth": [
           {
            "colorbar": {
             "outlinewidth": 0,
             "ticks": ""
            },
            "type": "choropleth"
           }
          ],
          "contour": [
           {
            "colorbar": {
             "outlinewidth": 0,
             "ticks": ""
            },
            "colorscale": [
             [
              0,
              "#0d0887"
             ],
             [
              0.1111111111111111,
              "#46039f"
             ],
             [
              0.2222222222222222,
              "#7201a8"
             ],
             [
              0.3333333333333333,
              "#9c179e"
             ],
             [
              0.4444444444444444,
              "#bd3786"
             ],
             [
              0.5555555555555556,
              "#d8576b"
             ],
             [
              0.6666666666666666,
              "#ed7953"
             ],
             [
              0.7777777777777778,
              "#fb9f3a"
             ],
             [
              0.8888888888888888,
              "#fdca26"
             ],
             [
              1,
              "#f0f921"
             ]
            ],
            "type": "contour"
           }
          ],
          "contourcarpet": [
           {
            "colorbar": {
             "outlinewidth": 0,
             "ticks": ""
            },
            "type": "contourcarpet"
           }
          ],
          "heatmap": [
           {
            "colorbar": {
             "outlinewidth": 0,
             "ticks": ""
            },
            "colorscale": [
             [
              0,
              "#0d0887"
             ],
             [
              0.1111111111111111,
              "#46039f"
             ],
             [
              0.2222222222222222,
              "#7201a8"
             ],
             [
              0.3333333333333333,
              "#9c179e"
             ],
             [
              0.4444444444444444,
              "#bd3786"
             ],
             [
              0.5555555555555556,
              "#d8576b"
             ],
             [
              0.6666666666666666,
              "#ed7953"
             ],
             [
              0.7777777777777778,
              "#fb9f3a"
             ],
             [
              0.8888888888888888,
              "#fdca26"
             ],
             [
              1,
              "#f0f921"
             ]
            ],
            "type": "heatmap"
           }
          ],
          "histogram": [
           {
            "marker": {
             "pattern": {
              "fillmode": "overlay",
              "size": 10,
              "solidity": 0.2
             }
            },
            "type": "histogram"
           }
          ],
          "histogram2d": [
           {
            "colorbar": {
             "outlinewidth": 0,
             "ticks": ""
            },
            "colorscale": [
             [
              0,
              "#0d0887"
             ],
             [
              0.1111111111111111,
              "#46039f"
             ],
             [
              0.2222222222222222,
              "#7201a8"
             ],
             [
              0.3333333333333333,
              "#9c179e"
             ],
             [
              0.4444444444444444,
              "#bd3786"
             ],
             [
              0.5555555555555556,
              "#d8576b"
             ],
             [
              0.6666666666666666,
              "#ed7953"
             ],
             [
              0.7777777777777778,
              "#fb9f3a"
             ],
             [
              0.8888888888888888,
              "#fdca26"
             ],
             [
              1,
              "#f0f921"
             ]
            ],
            "type": "histogram2d"
           }
          ],
          "histogram2dcontour": [
           {
            "colorbar": {
             "outlinewidth": 0,
             "ticks": ""
            },
            "colorscale": [
             [
              0,
              "#0d0887"
             ],
             [
              0.1111111111111111,
              "#46039f"
             ],
             [
              0.2222222222222222,
              "#7201a8"
             ],
             [
              0.3333333333333333,
              "#9c179e"
             ],
             [
              0.4444444444444444,
              "#bd3786"
             ],
             [
              0.5555555555555556,
              "#d8576b"
             ],
             [
              0.6666666666666666,
              "#ed7953"
             ],
             [
              0.7777777777777778,
              "#fb9f3a"
             ],
             [
              0.8888888888888888,
              "#fdca26"
             ],
             [
              1,
              "#f0f921"
             ]
            ],
            "type": "histogram2dcontour"
           }
          ],
          "mesh3d": [
           {
            "colorbar": {
             "outlinewidth": 0,
             "ticks": ""
            },
            "type": "mesh3d"
           }
          ],
          "parcoords": [
           {
            "line": {
             "colorbar": {
              "outlinewidth": 0,
              "ticks": ""
             }
            },
            "type": "parcoords"
           }
          ],
          "pie": [
           {
            "automargin": true,
            "type": "pie"
           }
          ],
          "scatter": [
           {
            "fillpattern": {
             "fillmode": "overlay",
             "size": 10,
             "solidity": 0.2
            },
            "type": "scatter"
           }
          ],
          "scatter3d": [
           {
            "line": {
             "colorbar": {
              "outlinewidth": 0,
              "ticks": ""
             }
            },
            "marker": {
             "colorbar": {
              "outlinewidth": 0,
              "ticks": ""
             }
            },
            "type": "scatter3d"
           }
          ],
          "scattercarpet": [
           {
            "marker": {
             "colorbar": {
              "outlinewidth": 0,
              "ticks": ""
             }
            },
            "type": "scattercarpet"
           }
          ],
          "scattergeo": [
           {
            "marker": {
             "colorbar": {
              "outlinewidth": 0,
              "ticks": ""
             }
            },
            "type": "scattergeo"
           }
          ],
          "scattergl": [
           {
            "marker": {
             "colorbar": {
              "outlinewidth": 0,
              "ticks": ""
             }
            },
            "type": "scattergl"
           }
          ],
          "scattermap": [
           {
            "marker": {
             "colorbar": {
              "outlinewidth": 0,
              "ticks": ""
             }
            },
            "type": "scattermap"
           }
          ],
          "scattermapbox": [
           {
            "marker": {
             "colorbar": {
              "outlinewidth": 0,
              "ticks": ""
             }
            },
            "type": "scattermapbox"
           }
          ],
          "scatterpolar": [
           {
            "marker": {
             "colorbar": {
              "outlinewidth": 0,
              "ticks": ""
             }
            },
            "type": "scatterpolar"
           }
          ],
          "scatterpolargl": [
           {
            "marker": {
             "colorbar": {
              "outlinewidth": 0,
              "ticks": ""
             }
            },
            "type": "scatterpolargl"
           }
          ],
          "scatterternary": [
           {
            "marker": {
             "colorbar": {
              "outlinewidth": 0,
              "ticks": ""
             }
            },
            "type": "scatterternary"
           }
          ],
          "surface": [
           {
            "colorbar": {
             "outlinewidth": 0,
             "ticks": ""
            },
            "colorscale": [
             [
              0,
              "#0d0887"
             ],
             [
              0.1111111111111111,
              "#46039f"
             ],
             [
              0.2222222222222222,
              "#7201a8"
             ],
             [
              0.3333333333333333,
              "#9c179e"
             ],
             [
              0.4444444444444444,
              "#bd3786"
             ],
             [
              0.5555555555555556,
              "#d8576b"
             ],
             [
              0.6666666666666666,
              "#ed7953"
             ],
             [
              0.7777777777777778,
              "#fb9f3a"
             ],
             [
              0.8888888888888888,
              "#fdca26"
             ],
             [
              1,
              "#f0f921"
             ]
            ],
            "type": "surface"
           }
          ],
          "table": [
           {
            "cells": {
             "fill": {
              "color": "#EBF0F8"
             },
             "line": {
              "color": "white"
             }
            },
            "header": {
             "fill": {
              "color": "#C8D4E3"
             },
             "line": {
              "color": "white"
             }
            },
            "type": "table"
           }
          ]
         },
         "layout": {
          "annotationdefaults": {
           "arrowcolor": "#2a3f5f",
           "arrowhead": 0,
           "arrowwidth": 1
          },
          "autotypenumbers": "strict",
          "coloraxis": {
           "colorbar": {
            "outlinewidth": 0,
            "ticks": ""
           }
          },
          "colorscale": {
           "diverging": [
            [
             0,
             "#8e0152"
            ],
            [
             0.1,
             "#c51b7d"
            ],
            [
             0.2,
             "#de77ae"
            ],
            [
             0.3,
             "#f1b6da"
            ],
            [
             0.4,
             "#fde0ef"
            ],
            [
             0.5,
             "#f7f7f7"
            ],
            [
             0.6,
             "#e6f5d0"
            ],
            [
             0.7,
             "#b8e186"
            ],
            [
             0.8,
             "#7fbc41"
            ],
            [
             0.9,
             "#4d9221"
            ],
            [
             1,
             "#276419"
            ]
           ],
           "sequential": [
            [
             0,
             "#0d0887"
            ],
            [
             0.1111111111111111,
             "#46039f"
            ],
            [
             0.2222222222222222,
             "#7201a8"
            ],
            [
             0.3333333333333333,
             "#9c179e"
            ],
            [
             0.4444444444444444,
             "#bd3786"
            ],
            [
             0.5555555555555556,
             "#d8576b"
            ],
            [
             0.6666666666666666,
             "#ed7953"
            ],
            [
             0.7777777777777778,
             "#fb9f3a"
            ],
            [
             0.8888888888888888,
             "#fdca26"
            ],
            [
             1,
             "#f0f921"
            ]
           ],
           "sequentialminus": [
            [
             0,
             "#0d0887"
            ],
            [
             0.1111111111111111,
             "#46039f"
            ],
            [
             0.2222222222222222,
             "#7201a8"
            ],
            [
             0.3333333333333333,
             "#9c179e"
            ],
            [
             0.4444444444444444,
             "#bd3786"
            ],
            [
             0.5555555555555556,
             "#d8576b"
            ],
            [
             0.6666666666666666,
             "#ed7953"
            ],
            [
             0.7777777777777778,
             "#fb9f3a"
            ],
            [
             0.8888888888888888,
             "#fdca26"
            ],
            [
             1,
             "#f0f921"
            ]
           ]
          },
          "colorway": [
           "#636efa",
           "#EF553B",
           "#00cc96",
           "#ab63fa",
           "#FFA15A",
           "#19d3f3",
           "#FF6692",
           "#B6E880",
           "#FF97FF",
           "#FECB52"
          ],
          "font": {
           "color": "#2a3f5f"
          },
          "geo": {
           "bgcolor": "white",
           "lakecolor": "white",
           "landcolor": "#E5ECF6",
           "showlakes": true,
           "showland": true,
           "subunitcolor": "white"
          },
          "hoverlabel": {
           "align": "left"
          },
          "hovermode": "closest",
          "mapbox": {
           "style": "light"
          },
          "paper_bgcolor": "white",
          "plot_bgcolor": "#E5ECF6",
          "polar": {
           "angularaxis": {
            "gridcolor": "white",
            "linecolor": "white",
            "ticks": ""
           },
           "bgcolor": "#E5ECF6",
           "radialaxis": {
            "gridcolor": "white",
            "linecolor": "white",
            "ticks": ""
           }
          },
          "scene": {
           "xaxis": {
            "backgroundcolor": "#E5ECF6",
            "gridcolor": "white",
            "gridwidth": 2,
            "linecolor": "white",
            "showbackground": true,
            "ticks": "",
            "zerolinecolor": "white"
           },
           "yaxis": {
            "backgroundcolor": "#E5ECF6",
            "gridcolor": "white",
            "gridwidth": 2,
            "linecolor": "white",
            "showbackground": true,
            "ticks": "",
            "zerolinecolor": "white"
           },
           "zaxis": {
            "backgroundcolor": "#E5ECF6",
            "gridcolor": "white",
            "gridwidth": 2,
            "linecolor": "white",
            "showbackground": true,
            "ticks": "",
            "zerolinecolor": "white"
           }
          },
          "shapedefaults": {
           "line": {
            "color": "#2a3f5f"
           }
          },
          "ternary": {
           "aaxis": {
            "gridcolor": "white",
            "linecolor": "white",
            "ticks": ""
           },
           "baxis": {
            "gridcolor": "white",
            "linecolor": "white",
            "ticks": ""
           },
           "bgcolor": "#E5ECF6",
           "caxis": {
            "gridcolor": "white",
            "linecolor": "white",
            "ticks": ""
           }
          },
          "title": {
           "x": 0.05
          },
          "xaxis": {
           "automargin": true,
           "gridcolor": "white",
           "linecolor": "white",
           "ticks": "",
           "title": {
            "standoff": 15
           },
           "zerolinecolor": "white",
           "zerolinewidth": 2
          },
          "yaxis": {
           "automargin": true,
           "gridcolor": "white",
           "linecolor": "white",
           "ticks": "",
           "title": {
            "standoff": 15
           },
           "zerolinecolor": "white",
           "zerolinewidth": 2
          }
         }
        },
        "title": {
         "font": {
          "color": "white",
          "size": 16
         },
         "text": "Bund 2s10s Yield Curve (30-min lookback)",
         "x": 0.5,
         "xanchor": "center"
        },
        "xaxis": {
         "color": "white",
         "showgrid": false,
         "zeroline": false
        },
        "yaxis": {
         "color": "white",
         "range": [
          0.7769999999999999,
          0.8290000000000002
         ],
         "showgrid": false,
         "zeroline": false
        }
       }
      }
     },
     "metadata": {},
     "output_type": "display_data"
    }
   ],
   "source": [
    "plot_yield_curve_regimes_plotly(classify_regime(Bund_combined), \"Bund\")    "
   ]
  },
  {
   "cell_type": "code",
   "execution_count": null,
   "id": "9c3a4253",
   "metadata": {},
   "outputs": [],
   "source": []
  }
 ],
 "metadata": {
  "kernelspec": {
   "display_name": ".venv",
   "language": "python",
   "name": "python3"
  },
  "language_info": {
   "codemirror_mode": {
    "name": "ipython",
    "version": 3
   },
   "file_extension": ".py",
   "mimetype": "text/x-python",
   "name": "python",
   "nbconvert_exporter": "python",
   "pygments_lexer": "ipython3",
   "version": "3.13.6"
  }
 },
 "nbformat": 4,
 "nbformat_minor": 5
}
